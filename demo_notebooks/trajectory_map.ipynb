{
 "cells": [
  {
   "cell_type": "markdown",
   "metadata": {},
   "source": [
    "### Image Data"
   ]
  },
  {
   "cell_type": "code",
   "execution_count": null,
   "metadata": {},
   "outputs": [],
   "source": [
    "# a folder with the images you want to map \n",
    "#FOLDER MUST BE 'FLAT', NO SUBFOLDERS!!!!\n",
    "data_folder = '/mnt/data/datasets/imagenet/train10/'"
   ]
  },
  {
   "cell_type": "markdown",
   "metadata": {},
   "source": [
    "### model"
   ]
  },
  {
   "cell_type": "code",
   "execution_count": null,
   "metadata": {},
   "outputs": [],
   "source": [
    "#hardware\n",
    "device = 'cuda:0'\n",
    "\n",
    "from circuit_explorer.utils import load_config\n",
    "import torch\n",
    "import os\n",
    "from copy import deepcopy\n",
    "\n",
    "config = load_config('../configs/alexnet_sparse_config.py')\n",
    "model = config.model.eval().to(device)"
   ]
  },
  {
   "cell_type": "markdown",
   "metadata": {},
   "source": [
    "### feature selection"
   ]
  },
  {
   "cell_type": "code",
   "execution_count": null,
   "metadata": {},
   "outputs": [],
   "source": [
    "layer = 'features.10'\n",
    "\n",
    "#choose an integer unit (options depends on the number of output dimensions in your choosen layer)\n",
    "unit = 9\n"
   ]
  },
  {
   "cell_type": "markdown",
   "metadata": {},
   "source": [
    "### generate umap"
   ]
  },
  {
   "cell_type": "code",
   "execution_count": null,
   "metadata": {},
   "outputs": [],
   "source": [
    "from circuit_explorer.trajectory_map.trajectory import gen_image_trajectory_map_df\n",
    "\n",
    "umap_df, scores = gen_image_trajectory_map_df(data_folder,model,\n",
    "                            layer,unit,\n",
    "                            position='middle',norm_data=True,umap_layer='all',\n",
    "                            batch_size=64,n_components=2)"
   ]
  },
  {
   "cell_type": "markdown",
   "metadata": {},
   "source": [
    "### launch app"
   ]
  },
  {
   "cell_type": "code",
   "execution_count": null,
   "metadata": {},
   "outputs": [],
   "source": [
    "from circuit_explorer.trajectory_map.trajectory_map_gui import full_app_from_df, umap_fig_from_df\n",
    "app = full_app_from_df(umap_df,data_folder = data_folder, model=model,layer=layer,unit=unit,normed=True,norm_column='l1_norm',max_images=500)"
   ]
  },
  {
   "cell_type": "code",
   "execution_count": null,
   "metadata": {},
   "outputs": [],
   "source": [
    "#app will be accessible at 'localhost:8055' unless you change the 'port' argument\n",
    "\n",
    "if __name__ == \"__main__\":\n",
    "    app.run_server(port=8055)"
   ]
  },
  {
   "cell_type": "code",
   "execution_count": null,
   "metadata": {},
   "outputs": [],
   "source": []
  }
 ],
 "metadata": {
  "kernelspec": {
   "display_name": "circuit_explorer",
   "language": "python",
   "name": "circuit_explorer"
  },
  "language_info": {
   "codemirror_mode": {
    "name": "ipython",
    "version": 3
   },
   "file_extension": ".py",
   "mimetype": "text/x-python",
   "name": "python",
   "nbconvert_exporter": "python",
   "pygments_lexer": "ipython3",
   "version": "3.7.13"
  }
 },
 "nbformat": 4,
 "nbformat_minor": 2
}
