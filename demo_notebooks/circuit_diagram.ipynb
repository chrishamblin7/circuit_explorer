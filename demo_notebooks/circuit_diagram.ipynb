{
 "cells": [
  {
   "cell_type": "code",
   "execution_count": null,
   "id": "4c1fd986",
   "metadata": {
    "scrolled": true
   },
   "outputs": [],
   "source": [
    "%load_ext autoreload\n",
    "%autoreload 2"
   ]
  },
  {
   "cell_type": "code",
   "execution_count": null,
   "id": "18b09907",
   "metadata": {
    "scrolled": true
   },
   "outputs": [],
   "source": [
    "#hardware\n",
    "device = 'cuda:0'\n",
    "\n",
    "from circuit_pruner.utils import load_config\n",
    "\n",
    "config = load_config('./configs/alexnet_sparse_config.py')\n",
    "model = config.model.to('cpu')\n"
   ]
  },
  {
   "cell_type": "markdown",
   "id": "5fb94045",
   "metadata": {},
   "source": [
    "### quick launch"
   ]
  },
  {
   "cell_type": "markdown",
   "id": "9e38c179",
   "metadata": {},
   "source": [
    "To get a quick sense for the circuit diagramming tools interactivity, run the lines below. then you should be able to access the tool in your browser at 'http://localhost:8050/'\n",
    "\n",
    "\n",
    "click a vertex or edge to isolate, click anywhere else in the graph to unisolate"
   ]
  },
  {
   "cell_type": "code",
   "execution_count": null,
   "id": "ac152855",
   "metadata": {
    "scrolled": true
   },
   "outputs": [],
   "source": [
    "import torch\n",
    "circuit_dict = torch.load('quick_start/312_circuit_diagram.pt')\n",
    "circuit = circuit_dict['model']\n",
    "dfs = [circuit_dict['edge_df'],circuit_dict['node_df']]"
   ]
  },
  {
   "cell_type": "code",
   "execution_count": null,
   "id": "ad6e7288",
   "metadata": {
    "scrolled": false
   },
   "outputs": [],
   "source": [
    "from circuit_pruner.visualizer.circuit_gui import *\n",
    "\n",
    "viz_folder = './visualization_cache/demo_diagram/'\n",
    "port=8050\n",
    "circuit_diagram = launch_circuit_gui(circuit,None,model,None,dfs=dfs,viz_folder=viz_folder,interactive=True,port=port,device=device)"
   ]
  },
  {
   "cell_type": "markdown",
   "id": "16ace78d",
   "metadata": {},
   "source": [
    "### visualize your own circuit from scratch"
   ]
  },
  {
   "cell_type": "code",
   "execution_count": null,
   "id": "cc0fd2b5",
   "metadata": {
    "scrolled": true
   },
   "outputs": [],
   "source": [
    "#feature target\n",
    "\n",
    "layer = 'features_6'\n",
    "unit = 301\n",
    "\n",
    "feature_targets = {layer:[unit]}"
   ]
  },
  {
   "cell_type": "code",
   "execution_count": null,
   "id": "53c27045",
   "metadata": {
    "scrolled": true
   },
   "outputs": [],
   "source": [
    "#dataloader\n",
    "\n",
    "from circuit_pruner.data_loading import rank_image_data\n",
    "from circuit_pruner.data_loading import single_image_data\n",
    "from torchvision import transforms\n",
    "from torch.utils import data\n",
    "\n",
    "\n",
    "#make 'general' filter dataloader\n",
    "imnet_kwargs = {'num_workers': 4, 'pin_memory': True, 'sampler':None} if 'cuda' in device else {}\n",
    "\n",
    "\n",
    "#(this data loader is of 2 random images from each imagenet class)\n",
    "imnet2_dataloader = data.DataLoader(rank_image_data(config.data_path,\n",
    "                                            config.preprocess,\n",
    "                                            label_file_path = config.label_file_path,\n",
    "                                            class_folders=True),\n",
    "                                            batch_size=5,\n",
    "                                            shuffle=False,\n",
    "                                            **imnet_kwargs)\n"
   ]
  },
  {
   "cell_type": "code",
   "execution_count": null,
   "id": "f63b2147",
   "metadata": {
    "scrolled": true
   },
   "outputs": [],
   "source": [
    "#setup model\n",
    "\n",
    "import torch\n",
    "import os\n",
    "from copy import deepcopy\n",
    "from circuit_pruner.force import setup_net_for_circuit_prune, show_model_layer_names\n",
    "from circuit_pruner.dissected_Conv2d import dissect_model, set_across_model, set_model_target_node\n",
    "\n",
    "\n",
    "#we need to 'dissect' the model, which allows us to access kernel-wise activation maps\n",
    "kernel_rankable_model = dissect_model(deepcopy(model), dissect=True,store_ranks = True, device=device)\n",
    "kernel_rankable_model.to(device)\n",
    "\n",
    "\n",
    "set_model_target_node(kernel_rankable_model,layer,unit)\n",
    "set_across_model(kernel_rankable_model,'rank_field','image')\n",
    "set_across_model(kernel_rankable_model,'absolute_rank',True)"
   ]
  },
  {
   "cell_type": "code",
   "execution_count": null,
   "id": "f2633d5f",
   "metadata": {
    "scrolled": true
   },
   "outputs": [],
   "source": [
    "#actually extract ranks by running images through model\n",
    "\n",
    "from circuit_pruner.dissected_Conv2d import get_ranklist_from_dissected_Conv2d_modules, clear_ranks_across_model\n",
    "\n",
    "\n",
    "\n",
    "clear_ranks_across_model(kernel_rankable_model)\n",
    "\n",
    "iter_dataloader = iter(imnet2_dataloader)\n",
    "iters = len(iter_dataloader)\n",
    "\n",
    "for it in range(iters):\n",
    "\n",
    "    inputs, label = next(iter_dataloader)\n",
    "    inputs = inputs.to(device)\n",
    "    \n",
    "\n",
    "    kernel_rankable_model.zero_grad()\n",
    "\n",
    "    try:\n",
    "        outputs = kernel_rankable_model(inputs)\n",
    "    except:\n",
    "        pass\n",
    "\n",
    "ranks = get_ranklist_from_dissected_Conv2d_modules(kernel_rankable_model, structure='kernels')"
   ]
  },
  {
   "cell_type": "code",
   "execution_count": null,
   "id": "9ef53af3",
   "metadata": {
    "scrolled": true
   },
   "outputs": [],
   "source": [
    "#extract model (large circuit)\n",
    "\n",
    "from circuit_pruner.extraction import model_ranks_2_circuit_model\n",
    "\n",
    "\n",
    "sparsity = .9\n",
    "\n",
    "kernel_pruned_circuit,kernel_mask = model_ranks_2_circuit_model(ranks,sparsity,\n",
    "                                                           model,feature_targets,device,\n",
    "                                                           structure='kernels',use_effective_mask=True,\n",
    "                                                           rank_field='image')\n"
   ]
  },
  {
   "cell_type": "code",
   "execution_count": null,
   "id": "295c7b6e",
   "metadata": {
    "scrolled": true
   },
   "outputs": [],
   "source": [
    "#visualize large circuit (original feature)\n",
    "\n",
    "from circuit_pruner.visualizer.featureviz  import featviz_in_recep_field\n",
    "\n",
    "featviz_in_recep_field(kernel_pruned_circuit,layer,0,margin=0)"
   ]
  },
  {
   "cell_type": "code",
   "execution_count": null,
   "id": "ee2e5e45",
   "metadata": {
    "scrolled": true
   },
   "outputs": [],
   "source": [
    "#extract model (small circuit)\n",
    "\n",
    "from circuit_pruner.extraction import model_ranks_2_circuit_model\n",
    "\n",
    "\n",
    "sparsity = .02\n",
    "\n",
    "kernel_pruned_circuit,kernel_mask = model_ranks_2_circuit_model(ranks,sparsity,\n",
    "                                                           model,feature_targets,device,\n",
    "                                                           structure='kernels',use_effective_mask=True,\n",
    "                                                           rank_field='image')\n"
   ]
  },
  {
   "cell_type": "code",
   "execution_count": null,
   "id": "57e66ccf",
   "metadata": {
    "scrolled": true
   },
   "outputs": [],
   "source": [
    "kernel_pruned_circuit"
   ]
  },
  {
   "cell_type": "code",
   "execution_count": null,
   "id": "5f58037e",
   "metadata": {
    "scrolled": true
   },
   "outputs": [],
   "source": [
    "featviz_in_recep_field(kernel_pruned_circuit,layer,0,margin=0)"
   ]
  },
  {
   "cell_type": "code",
   "execution_count": null,
   "id": "14f9e1cb",
   "metadata": {
    "scrolled": true
   },
   "outputs": [],
   "source": [
    "#launch gui\n",
    "from circuit_pruner.visualizer.circuit_gui import *\n",
    "port=8050\n",
    "\n",
    "circuit_diagram = launch_circuit_gui(kernel_pruned_circuit,kernel_mask,\n",
    "                                     model,ranks,interactive=True,\n",
    "                                     port=port,device=device)"
   ]
  },
  {
   "cell_type": "markdown",
   "id": "5e8e7762",
   "metadata": {},
   "source": [
    "### testing"
   ]
  },
  {
   "cell_type": "code",
   "execution_count": 212,
   "id": "2aa1253a",
   "metadata": {
    "scrolled": true
   },
   "outputs": [
    {
     "name": "stdout",
     "output_type": "stream",
     "text": [
      "The autoreload extension is already loaded. To reload it, use:\n",
      "  %reload_ext autoreload\n"
     ]
    }
   ],
   "source": [
    "%load_ext autoreload\n",
    "%autoreload 2"
   ]
  },
  {
   "cell_type": "code",
   "execution_count": 213,
   "id": "ded59b25",
   "metadata": {
    "scrolled": true
   },
   "outputs": [],
   "source": [
    "#hardware\n",
    "device = 'cuda:0'\n",
    "\n",
    "from circuit_pruner.utils import load_config\n",
    "\n",
    "config = load_config('./configs/alexnet_sparse_config.py')\n",
    "model = config.model.to('cpu')\n"
   ]
  },
  {
   "cell_type": "code",
   "execution_count": null,
   "id": "3be35e56",
   "metadata": {
    "scrolled": true
   },
   "outputs": [],
   "source": [
    "#feature target\n",
    "\n",
    "layer = 'features_6'\n",
    "unit = 360\n",
    "\n",
    "feature_targets = {layer:[unit]}"
   ]
  },
  {
   "cell_type": "code",
   "execution_count": null,
   "id": "27dc179f",
   "metadata": {
    "scrolled": true
   },
   "outputs": [],
   "source": [
    "import os\n",
    "plotpath = 'plots/%s_%s'%(layer,str(unit))\n",
    "if not os.path.exists(plotpath):\n",
    "    os.mkdir(plotpath)"
   ]
  },
  {
   "cell_type": "code",
   "execution_count": null,
   "id": "ac79c405",
   "metadata": {
    "scrolled": true
   },
   "outputs": [],
   "source": [
    "#dataloader\n",
    "\n",
    "from circuit_pruner.data_loading import rank_image_data\n",
    "from circuit_pruner.data_loading import single_image_data\n",
    "from torchvision import transforms\n",
    "from torch.utils import data\n",
    "\n",
    "\n",
    "#make 'general' filter dataloader\n",
    "imnet_kwargs = {'num_workers': 4, 'pin_memory': True, 'sampler':None} if 'cuda' in device else {}\n",
    "\n",
    "\n",
    "#(this data loader is of 2 random images from each imagenet class)\n",
    "imnet2_dataloader = data.DataLoader(rank_image_data(config.data_path,\n",
    "                                            config.preprocess,\n",
    "                                            label_file_path = config.label_file_path,\n",
    "                                            class_folders=True),\n",
    "                                            batch_size=5,\n",
    "                                            shuffle=False,\n",
    "                                            **imnet_kwargs)\n"
   ]
  },
  {
   "cell_type": "code",
   "execution_count": null,
   "id": "538d4908",
   "metadata": {
    "scrolled": true
   },
   "outputs": [],
   "source": [
    "#setup model\n",
    "\n",
    "import torch\n",
    "import os\n",
    "from copy import deepcopy\n",
    "from circuit_pruner.force import setup_net_for_circuit_prune, show_model_layer_names\n",
    "from circuit_pruner.dissected_Conv2d import dissect_model, set_across_model, set_model_target_node\n",
    "\n",
    "\n",
    "#we need to 'dissect' the model, which allows us to access kernel-wise activation maps\n",
    "kernel_rankable_model = dissect_model(deepcopy(model), dissect=True,store_ranks = True, device=device)\n",
    "kernel_rankable_model.to(device)\n",
    "\n",
    "\n",
    "set_model_target_node(kernel_rankable_model,layer,unit)\n",
    "set_across_model(kernel_rankable_model,'rank_field','image')\n",
    "set_across_model(kernel_rankable_model,'absolute_rank',True)"
   ]
  },
  {
   "cell_type": "code",
   "execution_count": null,
   "id": "8ea4283e",
   "metadata": {
    "scrolled": true
   },
   "outputs": [],
   "source": [
    "#actually extract ranks by running images through model\n",
    "\n",
    "from circuit_pruner.dissected_Conv2d import get_ranklist_from_dissected_Conv2d_modules, clear_ranks_across_model\n",
    "\n",
    "\n",
    "\n",
    "clear_ranks_across_model(kernel_rankable_model)\n",
    "\n",
    "iter_dataloader = iter(imnet2_dataloader)\n",
    "iters = len(iter_dataloader)\n",
    "\n",
    "for it in range(iters):\n",
    "\n",
    "    inputs, label = next(iter_dataloader)\n",
    "    inputs = inputs.to(device)\n",
    "    \n",
    "\n",
    "    kernel_rankable_model.zero_grad()\n",
    "\n",
    "    try:\n",
    "        outputs = kernel_rankable_model(inputs)\n",
    "    except:\n",
    "        pass\n",
    "\n",
    "ranks = get_ranklist_from_dissected_Conv2d_modules(kernel_rankable_model, structure='kernels')"
   ]
  },
  {
   "cell_type": "code",
   "execution_count": null,
   "id": "ac097b93",
   "metadata": {
    "scrolled": true
   },
   "outputs": [],
   "source": [
    "#extract model (large circuit)\n",
    "\n",
    "from circuit_pruner.extraction import model_ranks_2_circuit_model\n",
    "\n",
    "\n",
    "sparsity = .9\n",
    "\n",
    "kernel_pruned_circuit,kernel_mask = model_ranks_2_circuit_model(ranks,sparsity,\n",
    "                                                           model,feature_targets,device,\n",
    "                                                           structure='kernels',use_effective_mask=True,\n",
    "                                                           rank_field='image')\n"
   ]
  },
  {
   "cell_type": "code",
   "execution_count": null,
   "id": "fca72dc6",
   "metadata": {
    "scrolled": true
   },
   "outputs": [],
   "source": [
    "#visualize large circuit (original feature)\n",
    "\n",
    "from circuit_pruner.visualizer.featureviz  import featviz_in_recep_field\n",
    "\n",
    "featviz_in_recep_field(kernel_pruned_circuit,layer,0,margin=0)"
   ]
  },
  {
   "cell_type": "code",
   "execution_count": null,
   "id": "d428e0c9",
   "metadata": {
    "scrolled": true
   },
   "outputs": [],
   "source": [
    "#extract model (small circuit)\n",
    "\n",
    "from circuit_pruner.extraction import model_ranks_2_circuit_model\n",
    "\n",
    "\n",
    "sparsity = .015\n",
    "\n",
    "kernel_pruned_circuit,kernel_mask = model_ranks_2_circuit_model(ranks,sparsity,\n",
    "                                                           model,feature_targets,device,\n",
    "                                                           structure='kernels',use_effective_mask=True,\n",
    "                                                           rank_field='image')\n"
   ]
  },
  {
   "cell_type": "code",
   "execution_count": null,
   "id": "4a280f3c",
   "metadata": {
    "scrolled": true
   },
   "outputs": [],
   "source": [
    "featviz_in_recep_field(kernel_pruned_circuit,layer,0,margin=0)"
   ]
  },
  {
   "cell_type": "code",
   "execution_count": null,
   "id": "845e6706",
   "metadata": {
    "scrolled": true
   },
   "outputs": [],
   "source": [
    "kernel_pruned_circuit"
   ]
  },
  {
   "cell_type": "code",
   "execution_count": null,
   "id": "d551c4de",
   "metadata": {
    "scrolled": true
   },
   "outputs": [],
   "source": [
    "from torchvision import models\n",
    "import torch.nn as nn\n",
    "from circuit_pruner import root_path\n",
    "\n",
    "\n",
    "model = models.alexnet(pretrained=True)\n",
    "\n",
    "model_statedict = torch.load(root_path+'/models/alexnet_sparse_statedict.pt',map_location='cpu')\n",
    "model.load_state_dict(model_statedict)\n"
   ]
  },
  {
   "cell_type": "code",
   "execution_count": null,
   "id": "6485f5d8",
   "metadata": {
    "scrolled": true
   },
   "outputs": [],
   "source": [
    "from circuit_pruner.visualizer.utils import *\n",
    "\n",
    "edge_df = gen_circuit_model_mapping_df(model,kernel_mask,ranks,version = 'edges')\n",
    "node_df = gen_circuit_model_mapping_df(model,kernel_mask,ranks,version = 'nodes')\n",
    "\n",
    "dfs = [edge_df,node_df]"
   ]
  },
  {
   "cell_type": "code",
   "execution_count": null,
   "id": "ff46357f",
   "metadata": {
    "scrolled": false
   },
   "outputs": [],
   "source": [
    "#launch gui\n",
    "from circuit_pruner.visualizer.circuit_gui import *\n",
    "port=8050\n",
    "\n",
    "\n",
    "#viz_folder = '/mnt/data/chris/dropbox/Research-Hamblin/Projects/circuit_pruner/visualization_cache/312_small/'\n",
    "\n",
    "circuit_diagram = launch_circuit_gui(kernel_pruned_circuit,None,model,None,\n",
    "                                     dfs=dfs,interactive=False,port=port,device=device)\n"
   ]
  },
  {
   "cell_type": "code",
   "execution_count": null,
   "id": "7775a5dd",
   "metadata": {
    "scrolled": true
   },
   "outputs": [],
   "source": [
    "circuit_diagram[0].show()"
   ]
  },
  {
   "cell_type": "code",
   "execution_count": null,
   "id": "f6a58b50",
   "metadata": {
    "scrolled": true
   },
   "outputs": [],
   "source": [
    "#circuit_diagram[0].show()\n",
    "circuit_diagram[0].write_image(\"plots/small_312_circuit_diagram.jpg\") "
   ]
  },
  {
   "cell_type": "code",
   "execution_count": null,
   "id": "a927891e",
   "metadata": {
    "scrolled": true
   },
   "outputs": [],
   "source": [
    "kernel_pruned_circuit"
   ]
  },
  {
   "cell_type": "code",
   "execution_count": null,
   "id": "c85b3b3c",
   "metadata": {
    "scrolled": true
   },
   "outputs": [],
   "source": [
    "outputs = []\n",
    "\n",
    "iter_dataloader = iter(imnet2_dataloader)\n",
    "iters = len(iter_dataloader)\n",
    "\n",
    "for it in range(iters):\n",
    "\n",
    "    inputs, label = next(iter_dataloader)\n",
    "    inputs = inputs.to(device)\n",
    "    \n",
    "    kernel_pruned_circuit.zero_grad()\n",
    "    output = kernel_pruned_circuit(inputs)\n",
    "    outputs.append(output[:,0])\n",
    "    \n",
    "    \n",
    "outputs = torch.cat(outputs,dim=0)\n",
    "\n",
    "\n"
   ]
  },
  {
   "cell_type": "code",
   "execution_count": null,
   "id": "b9b2acde",
   "metadata": {
    "scrolled": true
   },
   "outputs": [],
   "source": [
    "outputs = outputs.detach().cpu().flatten().numpy()"
   ]
  },
  {
   "cell_type": "code",
   "execution_count": null,
   "id": "74a81e2e",
   "metadata": {
    "scrolled": true
   },
   "outputs": [],
   "source": [
    "all_orig_acts = torch.load('/mnt/data/chris/dropbox/Research-Hamblin/Projects/circuit_pruner/target_activations/alexnet_sparse/imagenet_2/orig_activations.pt')\n"
   ]
  },
  {
   "cell_type": "code",
   "execution_count": null,
   "id": "5bd6b055",
   "metadata": {
    "scrolled": true
   },
   "outputs": [],
   "source": [
    "orig_acts = all_orig_acts['activations'][\"%s:%s\"%(layer,unit)].flatten().numpy()"
   ]
  },
  {
   "cell_type": "code",
   "execution_count": null,
   "id": "8aeff360",
   "metadata": {
    "scrolled": true
   },
   "outputs": [],
   "source": [
    "import numpy as np\n",
    "\n",
    "corr = round(np.corrcoef(outputs,orig_acts)[0][1],3)"
   ]
  },
  {
   "cell_type": "code",
   "execution_count": null,
   "id": "53dc9c8c",
   "metadata": {
    "scrolled": true
   },
   "outputs": [],
   "source": [
    "corr"
   ]
  },
  {
   "cell_type": "code",
   "execution_count": null,
   "id": "b8fce0e1",
   "metadata": {
    "scrolled": true
   },
   "outputs": [],
   "source": [
    "# x and y given as DataFrame columns\n",
    "import plotly.express as px\n",
    "import plotly.graph_objects as go\n",
    "\n",
    "fig = go.Figure()\n",
    "\n",
    "# Add first scatter trace with medium sized markers\n",
    "fig.add_trace(\n",
    "    go.Scatter(\n",
    "        mode='markers',\n",
    "        x=orig_acts,\n",
    "        y=outputs,\n",
    "        marker=dict(\n",
    "            opacity=0.5\n",
    "        )\n",
    "    )\n",
    ")\n",
    "\n",
    "fig.update_layout(plot_bgcolor=\"rgba(0,0,0,0)\",\n",
    "                  paper_bgcolor='rgba(0,0,0,0)',\n",
    "                  xaxis_title=\"Original Activations\",\n",
    "                  yaxis_title=\"Circuit Activations\")\n",
    "\n",
    "fig.add_annotation(\n",
    "        x=int(outputs.max()),\n",
    "        y=int(orig_acts.max()),\n",
    "        xref=\"x\",\n",
    "        yref=\"y\",\n",
    "        text=\"R^2 = %s\"%corr)\n",
    "\n",
    "fig.show()"
   ]
  },
  {
   "cell_type": "code",
   "execution_count": null,
   "id": "c666dbb8",
   "metadata": {
    "scrolled": true
   },
   "outputs": [],
   "source": [
    "fig.write_image(\"plots/small_312_circuit_v_orig_scatter.png\") "
   ]
  },
  {
   "cell_type": "code",
   "execution_count": null,
   "id": "80e76e1f",
   "metadata": {
    "scrolled": true
   },
   "outputs": [],
   "source": [
    "from circuit_pruner.visualizer.utils import get_model_conv_weights"
   ]
  },
  {
   "cell_type": "code",
   "execution_count": null,
   "id": "759ce396",
   "metadata": {
    "scrolled": true
   },
   "outputs": [],
   "source": [
    "kernels = get_model_conv_weights(kernel_pruned_circuit)"
   ]
  },
  {
   "cell_type": "code",
   "execution_count": null,
   "id": "d9fd1e51",
   "metadata": {
    "scrolled": true
   },
   "outputs": [],
   "source": [
    "torch.max(torch.abs(torch.max(kernels[1])),torch.abs(torch.min(kernels[1])))"
   ]
  },
  {
   "cell_type": "code",
   "execution_count": null,
   "id": "4b828b35",
   "metadata": {
    "scrolled": true
   },
   "outputs": [],
   "source": [
    "model"
   ]
  },
  {
   "cell_type": "code",
   "execution_count": null,
   "id": "480f7762",
   "metadata": {
    "scrolled": true
   },
   "outputs": [],
   "source": [
    "from circuit_pruner.visualizer.featureviz  import featviz_in_recep_field\n",
    "from lucent_video.optvis import render\n",
    "\n",
    "#config = load_config('./configs/alexnet_sparse_config.py')\n",
    "\n",
    "#model = config.model.to('cpu')\n",
    "#model.zero_grad()\n",
    "\n",
    "#dis_model = dissect_model(model, dissect=True)\n",
    "#_ = dis_model.to(device).eval()\n",
    "\n",
    "\n",
    "param_f = lambda: param.image(224)\n",
    "obj  = objectives.neuron('features_3',176)\n",
    "_ = render.render_vis(dis_model, obj, param_f,show_inline=True)\n",
    "#featviz_in_recep_field(kernel_pruned_circuit,layer,0,margin=0)"
   ]
  },
  {
   "cell_type": "code",
   "execution_count": null,
   "id": "8dbeda9f",
   "metadata": {
    "scrolled": true
   },
   "outputs": [],
   "source": [
    "output = render.render_vis(dis_model, obj, param_f,show_inline=True)"
   ]
  },
  {
   "cell_type": "code",
   "execution_count": null,
   "id": "ecb99ce7",
   "metadata": {
    "scrolled": true
   },
   "outputs": [],
   "source": [
    "#image = output['images']\n",
    "#params= output['params']\n",
    "\n",
    "params = params.requires_grad_(False)\n",
    "#desaturate\n",
    "params = (params-torch.mean(params))/torch.std(params)*.1\n",
    "params = params.requires_grad_(True)\n",
    "\n",
    "param_f = lambda: param.image(224,start_params=params)\n",
    "\n",
    "\n",
    "obj  = objectives.neuron('features_3',2)"
   ]
  },
  {
   "cell_type": "code",
   "execution_count": null,
   "id": "0f4bfbf5",
   "metadata": {
    "scrolled": true
   },
   "outputs": [],
   "source": [
    "output = render.render_vis(kernel_pruned_circuit, obj, param_f,show_inline=True,)"
   ]
  },
  {
   "cell_type": "code",
   "execution_count": null,
   "id": "752aad1a",
   "metadata": {
    "scrolled": true
   },
   "outputs": [],
   "source": [
    "output_file_name = '/mnt/data/chris/dropbox/Research-Hamblin/Projects/circuit_pruner/visualization_cache/circuit_at_1667703040.4020417/featviz/176_features_3:176_1667703090.0236857.jpg'"
   ]
  },
  {
   "cell_type": "code",
   "execution_count": null,
   "id": "1404be1e",
   "metadata": {
    "scrolled": true
   },
   "outputs": [],
   "source": [
    "from circuit_pruner.receptive_fields import receptive_field, receptive_field_for_unit\n",
    "from math import floor\n",
    "\n",
    "margin = 10\n",
    "all_recep_field_params = receptive_field(kernel_pruned_circuit,(3,224,224))\n",
    "layer_ind = str(int(layer.replace('features_',''))+1)\n",
    "map_size = (all_recep_field_params[layer_ind]['output_shape'][2],all_recep_field_params[layer_ind]['output_shape'][3])\n",
    "\n",
    "print(map_size)\n",
    "if map_size[0]%2 == 0:\n",
    "    target_position = (int(map_size[0]/2+1),int(map_size[1]/2+1))\n",
    "else:\n",
    "    target_position = (int(floor(map_size[0]/2)),int(floor(map_size[1]/2)))\n",
    "    \n",
    "print(target_position)\n",
    "recep_field = receptive_field_for_unit(all_recep_field_params, layer, target_position)\n",
    "print(recep_field)\n",
    "\n",
    "\n",
    "viz_im = output['images'][0][:,int(recep_field[0][0])-margin:int(recep_field[0][1])+margin,int(recep_field[1][0])-margin:int(recep_field[1][1])+margin,:]\n",
    "#viz_im = viz_im[0][:,:,:,:]\n",
    "image = (viz_im * 255).astype(np.uint8)\n",
    "if len(image.shape) == 4:\n",
    "    image = np.concatenate(image, axis=1)\n",
    "image = Image.fromarray(image)\n",
    "\n",
    "\n",
    "\n",
    "image.save(output_file_name)\n",
    "\n"
   ]
  },
  {
   "cell_type": "code",
   "execution_count": null,
   "id": "fdd2168f",
   "metadata": {
    "scrolled": true
   },
   "outputs": [],
   "source": [
    "layer"
   ]
  },
  {
   "cell_type": "code",
   "execution_count": null,
   "id": "255e644e",
   "metadata": {
    "scrolled": true
   },
   "outputs": [],
   "source": [
    "def featviz_in_recep_field(model,feature_name,unit, input_dim = (3,224,224),image_name=None, margin = 10, device = 'cuda:0'):\n",
    "\tfrom circuit_pruner.receptive_fields import receptive_field, receptive_field_for_unit\n",
    "\tfrom math import ceil, floor\n",
    "\tfrom lucent_video.optvis import render, param, transform, objectives\n",
    "\tfrom copy import deepcopy\n",
    "\tfrom circuit_pruner.dissected_Conv2d import dissect_model\n",
    "\tfrom math import floor\n",
    "\timport numpy as np\n",
    "\n",
    "\tdis_model = dissect_model(deepcopy(model), store_ranks = False, device=device)\n",
    "\tdis_model = dis_model.to(device).eval()\n",
    "\n",
    "\t#all_recep_field_params = receptive_field(model.features, input_dim)\n",
    "\ttry:\n",
    "\t\tall_recep_field_params = receptive_field(model.to(device), input_dim)\n",
    "\texcept:\n",
    "\t\tall_recep_field_params = receptive_field(model.features.to(device), input_dim)\n",
    "\t\n",
    "\tparam_f = lambda: param.image(input_dim[1])\n",
    "\tobj  = objectives.neuron(feature_name,unit)\n",
    "\tviz_im = render.render_vis(dis_model,  obj, param_f, show_inline=True)\n",
    "\t\n",
    "\tlayer_ind = str(int(feature_name.replace('features_',''))+1)\n",
    "\tmap_size = (all_recep_field_params[layer_ind]['output_shape'][2],all_recep_field_params[layer_ind]['output_shape'][3])\n",
    "\tprint(map_size)\n",
    "\tif map_size[0]%2 == 0:\n",
    "\t\ttarget_position = (int(map_size[0]/2+1),int(map_size[1]/2+1))\n",
    "\telse:\n",
    "\t\ttarget_position = (int(floor(map_size[0]/2)),int(floor(map_size[1]/2)))\n",
    "\tprint(target_position)\n",
    "\trecep_field = receptive_field_for_unit(all_recep_field_params, feature_name, target_position)\n",
    "\tprint(recep_field)\n",
    "\tviz_im = viz_im['images'][0][:,int(recep_field[0][0])-margin:int(recep_field[0][1])+margin,int(recep_field[1][0])-margin:int(recep_field[1][1])+margin,:]\n",
    "\t#viz_im = viz_im[0][:,:,:,:]\n",
    "\timage = (viz_im * 255).astype(np.uint8)\n",
    "\tif len(image.shape) == 4:\n",
    "\t\timage = np.concatenate(image, axis=1)\n",
    "\timage = Image.fromarray(image)\n",
    "\n",
    "\tif image_name is None:\n",
    "\t\treturn image\n",
    "\telse:\n",
    "\t\timage.save(image_name)\n",
    "\t\n"
   ]
  },
  {
   "cell_type": "code",
   "execution_count": null,
   "id": "2244fa74",
   "metadata": {
    "scrolled": true
   },
   "outputs": [],
   "source": [
    "kernel_pruned_circuit"
   ]
  }
 ],
 "metadata": {
  "kernelspec": {
   "display_name": "circuit_pruner",
   "language": "python",
   "name": "circuit_pruner"
  },
  "language_info": {
   "codemirror_mode": {
    "name": "ipython",
    "version": 3
   },
   "file_extension": ".py",
   "mimetype": "text/x-python",
   "name": "python",
   "nbconvert_exporter": "python",
   "pygments_lexer": "ipython3",
   "version": "3.7.12"
  }
 },
 "nbformat": 4,
 "nbformat_minor": 5
}
