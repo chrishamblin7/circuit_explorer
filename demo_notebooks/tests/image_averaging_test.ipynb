{
 "cells": [
  {
   "cell_type": "code",
   "execution_count": 2,
   "metadata": {},
   "outputs": [
    {
     "name": "stdout",
     "output_type": "stream",
     "text": [
      "The autoreload extension is already loaded. To reload it, use:\n",
      "  %reload_ext autoreload\n"
     ]
    }
   ],
   "source": [
    "%load_ext autoreload\n",
    "%autoreload 2"
   ]
  },
  {
   "cell_type": "markdown",
   "metadata": {},
   "source": [
    "### image sample test"
   ]
  },
  {
   "cell_type": "code",
   "execution_count": 3,
   "metadata": {},
   "outputs": [
    {
     "name": "stderr",
     "output_type": "stream",
     "text": [
      "/mnt/data/chris/dropbox/Research-Hamblin/Projects/circuit_explorer/env/lib/python3.7/site-packages/tqdm/auto.py:22: TqdmWarning: IProgress not found. Please update jupyter and ipywidgets. See https://ipywidgets.readthedocs.io/en/stable/user_install.html\n",
      "  from .autonotebook import tqdm as notebook_tqdm\n",
      "/mnt/data/chris/dropbox/Research-Hamblin/Projects/circuit_explorer/env/lib/python3.7/site-packages/torchvision/models/_utils.py:209: UserWarning: The parameter 'pretrained' is deprecated since 0.13 and may be removed in the future, please use 'weights' instead.\n",
      "  f\"The parameter '{pretrained_param}' is deprecated since 0.13 and may be removed in the future, \"\n",
      "/mnt/data/chris/dropbox/Research-Hamblin/Projects/circuit_explorer/env/lib/python3.7/site-packages/torchvision/models/_utils.py:223: UserWarning: Arguments other than a weight enum or `None` for 'weights' are deprecated since 0.13 and may be removed in the future. The current behavior is equivalent to passing `weights=AlexNet_Weights.IMAGENET1K_V1`. You can also use `weights=AlexNet_Weights.DEFAULT` to get the most up-to-date weights.\n",
      "  warnings.warn(msg)\n",
      "/mnt/data/chris/dropbox/Research-Hamblin/Projects/circuit_explorer/env/lib/python3.7/site-packages/torch/cuda/__init__.py:132: UserWarning: \n",
      "    Found GPU3 Tesla K40c which is of cuda capability 3.5.\n",
      "    PyTorch no longer supports this GPU because it is too old.\n",
      "    The minimum cuda capability supported by this library is 3.7.\n",
      "    \n",
      "  warnings.warn(old_gpu_warn % (d, name, major, minor, min_arch // 10, min_arch % 10))\n"
     ]
    }
   ],
   "source": [
    "import torch\n",
    "from circuit_explorer.utils import load_config\n",
    "\n",
    "device = 'cuda:0'\n",
    "\n",
    "config_file = '../../configs/alexnet_sparse_config.py'\n",
    "config = load_config(config_file)\n",
    "\n",
    "model = config.model\n",
    "model = model.to(device)\n"
   ]
  },
  {
   "cell_type": "code",
   "execution_count": 4,
   "metadata": {},
   "outputs": [],
   "source": [
    "category_targets = ['tench', 'goldfish', 'great_white_shark', 'tiger_shark', 'hammerhead', 'electric_ray', 'stingray', 'rooster', 'hen', 'ostrich', 'brambling', 'goldfinch', 'house_finch', 'junco', 'indigo_bunting', 'robin', 'bulbul', 'jay', 'magpie', 'chickadee', 'water_ouzel', 'kite', 'bald_eagle', 'vulture', 'great_grey_owl', 'European_fire_salamander', 'common_newt', 'eft', 'spotted_salamander', 'axolotl', 'bullfrog', 'tree_frog', 'tailed_frog', 'loggerhead', 'leatherback_turtle', 'mud_turtle', 'terrapin', 'box_turtle', 'banded_gecko', 'common_iguana', 'American_chameleon', 'whiptail', 'agama', 'frilled_lizard', 'alligator_lizard', 'Gila_monster', 'green_lizard', 'African_chameleon', 'Komodo_dragon', 'African_crocodile', 'American_alligator', 'triceratops', 'thunder_snake', 'ringneck_snake', 'hognose_snake', 'green_snake', 'king_snake', 'garter_snake', 'water_snake', 'vine_snake', 'night_snake', 'boa_constrictor', 'rock_python', 'Indian_cobra', 'green_mamba', 'sea_snake', 'horned_viper', 'diamondback', 'sidewinder', 'trilobite', 'harvestman', 'scorpion', 'black_and_gold_garden_spider', 'barn_spider', 'garden_spider', 'black_widow', 'tarantula', 'wolf_spider', 'tick', 'centipede', 'black_grouse', 'ptarmigan', 'ruffed_grouse', 'prairie_chicken', 'peacock', 'quail', 'partridge', 'African_grey', 'macaw', 'sulphur_crested_cockatoo', 'lorikeet', 'coucal', 'bee_eater', 'hornbill', 'hummingbird', 'jacamar', 'toucan', 'drake', 'red_breasted_merganser', 'goose', 'black_swan', 'tusker', 'echidna', 'platypus', 'wallaby', 'koala', 'wombat', 'jellyfish', 'sea_anemone', 'brain_coral', 'flatworm', 'nematode', 'conch', 'snail', 'slug', 'sea_slug', 'chiton', 'chambered_nautilus', 'Dungeness_crab', 'rock_crab', 'fiddler_crab', 'king_crab', 'American_lobster', 'spiny_lobster', 'crayfish', 'hermit_crab', 'isopod', 'white_stork', 'black_stork', 'spoonbill', 'flamingo', 'little_blue_heron', 'American_egret', 'bittern', 'crane_bird', 'limpkin', 'European_gallinule', 'American_coot', 'bustard', 'ruddy_turnstone', 'red_backed_sandpiper', 'redshank', 'dowitcher', 'oystercatcher', 'pelican', 'king_penguin', 'albatross', 'grey_whale', 'killer_whale', 'dugong', 'sea_lion', 'Chihuahua', 'Japanese_spaniel', 'Maltese_dog', 'Pekinese', 'Shih_Tzu', 'Blenheim_spaniel', 'papillon', 'toy_terrier', 'Rhodesian_ridgeback', 'Afghan_hound', 'basset', 'beagle', 'bloodhound', 'bluetick', 'black_and_tan_coonhound', 'Walker_hound', 'English_foxhound', 'redbone', 'borzoi', 'Irish_wolfhound', 'Italian_greyhound', 'whippet', 'Ibizan_hound', 'Norwegian_elkhound', 'otterhound', 'Saluki', 'Scottish_deerhound', 'Weimaraner', 'Staffordshire_bullterrier', 'American_Staffordshire_terrier', 'Bedlington_terrier', 'Border_terrier', 'Kerry_blue_terrier', 'Irish_terrier', 'Norfolk_terrier', 'Norwich_terrier', 'Yorkshire_terrier', 'wire_haired_fox_terrier', 'Lakeland_terrier', 'Sealyham_terrier', 'Airedale', 'cairn', 'Australian_terrier', 'Dandie_Dinmont', 'Boston_bull', 'miniature_schnauzer', 'giant_schnauzer', 'standard_schnauzer', 'Scotch_terrier', 'Tibetan_terrier', 'silky_terrier', 'soft_coated_wheaten_terrier', 'West_Highland_white_terrier', 'Lhasa', 'flat_coated_retriever', 'curly_coated_retriever', 'golden_retriever', 'Labrador_retriever', 'Chesapeake_Bay_retriever', 'German_short_haired_pointer', 'vizsla', 'English_setter', 'Irish_setter', 'Gordon_setter', 'Brittany_spaniel', 'clumber', 'English_springer', 'Welsh_springer_spaniel', 'cocker_spaniel', 'Sussex_spaniel', 'Irish_water_spaniel', 'kuvasz', 'schipperke', 'groenendael', 'malinois', 'briard', 'kelpie', 'komondor', 'Old_English_sheepdog', 'Shetland_sheepdog', 'collie', 'Border_collie', 'Bouvier_des_Flandres', 'Rottweiler', 'German_shepherd', 'Doberman', 'miniature_pinscher', 'Greater_Swiss_Mountain_dog', 'Bernese_mountain_dog', 'Appenzeller', 'EntleBucher', 'boxer', 'bull_mastiff', 'Tibetan_mastiff', 'French_bulldog', 'Great_Dane', 'Saint_Bernard', 'Eskimo_dog', 'malamute', 'Siberian_husky', 'dalmatian', 'affenpinscher', 'basenji', 'pug', 'Leonberg', 'Newfoundland', 'Great_Pyrenees', 'Samoyed', 'Pomeranian', 'chow', 'keeshond', 'Brabancon_griffon', 'Pembroke', 'Cardigan_corgi', 'toy_poodle', 'miniature_poodle', 'standard_poodle', 'Mexican_hairless', 'timber_wolf', 'white_wolf', 'red_wolf', 'coyote', 'dingo', 'dhole', 'African_hunting_dog', 'hyena', 'red_fox', 'kit_fox', 'Arctic_fox', 'grey_fox', 'tabby', 'tiger_cat', 'Persian_cat', 'Siamese_cat', 'Egyptian_cat', 'cougar', 'lynx', 'leopard', 'snow_leopard', 'jaguar', 'lion', 'tiger', 'cheetah', 'brown_bear', 'American_black_bear', 'ice_bear', 'sloth_bear', 'mongoose', 'meerkat', 'tiger_beetle', 'ladybug', 'ground_beetle', 'long_horned_beetle', 'leaf_beetle', 'dung_beetle', 'rhinoceros_beetle', 'weevil', 'fly', 'bee', 'ant', 'grasshopper', 'cricket', 'walking_stick', 'cockroach', 'mantis', 'cicada', 'leafhopper', 'lacewing', 'dragonfly', 'damselfly', 'admiral', 'ringlet', 'monarch', 'cabbage_butterfly', 'sulphur_butterfly', 'lycaenid', 'starfish', 'sea_urchin', 'sea_cucumber', 'wood_rabbit', 'hare', 'Angora', 'hamster', 'porcupine', 'fox_squirrel', 'marmot', 'beaver', 'guinea_pig', 'sorrel', 'zebra', 'hog', 'wild_boar', 'warthog', 'hippopotamus', 'ox', 'water_buffalo', 'bison', 'ram', 'bighorn', 'ibex', 'hartebeest', 'impala', 'gazelle', 'Arabian_camel', 'llama', 'weasel', 'mink', 'polecat', 'black_footed_ferret', 'otter', 'skunk', 'badger', 'armadillo', 'three_toed_sloth', 'orangutan', 'gorilla', 'chimpanzee', 'gibbon', 'siamang', 'guenon', 'patas', 'baboon', 'macaque', 'langur', 'colobus', 'proboscis_monkey', 'marmoset', 'capuchin', 'howler_monkey', 'titi', 'spider_monkey', 'squirrel_monkey', 'Madagascar_cat', 'indri', 'Indian_elephant', 'African_elephant', 'lesser_panda', 'giant_panda', 'barracouta', 'eel', 'coho', 'rock_beauty', 'anemone_fish', 'sturgeon', 'gar', 'lionfish', 'puffer', 'abacus', 'abaya', 'academic_gown', 'accordion', 'acoustic_guitar', 'aircraft_carrier', 'airliner', 'airship', 'altar', 'ambulance', 'amphibian', 'analog_clock', 'apiary', 'apron', 'ashcan', 'assault_rifle', 'backpack', 'bakery', 'balance_beam', 'balloon', 'ballpoint', 'Band_Aid', 'banjo', 'bannister', 'barbell', 'barber_chair', 'barbershop', 'barn', 'barometer', 'barrel', 'barrow', 'baseball', 'basketball', 'bassinet', 'bassoon', 'bathing_cap', 'bath_towel', 'bathtub', 'beach_wagon', 'beacon', 'beaker', 'bearskin', 'beer_bottle', 'beer_glass', 'bell_cote', 'bib', 'bicycle_built_for_two', 'bikini', 'binder', 'binoculars', 'birdhouse', 'boathouse', 'bobsled', 'bolo_tie', 'bonnet', 'bookcase', 'bookshop', 'bottlecap', 'bow', 'bow_tie', 'brass', 'brassiere', 'breakwater', 'breastplate', 'broom', 'bucket', 'buckle', 'bulletproof_vest', 'bullet_train', 'butcher_shop', 'cab', 'caldron', 'candle', 'cannon', 'canoe', 'can_opener', 'cardigan_sweater', 'car_mirror', 'carousel', 'carpenters_kit', 'carton', 'car_wheel', 'cash_machine', 'cassette', 'cassette_player', 'castle', 'catamaran', 'CD_player', 'cello', 'cellular_telephone', 'chain', 'chainlink_fence', 'chain_mail', 'chain_saw', 'chest', 'chiffonier', 'chime', 'china_cabinet', 'Christmas_stocking', 'church', 'cinema', 'cleaver', 'cliff_dwelling', 'cloak', 'clog', 'cocktail_shaker', 'coffee_mug', 'coffeepot', 'coil', 'combination_lock', 'computer_keyboard', 'confectionery', 'container_ship', 'convertible', 'corkscrew', 'cornet', 'cowboy_boot', 'cowboy_hat', 'cradle', 'crane_equipment', 'crash_helmet', 'crate', 'crib', 'Crock_Pot', 'croquet_ball', 'crutch', 'cuirass', 'dam', 'desk', 'desktop_computer', 'dial_telephone', 'diaper', 'digital_clock', 'digital_watch', 'dining_table', 'dishrag', 'dishwasher', 'disk_brake', 'dock', 'dogsled', 'dome', 'doormat', 'drilling_platform', 'drum', 'drumstick', 'dumbbell', 'Dutch_oven', 'electric_fan', 'electric_guitar', 'electric_locomotive', 'entertainment_center', 'envelope', 'espresso_maker', 'face_powder', 'feather_boa', 'file', 'fireboat', 'fire_engine', 'fire_screen', 'flagpole', 'flute', 'folding_chair', 'football_helmet', 'forklift', 'fountain', 'fountain_pen', 'four_poster', 'freight_car', 'French_horn', 'frying_pan', 'fur_coat', 'garbage_truck', 'gasmask', 'gas_pump', 'goblet', 'go_kart', 'golf_ball', 'golfcart', 'gondola', 'gong', 'gown', 'grand_piano', 'greenhouse', 'grille', 'grocery_store', 'guillotine', 'hair_slide', 'hair_spray', 'half_track', 'hammer', 'hamper', 'hand_blower', 'hand_held_computer', 'handkerchief', 'hard_disc', 'harmonica', 'harp', 'harvester', 'hatchet', 'holster', 'home_theater', 'honeycomb', 'hook', 'hoopskirt', 'horizontal_bar', 'horse_cart', 'hourglass', 'iPod', 'iron', 'jack_o_lantern', 'jean', 'jeep', 'jersey', 'jigsaw_puzzle', 'jinrikisha', 'joystick', 'kimono', 'knee_pad', 'knot', 'lab_coat', 'ladle', 'lampshade', 'laptop', 'lawn_mower', 'lens_cap', 'letter_opener', 'library', 'lifeboat', 'lighter', 'limousine', 'liner', 'lipstick', 'Loafer', 'lotion', 'loudspeaker', 'loupe', 'lumbermill', 'magnetic_compass', 'mailbag', 'mailbox', 'maillot_1', 'maillot_2', 'manhole_cover', 'maraca', 'marimba', 'mask', 'matchstick', 'maypole', 'maze', 'measuring_cup', 'medicine_chest', 'megalith', 'microphone', 'microwave', 'military_uniform', 'milk_can', 'minibus', 'miniskirt', 'minivan', 'missile', 'mitten', 'mixing_bowl', 'mobile_home', 'Model_T', 'modem', 'monastery', 'monitor', 'moped', 'mortar', 'mortarboard', 'mosque', 'mosquito_net', 'motor_scooter', 'mountain_bike', 'mountain_tent', 'mouse', 'mousetrap', 'moving_van', 'muzzle', 'nail', 'neck_brace', 'necklace', 'nipple', 'notebook', 'obelisk', 'oboe', 'ocarina', 'odometer', 'oil_filter', 'organ', 'oscilloscope', 'overskirt', 'oxcart', 'oxygen_mask', 'packet', 'paddle', 'paddlewheel', 'padlock', 'paintbrush', 'pajama', 'palace', 'panpipe', 'paper_towel', 'parachute', 'parallel_bars', 'park_bench', 'parking_meter', 'passenger_car', 'patio', 'pay_phone', 'pedestal', 'pencil_box', 'pencil_sharpener', 'perfume', 'Petri_dish', 'photocopier', 'pick', 'pickelhaube', 'picket_fence', 'pickup', 'pier', 'piggy_bank', 'pill_bottle', 'pillow', 'ping_pong_ball', 'pinwheel', 'pirate', 'pitcher', 'plane', 'planetarium', 'plastic_bag', 'plate_rack', 'plow', 'plunger', 'Polaroid_camera', 'pole', 'police_van', 'poncho', 'pool_table', 'pop_bottle', 'pot', 'potters_wheel', 'power_drill', 'prayer_rug', 'printer', 'prison', 'projectile', 'projector', 'puck', 'punching_bag', 'purse', 'quill', 'quilt', 'racer', 'racket', 'radiator', 'radio', 'radio_telescope', 'rain_barrel', 'recreational_vehicle', 'reel', 'reflex_camera', 'refrigerator', 'remote_control', 'restaurant', 'revolver', 'rifle', 'rocking_chair', 'rotisserie', 'rubber_eraser', 'rugby_ball', 'rule', 'running_shoe', 'safe', 'safety_pin', 'saltshaker', 'sandal', 'sarong', 'sax', 'scabbard', 'scale', 'school_bus', 'schooner', 'scoreboard', 'screen', 'screw', 'screwdriver', 'seat_belt', 'sewing_machine', 'shield', 'shoe_shop', 'shoji', 'shopping_basket', 'shopping_cart', 'shovel', 'shower_cap', 'shower_curtain', 'ski', 'ski_mask', 'sleeping_bag', 'slide_rule', 'sliding_door', 'slot', 'snorkel', 'snowmobile', 'snowplow', 'soap_dispenser', 'soccer_ball', 'sock', 'solar_dish', 'sombrero', 'soup_bowl', 'space_bar', 'space_heater', 'space_shuttle', 'spatula', 'speedboat', 'spider_web', 'spindle', 'sports_car', 'spotlight', 'stage', 'steam_locomotive', 'steel_arch_bridge', 'steel_drum', 'stethoscope', 'stole', 'stone_wall', 'stopwatch', 'stove', 'strainer', 'streetcar', 'stretcher', 'studio_couch', 'stupa', 'submarine', 'suit', 'sundial', 'sunglass', 'sunglasses', 'sunscreen', 'suspension_bridge', 'swab', 'sweatshirt', 'swimming_trunks', 'swing', 'switch', 'syringe', 'table_lamp', 'tank', 'tape_player', 'teapot', 'teddy', 'television', 'tennis_ball', 'thatch', 'theater_curtain', 'thimble', 'thresher', 'throne', 'tile_roof', 'toaster', 'tobacco_shop', 'toilet_seat', 'torch', 'totem_pole', 'tow_truck', 'toyshop', 'tractor', 'trailer_truck', 'tray', 'trench_coat', 'tricycle', 'trimaran', 'tripod', 'triumphal_arch', 'trolleybus', 'trombone', 'tub', 'turnstile', 'typewriter_keyboard', 'umbrella', 'unicycle', 'upright', 'vacuum', 'vase', 'vault', 'velvet', 'vending_machine', 'vestment', 'viaduct', 'violin', 'volleyball', 'waffle_iron', 'wall_clock', 'wallet', 'wardrobe', 'warplane', 'washbasin', 'washer', 'water_bottle', 'water_jug', 'water_tower', 'whiskey_jug', 'whistle', 'wig', 'window_screen', 'window_shade', 'Windsor_tie', 'wine_bottle', 'wing', 'wok', 'wooden_spoon', 'wool', 'worm_fence', 'wreck', 'yawl', 'yurt', 'web_site', 'comic_book', 'crossword_puzzle', 'street_sign', 'traffic_light', 'book_jacket', 'menu', 'plate', 'guacamole', 'consomme', 'hot_pot', 'trifle', 'ice_cream', 'ice_lolly', 'French_loaf', 'bagel', 'pretzel', 'cheeseburger', 'hotdog', 'mashed_potato', 'head_cabbage', 'broccoli', 'cauliflower', 'zucchini', 'spaghetti_squash', 'acorn_squash', 'butternut_squash', 'cucumber', 'artichoke', 'bell_pepper', 'cardoon', 'mushroom', 'Granny_Smith', 'strawberry', 'orange', 'lemon', 'fig', 'pineapple', 'banana', 'jackfruit', 'custard_apple', 'pomegranate', 'hay', 'carbonara', 'chocolate_sauce', 'dough', 'meat_loaf', 'pizza', 'potpie', 'burrito', 'red_wine', 'espresso', 'cup', 'eggnog', 'alp', 'bubble', 'cliff', 'coral_reef', 'geyser', 'lakeside', 'promontory', 'sandbar', 'seashore', 'valley', 'volcano', 'ballplayer', 'groom', 'scuba_diver', 'rapeseed', 'daisy', 'yellow_ladys_slipper', 'corn', 'acorn', 'hip', 'buckeye', 'coral_fungus', 'agaric', 'gyromitra', 'stinkhorn', 'earthstar', 'hen_of_the_woods', 'bolete', 'ear', 'toilet_tissue']"
   ]
  },
  {
   "cell_type": "code",
   "execution_count": 5,
   "metadata": {},
   "outputs": [
    {
     "data": {
      "text/plain": [
       "{'tench': 0,\n",
       " 'black_swan': 100,\n",
       " 'Tibetan_terrier': 200,\n",
       " 'tiger_beetle': 300,\n",
       " 'cloak': 501,\n",
       " 'hook': 600,\n",
       " 'paper_towel': 700,\n",
       " 'slot': 800,\n",
       " 'water_tower': 900,\n",
       " 'ear': 998}"
      ]
     },
     "execution_count": 5,
     "metadata": {},
     "output_type": "execute_result"
    }
   ],
   "source": [
    "category_indices = [0,100,200,300,501,600,700,800,900,998]\n",
    "\n",
    "#get unit index for category name\n",
    "units = {}\n",
    "for i in category_indices:\n",
    "    units[category_targets[i]] = i\n",
    "units"
   ]
  },
  {
   "cell_type": "code",
   "execution_count": 6,
   "metadata": {},
   "outputs": [],
   "source": [
    "from torchvision import transforms\n",
    "from torch.utils.data import DataLoader\n",
    "from torchvision.datasets import ImageFolder\n",
    "from circuit_explorer.utils import load_config\n",
    "from circuit_explorer.data_loading import rank_image_data\n",
    "import os\n",
    "import numpy as np\n",
    "\n",
    "kwargs = {'num_workers': 4, 'pin_memory': True, 'sampler':None} if 'cuda' in device else {}\n",
    "\n",
    "data_path = '/mnt/data/chris/nodropbox/Projects/image_data/imagenet_10/'\n",
    "\n",
    "dataloaders = {}\n",
    "\n",
    "for cat in units:  \n",
    "    dataloaders[cat] = torch.utils.data.DataLoader(rank_image_data(data_path+cat,class_folders=False),\n",
    "                                                   batch_size=1,\n",
    "                                                   shuffle=False,\n",
    "                                                   **kwargs)\n",
    "    \n",
    "dataloaders['all'] = torch.utils.data.DataLoader(rank_image_data(data_path,select_folders = list(units.keys())),\n",
    "                                                   batch_size=1,\n",
    "                                                   shuffle=False,\n",
    "                                                   **kwargs)"
   ]
  },
  {
   "cell_type": "code",
   "execution_count": null,
   "metadata": {},
   "outputs": [],
   "source": [
    "scores = {}"
   ]
  },
  {
   "cell_type": "code",
   "execution_count": 7,
   "metadata": {},
   "outputs": [],
   "source": [
    "#scores\n",
    "\n",
    "from circuit_explorer.score import snip_score\n",
    "\n",
    "\n",
    "unit = 0\n",
    "target_layer = 'classifier.6'\n",
    "\n",
    "scores = {}\n",
    "\n",
    "# for cat in units:\n",
    "#     scores[cat] = snip_score(model,dataloaders[cat],target_layer,units[cat])\n",
    "scores['all'] = snip_score(model,dataloaders['all'],target_layer,unit)\n",
    "\n",
    "scores['tench'] = snip_score(model,dataloaders['tench'],target_layer,unit)\n",
    "#scores['tiger_beetle'] = snip_score(model,dataloaders['tiger_beetle'],target_layer,unit)\n",
    "\n",
    "\n",
    "    "
   ]
  },
  {
   "cell_type": "code",
   "execution_count": 10,
   "metadata": {},
   "outputs": [
    {
     "data": {
      "text/plain": [
       "torch.Size([64, 3, 11, 11])"
      ]
     },
     "execution_count": 10,
     "metadata": {},
     "output_type": "execute_result"
    }
   ],
   "source": [
    "scores['tench']['features.0'].shape"
   ]
  },
  {
   "cell_type": "code",
   "execution_count": 11,
   "metadata": {},
   "outputs": [],
   "source": [
    "#dataloader\n",
    "\n",
    "from circuit_explorer.target import layer_activations_from_dataloader\n",
    "target_layer_activations = layer_activations_from_dataloader(target_layer,dataloaders['all'],model)[target_layer]\n",
    "unit_activations = target_layer_activations[:,unit]\n"
   ]
  },
  {
   "cell_type": "code",
   "execution_count": 12,
   "metadata": {},
   "outputs": [
    {
     "name": "stdout",
     "output_type": "stream",
     "text": [
      "tench\n",
      "0.6\n",
      "gradients from this feature are sparse, the minimum acceptable score at this sparsity has a score of zero! we will return a mask thats smaller than you asked, by masking all parameters with a score of zero.\n",
      "0.482\n",
      "0.364\n",
      "0.246\n",
      "0.128\n",
      "0.01\n"
     ]
    }
   ],
   "source": [
    "#now well iteratively change the mask value masking more and more low scoring weights, and save activations \n",
    "#from the resultant circuit\n",
    "from circuit_explorer.mask import mask_from_scores, apply_mask\n",
    "\n",
    "sparsities = np.linspace(.6,.01,6)\n",
    "\n",
    "circuit_activations = {}\n",
    "#for cat in list(units.keys())+['all']: \n",
    "#for cat in ['tench','tiger_beetle','all']: \n",
    "for cat in ['tench','all']:\n",
    "    print(cat)\n",
    "    \n",
    "    circuit_activations[cat] = []\n",
    "\n",
    "    for sparsity in sparsities:\n",
    "    #for sparsity in sparsities[cat]:\n",
    "        print(sparsity)\n",
    "        \n",
    "        #MASK THE MODEL\n",
    "        mask = mask_from_scores(scores[cat],sparsity = sparsity, relevant_sparsity=False)\n",
    "        apply_mask(model,mask)\n",
    "        \n",
    "        #get new activations\n",
    "        masked_layer_activations = layer_activations_from_dataloader(target_layer,dataloaders['all'],model)[target_layer]\n",
    "        #add those to the circuit activations at each sparsity\n",
    "        circuit_activations[cat].append(masked_layer_activations[:,unit])"
   ]
  },
  {
   "cell_type": "code",
   "execution_count": 12,
   "metadata": {},
   "outputs": [],
   "source": [
    "# import pickle\n",
    "\n",
    "# pickle.dump(scores,open('test_image_sample_scores.pkl','wb'))"
   ]
  },
  {
   "cell_type": "code",
   "execution_count": 10,
   "metadata": {},
   "outputs": [
    {
     "data": {
      "text/plain": [
       "{'tench': [0.9218278065264458,\n",
       "  0.9236037958279514,\n",
       "  0.9248354409833104,\n",
       "  0.9225862359727472,\n",
       "  0.9186748095318924,\n",
       "  0.7678764219490054],\n",
       " 'tiger_beetle': [0.9375544148043853,\n",
       "  0.9373948373786701,\n",
       "  0.9323749769270573,\n",
       "  0.9229811171038553,\n",
       "  0.8943002162053283,\n",
       "  0.18139232037771205],\n",
       " 'all': [0.9942741377025772,\n",
       "  0.976092934547453,\n",
       "  0.9365715794290278,\n",
       "  0.840975946202264,\n",
       "  0.7414128935021354,\n",
       "  0.5819399763262607]}"
      ]
     },
     "execution_count": 10,
     "metadata": {},
     "output_type": "execute_result"
    }
   ],
   "source": [
    "\n",
    "correlations = {}\n",
    "\n",
    "#for cat in ['tench','tiger_beetle','all']:\n",
    "for cat in ['tench','all']:\n",
    "    correlations[cat] = []\n",
    "    for a in circuit_activations[cat]: \n",
    "        correlations[cat].append(np.corrcoef(a,unit_activations)[0][1])\n",
    "\n",
    "correlations"
   ]
  },
  {
   "cell_type": "code",
   "execution_count": 16,
   "metadata": {
    "scrolled": false
   },
   "outputs": [
    {
     "data": {
      "application/vnd.plotly.v1+json": {
       "config": {
        "plotlyServerURL": "https://plot.ly"
       },
       "data": [
        {
         "marker": {
          "color": [
           "rgb(31, 119, 180)",
           "rgb(31, 119, 180)",
           "rgb(31, 119, 180)",
           "rgb(31, 119, 180)",
           "rgb(31, 119, 180)",
           "rgb(31, 119, 180)",
           "rgb(31, 119, 180)",
           "rgb(31, 119, 180)",
           "rgb(31, 119, 180)",
           "rgb(31, 119, 180)",
           "rgb(255, 127, 14)",
           "rgb(255, 127, 14)",
           "rgb(255, 127, 14)",
           "rgb(255, 127, 14)",
           "rgb(255, 127, 14)",
           "rgb(255, 127, 14)",
           "rgb(255, 127, 14)",
           "rgb(255, 127, 14)",
           "rgb(255, 127, 14)",
           "rgb(255, 127, 14)",
           "rgb(44, 160, 44)",
           "rgb(44, 160, 44)",
           "rgb(44, 160, 44)",
           "rgb(44, 160, 44)",
           "rgb(44, 160, 44)",
           "rgb(44, 160, 44)",
           "rgb(44, 160, 44)",
           "rgb(44, 160, 44)",
           "rgb(44, 160, 44)",
           "rgb(44, 160, 44)",
           "rgb(214, 39, 40)",
           "rgb(214, 39, 40)",
           "rgb(214, 39, 40)",
           "rgb(214, 39, 40)",
           "rgb(214, 39, 40)",
           "rgb(214, 39, 40)",
           "rgb(214, 39, 40)",
           "rgb(214, 39, 40)",
           "rgb(214, 39, 40)",
           "rgb(214, 39, 40)",
           "rgb(148, 103, 189)",
           "rgb(148, 103, 189)",
           "rgb(148, 103, 189)",
           "rgb(148, 103, 189)",
           "rgb(148, 103, 189)",
           "rgb(148, 103, 189)",
           "rgb(148, 103, 189)",
           "rgb(148, 103, 189)",
           "rgb(148, 103, 189)",
           "rgb(148, 103, 189)",
           "rgb(140, 86, 75)",
           "rgb(140, 86, 75)",
           "rgb(140, 86, 75)",
           "rgb(140, 86, 75)",
           "rgb(140, 86, 75)",
           "rgb(140, 86, 75)",
           "rgb(140, 86, 75)",
           "rgb(140, 86, 75)",
           "rgb(140, 86, 75)",
           "rgb(140, 86, 75)",
           "rgb(227, 119, 194)",
           "rgb(227, 119, 194)",
           "rgb(227, 119, 194)",
           "rgb(227, 119, 194)",
           "rgb(227, 119, 194)",
           "rgb(227, 119, 194)",
           "rgb(227, 119, 194)",
           "rgb(227, 119, 194)",
           "rgb(227, 119, 194)",
           "rgb(227, 119, 194)",
           "rgb(127, 127, 127)",
           "rgb(127, 127, 127)",
           "rgb(127, 127, 127)",
           "rgb(127, 127, 127)",
           "rgb(127, 127, 127)",
           "rgb(127, 127, 127)",
           "rgb(127, 127, 127)",
           "rgb(127, 127, 127)",
           "rgb(127, 127, 127)",
           "rgb(127, 127, 127)",
           "rgb(188, 189, 34)",
           "rgb(188, 189, 34)",
           "rgb(188, 189, 34)",
           "rgb(188, 189, 34)",
           "rgb(188, 189, 34)",
           "rgb(188, 189, 34)",
           "rgb(188, 189, 34)",
           "rgb(188, 189, 34)",
           "rgb(188, 189, 34)",
           "rgb(188, 189, 34)",
           "rgb(23, 190, 207)",
           "rgb(23, 190, 207)",
           "rgb(23, 190, 207)",
           "rgb(23, 190, 207)",
           "rgb(23, 190, 207)",
           "rgb(23, 190, 207)",
           "rgb(23, 190, 207)",
           "rgb(23, 190, 207)",
           "rgb(23, 190, 207)",
           "rgb(23, 190, 207)"
          ]
         },
         "mode": "markers",
         "type": "scatter",
         "x": [
          8.2239990234375,
          21.40203285217285,
          20.29163932800293,
          19.174894332885742,
          15.923319816589355,
          15.63840389251709,
          13.592621803283691,
          15.137449264526367,
          14.959569931030273,
          19.319528579711914,
          6.720361709594727,
          8.901041984558105,
          8.569278717041016,
          5.753986835479736,
          8.06851863861084,
          5.994924545288086,
          4.455733299255371,
          2.059898614883423,
          8.355984687805176,
          3.7654836177825928,
          2.8499014377593994,
          1.0044493675231934,
          2.6092774868011475,
          4.9178314208984375,
          2.499891996383667,
          2.5864670276641846,
          3.5303683280944824,
          1.4184917211532593,
          4.349936485290527,
          3.322120189666748,
          3.8446574211120605,
          6.920483589172363,
          2.033273220062256,
          4.0292487144470215,
          5.890740394592285,
          8.556479454040527,
          9.944308280944824,
          5.374975204467773,
          2.8584346771240234,
          6.568916320800781,
          4.075314521789551,
          3.061243772506714,
          2.8007237911224365,
          4.098625659942627,
          8.516545295715332,
          5.603346824645996,
          7.189946174621582,
          4.8541107177734375,
          6.750905990600586,
          6.3700175285339355,
          3.109105348587036,
          6.84833288192749,
          6.616150379180908,
          1.2275888919830322,
          5.438455581665039,
          4.40696907043457,
          4.66152286529541,
          3.50287127494812,
          6.05267333984375,
          3.344557523727417,
          0.7116590738296509,
          2.8697612285614014,
          2.739755392074585,
          4.100917816162109,
          2.5055644512176514,
          5.564309120178223,
          6.27012300491333,
          -0.8079484701156616,
          0.7128714919090271,
          5.140561103820801,
          1.088326096534729,
          3.1521737575531006,
          3.2803103923797607,
          2.0208685398101807,
          1.277658224105835,
          6.036102771759033,
          2.5801010131835938,
          4.414281368255615,
          2.605539083480835,
          2.285264730453491,
          1.9448705911636353,
          3.129108190536499,
          3.1006317138671875,
          1.6591336727142334,
          2.2517926692962646,
          2.7734620571136475,
          2.6868433952331543,
          1.3305552005767822,
          4.167084217071533,
          3.488630771636963,
          5.490616798400879,
          5.329959869384766,
          8.059854507446289,
          8.098695755004883,
          5.0791826248168945,
          8.492524147033691,
          7.532724857330322,
          6.952101707458496,
          5.72081184387207,
          9.703978538513184
         ],
         "xaxis": "x",
         "y": [
          7.7669477462768555,
          21.123794555664062,
          20.46268081665039,
          19.802824020385742,
          16.642976760864258,
          15.279073715209961,
          14.852067947387695,
          15.106178283691406,
          15.063925743103027,
          18.4719295501709,
          1.399144172668457,
          -1.3196687698364258,
          0.4347863495349884,
          -0.08502735197544098,
          -0.24406076967716217,
          0.9749664664268494,
          -0.3885900676250458,
          -2.3418872356414795,
          4.16610050201416,
          -1.060168981552124,
          -3.683530569076538,
          -1.652563452720642,
          -1.7167922258377075,
          -2.0865113735198975,
          -3.518495798110962,
          -4.2277350425720215,
          -0.9999774098396301,
          -2.683871269226074,
          -1.5676394701004028,
          -1.0871332883834839,
          -0.9485496878623962,
          -1.0903065204620361,
          -3.364971876144409,
          -0.5803971886634827,
          -4.581081867218018,
          2.744643211364746,
          2.7683064937591553,
          -1.6796008348464966,
          -5.880188465118408,
          -3.466515302658081,
          -0.10886362195014954,
          -0.3730880916118622,
          0.08233802020549774,
          -0.2701509892940521,
          3.1845667362213135,
          2.632322072982788,
          3.251178026199341,
          0.3102785348892212,
          5.202922821044922,
          3.3280231952667236,
          -8.73912525177002,
          -1.8061776161193848,
          1.3701883554458618,
          -4.3498029708862305,
          -0.7726522088050842,
          -5.254192352294922,
          2.3572731018066406,
          -4.205260276794434,
          2.354207754135132,
          -3.175152063369751,
          -4.656261444091797,
          -2.736915349960327,
          -7.097317695617676,
          -1.4234719276428223,
          -4.571697235107422,
          -2.583674669265747,
          -2.3706672191619873,
          -3.7888965606689453,
          -4.538203716278076,
          1.2211363315582275,
          -7.3360748291015625,
          -4.138755798339844,
          -2.1005666255950928,
          -4.9120941162109375,
          -3.8726003170013428,
          3.9154646396636963,
          -1.8426200151443481,
          -1.7470978498458862,
          -5.481634140014648,
          -3.7489683628082275,
          -10.125178337097168,
          -3.761674165725708,
          -2.471155881881714,
          -5.807934761047363,
          -4.190173625946045,
          -2.662513494491577,
          -6.7639288902282715,
          -6.526571273803711,
          -5.054406642913818,
          -4.2106451988220215,
          2.4552595615386963,
          -1.202506184577942,
          1.763609766960144,
          2.321349620819092,
          -2.5356268882751465,
          0.539793074131012,
          1.0744456052780151,
          3.8401176929473877,
          2.698129177093506,
          -0.1549902707338333
         ],
         "yaxis": "y"
        },
        {
         "marker": {
          "color": [
           "rgb(31, 119, 180)",
           "rgb(31, 119, 180)",
           "rgb(31, 119, 180)",
           "rgb(31, 119, 180)",
           "rgb(31, 119, 180)",
           "rgb(31, 119, 180)",
           "rgb(31, 119, 180)",
           "rgb(31, 119, 180)",
           "rgb(31, 119, 180)",
           "rgb(31, 119, 180)",
           "rgb(255, 127, 14)",
           "rgb(255, 127, 14)",
           "rgb(255, 127, 14)",
           "rgb(255, 127, 14)",
           "rgb(255, 127, 14)",
           "rgb(255, 127, 14)",
           "rgb(255, 127, 14)",
           "rgb(255, 127, 14)",
           "rgb(255, 127, 14)",
           "rgb(255, 127, 14)",
           "rgb(44, 160, 44)",
           "rgb(44, 160, 44)",
           "rgb(44, 160, 44)",
           "rgb(44, 160, 44)",
           "rgb(44, 160, 44)",
           "rgb(44, 160, 44)",
           "rgb(44, 160, 44)",
           "rgb(44, 160, 44)",
           "rgb(44, 160, 44)",
           "rgb(44, 160, 44)",
           "rgb(214, 39, 40)",
           "rgb(214, 39, 40)",
           "rgb(214, 39, 40)",
           "rgb(214, 39, 40)",
           "rgb(214, 39, 40)",
           "rgb(214, 39, 40)",
           "rgb(214, 39, 40)",
           "rgb(214, 39, 40)",
           "rgb(214, 39, 40)",
           "rgb(214, 39, 40)",
           "rgb(148, 103, 189)",
           "rgb(148, 103, 189)",
           "rgb(148, 103, 189)",
           "rgb(148, 103, 189)",
           "rgb(148, 103, 189)",
           "rgb(148, 103, 189)",
           "rgb(148, 103, 189)",
           "rgb(148, 103, 189)",
           "rgb(148, 103, 189)",
           "rgb(148, 103, 189)",
           "rgb(140, 86, 75)",
           "rgb(140, 86, 75)",
           "rgb(140, 86, 75)",
           "rgb(140, 86, 75)",
           "rgb(140, 86, 75)",
           "rgb(140, 86, 75)",
           "rgb(140, 86, 75)",
           "rgb(140, 86, 75)",
           "rgb(140, 86, 75)",
           "rgb(140, 86, 75)",
           "rgb(227, 119, 194)",
           "rgb(227, 119, 194)",
           "rgb(227, 119, 194)",
           "rgb(227, 119, 194)",
           "rgb(227, 119, 194)",
           "rgb(227, 119, 194)",
           "rgb(227, 119, 194)",
           "rgb(227, 119, 194)",
           "rgb(227, 119, 194)",
           "rgb(227, 119, 194)",
           "rgb(127, 127, 127)",
           "rgb(127, 127, 127)",
           "rgb(127, 127, 127)",
           "rgb(127, 127, 127)",
           "rgb(127, 127, 127)",
           "rgb(127, 127, 127)",
           "rgb(127, 127, 127)",
           "rgb(127, 127, 127)",
           "rgb(127, 127, 127)",
           "rgb(127, 127, 127)",
           "rgb(188, 189, 34)",
           "rgb(188, 189, 34)",
           "rgb(188, 189, 34)",
           "rgb(188, 189, 34)",
           "rgb(188, 189, 34)",
           "rgb(188, 189, 34)",
           "rgb(188, 189, 34)",
           "rgb(188, 189, 34)",
           "rgb(188, 189, 34)",
           "rgb(188, 189, 34)",
           "rgb(23, 190, 207)",
           "rgb(23, 190, 207)",
           "rgb(23, 190, 207)",
           "rgb(23, 190, 207)",
           "rgb(23, 190, 207)",
           "rgb(23, 190, 207)",
           "rgb(23, 190, 207)",
           "rgb(23, 190, 207)",
           "rgb(23, 190, 207)",
           "rgb(23, 190, 207)"
          ]
         },
         "mode": "markers",
         "type": "scatter",
         "x": [
          8.160490989685059,
          21.20578956604004,
          20.043092727661133,
          19.11471176147461,
          15.669562339782715,
          15.544970512390137,
          13.364612579345703,
          14.988738059997559,
          14.782564163208008,
          19.234819412231445,
          6.659612655639648,
          8.94492244720459,
          8.560275077819824,
          5.964277267456055,
          7.9401326179504395,
          6.150810241699219,
          4.372504234313965,
          2.23986554145813,
          8.415234565734863,
          3.847507953643799,
          2.828972578048706,
          1.1008206605911255,
          2.4216842651367188,
          5.019514083862305,
          2.4837758541107178,
          2.4571824073791504,
          3.4829180240631104,
          1.4583849906921387,
          4.215568542480469,
          3.2144980430603027,
          3.8260860443115234,
          6.867532730102539,
          2.086632013320923,
          4.0292487144470215,
          5.719906330108643,
          8.289905548095703,
          9.811326026916504,
          5.486897945404053,
          2.8206801414489746,
          6.530030250549316,
          4.133565425872803,
          3.061718225479126,
          3.0026681423187256,
          4.077126979827881,
          8.366706848144531,
          5.622776985168457,
          7.194920063018799,
          4.922757148742676,
          6.901625633239746,
          6.158885955810547,
          3.038728952407837,
          6.818947792053223,
          6.54591178894043,
          1.1551527976989746,
          5.22060489654541,
          4.309265613555908,
          4.72999382019043,
          3.4884450435638428,
          6.062405586242676,
          3.3087313175201416,
          0.708797812461853,
          2.787917375564575,
          2.6920197010040283,
          4.108582496643066,
          2.646679639816284,
          5.388828754425049,
          6.136499881744385,
          -0.7009289264678955,
          0.7823824286460876,
          5.2240729331970215,
          0.9905216693878174,
          3.188136339187622,
          3.5503759384155273,
          2.127418041229248,
          1.3736454248428345,
          6.124617576599121,
          2.5516860485076904,
          4.480792999267578,
          2.618718147277832,
          2.342461109161377,
          1.9097956418991089,
          3.047391176223755,
          3.0247347354888916,
          1.7075973749160767,
          2.2764663696289062,
          2.8907272815704346,
          2.5028605461120605,
          1.2648288011550903,
          4.095521926879883,
          3.5644333362579346,
          5.5474114418029785,
          5.460665225982666,
          8.16755199432373,
          8.212709426879883,
          5.1092987060546875,
          8.360015869140625,
          7.508476257324219,
          7.01383113861084,
          5.924429893493652,
          9.722882270812988
         ],
         "xaxis": "x2",
         "y": [
          7.7669477462768555,
          21.123794555664062,
          20.46268081665039,
          19.802824020385742,
          16.642976760864258,
          15.279073715209961,
          14.852067947387695,
          15.106178283691406,
          15.063925743103027,
          18.4719295501709,
          1.399144172668457,
          -1.3196687698364258,
          0.4347863495349884,
          -0.08502735197544098,
          -0.24406076967716217,
          0.9749664664268494,
          -0.3885900676250458,
          -2.3418872356414795,
          4.16610050201416,
          -1.060168981552124,
          -3.683530569076538,
          -1.652563452720642,
          -1.7167922258377075,
          -2.0865113735198975,
          -3.518495798110962,
          -4.2277350425720215,
          -0.9999774098396301,
          -2.683871269226074,
          -1.5676394701004028,
          -1.0871332883834839,
          -0.9485496878623962,
          -1.0903065204620361,
          -3.364971876144409,
          -0.5803971886634827,
          -4.581081867218018,
          2.744643211364746,
          2.7683064937591553,
          -1.6796008348464966,
          -5.880188465118408,
          -3.466515302658081,
          -0.10886362195014954,
          -0.3730880916118622,
          0.08233802020549774,
          -0.2701509892940521,
          3.1845667362213135,
          2.632322072982788,
          3.251178026199341,
          0.3102785348892212,
          5.202922821044922,
          3.3280231952667236,
          -8.73912525177002,
          -1.8061776161193848,
          1.3701883554458618,
          -4.3498029708862305,
          -0.7726522088050842,
          -5.254192352294922,
          2.3572731018066406,
          -4.205260276794434,
          2.354207754135132,
          -3.175152063369751,
          -4.656261444091797,
          -2.736915349960327,
          -7.097317695617676,
          -1.4234719276428223,
          -4.571697235107422,
          -2.583674669265747,
          -2.3706672191619873,
          -3.7888965606689453,
          -4.538203716278076,
          1.2211363315582275,
          -7.3360748291015625,
          -4.138755798339844,
          -2.1005666255950928,
          -4.9120941162109375,
          -3.8726003170013428,
          3.9154646396636963,
          -1.8426200151443481,
          -1.7470978498458862,
          -5.481634140014648,
          -3.7489683628082275,
          -10.125178337097168,
          -3.761674165725708,
          -2.471155881881714,
          -5.807934761047363,
          -4.190173625946045,
          -2.662513494491577,
          -6.7639288902282715,
          -6.526571273803711,
          -5.054406642913818,
          -4.2106451988220215,
          2.4552595615386963,
          -1.202506184577942,
          1.763609766960144,
          2.321349620819092,
          -2.5356268882751465,
          0.539793074131012,
          1.0744456052780151,
          3.8401176929473877,
          2.698129177093506,
          -0.1549902707338333
         ],
         "yaxis": "y2"
        },
        {
         "marker": {
          "color": [
           "rgb(31, 119, 180)",
           "rgb(31, 119, 180)",
           "rgb(31, 119, 180)",
           "rgb(31, 119, 180)",
           "rgb(31, 119, 180)",
           "rgb(31, 119, 180)",
           "rgb(31, 119, 180)",
           "rgb(31, 119, 180)",
           "rgb(31, 119, 180)",
           "rgb(31, 119, 180)",
           "rgb(255, 127, 14)",
           "rgb(255, 127, 14)",
           "rgb(255, 127, 14)",
           "rgb(255, 127, 14)",
           "rgb(255, 127, 14)",
           "rgb(255, 127, 14)",
           "rgb(255, 127, 14)",
           "rgb(255, 127, 14)",
           "rgb(255, 127, 14)",
           "rgb(255, 127, 14)",
           "rgb(44, 160, 44)",
           "rgb(44, 160, 44)",
           "rgb(44, 160, 44)",
           "rgb(44, 160, 44)",
           "rgb(44, 160, 44)",
           "rgb(44, 160, 44)",
           "rgb(44, 160, 44)",
           "rgb(44, 160, 44)",
           "rgb(44, 160, 44)",
           "rgb(44, 160, 44)",
           "rgb(214, 39, 40)",
           "rgb(214, 39, 40)",
           "rgb(214, 39, 40)",
           "rgb(214, 39, 40)",
           "rgb(214, 39, 40)",
           "rgb(214, 39, 40)",
           "rgb(214, 39, 40)",
           "rgb(214, 39, 40)",
           "rgb(214, 39, 40)",
           "rgb(214, 39, 40)",
           "rgb(148, 103, 189)",
           "rgb(148, 103, 189)",
           "rgb(148, 103, 189)",
           "rgb(148, 103, 189)",
           "rgb(148, 103, 189)",
           "rgb(148, 103, 189)",
           "rgb(148, 103, 189)",
           "rgb(148, 103, 189)",
           "rgb(148, 103, 189)",
           "rgb(148, 103, 189)",
           "rgb(140, 86, 75)",
           "rgb(140, 86, 75)",
           "rgb(140, 86, 75)",
           "rgb(140, 86, 75)",
           "rgb(140, 86, 75)",
           "rgb(140, 86, 75)",
           "rgb(140, 86, 75)",
           "rgb(140, 86, 75)",
           "rgb(140, 86, 75)",
           "rgb(140, 86, 75)",
           "rgb(227, 119, 194)",
           "rgb(227, 119, 194)",
           "rgb(227, 119, 194)",
           "rgb(227, 119, 194)",
           "rgb(227, 119, 194)",
           "rgb(227, 119, 194)",
           "rgb(227, 119, 194)",
           "rgb(227, 119, 194)",
           "rgb(227, 119, 194)",
           "rgb(227, 119, 194)",
           "rgb(127, 127, 127)",
           "rgb(127, 127, 127)",
           "rgb(127, 127, 127)",
           "rgb(127, 127, 127)",
           "rgb(127, 127, 127)",
           "rgb(127, 127, 127)",
           "rgb(127, 127, 127)",
           "rgb(127, 127, 127)",
           "rgb(127, 127, 127)",
           "rgb(127, 127, 127)",
           "rgb(188, 189, 34)",
           "rgb(188, 189, 34)",
           "rgb(188, 189, 34)",
           "rgb(188, 189, 34)",
           "rgb(188, 189, 34)",
           "rgb(188, 189, 34)",
           "rgb(188, 189, 34)",
           "rgb(188, 189, 34)",
           "rgb(188, 189, 34)",
           "rgb(188, 189, 34)",
           "rgb(23, 190, 207)",
           "rgb(23, 190, 207)",
           "rgb(23, 190, 207)",
           "rgb(23, 190, 207)",
           "rgb(23, 190, 207)",
           "rgb(23, 190, 207)",
           "rgb(23, 190, 207)",
           "rgb(23, 190, 207)",
           "rgb(23, 190, 207)",
           "rgb(23, 190, 207)"
          ]
         },
         "mode": "markers",
         "type": "scatter",
         "x": [
          8.062719345092773,
          20.73076057434082,
          19.281940460205078,
          18.537429809570312,
          14.958680152893066,
          15.143494606018066,
          12.60873794555664,
          14.494909286499023,
          14.247147560119629,
          19.005292892456055,
          6.277713775634766,
          8.81265926361084,
          8.502959251403809,
          5.831009864807129,
          7.295201778411865,
          6.039547920227051,
          4.184186935424805,
          2.187264919281006,
          8.41720962524414,
          3.832683801651001,
          2.874826669692993,
          1.2919604778289795,
          1.997731328010559,
          4.9772233963012695,
          2.430962085723877,
          2.1919429302215576,
          3.196746587753296,
          1.1586627960205078,
          4.024123668670654,
          3.176635503768921,
          3.6655144691467285,
          6.675366401672363,
          1.8612505197525024,
          3.9464328289031982,
          4.949735164642334,
          7.728642463684082,
          9.496826171875,
          5.338275909423828,
          2.5962750911712646,
          6.097930908203125,
          3.9676249027252197,
          2.947681188583374,
          3.1316354274749756,
          3.91131329536438,
          7.881068229675293,
          5.391994476318359,
          7.032001495361328,
          4.794858932495117,
          7.000685691833496,
          5.916308403015137,
          2.852037191390991,
          6.721513748168945,
          6.456388473510742,
          0.8905565142631531,
          5.090292453765869,
          3.9208765029907227,
          4.716553211212158,
          3.5235650539398193,
          6.06289005279541,
          3.120636224746704,
          0.7135387659072876,
          2.4454376697540283,
          2.435926914215088,
          4.309357643127441,
          2.708754301071167,
          5.05419397354126,
          5.9713134765625,
          -0.7761365175247192,
          0.8365148901939392,
          5.280667304992676,
          0.892730176448822,
          3.0990970134735107,
          3.6131930351257324,
          1.7925214767456055,
          1.0961118936538696,
          6.033400535583496,
          2.1973557472229004,
          4.51097297668457,
          2.531416416168213,
          2.382246494293213,
          1.764255166053772,
          2.7821240425109863,
          3.20697021484375,
          1.87185800075531,
          1.9405301809310913,
          2.748185873031616,
          2.1979305744171143,
          1.019944190979004,
          3.422818183898926,
          3.2798705101013184,
          5.6863813400268555,
          5.576504707336426,
          7.838409900665283,
          8.252760887145996,
          5.318377494812012,
          8.138142585754395,
          7.690463066101074,
          7.014115333557129,
          6.037710666656494,
          9.7323637008667
         ],
         "xaxis": "x3",
         "y": [
          7.7669477462768555,
          21.123794555664062,
          20.46268081665039,
          19.802824020385742,
          16.642976760864258,
          15.279073715209961,
          14.852067947387695,
          15.106178283691406,
          15.063925743103027,
          18.4719295501709,
          1.399144172668457,
          -1.3196687698364258,
          0.4347863495349884,
          -0.08502735197544098,
          -0.24406076967716217,
          0.9749664664268494,
          -0.3885900676250458,
          -2.3418872356414795,
          4.16610050201416,
          -1.060168981552124,
          -3.683530569076538,
          -1.652563452720642,
          -1.7167922258377075,
          -2.0865113735198975,
          -3.518495798110962,
          -4.2277350425720215,
          -0.9999774098396301,
          -2.683871269226074,
          -1.5676394701004028,
          -1.0871332883834839,
          -0.9485496878623962,
          -1.0903065204620361,
          -3.364971876144409,
          -0.5803971886634827,
          -4.581081867218018,
          2.744643211364746,
          2.7683064937591553,
          -1.6796008348464966,
          -5.880188465118408,
          -3.466515302658081,
          -0.10886362195014954,
          -0.3730880916118622,
          0.08233802020549774,
          -0.2701509892940521,
          3.1845667362213135,
          2.632322072982788,
          3.251178026199341,
          0.3102785348892212,
          5.202922821044922,
          3.3280231952667236,
          -8.73912525177002,
          -1.8061776161193848,
          1.3701883554458618,
          -4.3498029708862305,
          -0.7726522088050842,
          -5.254192352294922,
          2.3572731018066406,
          -4.205260276794434,
          2.354207754135132,
          -3.175152063369751,
          -4.656261444091797,
          -2.736915349960327,
          -7.097317695617676,
          -1.4234719276428223,
          -4.571697235107422,
          -2.583674669265747,
          -2.3706672191619873,
          -3.7888965606689453,
          -4.538203716278076,
          1.2211363315582275,
          -7.3360748291015625,
          -4.138755798339844,
          -2.1005666255950928,
          -4.9120941162109375,
          -3.8726003170013428,
          3.9154646396636963,
          -1.8426200151443481,
          -1.7470978498458862,
          -5.481634140014648,
          -3.7489683628082275,
          -10.125178337097168,
          -3.761674165725708,
          -2.471155881881714,
          -5.807934761047363,
          -4.190173625946045,
          -2.662513494491577,
          -6.7639288902282715,
          -6.526571273803711,
          -5.054406642913818,
          -4.2106451988220215,
          2.4552595615386963,
          -1.202506184577942,
          1.763609766960144,
          2.321349620819092,
          -2.5356268882751465,
          0.539793074131012,
          1.0744456052780151,
          3.8401176929473877,
          2.698129177093506,
          -0.1549902707338333
         ],
         "yaxis": "y3"
        },
        {
         "marker": {
          "color": [
           "rgb(31, 119, 180)",
           "rgb(31, 119, 180)",
           "rgb(31, 119, 180)",
           "rgb(31, 119, 180)",
           "rgb(31, 119, 180)",
           "rgb(31, 119, 180)",
           "rgb(31, 119, 180)",
           "rgb(31, 119, 180)",
           "rgb(31, 119, 180)",
           "rgb(31, 119, 180)",
           "rgb(255, 127, 14)",
           "rgb(255, 127, 14)",
           "rgb(255, 127, 14)",
           "rgb(255, 127, 14)",
           "rgb(255, 127, 14)",
           "rgb(255, 127, 14)",
           "rgb(255, 127, 14)",
           "rgb(255, 127, 14)",
           "rgb(255, 127, 14)",
           "rgb(255, 127, 14)",
           "rgb(44, 160, 44)",
           "rgb(44, 160, 44)",
           "rgb(44, 160, 44)",
           "rgb(44, 160, 44)",
           "rgb(44, 160, 44)",
           "rgb(44, 160, 44)",
           "rgb(44, 160, 44)",
           "rgb(44, 160, 44)",
           "rgb(44, 160, 44)",
           "rgb(44, 160, 44)",
           "rgb(214, 39, 40)",
           "rgb(214, 39, 40)",
           "rgb(214, 39, 40)",
           "rgb(214, 39, 40)",
           "rgb(214, 39, 40)",
           "rgb(214, 39, 40)",
           "rgb(214, 39, 40)",
           "rgb(214, 39, 40)",
           "rgb(214, 39, 40)",
           "rgb(214, 39, 40)",
           "rgb(148, 103, 189)",
           "rgb(148, 103, 189)",
           "rgb(148, 103, 189)",
           "rgb(148, 103, 189)",
           "rgb(148, 103, 189)",
           "rgb(148, 103, 189)",
           "rgb(148, 103, 189)",
           "rgb(148, 103, 189)",
           "rgb(148, 103, 189)",
           "rgb(148, 103, 189)",
           "rgb(140, 86, 75)",
           "rgb(140, 86, 75)",
           "rgb(140, 86, 75)",
           "rgb(140, 86, 75)",
           "rgb(140, 86, 75)",
           "rgb(140, 86, 75)",
           "rgb(140, 86, 75)",
           "rgb(140, 86, 75)",
           "rgb(140, 86, 75)",
           "rgb(140, 86, 75)",
           "rgb(227, 119, 194)",
           "rgb(227, 119, 194)",
           "rgb(227, 119, 194)",
           "rgb(227, 119, 194)",
           "rgb(227, 119, 194)",
           "rgb(227, 119, 194)",
           "rgb(227, 119, 194)",
           "rgb(227, 119, 194)",
           "rgb(227, 119, 194)",
           "rgb(227, 119, 194)",
           "rgb(127, 127, 127)",
           "rgb(127, 127, 127)",
           "rgb(127, 127, 127)",
           "rgb(127, 127, 127)",
           "rgb(127, 127, 127)",
           "rgb(127, 127, 127)",
           "rgb(127, 127, 127)",
           "rgb(127, 127, 127)",
           "rgb(127, 127, 127)",
           "rgb(127, 127, 127)",
           "rgb(188, 189, 34)",
           "rgb(188, 189, 34)",
           "rgb(188, 189, 34)",
           "rgb(188, 189, 34)",
           "rgb(188, 189, 34)",
           "rgb(188, 189, 34)",
           "rgb(188, 189, 34)",
           "rgb(188, 189, 34)",
           "rgb(188, 189, 34)",
           "rgb(188, 189, 34)",
           "rgb(23, 190, 207)",
           "rgb(23, 190, 207)",
           "rgb(23, 190, 207)",
           "rgb(23, 190, 207)",
           "rgb(23, 190, 207)",
           "rgb(23, 190, 207)",
           "rgb(23, 190, 207)",
           "rgb(23, 190, 207)",
           "rgb(23, 190, 207)",
           "rgb(23, 190, 207)"
          ]
         },
         "mode": "markers",
         "type": "scatter",
         "x": [
          8.309468269348145,
          19.998254776000977,
          18.354066848754883,
          17.744550704956055,
          14.19599437713623,
          14.513545036315918,
          11.375401496887207,
          13.367471694946289,
          13.904943466186523,
          18.202762603759766,
          5.593222618103027,
          8.826764106750488,
          8.420985221862793,
          5.597471714019775,
          6.2297868728637695,
          6.28183650970459,
          3.861103057861328,
          2.3124024868011475,
          8.28024959564209,
          3.638498306274414,
          3.4383533000946045,
          1.15717613697052,
          2.424260139465332,
          4.877917289733887,
          2.612924814224243,
          2.0776162147521973,
          3.197371482849121,
          1.2368468046188354,
          3.686728000640869,
          2.824338674545288,
          3.6442201137542725,
          6.760159969329834,
          1.5305923223495483,
          4.554418563842773,
          4.555994987487793,
          7.544981002807617,
          8.92855167388916,
          5.289424896240234,
          3.0923397541046143,
          5.955101490020752,
          4.14528226852417,
          3.8070528507232666,
          3.713169813156128,
          3.898937702178955,
          7.814152240753174,
          5.193263530731201,
          7.154760360717773,
          5.041039943695068,
          6.975095748901367,
          5.678286552429199,
          2.846787929534912,
          6.595787525177002,
          6.394479751586914,
          0.8586125373840332,
          4.54701566696167,
          3.461120367050171,
          4.550588607788086,
          2.981616258621216,
          6.1115570068359375,
          2.951070547103882,
          0.9548484683036804,
          1.9888982772827148,
          1.9782379865646362,
          4.41483211517334,
          3.2207767963409424,
          4.487027645111084,
          5.333218097686768,
          -0.6113813519477844,
          1.1466602087020874,
          5.623898983001709,
          1.6596776247024536,
          3.141202688217163,
          3.8111398220062256,
          1.6711088418960571,
          1.0664645433425903,
          6.327807903289795,
          1.9685519933700562,
          4.474735260009766,
          3.0128283500671387,
          2.787709951400757,
          1.6298933029174805,
          2.5419833660125732,
          2.888204574584961,
          2.098956346511841,
          1.7294470071792603,
          2.9375524520874023,
          1.9006805419921875,
          1.354141116142273,
          3.4398491382598877,
          3.295427083969116,
          6.443254470825195,
          6.071438789367676,
          7.6282453536987305,
          8.389981269836426,
          5.310032367706299,
          8.08366584777832,
          8.183548927307129,
          7.140377998352051,
          5.862856864929199,
          9.89665699005127
         ],
         "xaxis": "x4",
         "y": [
          7.7669477462768555,
          21.123794555664062,
          20.46268081665039,
          19.802824020385742,
          16.642976760864258,
          15.279073715209961,
          14.852067947387695,
          15.106178283691406,
          15.063925743103027,
          18.4719295501709,
          1.399144172668457,
          -1.3196687698364258,
          0.4347863495349884,
          -0.08502735197544098,
          -0.24406076967716217,
          0.9749664664268494,
          -0.3885900676250458,
          -2.3418872356414795,
          4.16610050201416,
          -1.060168981552124,
          -3.683530569076538,
          -1.652563452720642,
          -1.7167922258377075,
          -2.0865113735198975,
          -3.518495798110962,
          -4.2277350425720215,
          -0.9999774098396301,
          -2.683871269226074,
          -1.5676394701004028,
          -1.0871332883834839,
          -0.9485496878623962,
          -1.0903065204620361,
          -3.364971876144409,
          -0.5803971886634827,
          -4.581081867218018,
          2.744643211364746,
          2.7683064937591553,
          -1.6796008348464966,
          -5.880188465118408,
          -3.466515302658081,
          -0.10886362195014954,
          -0.3730880916118622,
          0.08233802020549774,
          -0.2701509892940521,
          3.1845667362213135,
          2.632322072982788,
          3.251178026199341,
          0.3102785348892212,
          5.202922821044922,
          3.3280231952667236,
          -8.73912525177002,
          -1.8061776161193848,
          1.3701883554458618,
          -4.3498029708862305,
          -0.7726522088050842,
          -5.254192352294922,
          2.3572731018066406,
          -4.205260276794434,
          2.354207754135132,
          -3.175152063369751,
          -4.656261444091797,
          -2.736915349960327,
          -7.097317695617676,
          -1.4234719276428223,
          -4.571697235107422,
          -2.583674669265747,
          -2.3706672191619873,
          -3.7888965606689453,
          -4.538203716278076,
          1.2211363315582275,
          -7.3360748291015625,
          -4.138755798339844,
          -2.1005666255950928,
          -4.9120941162109375,
          -3.8726003170013428,
          3.9154646396636963,
          -1.8426200151443481,
          -1.7470978498458862,
          -5.481634140014648,
          -3.7489683628082275,
          -10.125178337097168,
          -3.761674165725708,
          -2.471155881881714,
          -5.807934761047363,
          -4.190173625946045,
          -2.662513494491577,
          -6.7639288902282715,
          -6.526571273803711,
          -5.054406642913818,
          -4.2106451988220215,
          2.4552595615386963,
          -1.202506184577942,
          1.763609766960144,
          2.321349620819092,
          -2.5356268882751465,
          0.539793074131012,
          1.0744456052780151,
          3.8401176929473877,
          2.698129177093506,
          -0.1549902707338333
         ],
         "yaxis": "y4"
        },
        {
         "marker": {
          "color": [
           "rgb(31, 119, 180)",
           "rgb(31, 119, 180)",
           "rgb(31, 119, 180)",
           "rgb(31, 119, 180)",
           "rgb(31, 119, 180)",
           "rgb(31, 119, 180)",
           "rgb(31, 119, 180)",
           "rgb(31, 119, 180)",
           "rgb(31, 119, 180)",
           "rgb(31, 119, 180)",
           "rgb(255, 127, 14)",
           "rgb(255, 127, 14)",
           "rgb(255, 127, 14)",
           "rgb(255, 127, 14)",
           "rgb(255, 127, 14)",
           "rgb(255, 127, 14)",
           "rgb(255, 127, 14)",
           "rgb(255, 127, 14)",
           "rgb(255, 127, 14)",
           "rgb(255, 127, 14)",
           "rgb(44, 160, 44)",
           "rgb(44, 160, 44)",
           "rgb(44, 160, 44)",
           "rgb(44, 160, 44)",
           "rgb(44, 160, 44)",
           "rgb(44, 160, 44)",
           "rgb(44, 160, 44)",
           "rgb(44, 160, 44)",
           "rgb(44, 160, 44)",
           "rgb(44, 160, 44)",
           "rgb(214, 39, 40)",
           "rgb(214, 39, 40)",
           "rgb(214, 39, 40)",
           "rgb(214, 39, 40)",
           "rgb(214, 39, 40)",
           "rgb(214, 39, 40)",
           "rgb(214, 39, 40)",
           "rgb(214, 39, 40)",
           "rgb(214, 39, 40)",
           "rgb(214, 39, 40)",
           "rgb(148, 103, 189)",
           "rgb(148, 103, 189)",
           "rgb(148, 103, 189)",
           "rgb(148, 103, 189)",
           "rgb(148, 103, 189)",
           "rgb(148, 103, 189)",
           "rgb(148, 103, 189)",
           "rgb(148, 103, 189)",
           "rgb(148, 103, 189)",
           "rgb(148, 103, 189)",
           "rgb(140, 86, 75)",
           "rgb(140, 86, 75)",
           "rgb(140, 86, 75)",
           "rgb(140, 86, 75)",
           "rgb(140, 86, 75)",
           "rgb(140, 86, 75)",
           "rgb(140, 86, 75)",
           "rgb(140, 86, 75)",
           "rgb(140, 86, 75)",
           "rgb(140, 86, 75)",
           "rgb(227, 119, 194)",
           "rgb(227, 119, 194)",
           "rgb(227, 119, 194)",
           "rgb(227, 119, 194)",
           "rgb(227, 119, 194)",
           "rgb(227, 119, 194)",
           "rgb(227, 119, 194)",
           "rgb(227, 119, 194)",
           "rgb(227, 119, 194)",
           "rgb(227, 119, 194)",
           "rgb(127, 127, 127)",
           "rgb(127, 127, 127)",
           "rgb(127, 127, 127)",
           "rgb(127, 127, 127)",
           "rgb(127, 127, 127)",
           "rgb(127, 127, 127)",
           "rgb(127, 127, 127)",
           "rgb(127, 127, 127)",
           "rgb(127, 127, 127)",
           "rgb(127, 127, 127)",
           "rgb(188, 189, 34)",
           "rgb(188, 189, 34)",
           "rgb(188, 189, 34)",
           "rgb(188, 189, 34)",
           "rgb(188, 189, 34)",
           "rgb(188, 189, 34)",
           "rgb(188, 189, 34)",
           "rgb(188, 189, 34)",
           "rgb(188, 189, 34)",
           "rgb(188, 189, 34)",
           "rgb(23, 190, 207)",
           "rgb(23, 190, 207)",
           "rgb(23, 190, 207)",
           "rgb(23, 190, 207)",
           "rgb(23, 190, 207)",
           "rgb(23, 190, 207)",
           "rgb(23, 190, 207)",
           "rgb(23, 190, 207)",
           "rgb(23, 190, 207)",
           "rgb(23, 190, 207)"
          ]
         },
         "mode": "markers",
         "type": "scatter",
         "x": [
          9.719743728637695,
          20.358278274536133,
          17.826129913330078,
          17.510648727416992,
          15.175130844116211,
          16.076711654663086,
          12.072619438171387,
          15.854308128356934,
          13.779054641723633,
          18.83069610595703,
          5.950272560119629,
          9.455632209777832,
          9.3873929977417,
          5.780753135681152,
          5.183276653289795,
          8.35655403137207,
          5.665733337402344,
          3.8817245960235596,
          9.57104206085205,
          4.809218406677246,
          3.9885199069976807,
          2.3984363079071045,
          3.6772754192352295,
          6.3564629554748535,
          3.8961799144744873,
          2.8437302112579346,
          4.560787677764893,
          3.591973066329956,
          3.7117655277252197,
          3.663607358932495,
          4.963338375091553,
          7.576770782470703,
          1.731299638748169,
          6.150846481323242,
          5.416989326477051,
          8.359200477600098,
          9.473654747009277,
          5.799561500549316,
          3.8340909481048584,
          6.642365455627441,
          5.34735631942749,
          5.680639743804932,
          5.042353630065918,
          4.642311096191406,
          8.240812301635742,
          5.546557903289795,
          7.376209735870361,
          5.212127685546875,
          7.340270042419434,
          6.341604232788086,
          3.5218937397003174,
          7.532959461212158,
          6.657792091369629,
          1.6934212446212769,
          4.128415107727051,
          3.487112283706665,
          5.591121673583984,
          2.582371950149536,
          6.515519142150879,
          3.4640209674835205,
          1.73531174659729,
          2.8120031356811523,
          2.3142147064208984,
          5.748474597930908,
          4.326328754425049,
          5.081394672393799,
          4.487100601196289,
          0.5764804482460022,
          3.9172918796539307,
          7.660305023193359,
          3.109358549118042,
          3.5911521911621094,
          6.142489433288574,
          3.3075358867645264,
          2.3083226680755615,
          7.536161422729492,
          3.0174520015716553,
          5.489201545715332,
          4.872482776641846,
          4.853404998779297,
          2.1793768405914307,
          2.6795594692230225,
          3.016176462173462,
          3.3340847492218018,
          1.7664607763290405,
          4.130480766296387,
          2.929964780807495,
          2.9307994842529297,
          3.6531715393066406,
          4.076253890991211,
          8.387454986572266,
          7.554299831390381,
          8.01257610321045,
          9.794824600219727,
          6.997226715087891,
          8.262248992919922,
          9.414605140686035,
          8.39110279083252,
          7.244832515716553,
          11.315032005310059
         ],
         "xaxis": "x5",
         "y": [
          7.7669477462768555,
          21.123794555664062,
          20.46268081665039,
          19.802824020385742,
          16.642976760864258,
          15.279073715209961,
          14.852067947387695,
          15.106178283691406,
          15.063925743103027,
          18.4719295501709,
          1.399144172668457,
          -1.3196687698364258,
          0.4347863495349884,
          -0.08502735197544098,
          -0.24406076967716217,
          0.9749664664268494,
          -0.3885900676250458,
          -2.3418872356414795,
          4.16610050201416,
          -1.060168981552124,
          -3.683530569076538,
          -1.652563452720642,
          -1.7167922258377075,
          -2.0865113735198975,
          -3.518495798110962,
          -4.2277350425720215,
          -0.9999774098396301,
          -2.683871269226074,
          -1.5676394701004028,
          -1.0871332883834839,
          -0.9485496878623962,
          -1.0903065204620361,
          -3.364971876144409,
          -0.5803971886634827,
          -4.581081867218018,
          2.744643211364746,
          2.7683064937591553,
          -1.6796008348464966,
          -5.880188465118408,
          -3.466515302658081,
          -0.10886362195014954,
          -0.3730880916118622,
          0.08233802020549774,
          -0.2701509892940521,
          3.1845667362213135,
          2.632322072982788,
          3.251178026199341,
          0.3102785348892212,
          5.202922821044922,
          3.3280231952667236,
          -8.73912525177002,
          -1.8061776161193848,
          1.3701883554458618,
          -4.3498029708862305,
          -0.7726522088050842,
          -5.254192352294922,
          2.3572731018066406,
          -4.205260276794434,
          2.354207754135132,
          -3.175152063369751,
          -4.656261444091797,
          -2.736915349960327,
          -7.097317695617676,
          -1.4234719276428223,
          -4.571697235107422,
          -2.583674669265747,
          -2.3706672191619873,
          -3.7888965606689453,
          -4.538203716278076,
          1.2211363315582275,
          -7.3360748291015625,
          -4.138755798339844,
          -2.1005666255950928,
          -4.9120941162109375,
          -3.8726003170013428,
          3.9154646396636963,
          -1.8426200151443481,
          -1.7470978498458862,
          -5.481634140014648,
          -3.7489683628082275,
          -10.125178337097168,
          -3.761674165725708,
          -2.471155881881714,
          -5.807934761047363,
          -4.190173625946045,
          -2.662513494491577,
          -6.7639288902282715,
          -6.526571273803711,
          -5.054406642913818,
          -4.2106451988220215,
          2.4552595615386963,
          -1.202506184577942,
          1.763609766960144,
          2.321349620819092,
          -2.5356268882751465,
          0.539793074131012,
          1.0744456052780151,
          3.8401176929473877,
          2.698129177093506,
          -0.1549902707338333
         ],
         "yaxis": "y5"
        },
        {
         "marker": {
          "color": [
           "rgb(31, 119, 180)",
           "rgb(31, 119, 180)",
           "rgb(31, 119, 180)",
           "rgb(31, 119, 180)",
           "rgb(31, 119, 180)",
           "rgb(31, 119, 180)",
           "rgb(31, 119, 180)",
           "rgb(31, 119, 180)",
           "rgb(31, 119, 180)",
           "rgb(31, 119, 180)",
           "rgb(255, 127, 14)",
           "rgb(255, 127, 14)",
           "rgb(255, 127, 14)",
           "rgb(255, 127, 14)",
           "rgb(255, 127, 14)",
           "rgb(255, 127, 14)",
           "rgb(255, 127, 14)",
           "rgb(255, 127, 14)",
           "rgb(255, 127, 14)",
           "rgb(255, 127, 14)",
           "rgb(44, 160, 44)",
           "rgb(44, 160, 44)",
           "rgb(44, 160, 44)",
           "rgb(44, 160, 44)",
           "rgb(44, 160, 44)",
           "rgb(44, 160, 44)",
           "rgb(44, 160, 44)",
           "rgb(44, 160, 44)",
           "rgb(44, 160, 44)",
           "rgb(44, 160, 44)",
           "rgb(214, 39, 40)",
           "rgb(214, 39, 40)",
           "rgb(214, 39, 40)",
           "rgb(214, 39, 40)",
           "rgb(214, 39, 40)",
           "rgb(214, 39, 40)",
           "rgb(214, 39, 40)",
           "rgb(214, 39, 40)",
           "rgb(214, 39, 40)",
           "rgb(214, 39, 40)",
           "rgb(148, 103, 189)",
           "rgb(148, 103, 189)",
           "rgb(148, 103, 189)",
           "rgb(148, 103, 189)",
           "rgb(148, 103, 189)",
           "rgb(148, 103, 189)",
           "rgb(148, 103, 189)",
           "rgb(148, 103, 189)",
           "rgb(148, 103, 189)",
           "rgb(148, 103, 189)",
           "rgb(140, 86, 75)",
           "rgb(140, 86, 75)",
           "rgb(140, 86, 75)",
           "rgb(140, 86, 75)",
           "rgb(140, 86, 75)",
           "rgb(140, 86, 75)",
           "rgb(140, 86, 75)",
           "rgb(140, 86, 75)",
           "rgb(140, 86, 75)",
           "rgb(140, 86, 75)",
           "rgb(227, 119, 194)",
           "rgb(227, 119, 194)",
           "rgb(227, 119, 194)",
           "rgb(227, 119, 194)",
           "rgb(227, 119, 194)",
           "rgb(227, 119, 194)",
           "rgb(227, 119, 194)",
           "rgb(227, 119, 194)",
           "rgb(227, 119, 194)",
           "rgb(227, 119, 194)",
           "rgb(127, 127, 127)",
           "rgb(127, 127, 127)",
           "rgb(127, 127, 127)",
           "rgb(127, 127, 127)",
           "rgb(127, 127, 127)",
           "rgb(127, 127, 127)",
           "rgb(127, 127, 127)",
           "rgb(127, 127, 127)",
           "rgb(127, 127, 127)",
           "rgb(127, 127, 127)",
           "rgb(188, 189, 34)",
           "rgb(188, 189, 34)",
           "rgb(188, 189, 34)",
           "rgb(188, 189, 34)",
           "rgb(188, 189, 34)",
           "rgb(188, 189, 34)",
           "rgb(188, 189, 34)",
           "rgb(188, 189, 34)",
           "rgb(188, 189, 34)",
           "rgb(188, 189, 34)",
           "rgb(23, 190, 207)",
           "rgb(23, 190, 207)",
           "rgb(23, 190, 207)",
           "rgb(23, 190, 207)",
           "rgb(23, 190, 207)",
           "rgb(23, 190, 207)",
           "rgb(23, 190, 207)",
           "rgb(23, 190, 207)",
           "rgb(23, 190, 207)",
           "rgb(23, 190, 207)"
          ]
         },
         "mode": "markers",
         "type": "scatter",
         "x": [
          3.2922182083129883,
          5.00575065612793,
          6.970040321350098,
          6.141456604003906,
          4.972504615783691,
          5.092010021209717,
          7.886836528778076,
          5.969895362854004,
          6.404609680175781,
          5.55031681060791,
          2.958395481109619,
          2.5599446296691895,
          2.947204351425171,
          2.9021215438842773,
          3.7869107723236084,
          2.4244704246520996,
          1.945881724357605,
          2.1390316486358643,
          2.793797016143799,
          2.1996777057647705,
          3.2816858291625977,
          3.5529680252075195,
          2.6138455867767334,
          1.7350331544876099,
          2.9193522930145264,
          2.4770419597625732,
          2.0386040210723877,
          3.6405820846557617,
          1.8943482637405396,
          2.1572930812835693,
          1.3702515363693237,
          1.5146914720535278,
          2.5480234622955322,
          2.2792952060699463,
          2.15158748626709,
          1.992004632949829,
          2.1828691959381104,
          1.5391616821289062,
          1.7703698873519897,
          1.9060115814208984,
          3.180556058883667,
          2.8364224433898926,
          2.4558746814727783,
          1.6890910863876343,
          2.8526268005371094,
          3.1268651485443115,
          2.8150923252105713,
          2.202413320541382,
          3.753756046295166,
          2.097790002822876,
          1.6164405345916748,
          2.2241017818450928,
          2.0129282474517822,
          2.150003671646118,
          1.5791250467300415,
          1.2130939960479736,
          2.2321789264678955,
          2.208019971847534,
          2.5767431259155273,
          2.386350393295288,
          3.8055317401885986,
          2.3567607402801514,
          1.4668024778366089,
          2.6391985416412354,
          1.9707931280136108,
          1.6879252195358276,
          1.4140352010726929,
          4.06494665145874,
          2.9567601680755615,
          3.5585906505584717,
          2.7754340171813965,
          2.662409543991089,
          3.1249334812164307,
          2.599532127380371,
          3.1340246200561523,
          4.154909133911133,
          2.5057790279388428,
          2.238929510116577,
          2.72686767578125,
          2.5986669063568115,
          2.9310524463653564,
          1.346676230430603,
          2.471287250518799,
          2.910799503326416,
          2.376842498779297,
          2.7416343688964844,
          2.149592399597168,
          2.200129508972168,
          2.664379119873047,
          2.0793604850769043,
          3.4130592346191406,
          2.7530531883239746,
          1.9132080078125,
          1.992499828338623,
          2.261209726333618,
          1.9456926584243774,
          2.2975170612335205,
          2.667952060699463,
          3.1045029163360596,
          2.6986100673675537
         ],
         "xaxis": "x6",
         "y": [
          7.7669477462768555,
          21.123794555664062,
          20.46268081665039,
          19.802824020385742,
          16.642976760864258,
          15.279073715209961,
          14.852067947387695,
          15.106178283691406,
          15.063925743103027,
          18.4719295501709,
          1.399144172668457,
          -1.3196687698364258,
          0.4347863495349884,
          -0.08502735197544098,
          -0.24406076967716217,
          0.9749664664268494,
          -0.3885900676250458,
          -2.3418872356414795,
          4.16610050201416,
          -1.060168981552124,
          -3.683530569076538,
          -1.652563452720642,
          -1.7167922258377075,
          -2.0865113735198975,
          -3.518495798110962,
          -4.2277350425720215,
          -0.9999774098396301,
          -2.683871269226074,
          -1.5676394701004028,
          -1.0871332883834839,
          -0.9485496878623962,
          -1.0903065204620361,
          -3.364971876144409,
          -0.5803971886634827,
          -4.581081867218018,
          2.744643211364746,
          2.7683064937591553,
          -1.6796008348464966,
          -5.880188465118408,
          -3.466515302658081,
          -0.10886362195014954,
          -0.3730880916118622,
          0.08233802020549774,
          -0.2701509892940521,
          3.1845667362213135,
          2.632322072982788,
          3.251178026199341,
          0.3102785348892212,
          5.202922821044922,
          3.3280231952667236,
          -8.73912525177002,
          -1.8061776161193848,
          1.3701883554458618,
          -4.3498029708862305,
          -0.7726522088050842,
          -5.254192352294922,
          2.3572731018066406,
          -4.205260276794434,
          2.354207754135132,
          -3.175152063369751,
          -4.656261444091797,
          -2.736915349960327,
          -7.097317695617676,
          -1.4234719276428223,
          -4.571697235107422,
          -2.583674669265747,
          -2.3706672191619873,
          -3.7888965606689453,
          -4.538203716278076,
          1.2211363315582275,
          -7.3360748291015625,
          -4.138755798339844,
          -2.1005666255950928,
          -4.9120941162109375,
          -3.8726003170013428,
          3.9154646396636963,
          -1.8426200151443481,
          -1.7470978498458862,
          -5.481634140014648,
          -3.7489683628082275,
          -10.125178337097168,
          -3.761674165725708,
          -2.471155881881714,
          -5.807934761047363,
          -4.190173625946045,
          -2.662513494491577,
          -6.7639288902282715,
          -6.526571273803711,
          -5.054406642913818,
          -4.2106451988220215,
          2.4552595615386963,
          -1.202506184577942,
          1.763609766960144,
          2.321349620819092,
          -2.5356268882751465,
          0.539793074131012,
          1.0744456052780151,
          3.8401176929473877,
          2.698129177093506,
          -0.1549902707338333
         ],
         "yaxis": "y6"
        }
       ],
       "layout": {
        "height": 600,
        "template": {
         "data": {
          "bar": [
           {
            "error_x": {
             "color": "#2a3f5f"
            },
            "error_y": {
             "color": "#2a3f5f"
            },
            "marker": {
             "line": {
              "color": "#E5ECF6",
              "width": 0.5
             },
             "pattern": {
              "fillmode": "overlay",
              "size": 10,
              "solidity": 0.2
             }
            },
            "type": "bar"
           }
          ],
          "barpolar": [
           {
            "marker": {
             "line": {
              "color": "#E5ECF6",
              "width": 0.5
             },
             "pattern": {
              "fillmode": "overlay",
              "size": 10,
              "solidity": 0.2
             }
            },
            "type": "barpolar"
           }
          ],
          "carpet": [
           {
            "aaxis": {
             "endlinecolor": "#2a3f5f",
             "gridcolor": "white",
             "linecolor": "white",
             "minorgridcolor": "white",
             "startlinecolor": "#2a3f5f"
            },
            "baxis": {
             "endlinecolor": "#2a3f5f",
             "gridcolor": "white",
             "linecolor": "white",
             "minorgridcolor": "white",
             "startlinecolor": "#2a3f5f"
            },
            "type": "carpet"
           }
          ],
          "choropleth": [
           {
            "colorbar": {
             "outlinewidth": 0,
             "ticks": ""
            },
            "type": "choropleth"
           }
          ],
          "contour": [
           {
            "colorbar": {
             "outlinewidth": 0,
             "ticks": ""
            },
            "colorscale": [
             [
              0,
              "#0d0887"
             ],
             [
              0.1111111111111111,
              "#46039f"
             ],
             [
              0.2222222222222222,
              "#7201a8"
             ],
             [
              0.3333333333333333,
              "#9c179e"
             ],
             [
              0.4444444444444444,
              "#bd3786"
             ],
             [
              0.5555555555555556,
              "#d8576b"
             ],
             [
              0.6666666666666666,
              "#ed7953"
             ],
             [
              0.7777777777777778,
              "#fb9f3a"
             ],
             [
              0.8888888888888888,
              "#fdca26"
             ],
             [
              1,
              "#f0f921"
             ]
            ],
            "type": "contour"
           }
          ],
          "contourcarpet": [
           {
            "colorbar": {
             "outlinewidth": 0,
             "ticks": ""
            },
            "type": "contourcarpet"
           }
          ],
          "heatmap": [
           {
            "colorbar": {
             "outlinewidth": 0,
             "ticks": ""
            },
            "colorscale": [
             [
              0,
              "#0d0887"
             ],
             [
              0.1111111111111111,
              "#46039f"
             ],
             [
              0.2222222222222222,
              "#7201a8"
             ],
             [
              0.3333333333333333,
              "#9c179e"
             ],
             [
              0.4444444444444444,
              "#bd3786"
             ],
             [
              0.5555555555555556,
              "#d8576b"
             ],
             [
              0.6666666666666666,
              "#ed7953"
             ],
             [
              0.7777777777777778,
              "#fb9f3a"
             ],
             [
              0.8888888888888888,
              "#fdca26"
             ],
             [
              1,
              "#f0f921"
             ]
            ],
            "type": "heatmap"
           }
          ],
          "heatmapgl": [
           {
            "colorbar": {
             "outlinewidth": 0,
             "ticks": ""
            },
            "colorscale": [
             [
              0,
              "#0d0887"
             ],
             [
              0.1111111111111111,
              "#46039f"
             ],
             [
              0.2222222222222222,
              "#7201a8"
             ],
             [
              0.3333333333333333,
              "#9c179e"
             ],
             [
              0.4444444444444444,
              "#bd3786"
             ],
             [
              0.5555555555555556,
              "#d8576b"
             ],
             [
              0.6666666666666666,
              "#ed7953"
             ],
             [
              0.7777777777777778,
              "#fb9f3a"
             ],
             [
              0.8888888888888888,
              "#fdca26"
             ],
             [
              1,
              "#f0f921"
             ]
            ],
            "type": "heatmapgl"
           }
          ],
          "histogram": [
           {
            "marker": {
             "pattern": {
              "fillmode": "overlay",
              "size": 10,
              "solidity": 0.2
             }
            },
            "type": "histogram"
           }
          ],
          "histogram2d": [
           {
            "colorbar": {
             "outlinewidth": 0,
             "ticks": ""
            },
            "colorscale": [
             [
              0,
              "#0d0887"
             ],
             [
              0.1111111111111111,
              "#46039f"
             ],
             [
              0.2222222222222222,
              "#7201a8"
             ],
             [
              0.3333333333333333,
              "#9c179e"
             ],
             [
              0.4444444444444444,
              "#bd3786"
             ],
             [
              0.5555555555555556,
              "#d8576b"
             ],
             [
              0.6666666666666666,
              "#ed7953"
             ],
             [
              0.7777777777777778,
              "#fb9f3a"
             ],
             [
              0.8888888888888888,
              "#fdca26"
             ],
             [
              1,
              "#f0f921"
             ]
            ],
            "type": "histogram2d"
           }
          ],
          "histogram2dcontour": [
           {
            "colorbar": {
             "outlinewidth": 0,
             "ticks": ""
            },
            "colorscale": [
             [
              0,
              "#0d0887"
             ],
             [
              0.1111111111111111,
              "#46039f"
             ],
             [
              0.2222222222222222,
              "#7201a8"
             ],
             [
              0.3333333333333333,
              "#9c179e"
             ],
             [
              0.4444444444444444,
              "#bd3786"
             ],
             [
              0.5555555555555556,
              "#d8576b"
             ],
             [
              0.6666666666666666,
              "#ed7953"
             ],
             [
              0.7777777777777778,
              "#fb9f3a"
             ],
             [
              0.8888888888888888,
              "#fdca26"
             ],
             [
              1,
              "#f0f921"
             ]
            ],
            "type": "histogram2dcontour"
           }
          ],
          "mesh3d": [
           {
            "colorbar": {
             "outlinewidth": 0,
             "ticks": ""
            },
            "type": "mesh3d"
           }
          ],
          "parcoords": [
           {
            "line": {
             "colorbar": {
              "outlinewidth": 0,
              "ticks": ""
             }
            },
            "type": "parcoords"
           }
          ],
          "pie": [
           {
            "automargin": true,
            "type": "pie"
           }
          ],
          "scatter": [
           {
            "fillpattern": {
             "fillmode": "overlay",
             "size": 10,
             "solidity": 0.2
            },
            "type": "scatter"
           }
          ],
          "scatter3d": [
           {
            "line": {
             "colorbar": {
              "outlinewidth": 0,
              "ticks": ""
             }
            },
            "marker": {
             "colorbar": {
              "outlinewidth": 0,
              "ticks": ""
             }
            },
            "type": "scatter3d"
           }
          ],
          "scattercarpet": [
           {
            "marker": {
             "colorbar": {
              "outlinewidth": 0,
              "ticks": ""
             }
            },
            "type": "scattercarpet"
           }
          ],
          "scattergeo": [
           {
            "marker": {
             "colorbar": {
              "outlinewidth": 0,
              "ticks": ""
             }
            },
            "type": "scattergeo"
           }
          ],
          "scattergl": [
           {
            "marker": {
             "colorbar": {
              "outlinewidth": 0,
              "ticks": ""
             }
            },
            "type": "scattergl"
           }
          ],
          "scattermapbox": [
           {
            "marker": {
             "colorbar": {
              "outlinewidth": 0,
              "ticks": ""
             }
            },
            "type": "scattermapbox"
           }
          ],
          "scatterpolar": [
           {
            "marker": {
             "colorbar": {
              "outlinewidth": 0,
              "ticks": ""
             }
            },
            "type": "scatterpolar"
           }
          ],
          "scatterpolargl": [
           {
            "marker": {
             "colorbar": {
              "outlinewidth": 0,
              "ticks": ""
             }
            },
            "type": "scatterpolargl"
           }
          ],
          "scatterternary": [
           {
            "marker": {
             "colorbar": {
              "outlinewidth": 0,
              "ticks": ""
             }
            },
            "type": "scatterternary"
           }
          ],
          "surface": [
           {
            "colorbar": {
             "outlinewidth": 0,
             "ticks": ""
            },
            "colorscale": [
             [
              0,
              "#0d0887"
             ],
             [
              0.1111111111111111,
              "#46039f"
             ],
             [
              0.2222222222222222,
              "#7201a8"
             ],
             [
              0.3333333333333333,
              "#9c179e"
             ],
             [
              0.4444444444444444,
              "#bd3786"
             ],
             [
              0.5555555555555556,
              "#d8576b"
             ],
             [
              0.6666666666666666,
              "#ed7953"
             ],
             [
              0.7777777777777778,
              "#fb9f3a"
             ],
             [
              0.8888888888888888,
              "#fdca26"
             ],
             [
              1,
              "#f0f921"
             ]
            ],
            "type": "surface"
           }
          ],
          "table": [
           {
            "cells": {
             "fill": {
              "color": "#EBF0F8"
             },
             "line": {
              "color": "white"
             }
            },
            "header": {
             "fill": {
              "color": "#C8D4E3"
             },
             "line": {
              "color": "white"
             }
            },
            "type": "table"
           }
          ]
         },
         "layout": {
          "annotationdefaults": {
           "arrowcolor": "#2a3f5f",
           "arrowhead": 0,
           "arrowwidth": 1
          },
          "autotypenumbers": "strict",
          "coloraxis": {
           "colorbar": {
            "outlinewidth": 0,
            "ticks": ""
           }
          },
          "colorscale": {
           "diverging": [
            [
             0,
             "#8e0152"
            ],
            [
             0.1,
             "#c51b7d"
            ],
            [
             0.2,
             "#de77ae"
            ],
            [
             0.3,
             "#f1b6da"
            ],
            [
             0.4,
             "#fde0ef"
            ],
            [
             0.5,
             "#f7f7f7"
            ],
            [
             0.6,
             "#e6f5d0"
            ],
            [
             0.7,
             "#b8e186"
            ],
            [
             0.8,
             "#7fbc41"
            ],
            [
             0.9,
             "#4d9221"
            ],
            [
             1,
             "#276419"
            ]
           ],
           "sequential": [
            [
             0,
             "#0d0887"
            ],
            [
             0.1111111111111111,
             "#46039f"
            ],
            [
             0.2222222222222222,
             "#7201a8"
            ],
            [
             0.3333333333333333,
             "#9c179e"
            ],
            [
             0.4444444444444444,
             "#bd3786"
            ],
            [
             0.5555555555555556,
             "#d8576b"
            ],
            [
             0.6666666666666666,
             "#ed7953"
            ],
            [
             0.7777777777777778,
             "#fb9f3a"
            ],
            [
             0.8888888888888888,
             "#fdca26"
            ],
            [
             1,
             "#f0f921"
            ]
           ],
           "sequentialminus": [
            [
             0,
             "#0d0887"
            ],
            [
             0.1111111111111111,
             "#46039f"
            ],
            [
             0.2222222222222222,
             "#7201a8"
            ],
            [
             0.3333333333333333,
             "#9c179e"
            ],
            [
             0.4444444444444444,
             "#bd3786"
            ],
            [
             0.5555555555555556,
             "#d8576b"
            ],
            [
             0.6666666666666666,
             "#ed7953"
            ],
            [
             0.7777777777777778,
             "#fb9f3a"
            ],
            [
             0.8888888888888888,
             "#fdca26"
            ],
            [
             1,
             "#f0f921"
            ]
           ]
          },
          "colorway": [
           "#636efa",
           "#EF553B",
           "#00cc96",
           "#ab63fa",
           "#FFA15A",
           "#19d3f3",
           "#FF6692",
           "#B6E880",
           "#FF97FF",
           "#FECB52"
          ],
          "font": {
           "color": "#2a3f5f"
          },
          "geo": {
           "bgcolor": "white",
           "lakecolor": "white",
           "landcolor": "#E5ECF6",
           "showlakes": true,
           "showland": true,
           "subunitcolor": "white"
          },
          "hoverlabel": {
           "align": "left"
          },
          "hovermode": "closest",
          "mapbox": {
           "style": "light"
          },
          "paper_bgcolor": "white",
          "plot_bgcolor": "#E5ECF6",
          "polar": {
           "angularaxis": {
            "gridcolor": "white",
            "linecolor": "white",
            "ticks": ""
           },
           "bgcolor": "#E5ECF6",
           "radialaxis": {
            "gridcolor": "white",
            "linecolor": "white",
            "ticks": ""
           }
          },
          "scene": {
           "xaxis": {
            "backgroundcolor": "#E5ECF6",
            "gridcolor": "white",
            "gridwidth": 2,
            "linecolor": "white",
            "showbackground": true,
            "ticks": "",
            "zerolinecolor": "white"
           },
           "yaxis": {
            "backgroundcolor": "#E5ECF6",
            "gridcolor": "white",
            "gridwidth": 2,
            "linecolor": "white",
            "showbackground": true,
            "ticks": "",
            "zerolinecolor": "white"
           },
           "zaxis": {
            "backgroundcolor": "#E5ECF6",
            "gridcolor": "white",
            "gridwidth": 2,
            "linecolor": "white",
            "showbackground": true,
            "ticks": "",
            "zerolinecolor": "white"
           }
          },
          "shapedefaults": {
           "line": {
            "color": "#2a3f5f"
           }
          },
          "ternary": {
           "aaxis": {
            "gridcolor": "white",
            "linecolor": "white",
            "ticks": ""
           },
           "baxis": {
            "gridcolor": "white",
            "linecolor": "white",
            "ticks": ""
           },
           "bgcolor": "#E5ECF6",
           "caxis": {
            "gridcolor": "white",
            "linecolor": "white",
            "ticks": ""
           }
          },
          "title": {
           "x": 0.05
          },
          "xaxis": {
           "automargin": true,
           "gridcolor": "white",
           "linecolor": "white",
           "ticks": "",
           "title": {
            "standoff": 15
           },
           "zerolinecolor": "white",
           "zerolinewidth": 2
          },
          "yaxis": {
           "automargin": true,
           "gridcolor": "white",
           "linecolor": "white",
           "ticks": "",
           "title": {
            "standoff": 15
           },
           "zerolinecolor": "white",
           "zerolinewidth": 2
          }
         }
        },
        "title": {
         "text": "tench"
        },
        "width": 1000,
        "xaxis": {
         "anchor": "y",
         "domain": [
          0,
          0.1388888888888889
         ]
        },
        "xaxis2": {
         "anchor": "y2",
         "domain": [
          0.17222222222222222,
          0.3111111111111111
         ]
        },
        "xaxis3": {
         "anchor": "y3",
         "domain": [
          0.34444444444444444,
          0.48333333333333334
         ]
        },
        "xaxis4": {
         "anchor": "y4",
         "domain": [
          0.5166666666666667,
          0.6555555555555557
         ]
        },
        "xaxis5": {
         "anchor": "y5",
         "domain": [
          0.6888888888888889,
          0.8277777777777777
         ]
        },
        "xaxis6": {
         "anchor": "y6",
         "domain": [
          0.861111111111111,
          1
         ]
        },
        "yaxis": {
         "anchor": "x",
         "domain": [
          0,
          1
         ]
        },
        "yaxis2": {
         "anchor": "x2",
         "domain": [
          0,
          1
         ]
        },
        "yaxis3": {
         "anchor": "x3",
         "domain": [
          0,
          1
         ]
        },
        "yaxis4": {
         "anchor": "x4",
         "domain": [
          0,
          1
         ]
        },
        "yaxis5": {
         "anchor": "x5",
         "domain": [
          0,
          1
         ]
        },
        "yaxis6": {
         "anchor": "x6",
         "domain": [
          0,
          1
         ]
        }
       }
      },
      "text/html": [
       "<div>                            <div id=\"b0b88dcb-cfd2-4aca-b085-f957301dac84\" class=\"plotly-graph-div\" style=\"height:600px; width:1000px;\"></div>            <script type=\"text/javascript\">                require([\"plotly\"], function(Plotly) {                    window.PLOTLYENV=window.PLOTLYENV || {};                                    if (document.getElementById(\"b0b88dcb-cfd2-4aca-b085-f957301dac84\")) {                    Plotly.newPlot(                        \"b0b88dcb-cfd2-4aca-b085-f957301dac84\",                        [{\"marker\":{\"color\":[\"rgb(31, 119, 180)\",\"rgb(31, 119, 180)\",\"rgb(31, 119, 180)\",\"rgb(31, 119, 180)\",\"rgb(31, 119, 180)\",\"rgb(31, 119, 180)\",\"rgb(31, 119, 180)\",\"rgb(31, 119, 180)\",\"rgb(31, 119, 180)\",\"rgb(31, 119, 180)\",\"rgb(255, 127, 14)\",\"rgb(255, 127, 14)\",\"rgb(255, 127, 14)\",\"rgb(255, 127, 14)\",\"rgb(255, 127, 14)\",\"rgb(255, 127, 14)\",\"rgb(255, 127, 14)\",\"rgb(255, 127, 14)\",\"rgb(255, 127, 14)\",\"rgb(255, 127, 14)\",\"rgb(44, 160, 44)\",\"rgb(44, 160, 44)\",\"rgb(44, 160, 44)\",\"rgb(44, 160, 44)\",\"rgb(44, 160, 44)\",\"rgb(44, 160, 44)\",\"rgb(44, 160, 44)\",\"rgb(44, 160, 44)\",\"rgb(44, 160, 44)\",\"rgb(44, 160, 44)\",\"rgb(214, 39, 40)\",\"rgb(214, 39, 40)\",\"rgb(214, 39, 40)\",\"rgb(214, 39, 40)\",\"rgb(214, 39, 40)\",\"rgb(214, 39, 40)\",\"rgb(214, 39, 40)\",\"rgb(214, 39, 40)\",\"rgb(214, 39, 40)\",\"rgb(214, 39, 40)\",\"rgb(148, 103, 189)\",\"rgb(148, 103, 189)\",\"rgb(148, 103, 189)\",\"rgb(148, 103, 189)\",\"rgb(148, 103, 189)\",\"rgb(148, 103, 189)\",\"rgb(148, 103, 189)\",\"rgb(148, 103, 189)\",\"rgb(148, 103, 189)\",\"rgb(148, 103, 189)\",\"rgb(140, 86, 75)\",\"rgb(140, 86, 75)\",\"rgb(140, 86, 75)\",\"rgb(140, 86, 75)\",\"rgb(140, 86, 75)\",\"rgb(140, 86, 75)\",\"rgb(140, 86, 75)\",\"rgb(140, 86, 75)\",\"rgb(140, 86, 75)\",\"rgb(140, 86, 75)\",\"rgb(227, 119, 194)\",\"rgb(227, 119, 194)\",\"rgb(227, 119, 194)\",\"rgb(227, 119, 194)\",\"rgb(227, 119, 194)\",\"rgb(227, 119, 194)\",\"rgb(227, 119, 194)\",\"rgb(227, 119, 194)\",\"rgb(227, 119, 194)\",\"rgb(227, 119, 194)\",\"rgb(127, 127, 127)\",\"rgb(127, 127, 127)\",\"rgb(127, 127, 127)\",\"rgb(127, 127, 127)\",\"rgb(127, 127, 127)\",\"rgb(127, 127, 127)\",\"rgb(127, 127, 127)\",\"rgb(127, 127, 127)\",\"rgb(127, 127, 127)\",\"rgb(127, 127, 127)\",\"rgb(188, 189, 34)\",\"rgb(188, 189, 34)\",\"rgb(188, 189, 34)\",\"rgb(188, 189, 34)\",\"rgb(188, 189, 34)\",\"rgb(188, 189, 34)\",\"rgb(188, 189, 34)\",\"rgb(188, 189, 34)\",\"rgb(188, 189, 34)\",\"rgb(188, 189, 34)\",\"rgb(23, 190, 207)\",\"rgb(23, 190, 207)\",\"rgb(23, 190, 207)\",\"rgb(23, 190, 207)\",\"rgb(23, 190, 207)\",\"rgb(23, 190, 207)\",\"rgb(23, 190, 207)\",\"rgb(23, 190, 207)\",\"rgb(23, 190, 207)\",\"rgb(23, 190, 207)\"]},\"mode\":\"markers\",\"x\":[8.2239990234375,21.40203285217285,20.29163932800293,19.174894332885742,15.923319816589355,15.63840389251709,13.592621803283691,15.137449264526367,14.959569931030273,19.319528579711914,6.720361709594727,8.901041984558105,8.569278717041016,5.753986835479736,8.06851863861084,5.994924545288086,4.455733299255371,2.059898614883423,8.355984687805176,3.7654836177825928,2.8499014377593994,1.0044493675231934,2.6092774868011475,4.9178314208984375,2.499891996383667,2.5864670276641846,3.5303683280944824,1.4184917211532593,4.349936485290527,3.322120189666748,3.8446574211120605,6.920483589172363,2.033273220062256,4.0292487144470215,5.890740394592285,8.556479454040527,9.944308280944824,5.374975204467773,2.8584346771240234,6.568916320800781,4.075314521789551,3.061243772506714,2.8007237911224365,4.098625659942627,8.516545295715332,5.603346824645996,7.189946174621582,4.8541107177734375,6.750905990600586,6.3700175285339355,3.109105348587036,6.84833288192749,6.616150379180908,1.2275888919830322,5.438455581665039,4.40696907043457,4.66152286529541,3.50287127494812,6.05267333984375,3.344557523727417,0.7116590738296509,2.8697612285614014,2.739755392074585,4.100917816162109,2.5055644512176514,5.564309120178223,6.27012300491333,-0.8079484701156616,0.7128714919090271,5.140561103820801,1.088326096534729,3.1521737575531006,3.2803103923797607,2.0208685398101807,1.277658224105835,6.036102771759033,2.5801010131835938,4.414281368255615,2.605539083480835,2.285264730453491,1.9448705911636353,3.129108190536499,3.1006317138671875,1.6591336727142334,2.2517926692962646,2.7734620571136475,2.6868433952331543,1.3305552005767822,4.167084217071533,3.488630771636963,5.490616798400879,5.329959869384766,8.059854507446289,8.098695755004883,5.0791826248168945,8.492524147033691,7.532724857330322,6.952101707458496,5.72081184387207,9.703978538513184],\"y\":[7.7669477462768555,21.123794555664062,20.46268081665039,19.802824020385742,16.642976760864258,15.279073715209961,14.852067947387695,15.106178283691406,15.063925743103027,18.4719295501709,1.399144172668457,-1.3196687698364258,0.4347863495349884,-0.08502735197544098,-0.24406076967716217,0.9749664664268494,-0.3885900676250458,-2.3418872356414795,4.16610050201416,-1.060168981552124,-3.683530569076538,-1.652563452720642,-1.7167922258377075,-2.0865113735198975,-3.518495798110962,-4.2277350425720215,-0.9999774098396301,-2.683871269226074,-1.5676394701004028,-1.0871332883834839,-0.9485496878623962,-1.0903065204620361,-3.364971876144409,-0.5803971886634827,-4.581081867218018,2.744643211364746,2.7683064937591553,-1.6796008348464966,-5.880188465118408,-3.466515302658081,-0.10886362195014954,-0.3730880916118622,0.08233802020549774,-0.2701509892940521,3.1845667362213135,2.632322072982788,3.251178026199341,0.3102785348892212,5.202922821044922,3.3280231952667236,-8.73912525177002,-1.8061776161193848,1.3701883554458618,-4.3498029708862305,-0.7726522088050842,-5.254192352294922,2.3572731018066406,-4.205260276794434,2.354207754135132,-3.175152063369751,-4.656261444091797,-2.736915349960327,-7.097317695617676,-1.4234719276428223,-4.571697235107422,-2.583674669265747,-2.3706672191619873,-3.7888965606689453,-4.538203716278076,1.2211363315582275,-7.3360748291015625,-4.138755798339844,-2.1005666255950928,-4.9120941162109375,-3.8726003170013428,3.9154646396636963,-1.8426200151443481,-1.7470978498458862,-5.481634140014648,-3.7489683628082275,-10.125178337097168,-3.761674165725708,-2.471155881881714,-5.807934761047363,-4.190173625946045,-2.662513494491577,-6.7639288902282715,-6.526571273803711,-5.054406642913818,-4.2106451988220215,2.4552595615386963,-1.202506184577942,1.763609766960144,2.321349620819092,-2.5356268882751465,0.539793074131012,1.0744456052780151,3.8401176929473877,2.698129177093506,-0.1549902707338333],\"type\":\"scatter\",\"xaxis\":\"x\",\"yaxis\":\"y\"},{\"marker\":{\"color\":[\"rgb(31, 119, 180)\",\"rgb(31, 119, 180)\",\"rgb(31, 119, 180)\",\"rgb(31, 119, 180)\",\"rgb(31, 119, 180)\",\"rgb(31, 119, 180)\",\"rgb(31, 119, 180)\",\"rgb(31, 119, 180)\",\"rgb(31, 119, 180)\",\"rgb(31, 119, 180)\",\"rgb(255, 127, 14)\",\"rgb(255, 127, 14)\",\"rgb(255, 127, 14)\",\"rgb(255, 127, 14)\",\"rgb(255, 127, 14)\",\"rgb(255, 127, 14)\",\"rgb(255, 127, 14)\",\"rgb(255, 127, 14)\",\"rgb(255, 127, 14)\",\"rgb(255, 127, 14)\",\"rgb(44, 160, 44)\",\"rgb(44, 160, 44)\",\"rgb(44, 160, 44)\",\"rgb(44, 160, 44)\",\"rgb(44, 160, 44)\",\"rgb(44, 160, 44)\",\"rgb(44, 160, 44)\",\"rgb(44, 160, 44)\",\"rgb(44, 160, 44)\",\"rgb(44, 160, 44)\",\"rgb(214, 39, 40)\",\"rgb(214, 39, 40)\",\"rgb(214, 39, 40)\",\"rgb(214, 39, 40)\",\"rgb(214, 39, 40)\",\"rgb(214, 39, 40)\",\"rgb(214, 39, 40)\",\"rgb(214, 39, 40)\",\"rgb(214, 39, 40)\",\"rgb(214, 39, 40)\",\"rgb(148, 103, 189)\",\"rgb(148, 103, 189)\",\"rgb(148, 103, 189)\",\"rgb(148, 103, 189)\",\"rgb(148, 103, 189)\",\"rgb(148, 103, 189)\",\"rgb(148, 103, 189)\",\"rgb(148, 103, 189)\",\"rgb(148, 103, 189)\",\"rgb(148, 103, 189)\",\"rgb(140, 86, 75)\",\"rgb(140, 86, 75)\",\"rgb(140, 86, 75)\",\"rgb(140, 86, 75)\",\"rgb(140, 86, 75)\",\"rgb(140, 86, 75)\",\"rgb(140, 86, 75)\",\"rgb(140, 86, 75)\",\"rgb(140, 86, 75)\",\"rgb(140, 86, 75)\",\"rgb(227, 119, 194)\",\"rgb(227, 119, 194)\",\"rgb(227, 119, 194)\",\"rgb(227, 119, 194)\",\"rgb(227, 119, 194)\",\"rgb(227, 119, 194)\",\"rgb(227, 119, 194)\",\"rgb(227, 119, 194)\",\"rgb(227, 119, 194)\",\"rgb(227, 119, 194)\",\"rgb(127, 127, 127)\",\"rgb(127, 127, 127)\",\"rgb(127, 127, 127)\",\"rgb(127, 127, 127)\",\"rgb(127, 127, 127)\",\"rgb(127, 127, 127)\",\"rgb(127, 127, 127)\",\"rgb(127, 127, 127)\",\"rgb(127, 127, 127)\",\"rgb(127, 127, 127)\",\"rgb(188, 189, 34)\",\"rgb(188, 189, 34)\",\"rgb(188, 189, 34)\",\"rgb(188, 189, 34)\",\"rgb(188, 189, 34)\",\"rgb(188, 189, 34)\",\"rgb(188, 189, 34)\",\"rgb(188, 189, 34)\",\"rgb(188, 189, 34)\",\"rgb(188, 189, 34)\",\"rgb(23, 190, 207)\",\"rgb(23, 190, 207)\",\"rgb(23, 190, 207)\",\"rgb(23, 190, 207)\",\"rgb(23, 190, 207)\",\"rgb(23, 190, 207)\",\"rgb(23, 190, 207)\",\"rgb(23, 190, 207)\",\"rgb(23, 190, 207)\",\"rgb(23, 190, 207)\"]},\"mode\":\"markers\",\"x\":[8.160490989685059,21.20578956604004,20.043092727661133,19.11471176147461,15.669562339782715,15.544970512390137,13.364612579345703,14.988738059997559,14.782564163208008,19.234819412231445,6.659612655639648,8.94492244720459,8.560275077819824,5.964277267456055,7.9401326179504395,6.150810241699219,4.372504234313965,2.23986554145813,8.415234565734863,3.847507953643799,2.828972578048706,1.1008206605911255,2.4216842651367188,5.019514083862305,2.4837758541107178,2.4571824073791504,3.4829180240631104,1.4583849906921387,4.215568542480469,3.2144980430603027,3.8260860443115234,6.867532730102539,2.086632013320923,4.0292487144470215,5.719906330108643,8.289905548095703,9.811326026916504,5.486897945404053,2.8206801414489746,6.530030250549316,4.133565425872803,3.061718225479126,3.0026681423187256,4.077126979827881,8.366706848144531,5.622776985168457,7.194920063018799,4.922757148742676,6.901625633239746,6.158885955810547,3.038728952407837,6.818947792053223,6.54591178894043,1.1551527976989746,5.22060489654541,4.309265613555908,4.72999382019043,3.4884450435638428,6.062405586242676,3.3087313175201416,0.708797812461853,2.787917375564575,2.6920197010040283,4.108582496643066,2.646679639816284,5.388828754425049,6.136499881744385,-0.7009289264678955,0.7823824286460876,5.2240729331970215,0.9905216693878174,3.188136339187622,3.5503759384155273,2.127418041229248,1.3736454248428345,6.124617576599121,2.5516860485076904,4.480792999267578,2.618718147277832,2.342461109161377,1.9097956418991089,3.047391176223755,3.0247347354888916,1.7075973749160767,2.2764663696289062,2.8907272815704346,2.5028605461120605,1.2648288011550903,4.095521926879883,3.5644333362579346,5.5474114418029785,5.460665225982666,8.16755199432373,8.212709426879883,5.1092987060546875,8.360015869140625,7.508476257324219,7.01383113861084,5.924429893493652,9.722882270812988],\"y\":[7.7669477462768555,21.123794555664062,20.46268081665039,19.802824020385742,16.642976760864258,15.279073715209961,14.852067947387695,15.106178283691406,15.063925743103027,18.4719295501709,1.399144172668457,-1.3196687698364258,0.4347863495349884,-0.08502735197544098,-0.24406076967716217,0.9749664664268494,-0.3885900676250458,-2.3418872356414795,4.16610050201416,-1.060168981552124,-3.683530569076538,-1.652563452720642,-1.7167922258377075,-2.0865113735198975,-3.518495798110962,-4.2277350425720215,-0.9999774098396301,-2.683871269226074,-1.5676394701004028,-1.0871332883834839,-0.9485496878623962,-1.0903065204620361,-3.364971876144409,-0.5803971886634827,-4.581081867218018,2.744643211364746,2.7683064937591553,-1.6796008348464966,-5.880188465118408,-3.466515302658081,-0.10886362195014954,-0.3730880916118622,0.08233802020549774,-0.2701509892940521,3.1845667362213135,2.632322072982788,3.251178026199341,0.3102785348892212,5.202922821044922,3.3280231952667236,-8.73912525177002,-1.8061776161193848,1.3701883554458618,-4.3498029708862305,-0.7726522088050842,-5.254192352294922,2.3572731018066406,-4.205260276794434,2.354207754135132,-3.175152063369751,-4.656261444091797,-2.736915349960327,-7.097317695617676,-1.4234719276428223,-4.571697235107422,-2.583674669265747,-2.3706672191619873,-3.7888965606689453,-4.538203716278076,1.2211363315582275,-7.3360748291015625,-4.138755798339844,-2.1005666255950928,-4.9120941162109375,-3.8726003170013428,3.9154646396636963,-1.8426200151443481,-1.7470978498458862,-5.481634140014648,-3.7489683628082275,-10.125178337097168,-3.761674165725708,-2.471155881881714,-5.807934761047363,-4.190173625946045,-2.662513494491577,-6.7639288902282715,-6.526571273803711,-5.054406642913818,-4.2106451988220215,2.4552595615386963,-1.202506184577942,1.763609766960144,2.321349620819092,-2.5356268882751465,0.539793074131012,1.0744456052780151,3.8401176929473877,2.698129177093506,-0.1549902707338333],\"type\":\"scatter\",\"xaxis\":\"x2\",\"yaxis\":\"y2\"},{\"marker\":{\"color\":[\"rgb(31, 119, 180)\",\"rgb(31, 119, 180)\",\"rgb(31, 119, 180)\",\"rgb(31, 119, 180)\",\"rgb(31, 119, 180)\",\"rgb(31, 119, 180)\",\"rgb(31, 119, 180)\",\"rgb(31, 119, 180)\",\"rgb(31, 119, 180)\",\"rgb(31, 119, 180)\",\"rgb(255, 127, 14)\",\"rgb(255, 127, 14)\",\"rgb(255, 127, 14)\",\"rgb(255, 127, 14)\",\"rgb(255, 127, 14)\",\"rgb(255, 127, 14)\",\"rgb(255, 127, 14)\",\"rgb(255, 127, 14)\",\"rgb(255, 127, 14)\",\"rgb(255, 127, 14)\",\"rgb(44, 160, 44)\",\"rgb(44, 160, 44)\",\"rgb(44, 160, 44)\",\"rgb(44, 160, 44)\",\"rgb(44, 160, 44)\",\"rgb(44, 160, 44)\",\"rgb(44, 160, 44)\",\"rgb(44, 160, 44)\",\"rgb(44, 160, 44)\",\"rgb(44, 160, 44)\",\"rgb(214, 39, 40)\",\"rgb(214, 39, 40)\",\"rgb(214, 39, 40)\",\"rgb(214, 39, 40)\",\"rgb(214, 39, 40)\",\"rgb(214, 39, 40)\",\"rgb(214, 39, 40)\",\"rgb(214, 39, 40)\",\"rgb(214, 39, 40)\",\"rgb(214, 39, 40)\",\"rgb(148, 103, 189)\",\"rgb(148, 103, 189)\",\"rgb(148, 103, 189)\",\"rgb(148, 103, 189)\",\"rgb(148, 103, 189)\",\"rgb(148, 103, 189)\",\"rgb(148, 103, 189)\",\"rgb(148, 103, 189)\",\"rgb(148, 103, 189)\",\"rgb(148, 103, 189)\",\"rgb(140, 86, 75)\",\"rgb(140, 86, 75)\",\"rgb(140, 86, 75)\",\"rgb(140, 86, 75)\",\"rgb(140, 86, 75)\",\"rgb(140, 86, 75)\",\"rgb(140, 86, 75)\",\"rgb(140, 86, 75)\",\"rgb(140, 86, 75)\",\"rgb(140, 86, 75)\",\"rgb(227, 119, 194)\",\"rgb(227, 119, 194)\",\"rgb(227, 119, 194)\",\"rgb(227, 119, 194)\",\"rgb(227, 119, 194)\",\"rgb(227, 119, 194)\",\"rgb(227, 119, 194)\",\"rgb(227, 119, 194)\",\"rgb(227, 119, 194)\",\"rgb(227, 119, 194)\",\"rgb(127, 127, 127)\",\"rgb(127, 127, 127)\",\"rgb(127, 127, 127)\",\"rgb(127, 127, 127)\",\"rgb(127, 127, 127)\",\"rgb(127, 127, 127)\",\"rgb(127, 127, 127)\",\"rgb(127, 127, 127)\",\"rgb(127, 127, 127)\",\"rgb(127, 127, 127)\",\"rgb(188, 189, 34)\",\"rgb(188, 189, 34)\",\"rgb(188, 189, 34)\",\"rgb(188, 189, 34)\",\"rgb(188, 189, 34)\",\"rgb(188, 189, 34)\",\"rgb(188, 189, 34)\",\"rgb(188, 189, 34)\",\"rgb(188, 189, 34)\",\"rgb(188, 189, 34)\",\"rgb(23, 190, 207)\",\"rgb(23, 190, 207)\",\"rgb(23, 190, 207)\",\"rgb(23, 190, 207)\",\"rgb(23, 190, 207)\",\"rgb(23, 190, 207)\",\"rgb(23, 190, 207)\",\"rgb(23, 190, 207)\",\"rgb(23, 190, 207)\",\"rgb(23, 190, 207)\"]},\"mode\":\"markers\",\"x\":[8.062719345092773,20.73076057434082,19.281940460205078,18.537429809570312,14.958680152893066,15.143494606018066,12.60873794555664,14.494909286499023,14.247147560119629,19.005292892456055,6.277713775634766,8.81265926361084,8.502959251403809,5.831009864807129,7.295201778411865,6.039547920227051,4.184186935424805,2.187264919281006,8.41720962524414,3.832683801651001,2.874826669692993,1.2919604778289795,1.997731328010559,4.9772233963012695,2.430962085723877,2.1919429302215576,3.196746587753296,1.1586627960205078,4.024123668670654,3.176635503768921,3.6655144691467285,6.675366401672363,1.8612505197525024,3.9464328289031982,4.949735164642334,7.728642463684082,9.496826171875,5.338275909423828,2.5962750911712646,6.097930908203125,3.9676249027252197,2.947681188583374,3.1316354274749756,3.91131329536438,7.881068229675293,5.391994476318359,7.032001495361328,4.794858932495117,7.000685691833496,5.916308403015137,2.852037191390991,6.721513748168945,6.456388473510742,0.8905565142631531,5.090292453765869,3.9208765029907227,4.716553211212158,3.5235650539398193,6.06289005279541,3.120636224746704,0.7135387659072876,2.4454376697540283,2.435926914215088,4.309357643127441,2.708754301071167,5.05419397354126,5.9713134765625,-0.7761365175247192,0.8365148901939392,5.280667304992676,0.892730176448822,3.0990970134735107,3.6131930351257324,1.7925214767456055,1.0961118936538696,6.033400535583496,2.1973557472229004,4.51097297668457,2.531416416168213,2.382246494293213,1.764255166053772,2.7821240425109863,3.20697021484375,1.87185800075531,1.9405301809310913,2.748185873031616,2.1979305744171143,1.019944190979004,3.422818183898926,3.2798705101013184,5.6863813400268555,5.576504707336426,7.838409900665283,8.252760887145996,5.318377494812012,8.138142585754395,7.690463066101074,7.014115333557129,6.037710666656494,9.7323637008667],\"y\":[7.7669477462768555,21.123794555664062,20.46268081665039,19.802824020385742,16.642976760864258,15.279073715209961,14.852067947387695,15.106178283691406,15.063925743103027,18.4719295501709,1.399144172668457,-1.3196687698364258,0.4347863495349884,-0.08502735197544098,-0.24406076967716217,0.9749664664268494,-0.3885900676250458,-2.3418872356414795,4.16610050201416,-1.060168981552124,-3.683530569076538,-1.652563452720642,-1.7167922258377075,-2.0865113735198975,-3.518495798110962,-4.2277350425720215,-0.9999774098396301,-2.683871269226074,-1.5676394701004028,-1.0871332883834839,-0.9485496878623962,-1.0903065204620361,-3.364971876144409,-0.5803971886634827,-4.581081867218018,2.744643211364746,2.7683064937591553,-1.6796008348464966,-5.880188465118408,-3.466515302658081,-0.10886362195014954,-0.3730880916118622,0.08233802020549774,-0.2701509892940521,3.1845667362213135,2.632322072982788,3.251178026199341,0.3102785348892212,5.202922821044922,3.3280231952667236,-8.73912525177002,-1.8061776161193848,1.3701883554458618,-4.3498029708862305,-0.7726522088050842,-5.254192352294922,2.3572731018066406,-4.205260276794434,2.354207754135132,-3.175152063369751,-4.656261444091797,-2.736915349960327,-7.097317695617676,-1.4234719276428223,-4.571697235107422,-2.583674669265747,-2.3706672191619873,-3.7888965606689453,-4.538203716278076,1.2211363315582275,-7.3360748291015625,-4.138755798339844,-2.1005666255950928,-4.9120941162109375,-3.8726003170013428,3.9154646396636963,-1.8426200151443481,-1.7470978498458862,-5.481634140014648,-3.7489683628082275,-10.125178337097168,-3.761674165725708,-2.471155881881714,-5.807934761047363,-4.190173625946045,-2.662513494491577,-6.7639288902282715,-6.526571273803711,-5.054406642913818,-4.2106451988220215,2.4552595615386963,-1.202506184577942,1.763609766960144,2.321349620819092,-2.5356268882751465,0.539793074131012,1.0744456052780151,3.8401176929473877,2.698129177093506,-0.1549902707338333],\"type\":\"scatter\",\"xaxis\":\"x3\",\"yaxis\":\"y3\"},{\"marker\":{\"color\":[\"rgb(31, 119, 180)\",\"rgb(31, 119, 180)\",\"rgb(31, 119, 180)\",\"rgb(31, 119, 180)\",\"rgb(31, 119, 180)\",\"rgb(31, 119, 180)\",\"rgb(31, 119, 180)\",\"rgb(31, 119, 180)\",\"rgb(31, 119, 180)\",\"rgb(31, 119, 180)\",\"rgb(255, 127, 14)\",\"rgb(255, 127, 14)\",\"rgb(255, 127, 14)\",\"rgb(255, 127, 14)\",\"rgb(255, 127, 14)\",\"rgb(255, 127, 14)\",\"rgb(255, 127, 14)\",\"rgb(255, 127, 14)\",\"rgb(255, 127, 14)\",\"rgb(255, 127, 14)\",\"rgb(44, 160, 44)\",\"rgb(44, 160, 44)\",\"rgb(44, 160, 44)\",\"rgb(44, 160, 44)\",\"rgb(44, 160, 44)\",\"rgb(44, 160, 44)\",\"rgb(44, 160, 44)\",\"rgb(44, 160, 44)\",\"rgb(44, 160, 44)\",\"rgb(44, 160, 44)\",\"rgb(214, 39, 40)\",\"rgb(214, 39, 40)\",\"rgb(214, 39, 40)\",\"rgb(214, 39, 40)\",\"rgb(214, 39, 40)\",\"rgb(214, 39, 40)\",\"rgb(214, 39, 40)\",\"rgb(214, 39, 40)\",\"rgb(214, 39, 40)\",\"rgb(214, 39, 40)\",\"rgb(148, 103, 189)\",\"rgb(148, 103, 189)\",\"rgb(148, 103, 189)\",\"rgb(148, 103, 189)\",\"rgb(148, 103, 189)\",\"rgb(148, 103, 189)\",\"rgb(148, 103, 189)\",\"rgb(148, 103, 189)\",\"rgb(148, 103, 189)\",\"rgb(148, 103, 189)\",\"rgb(140, 86, 75)\",\"rgb(140, 86, 75)\",\"rgb(140, 86, 75)\",\"rgb(140, 86, 75)\",\"rgb(140, 86, 75)\",\"rgb(140, 86, 75)\",\"rgb(140, 86, 75)\",\"rgb(140, 86, 75)\",\"rgb(140, 86, 75)\",\"rgb(140, 86, 75)\",\"rgb(227, 119, 194)\",\"rgb(227, 119, 194)\",\"rgb(227, 119, 194)\",\"rgb(227, 119, 194)\",\"rgb(227, 119, 194)\",\"rgb(227, 119, 194)\",\"rgb(227, 119, 194)\",\"rgb(227, 119, 194)\",\"rgb(227, 119, 194)\",\"rgb(227, 119, 194)\",\"rgb(127, 127, 127)\",\"rgb(127, 127, 127)\",\"rgb(127, 127, 127)\",\"rgb(127, 127, 127)\",\"rgb(127, 127, 127)\",\"rgb(127, 127, 127)\",\"rgb(127, 127, 127)\",\"rgb(127, 127, 127)\",\"rgb(127, 127, 127)\",\"rgb(127, 127, 127)\",\"rgb(188, 189, 34)\",\"rgb(188, 189, 34)\",\"rgb(188, 189, 34)\",\"rgb(188, 189, 34)\",\"rgb(188, 189, 34)\",\"rgb(188, 189, 34)\",\"rgb(188, 189, 34)\",\"rgb(188, 189, 34)\",\"rgb(188, 189, 34)\",\"rgb(188, 189, 34)\",\"rgb(23, 190, 207)\",\"rgb(23, 190, 207)\",\"rgb(23, 190, 207)\",\"rgb(23, 190, 207)\",\"rgb(23, 190, 207)\",\"rgb(23, 190, 207)\",\"rgb(23, 190, 207)\",\"rgb(23, 190, 207)\",\"rgb(23, 190, 207)\",\"rgb(23, 190, 207)\"]},\"mode\":\"markers\",\"x\":[8.309468269348145,19.998254776000977,18.354066848754883,17.744550704956055,14.19599437713623,14.513545036315918,11.375401496887207,13.367471694946289,13.904943466186523,18.202762603759766,5.593222618103027,8.826764106750488,8.420985221862793,5.597471714019775,6.2297868728637695,6.28183650970459,3.861103057861328,2.3124024868011475,8.28024959564209,3.638498306274414,3.4383533000946045,1.15717613697052,2.424260139465332,4.877917289733887,2.612924814224243,2.0776162147521973,3.197371482849121,1.2368468046188354,3.686728000640869,2.824338674545288,3.6442201137542725,6.760159969329834,1.5305923223495483,4.554418563842773,4.555994987487793,7.544981002807617,8.92855167388916,5.289424896240234,3.0923397541046143,5.955101490020752,4.14528226852417,3.8070528507232666,3.713169813156128,3.898937702178955,7.814152240753174,5.193263530731201,7.154760360717773,5.041039943695068,6.975095748901367,5.678286552429199,2.846787929534912,6.595787525177002,6.394479751586914,0.8586125373840332,4.54701566696167,3.461120367050171,4.550588607788086,2.981616258621216,6.1115570068359375,2.951070547103882,0.9548484683036804,1.9888982772827148,1.9782379865646362,4.41483211517334,3.2207767963409424,4.487027645111084,5.333218097686768,-0.6113813519477844,1.1466602087020874,5.623898983001709,1.6596776247024536,3.141202688217163,3.8111398220062256,1.6711088418960571,1.0664645433425903,6.327807903289795,1.9685519933700562,4.474735260009766,3.0128283500671387,2.787709951400757,1.6298933029174805,2.5419833660125732,2.888204574584961,2.098956346511841,1.7294470071792603,2.9375524520874023,1.9006805419921875,1.354141116142273,3.4398491382598877,3.295427083969116,6.443254470825195,6.071438789367676,7.6282453536987305,8.389981269836426,5.310032367706299,8.08366584777832,8.183548927307129,7.140377998352051,5.862856864929199,9.89665699005127],\"y\":[7.7669477462768555,21.123794555664062,20.46268081665039,19.802824020385742,16.642976760864258,15.279073715209961,14.852067947387695,15.106178283691406,15.063925743103027,18.4719295501709,1.399144172668457,-1.3196687698364258,0.4347863495349884,-0.08502735197544098,-0.24406076967716217,0.9749664664268494,-0.3885900676250458,-2.3418872356414795,4.16610050201416,-1.060168981552124,-3.683530569076538,-1.652563452720642,-1.7167922258377075,-2.0865113735198975,-3.518495798110962,-4.2277350425720215,-0.9999774098396301,-2.683871269226074,-1.5676394701004028,-1.0871332883834839,-0.9485496878623962,-1.0903065204620361,-3.364971876144409,-0.5803971886634827,-4.581081867218018,2.744643211364746,2.7683064937591553,-1.6796008348464966,-5.880188465118408,-3.466515302658081,-0.10886362195014954,-0.3730880916118622,0.08233802020549774,-0.2701509892940521,3.1845667362213135,2.632322072982788,3.251178026199341,0.3102785348892212,5.202922821044922,3.3280231952667236,-8.73912525177002,-1.8061776161193848,1.3701883554458618,-4.3498029708862305,-0.7726522088050842,-5.254192352294922,2.3572731018066406,-4.205260276794434,2.354207754135132,-3.175152063369751,-4.656261444091797,-2.736915349960327,-7.097317695617676,-1.4234719276428223,-4.571697235107422,-2.583674669265747,-2.3706672191619873,-3.7888965606689453,-4.538203716278076,1.2211363315582275,-7.3360748291015625,-4.138755798339844,-2.1005666255950928,-4.9120941162109375,-3.8726003170013428,3.9154646396636963,-1.8426200151443481,-1.7470978498458862,-5.481634140014648,-3.7489683628082275,-10.125178337097168,-3.761674165725708,-2.471155881881714,-5.807934761047363,-4.190173625946045,-2.662513494491577,-6.7639288902282715,-6.526571273803711,-5.054406642913818,-4.2106451988220215,2.4552595615386963,-1.202506184577942,1.763609766960144,2.321349620819092,-2.5356268882751465,0.539793074131012,1.0744456052780151,3.8401176929473877,2.698129177093506,-0.1549902707338333],\"type\":\"scatter\",\"xaxis\":\"x4\",\"yaxis\":\"y4\"},{\"marker\":{\"color\":[\"rgb(31, 119, 180)\",\"rgb(31, 119, 180)\",\"rgb(31, 119, 180)\",\"rgb(31, 119, 180)\",\"rgb(31, 119, 180)\",\"rgb(31, 119, 180)\",\"rgb(31, 119, 180)\",\"rgb(31, 119, 180)\",\"rgb(31, 119, 180)\",\"rgb(31, 119, 180)\",\"rgb(255, 127, 14)\",\"rgb(255, 127, 14)\",\"rgb(255, 127, 14)\",\"rgb(255, 127, 14)\",\"rgb(255, 127, 14)\",\"rgb(255, 127, 14)\",\"rgb(255, 127, 14)\",\"rgb(255, 127, 14)\",\"rgb(255, 127, 14)\",\"rgb(255, 127, 14)\",\"rgb(44, 160, 44)\",\"rgb(44, 160, 44)\",\"rgb(44, 160, 44)\",\"rgb(44, 160, 44)\",\"rgb(44, 160, 44)\",\"rgb(44, 160, 44)\",\"rgb(44, 160, 44)\",\"rgb(44, 160, 44)\",\"rgb(44, 160, 44)\",\"rgb(44, 160, 44)\",\"rgb(214, 39, 40)\",\"rgb(214, 39, 40)\",\"rgb(214, 39, 40)\",\"rgb(214, 39, 40)\",\"rgb(214, 39, 40)\",\"rgb(214, 39, 40)\",\"rgb(214, 39, 40)\",\"rgb(214, 39, 40)\",\"rgb(214, 39, 40)\",\"rgb(214, 39, 40)\",\"rgb(148, 103, 189)\",\"rgb(148, 103, 189)\",\"rgb(148, 103, 189)\",\"rgb(148, 103, 189)\",\"rgb(148, 103, 189)\",\"rgb(148, 103, 189)\",\"rgb(148, 103, 189)\",\"rgb(148, 103, 189)\",\"rgb(148, 103, 189)\",\"rgb(148, 103, 189)\",\"rgb(140, 86, 75)\",\"rgb(140, 86, 75)\",\"rgb(140, 86, 75)\",\"rgb(140, 86, 75)\",\"rgb(140, 86, 75)\",\"rgb(140, 86, 75)\",\"rgb(140, 86, 75)\",\"rgb(140, 86, 75)\",\"rgb(140, 86, 75)\",\"rgb(140, 86, 75)\",\"rgb(227, 119, 194)\",\"rgb(227, 119, 194)\",\"rgb(227, 119, 194)\",\"rgb(227, 119, 194)\",\"rgb(227, 119, 194)\",\"rgb(227, 119, 194)\",\"rgb(227, 119, 194)\",\"rgb(227, 119, 194)\",\"rgb(227, 119, 194)\",\"rgb(227, 119, 194)\",\"rgb(127, 127, 127)\",\"rgb(127, 127, 127)\",\"rgb(127, 127, 127)\",\"rgb(127, 127, 127)\",\"rgb(127, 127, 127)\",\"rgb(127, 127, 127)\",\"rgb(127, 127, 127)\",\"rgb(127, 127, 127)\",\"rgb(127, 127, 127)\",\"rgb(127, 127, 127)\",\"rgb(188, 189, 34)\",\"rgb(188, 189, 34)\",\"rgb(188, 189, 34)\",\"rgb(188, 189, 34)\",\"rgb(188, 189, 34)\",\"rgb(188, 189, 34)\",\"rgb(188, 189, 34)\",\"rgb(188, 189, 34)\",\"rgb(188, 189, 34)\",\"rgb(188, 189, 34)\",\"rgb(23, 190, 207)\",\"rgb(23, 190, 207)\",\"rgb(23, 190, 207)\",\"rgb(23, 190, 207)\",\"rgb(23, 190, 207)\",\"rgb(23, 190, 207)\",\"rgb(23, 190, 207)\",\"rgb(23, 190, 207)\",\"rgb(23, 190, 207)\",\"rgb(23, 190, 207)\"]},\"mode\":\"markers\",\"x\":[9.719743728637695,20.358278274536133,17.826129913330078,17.510648727416992,15.175130844116211,16.076711654663086,12.072619438171387,15.854308128356934,13.779054641723633,18.83069610595703,5.950272560119629,9.455632209777832,9.3873929977417,5.780753135681152,5.183276653289795,8.35655403137207,5.665733337402344,3.8817245960235596,9.57104206085205,4.809218406677246,3.9885199069976807,2.3984363079071045,3.6772754192352295,6.3564629554748535,3.8961799144744873,2.8437302112579346,4.560787677764893,3.591973066329956,3.7117655277252197,3.663607358932495,4.963338375091553,7.576770782470703,1.731299638748169,6.150846481323242,5.416989326477051,8.359200477600098,9.473654747009277,5.799561500549316,3.8340909481048584,6.642365455627441,5.34735631942749,5.680639743804932,5.042353630065918,4.642311096191406,8.240812301635742,5.546557903289795,7.376209735870361,5.212127685546875,7.340270042419434,6.341604232788086,3.5218937397003174,7.532959461212158,6.657792091369629,1.6934212446212769,4.128415107727051,3.487112283706665,5.591121673583984,2.582371950149536,6.515519142150879,3.4640209674835205,1.73531174659729,2.8120031356811523,2.3142147064208984,5.748474597930908,4.326328754425049,5.081394672393799,4.487100601196289,0.5764804482460022,3.9172918796539307,7.660305023193359,3.109358549118042,3.5911521911621094,6.142489433288574,3.3075358867645264,2.3083226680755615,7.536161422729492,3.0174520015716553,5.489201545715332,4.872482776641846,4.853404998779297,2.1793768405914307,2.6795594692230225,3.016176462173462,3.3340847492218018,1.7664607763290405,4.130480766296387,2.929964780807495,2.9307994842529297,3.6531715393066406,4.076253890991211,8.387454986572266,7.554299831390381,8.01257610321045,9.794824600219727,6.997226715087891,8.262248992919922,9.414605140686035,8.39110279083252,7.244832515716553,11.315032005310059],\"y\":[7.7669477462768555,21.123794555664062,20.46268081665039,19.802824020385742,16.642976760864258,15.279073715209961,14.852067947387695,15.106178283691406,15.063925743103027,18.4719295501709,1.399144172668457,-1.3196687698364258,0.4347863495349884,-0.08502735197544098,-0.24406076967716217,0.9749664664268494,-0.3885900676250458,-2.3418872356414795,4.16610050201416,-1.060168981552124,-3.683530569076538,-1.652563452720642,-1.7167922258377075,-2.0865113735198975,-3.518495798110962,-4.2277350425720215,-0.9999774098396301,-2.683871269226074,-1.5676394701004028,-1.0871332883834839,-0.9485496878623962,-1.0903065204620361,-3.364971876144409,-0.5803971886634827,-4.581081867218018,2.744643211364746,2.7683064937591553,-1.6796008348464966,-5.880188465118408,-3.466515302658081,-0.10886362195014954,-0.3730880916118622,0.08233802020549774,-0.2701509892940521,3.1845667362213135,2.632322072982788,3.251178026199341,0.3102785348892212,5.202922821044922,3.3280231952667236,-8.73912525177002,-1.8061776161193848,1.3701883554458618,-4.3498029708862305,-0.7726522088050842,-5.254192352294922,2.3572731018066406,-4.205260276794434,2.354207754135132,-3.175152063369751,-4.656261444091797,-2.736915349960327,-7.097317695617676,-1.4234719276428223,-4.571697235107422,-2.583674669265747,-2.3706672191619873,-3.7888965606689453,-4.538203716278076,1.2211363315582275,-7.3360748291015625,-4.138755798339844,-2.1005666255950928,-4.9120941162109375,-3.8726003170013428,3.9154646396636963,-1.8426200151443481,-1.7470978498458862,-5.481634140014648,-3.7489683628082275,-10.125178337097168,-3.761674165725708,-2.471155881881714,-5.807934761047363,-4.190173625946045,-2.662513494491577,-6.7639288902282715,-6.526571273803711,-5.054406642913818,-4.2106451988220215,2.4552595615386963,-1.202506184577942,1.763609766960144,2.321349620819092,-2.5356268882751465,0.539793074131012,1.0744456052780151,3.8401176929473877,2.698129177093506,-0.1549902707338333],\"type\":\"scatter\",\"xaxis\":\"x5\",\"yaxis\":\"y5\"},{\"marker\":{\"color\":[\"rgb(31, 119, 180)\",\"rgb(31, 119, 180)\",\"rgb(31, 119, 180)\",\"rgb(31, 119, 180)\",\"rgb(31, 119, 180)\",\"rgb(31, 119, 180)\",\"rgb(31, 119, 180)\",\"rgb(31, 119, 180)\",\"rgb(31, 119, 180)\",\"rgb(31, 119, 180)\",\"rgb(255, 127, 14)\",\"rgb(255, 127, 14)\",\"rgb(255, 127, 14)\",\"rgb(255, 127, 14)\",\"rgb(255, 127, 14)\",\"rgb(255, 127, 14)\",\"rgb(255, 127, 14)\",\"rgb(255, 127, 14)\",\"rgb(255, 127, 14)\",\"rgb(255, 127, 14)\",\"rgb(44, 160, 44)\",\"rgb(44, 160, 44)\",\"rgb(44, 160, 44)\",\"rgb(44, 160, 44)\",\"rgb(44, 160, 44)\",\"rgb(44, 160, 44)\",\"rgb(44, 160, 44)\",\"rgb(44, 160, 44)\",\"rgb(44, 160, 44)\",\"rgb(44, 160, 44)\",\"rgb(214, 39, 40)\",\"rgb(214, 39, 40)\",\"rgb(214, 39, 40)\",\"rgb(214, 39, 40)\",\"rgb(214, 39, 40)\",\"rgb(214, 39, 40)\",\"rgb(214, 39, 40)\",\"rgb(214, 39, 40)\",\"rgb(214, 39, 40)\",\"rgb(214, 39, 40)\",\"rgb(148, 103, 189)\",\"rgb(148, 103, 189)\",\"rgb(148, 103, 189)\",\"rgb(148, 103, 189)\",\"rgb(148, 103, 189)\",\"rgb(148, 103, 189)\",\"rgb(148, 103, 189)\",\"rgb(148, 103, 189)\",\"rgb(148, 103, 189)\",\"rgb(148, 103, 189)\",\"rgb(140, 86, 75)\",\"rgb(140, 86, 75)\",\"rgb(140, 86, 75)\",\"rgb(140, 86, 75)\",\"rgb(140, 86, 75)\",\"rgb(140, 86, 75)\",\"rgb(140, 86, 75)\",\"rgb(140, 86, 75)\",\"rgb(140, 86, 75)\",\"rgb(140, 86, 75)\",\"rgb(227, 119, 194)\",\"rgb(227, 119, 194)\",\"rgb(227, 119, 194)\",\"rgb(227, 119, 194)\",\"rgb(227, 119, 194)\",\"rgb(227, 119, 194)\",\"rgb(227, 119, 194)\",\"rgb(227, 119, 194)\",\"rgb(227, 119, 194)\",\"rgb(227, 119, 194)\",\"rgb(127, 127, 127)\",\"rgb(127, 127, 127)\",\"rgb(127, 127, 127)\",\"rgb(127, 127, 127)\",\"rgb(127, 127, 127)\",\"rgb(127, 127, 127)\",\"rgb(127, 127, 127)\",\"rgb(127, 127, 127)\",\"rgb(127, 127, 127)\",\"rgb(127, 127, 127)\",\"rgb(188, 189, 34)\",\"rgb(188, 189, 34)\",\"rgb(188, 189, 34)\",\"rgb(188, 189, 34)\",\"rgb(188, 189, 34)\",\"rgb(188, 189, 34)\",\"rgb(188, 189, 34)\",\"rgb(188, 189, 34)\",\"rgb(188, 189, 34)\",\"rgb(188, 189, 34)\",\"rgb(23, 190, 207)\",\"rgb(23, 190, 207)\",\"rgb(23, 190, 207)\",\"rgb(23, 190, 207)\",\"rgb(23, 190, 207)\",\"rgb(23, 190, 207)\",\"rgb(23, 190, 207)\",\"rgb(23, 190, 207)\",\"rgb(23, 190, 207)\",\"rgb(23, 190, 207)\"]},\"mode\":\"markers\",\"x\":[3.2922182083129883,5.00575065612793,6.970040321350098,6.141456604003906,4.972504615783691,5.092010021209717,7.886836528778076,5.969895362854004,6.404609680175781,5.55031681060791,2.958395481109619,2.5599446296691895,2.947204351425171,2.9021215438842773,3.7869107723236084,2.4244704246520996,1.945881724357605,2.1390316486358643,2.793797016143799,2.1996777057647705,3.2816858291625977,3.5529680252075195,2.6138455867767334,1.7350331544876099,2.9193522930145264,2.4770419597625732,2.0386040210723877,3.6405820846557617,1.8943482637405396,2.1572930812835693,1.3702515363693237,1.5146914720535278,2.5480234622955322,2.2792952060699463,2.15158748626709,1.992004632949829,2.1828691959381104,1.5391616821289062,1.7703698873519897,1.9060115814208984,3.180556058883667,2.8364224433898926,2.4558746814727783,1.6890910863876343,2.8526268005371094,3.1268651485443115,2.8150923252105713,2.202413320541382,3.753756046295166,2.097790002822876,1.6164405345916748,2.2241017818450928,2.0129282474517822,2.150003671646118,1.5791250467300415,1.2130939960479736,2.2321789264678955,2.208019971847534,2.5767431259155273,2.386350393295288,3.8055317401885986,2.3567607402801514,1.4668024778366089,2.6391985416412354,1.9707931280136108,1.6879252195358276,1.4140352010726929,4.06494665145874,2.9567601680755615,3.5585906505584717,2.7754340171813965,2.662409543991089,3.1249334812164307,2.599532127380371,3.1340246200561523,4.154909133911133,2.5057790279388428,2.238929510116577,2.72686767578125,2.5986669063568115,2.9310524463653564,1.346676230430603,2.471287250518799,2.910799503326416,2.376842498779297,2.7416343688964844,2.149592399597168,2.200129508972168,2.664379119873047,2.0793604850769043,3.4130592346191406,2.7530531883239746,1.9132080078125,1.992499828338623,2.261209726333618,1.9456926584243774,2.2975170612335205,2.667952060699463,3.1045029163360596,2.6986100673675537],\"y\":[7.7669477462768555,21.123794555664062,20.46268081665039,19.802824020385742,16.642976760864258,15.279073715209961,14.852067947387695,15.106178283691406,15.063925743103027,18.4719295501709,1.399144172668457,-1.3196687698364258,0.4347863495349884,-0.08502735197544098,-0.24406076967716217,0.9749664664268494,-0.3885900676250458,-2.3418872356414795,4.16610050201416,-1.060168981552124,-3.683530569076538,-1.652563452720642,-1.7167922258377075,-2.0865113735198975,-3.518495798110962,-4.2277350425720215,-0.9999774098396301,-2.683871269226074,-1.5676394701004028,-1.0871332883834839,-0.9485496878623962,-1.0903065204620361,-3.364971876144409,-0.5803971886634827,-4.581081867218018,2.744643211364746,2.7683064937591553,-1.6796008348464966,-5.880188465118408,-3.466515302658081,-0.10886362195014954,-0.3730880916118622,0.08233802020549774,-0.2701509892940521,3.1845667362213135,2.632322072982788,3.251178026199341,0.3102785348892212,5.202922821044922,3.3280231952667236,-8.73912525177002,-1.8061776161193848,1.3701883554458618,-4.3498029708862305,-0.7726522088050842,-5.254192352294922,2.3572731018066406,-4.205260276794434,2.354207754135132,-3.175152063369751,-4.656261444091797,-2.736915349960327,-7.097317695617676,-1.4234719276428223,-4.571697235107422,-2.583674669265747,-2.3706672191619873,-3.7888965606689453,-4.538203716278076,1.2211363315582275,-7.3360748291015625,-4.138755798339844,-2.1005666255950928,-4.9120941162109375,-3.8726003170013428,3.9154646396636963,-1.8426200151443481,-1.7470978498458862,-5.481634140014648,-3.7489683628082275,-10.125178337097168,-3.761674165725708,-2.471155881881714,-5.807934761047363,-4.190173625946045,-2.662513494491577,-6.7639288902282715,-6.526571273803711,-5.054406642913818,-4.2106451988220215,2.4552595615386963,-1.202506184577942,1.763609766960144,2.321349620819092,-2.5356268882751465,0.539793074131012,1.0744456052780151,3.8401176929473877,2.698129177093506,-0.1549902707338333],\"type\":\"scatter\",\"xaxis\":\"x6\",\"yaxis\":\"y6\"}],                        {\"template\":{\"data\":{\"histogram2dcontour\":[{\"type\":\"histogram2dcontour\",\"colorbar\":{\"outlinewidth\":0,\"ticks\":\"\"},\"colorscale\":[[0.0,\"#0d0887\"],[0.1111111111111111,\"#46039f\"],[0.2222222222222222,\"#7201a8\"],[0.3333333333333333,\"#9c179e\"],[0.4444444444444444,\"#bd3786\"],[0.5555555555555556,\"#d8576b\"],[0.6666666666666666,\"#ed7953\"],[0.7777777777777778,\"#fb9f3a\"],[0.8888888888888888,\"#fdca26\"],[1.0,\"#f0f921\"]]}],\"choropleth\":[{\"type\":\"choropleth\",\"colorbar\":{\"outlinewidth\":0,\"ticks\":\"\"}}],\"histogram2d\":[{\"type\":\"histogram2d\",\"colorbar\":{\"outlinewidth\":0,\"ticks\":\"\"},\"colorscale\":[[0.0,\"#0d0887\"],[0.1111111111111111,\"#46039f\"],[0.2222222222222222,\"#7201a8\"],[0.3333333333333333,\"#9c179e\"],[0.4444444444444444,\"#bd3786\"],[0.5555555555555556,\"#d8576b\"],[0.6666666666666666,\"#ed7953\"],[0.7777777777777778,\"#fb9f3a\"],[0.8888888888888888,\"#fdca26\"],[1.0,\"#f0f921\"]]}],\"heatmap\":[{\"type\":\"heatmap\",\"colorbar\":{\"outlinewidth\":0,\"ticks\":\"\"},\"colorscale\":[[0.0,\"#0d0887\"],[0.1111111111111111,\"#46039f\"],[0.2222222222222222,\"#7201a8\"],[0.3333333333333333,\"#9c179e\"],[0.4444444444444444,\"#bd3786\"],[0.5555555555555556,\"#d8576b\"],[0.6666666666666666,\"#ed7953\"],[0.7777777777777778,\"#fb9f3a\"],[0.8888888888888888,\"#fdca26\"],[1.0,\"#f0f921\"]]}],\"heatmapgl\":[{\"type\":\"heatmapgl\",\"colorbar\":{\"outlinewidth\":0,\"ticks\":\"\"},\"colorscale\":[[0.0,\"#0d0887\"],[0.1111111111111111,\"#46039f\"],[0.2222222222222222,\"#7201a8\"],[0.3333333333333333,\"#9c179e\"],[0.4444444444444444,\"#bd3786\"],[0.5555555555555556,\"#d8576b\"],[0.6666666666666666,\"#ed7953\"],[0.7777777777777778,\"#fb9f3a\"],[0.8888888888888888,\"#fdca26\"],[1.0,\"#f0f921\"]]}],\"contourcarpet\":[{\"type\":\"contourcarpet\",\"colorbar\":{\"outlinewidth\":0,\"ticks\":\"\"}}],\"contour\":[{\"type\":\"contour\",\"colorbar\":{\"outlinewidth\":0,\"ticks\":\"\"},\"colorscale\":[[0.0,\"#0d0887\"],[0.1111111111111111,\"#46039f\"],[0.2222222222222222,\"#7201a8\"],[0.3333333333333333,\"#9c179e\"],[0.4444444444444444,\"#bd3786\"],[0.5555555555555556,\"#d8576b\"],[0.6666666666666666,\"#ed7953\"],[0.7777777777777778,\"#fb9f3a\"],[0.8888888888888888,\"#fdca26\"],[1.0,\"#f0f921\"]]}],\"surface\":[{\"type\":\"surface\",\"colorbar\":{\"outlinewidth\":0,\"ticks\":\"\"},\"colorscale\":[[0.0,\"#0d0887\"],[0.1111111111111111,\"#46039f\"],[0.2222222222222222,\"#7201a8\"],[0.3333333333333333,\"#9c179e\"],[0.4444444444444444,\"#bd3786\"],[0.5555555555555556,\"#d8576b\"],[0.6666666666666666,\"#ed7953\"],[0.7777777777777778,\"#fb9f3a\"],[0.8888888888888888,\"#fdca26\"],[1.0,\"#f0f921\"]]}],\"mesh3d\":[{\"type\":\"mesh3d\",\"colorbar\":{\"outlinewidth\":0,\"ticks\":\"\"}}],\"scatter\":[{\"fillpattern\":{\"fillmode\":\"overlay\",\"size\":10,\"solidity\":0.2},\"type\":\"scatter\"}],\"parcoords\":[{\"type\":\"parcoords\",\"line\":{\"colorbar\":{\"outlinewidth\":0,\"ticks\":\"\"}}}],\"scatterpolargl\":[{\"type\":\"scatterpolargl\",\"marker\":{\"colorbar\":{\"outlinewidth\":0,\"ticks\":\"\"}}}],\"bar\":[{\"error_x\":{\"color\":\"#2a3f5f\"},\"error_y\":{\"color\":\"#2a3f5f\"},\"marker\":{\"line\":{\"color\":\"#E5ECF6\",\"width\":0.5},\"pattern\":{\"fillmode\":\"overlay\",\"size\":10,\"solidity\":0.2}},\"type\":\"bar\"}],\"scattergeo\":[{\"type\":\"scattergeo\",\"marker\":{\"colorbar\":{\"outlinewidth\":0,\"ticks\":\"\"}}}],\"scatterpolar\":[{\"type\":\"scatterpolar\",\"marker\":{\"colorbar\":{\"outlinewidth\":0,\"ticks\":\"\"}}}],\"histogram\":[{\"marker\":{\"pattern\":{\"fillmode\":\"overlay\",\"size\":10,\"solidity\":0.2}},\"type\":\"histogram\"}],\"scattergl\":[{\"type\":\"scattergl\",\"marker\":{\"colorbar\":{\"outlinewidth\":0,\"ticks\":\"\"}}}],\"scatter3d\":[{\"type\":\"scatter3d\",\"line\":{\"colorbar\":{\"outlinewidth\":0,\"ticks\":\"\"}},\"marker\":{\"colorbar\":{\"outlinewidth\":0,\"ticks\":\"\"}}}],\"scattermapbox\":[{\"type\":\"scattermapbox\",\"marker\":{\"colorbar\":{\"outlinewidth\":0,\"ticks\":\"\"}}}],\"scatterternary\":[{\"type\":\"scatterternary\",\"marker\":{\"colorbar\":{\"outlinewidth\":0,\"ticks\":\"\"}}}],\"scattercarpet\":[{\"type\":\"scattercarpet\",\"marker\":{\"colorbar\":{\"outlinewidth\":0,\"ticks\":\"\"}}}],\"carpet\":[{\"aaxis\":{\"endlinecolor\":\"#2a3f5f\",\"gridcolor\":\"white\",\"linecolor\":\"white\",\"minorgridcolor\":\"white\",\"startlinecolor\":\"#2a3f5f\"},\"baxis\":{\"endlinecolor\":\"#2a3f5f\",\"gridcolor\":\"white\",\"linecolor\":\"white\",\"minorgridcolor\":\"white\",\"startlinecolor\":\"#2a3f5f\"},\"type\":\"carpet\"}],\"table\":[{\"cells\":{\"fill\":{\"color\":\"#EBF0F8\"},\"line\":{\"color\":\"white\"}},\"header\":{\"fill\":{\"color\":\"#C8D4E3\"},\"line\":{\"color\":\"white\"}},\"type\":\"table\"}],\"barpolar\":[{\"marker\":{\"line\":{\"color\":\"#E5ECF6\",\"width\":0.5},\"pattern\":{\"fillmode\":\"overlay\",\"size\":10,\"solidity\":0.2}},\"type\":\"barpolar\"}],\"pie\":[{\"automargin\":true,\"type\":\"pie\"}]},\"layout\":{\"autotypenumbers\":\"strict\",\"colorway\":[\"#636efa\",\"#EF553B\",\"#00cc96\",\"#ab63fa\",\"#FFA15A\",\"#19d3f3\",\"#FF6692\",\"#B6E880\",\"#FF97FF\",\"#FECB52\"],\"font\":{\"color\":\"#2a3f5f\"},\"hovermode\":\"closest\",\"hoverlabel\":{\"align\":\"left\"},\"paper_bgcolor\":\"white\",\"plot_bgcolor\":\"#E5ECF6\",\"polar\":{\"bgcolor\":\"#E5ECF6\",\"angularaxis\":{\"gridcolor\":\"white\",\"linecolor\":\"white\",\"ticks\":\"\"},\"radialaxis\":{\"gridcolor\":\"white\",\"linecolor\":\"white\",\"ticks\":\"\"}},\"ternary\":{\"bgcolor\":\"#E5ECF6\",\"aaxis\":{\"gridcolor\":\"white\",\"linecolor\":\"white\",\"ticks\":\"\"},\"baxis\":{\"gridcolor\":\"white\",\"linecolor\":\"white\",\"ticks\":\"\"},\"caxis\":{\"gridcolor\":\"white\",\"linecolor\":\"white\",\"ticks\":\"\"}},\"coloraxis\":{\"colorbar\":{\"outlinewidth\":0,\"ticks\":\"\"}},\"colorscale\":{\"sequential\":[[0.0,\"#0d0887\"],[0.1111111111111111,\"#46039f\"],[0.2222222222222222,\"#7201a8\"],[0.3333333333333333,\"#9c179e\"],[0.4444444444444444,\"#bd3786\"],[0.5555555555555556,\"#d8576b\"],[0.6666666666666666,\"#ed7953\"],[0.7777777777777778,\"#fb9f3a\"],[0.8888888888888888,\"#fdca26\"],[1.0,\"#f0f921\"]],\"sequentialminus\":[[0.0,\"#0d0887\"],[0.1111111111111111,\"#46039f\"],[0.2222222222222222,\"#7201a8\"],[0.3333333333333333,\"#9c179e\"],[0.4444444444444444,\"#bd3786\"],[0.5555555555555556,\"#d8576b\"],[0.6666666666666666,\"#ed7953\"],[0.7777777777777778,\"#fb9f3a\"],[0.8888888888888888,\"#fdca26\"],[1.0,\"#f0f921\"]],\"diverging\":[[0,\"#8e0152\"],[0.1,\"#c51b7d\"],[0.2,\"#de77ae\"],[0.3,\"#f1b6da\"],[0.4,\"#fde0ef\"],[0.5,\"#f7f7f7\"],[0.6,\"#e6f5d0\"],[0.7,\"#b8e186\"],[0.8,\"#7fbc41\"],[0.9,\"#4d9221\"],[1,\"#276419\"]]},\"xaxis\":{\"gridcolor\":\"white\",\"linecolor\":\"white\",\"ticks\":\"\",\"title\":{\"standoff\":15},\"zerolinecolor\":\"white\",\"automargin\":true,\"zerolinewidth\":2},\"yaxis\":{\"gridcolor\":\"white\",\"linecolor\":\"white\",\"ticks\":\"\",\"title\":{\"standoff\":15},\"zerolinecolor\":\"white\",\"automargin\":true,\"zerolinewidth\":2},\"scene\":{\"xaxis\":{\"backgroundcolor\":\"#E5ECF6\",\"gridcolor\":\"white\",\"linecolor\":\"white\",\"showbackground\":true,\"ticks\":\"\",\"zerolinecolor\":\"white\",\"gridwidth\":2},\"yaxis\":{\"backgroundcolor\":\"#E5ECF6\",\"gridcolor\":\"white\",\"linecolor\":\"white\",\"showbackground\":true,\"ticks\":\"\",\"zerolinecolor\":\"white\",\"gridwidth\":2},\"zaxis\":{\"backgroundcolor\":\"#E5ECF6\",\"gridcolor\":\"white\",\"linecolor\":\"white\",\"showbackground\":true,\"ticks\":\"\",\"zerolinecolor\":\"white\",\"gridwidth\":2}},\"shapedefaults\":{\"line\":{\"color\":\"#2a3f5f\"}},\"annotationdefaults\":{\"arrowcolor\":\"#2a3f5f\",\"arrowhead\":0,\"arrowwidth\":1},\"geo\":{\"bgcolor\":\"white\",\"landcolor\":\"#E5ECF6\",\"subunitcolor\":\"white\",\"showland\":true,\"showlakes\":true,\"lakecolor\":\"white\"},\"title\":{\"x\":0.05},\"mapbox\":{\"style\":\"light\"}}},\"xaxis\":{\"anchor\":\"y\",\"domain\":[0.0,0.1388888888888889]},\"yaxis\":{\"anchor\":\"x\",\"domain\":[0.0,1.0]},\"xaxis2\":{\"anchor\":\"y2\",\"domain\":[0.17222222222222222,0.3111111111111111]},\"yaxis2\":{\"anchor\":\"x2\",\"domain\":[0.0,1.0]},\"xaxis3\":{\"anchor\":\"y3\",\"domain\":[0.34444444444444444,0.48333333333333334]},\"yaxis3\":{\"anchor\":\"x3\",\"domain\":[0.0,1.0]},\"xaxis4\":{\"anchor\":\"y4\",\"domain\":[0.5166666666666667,0.6555555555555557]},\"yaxis4\":{\"anchor\":\"x4\",\"domain\":[0.0,1.0]},\"xaxis5\":{\"anchor\":\"y5\",\"domain\":[0.6888888888888889,0.8277777777777777]},\"yaxis5\":{\"anchor\":\"x5\",\"domain\":[0.0,1.0]},\"xaxis6\":{\"anchor\":\"y6\",\"domain\":[0.861111111111111,1.0]},\"yaxis6\":{\"anchor\":\"x6\",\"domain\":[0.0,1.0]},\"title\":{\"text\":\"tench\"},\"height\":600,\"width\":1000},                        {\"responsive\": true}                    ).then(function(){\n",
       "                            \n",
       "var gd = document.getElementById('b0b88dcb-cfd2-4aca-b085-f957301dac84');\n",
       "var x = new MutationObserver(function (mutations, observer) {{\n",
       "        var display = window.getComputedStyle(gd).display;\n",
       "        if (!display || display === 'none') {{\n",
       "            console.log([gd, 'removed!']);\n",
       "            Plotly.purge(gd);\n",
       "            observer.disconnect();\n",
       "        }}\n",
       "}});\n",
       "\n",
       "// Listen for the removal of the full notebook cells\n",
       "var notebookContainer = gd.closest('#notebook-container');\n",
       "if (notebookContainer) {{\n",
       "    x.observe(notebookContainer, {childList: true});\n",
       "}}\n",
       "\n",
       "// Listen for the clearing of the current output cell\n",
       "var outputEl = gd.closest('.output');\n",
       "if (outputEl) {{\n",
       "    x.observe(outputEl, {childList: true});\n",
       "}}\n",
       "\n",
       "                        })                };                });            </script>        </div>"
      ]
     },
     "metadata": {},
     "output_type": "display_data"
    },
    {
     "data": {
      "application/vnd.plotly.v1+json": {
       "config": {
        "plotlyServerURL": "https://plot.ly"
       },
       "data": [
        {
         "marker": {
          "color": [
           "rgb(31, 119, 180)",
           "rgb(31, 119, 180)",
           "rgb(31, 119, 180)",
           "rgb(31, 119, 180)",
           "rgb(31, 119, 180)",
           "rgb(31, 119, 180)",
           "rgb(31, 119, 180)",
           "rgb(31, 119, 180)",
           "rgb(31, 119, 180)",
           "rgb(31, 119, 180)",
           "rgb(255, 127, 14)",
           "rgb(255, 127, 14)",
           "rgb(255, 127, 14)",
           "rgb(255, 127, 14)",
           "rgb(255, 127, 14)",
           "rgb(255, 127, 14)",
           "rgb(255, 127, 14)",
           "rgb(255, 127, 14)",
           "rgb(255, 127, 14)",
           "rgb(255, 127, 14)",
           "rgb(44, 160, 44)",
           "rgb(44, 160, 44)",
           "rgb(44, 160, 44)",
           "rgb(44, 160, 44)",
           "rgb(44, 160, 44)",
           "rgb(44, 160, 44)",
           "rgb(44, 160, 44)",
           "rgb(44, 160, 44)",
           "rgb(44, 160, 44)",
           "rgb(44, 160, 44)",
           "rgb(214, 39, 40)",
           "rgb(214, 39, 40)",
           "rgb(214, 39, 40)",
           "rgb(214, 39, 40)",
           "rgb(214, 39, 40)",
           "rgb(214, 39, 40)",
           "rgb(214, 39, 40)",
           "rgb(214, 39, 40)",
           "rgb(214, 39, 40)",
           "rgb(214, 39, 40)",
           "rgb(148, 103, 189)",
           "rgb(148, 103, 189)",
           "rgb(148, 103, 189)",
           "rgb(148, 103, 189)",
           "rgb(148, 103, 189)",
           "rgb(148, 103, 189)",
           "rgb(148, 103, 189)",
           "rgb(148, 103, 189)",
           "rgb(148, 103, 189)",
           "rgb(148, 103, 189)",
           "rgb(140, 86, 75)",
           "rgb(140, 86, 75)",
           "rgb(140, 86, 75)",
           "rgb(140, 86, 75)",
           "rgb(140, 86, 75)",
           "rgb(140, 86, 75)",
           "rgb(140, 86, 75)",
           "rgb(140, 86, 75)",
           "rgb(140, 86, 75)",
           "rgb(140, 86, 75)",
           "rgb(227, 119, 194)",
           "rgb(227, 119, 194)",
           "rgb(227, 119, 194)",
           "rgb(227, 119, 194)",
           "rgb(227, 119, 194)",
           "rgb(227, 119, 194)",
           "rgb(227, 119, 194)",
           "rgb(227, 119, 194)",
           "rgb(227, 119, 194)",
           "rgb(227, 119, 194)",
           "rgb(127, 127, 127)",
           "rgb(127, 127, 127)",
           "rgb(127, 127, 127)",
           "rgb(127, 127, 127)",
           "rgb(127, 127, 127)",
           "rgb(127, 127, 127)",
           "rgb(127, 127, 127)",
           "rgb(127, 127, 127)",
           "rgb(127, 127, 127)",
           "rgb(127, 127, 127)",
           "rgb(188, 189, 34)",
           "rgb(188, 189, 34)",
           "rgb(188, 189, 34)",
           "rgb(188, 189, 34)",
           "rgb(188, 189, 34)",
           "rgb(188, 189, 34)",
           "rgb(188, 189, 34)",
           "rgb(188, 189, 34)",
           "rgb(188, 189, 34)",
           "rgb(188, 189, 34)",
           "rgb(23, 190, 207)",
           "rgb(23, 190, 207)",
           "rgb(23, 190, 207)",
           "rgb(23, 190, 207)",
           "rgb(23, 190, 207)",
           "rgb(23, 190, 207)",
           "rgb(23, 190, 207)",
           "rgb(23, 190, 207)",
           "rgb(23, 190, 207)",
           "rgb(23, 190, 207)"
          ]
         },
         "mode": "markers",
         "type": "scatter",
         "x": [
          3.004507541656494,
          15.380291938781738,
          10.5704927444458,
          6.386040210723877,
          15.038509368896484,
          12.557077407836914,
          9.732744216918945,
          12.530158042907715,
          7.965938091278076,
          14.68340015411377,
          -0.19612176716327667,
          -1.4678128957748413,
          0.12976674735546112,
          -0.6416663527488708,
          -2.5717456340789795,
          0.6187440752983093,
          -0.5241124629974365,
          -2.909529447555542,
          4.162355422973633,
          -1.4003993272781372,
          -3.052706241607666,
          -0.007138419896364212,
          0.8889434933662415,
          0.30053043365478516,
          -5.363246917724609,
          -2.0048701763153076,
          -2.3183820247650146,
          0.06402336061000824,
          -1.9368665218353271,
          -1.349934697151184,
          -0.4023802578449249,
          -0.5442386865615845,
          -3.261995553970337,
          -0.40655747056007385,
          -4.954545021057129,
          3.096359968185425,
          2.5272634029388428,
          -1.7763267755508423,
          -5.847685813903809,
          -3.271972894668579,
          1.5360249280929565,
          -3.0074284076690674,
          -1.012992024421692,
          -1.1129330396652222,
          -0.01928575709462166,
          0.30913904309272766,
          0.22170941531658173,
          0.0075556449592113495,
          1.9595080614089966,
          2.1562588214874268,
          -6.030766010284424,
          -1.6387137174606323,
          1.1324273347854614,
          -4.198517322540283,
          -1.3786686658859253,
          -3.121255397796631,
          0.050227802246809006,
          -7.231386661529541,
          3.186955690383911,
          -2.9323155879974365,
          -1.5930455923080444,
          -1.4885998964309692,
          -6.274661064147949,
          -0.9826565384864807,
          -1.3211805820465088,
          -1.9923676252365112,
          -1.508445382118225,
          -1.8888709545135498,
          -3.7721683979034424,
          1.6031204462051392,
          -4.2794880867004395,
          -4.570207118988037,
          -1.9757331609725952,
          -2.962047815322876,
          -4.264034271240234,
          1.5123575925827026,
          -1.0535591840744019,
          -0.1993640512228012,
          -1.948192834854126,
          -1.255643606185913,
          -10.862406730651855,
          -3.082139253616333,
          -2.3760223388671875,
          -6.440079689025879,
          -6.18658447265625,
          -2.910627603530884,
          -6.227687835693359,
          -7.487008571624756,
          -4.723276615142822,
          -5.611446380615234,
          3.209653615951538,
          0.5853326916694641,
          2.2994656562805176,
          1.5335426330566406,
          -2.569655418395996,
          0.5264223217964172,
          0.08657984435558319,
          2.4412364959716797,
          2.7515504360198975,
          0.2513844072818756
         ],
         "xaxis": "x",
         "y": [
          7.7669477462768555,
          21.123794555664062,
          20.46268081665039,
          19.802824020385742,
          16.642976760864258,
          15.279073715209961,
          14.852067947387695,
          15.106178283691406,
          15.063925743103027,
          18.4719295501709,
          1.399144172668457,
          -1.3196687698364258,
          0.4347863495349884,
          -0.08502735197544098,
          -0.24406076967716217,
          0.9749664664268494,
          -0.3885900676250458,
          -2.3418872356414795,
          4.16610050201416,
          -1.060168981552124,
          -3.683530569076538,
          -1.652563452720642,
          -1.7167922258377075,
          -2.0865113735198975,
          -3.518495798110962,
          -4.2277350425720215,
          -0.9999774098396301,
          -2.683871269226074,
          -1.5676394701004028,
          -1.0871332883834839,
          -0.9485496878623962,
          -1.0903065204620361,
          -3.364971876144409,
          -0.5803971886634827,
          -4.581081867218018,
          2.744643211364746,
          2.7683064937591553,
          -1.6796008348464966,
          -5.880188465118408,
          -3.466515302658081,
          -0.10886362195014954,
          -0.3730880916118622,
          0.08233802020549774,
          -0.2701509892940521,
          3.1845667362213135,
          2.632322072982788,
          3.251178026199341,
          0.3102785348892212,
          5.202922821044922,
          3.3280231952667236,
          -8.73912525177002,
          -1.8061776161193848,
          1.3701883554458618,
          -4.3498029708862305,
          -0.7726522088050842,
          -5.254192352294922,
          2.3572731018066406,
          -4.205260276794434,
          2.354207754135132,
          -3.175152063369751,
          -4.656261444091797,
          -2.736915349960327,
          -7.097317695617676,
          -1.4234719276428223,
          -4.571697235107422,
          -2.583674669265747,
          -2.3706672191619873,
          -3.7888965606689453,
          -4.538203716278076,
          1.2211363315582275,
          -7.3360748291015625,
          -4.138755798339844,
          -2.1005666255950928,
          -4.9120941162109375,
          -3.8726003170013428,
          3.9154646396636963,
          -1.8426200151443481,
          -1.7470978498458862,
          -5.481634140014648,
          -3.7489683628082275,
          -10.125178337097168,
          -3.761674165725708,
          -2.471155881881714,
          -5.807934761047363,
          -4.190173625946045,
          -2.662513494491577,
          -6.7639288902282715,
          -6.526571273803711,
          -5.054406642913818,
          -4.2106451988220215,
          2.4552595615386963,
          -1.202506184577942,
          1.763609766960144,
          2.321349620819092,
          -2.5356268882751465,
          0.539793074131012,
          1.0744456052780151,
          3.8401176929473877,
          2.698129177093506,
          -0.1549902707338333
         ],
         "yaxis": "y"
        },
        {
         "marker": {
          "color": [
           "rgb(31, 119, 180)",
           "rgb(31, 119, 180)",
           "rgb(31, 119, 180)",
           "rgb(31, 119, 180)",
           "rgb(31, 119, 180)",
           "rgb(31, 119, 180)",
           "rgb(31, 119, 180)",
           "rgb(31, 119, 180)",
           "rgb(31, 119, 180)",
           "rgb(31, 119, 180)",
           "rgb(255, 127, 14)",
           "rgb(255, 127, 14)",
           "rgb(255, 127, 14)",
           "rgb(255, 127, 14)",
           "rgb(255, 127, 14)",
           "rgb(255, 127, 14)",
           "rgb(255, 127, 14)",
           "rgb(255, 127, 14)",
           "rgb(255, 127, 14)",
           "rgb(255, 127, 14)",
           "rgb(44, 160, 44)",
           "rgb(44, 160, 44)",
           "rgb(44, 160, 44)",
           "rgb(44, 160, 44)",
           "rgb(44, 160, 44)",
           "rgb(44, 160, 44)",
           "rgb(44, 160, 44)",
           "rgb(44, 160, 44)",
           "rgb(44, 160, 44)",
           "rgb(44, 160, 44)",
           "rgb(214, 39, 40)",
           "rgb(214, 39, 40)",
           "rgb(214, 39, 40)",
           "rgb(214, 39, 40)",
           "rgb(214, 39, 40)",
           "rgb(214, 39, 40)",
           "rgb(214, 39, 40)",
           "rgb(214, 39, 40)",
           "rgb(214, 39, 40)",
           "rgb(214, 39, 40)",
           "rgb(148, 103, 189)",
           "rgb(148, 103, 189)",
           "rgb(148, 103, 189)",
           "rgb(148, 103, 189)",
           "rgb(148, 103, 189)",
           "rgb(148, 103, 189)",
           "rgb(148, 103, 189)",
           "rgb(148, 103, 189)",
           "rgb(148, 103, 189)",
           "rgb(148, 103, 189)",
           "rgb(140, 86, 75)",
           "rgb(140, 86, 75)",
           "rgb(140, 86, 75)",
           "rgb(140, 86, 75)",
           "rgb(140, 86, 75)",
           "rgb(140, 86, 75)",
           "rgb(140, 86, 75)",
           "rgb(140, 86, 75)",
           "rgb(140, 86, 75)",
           "rgb(140, 86, 75)",
           "rgb(227, 119, 194)",
           "rgb(227, 119, 194)",
           "rgb(227, 119, 194)",
           "rgb(227, 119, 194)",
           "rgb(227, 119, 194)",
           "rgb(227, 119, 194)",
           "rgb(227, 119, 194)",
           "rgb(227, 119, 194)",
           "rgb(227, 119, 194)",
           "rgb(227, 119, 194)",
           "rgb(127, 127, 127)",
           "rgb(127, 127, 127)",
           "rgb(127, 127, 127)",
           "rgb(127, 127, 127)",
           "rgb(127, 127, 127)",
           "rgb(127, 127, 127)",
           "rgb(127, 127, 127)",
           "rgb(127, 127, 127)",
           "rgb(127, 127, 127)",
           "rgb(127, 127, 127)",
           "rgb(188, 189, 34)",
           "rgb(188, 189, 34)",
           "rgb(188, 189, 34)",
           "rgb(188, 189, 34)",
           "rgb(188, 189, 34)",
           "rgb(188, 189, 34)",
           "rgb(188, 189, 34)",
           "rgb(188, 189, 34)",
           "rgb(188, 189, 34)",
           "rgb(188, 189, 34)",
           "rgb(23, 190, 207)",
           "rgb(23, 190, 207)",
           "rgb(23, 190, 207)",
           "rgb(23, 190, 207)",
           "rgb(23, 190, 207)",
           "rgb(23, 190, 207)",
           "rgb(23, 190, 207)",
           "rgb(23, 190, 207)",
           "rgb(23, 190, 207)",
           "rgb(23, 190, 207)"
          ]
         },
         "mode": "markers",
         "type": "scatter",
         "x": [
          2.9976680278778076,
          15.164318084716797,
          10.4827299118042,
          6.290774345397949,
          14.749211311340332,
          12.437451362609863,
          9.768413543701172,
          12.509988784790039,
          8.03402042388916,
          14.613372802734375,
          -0.16605348885059357,
          -1.5397958755493164,
          0.07395665347576141,
          -0.6952629685401917,
          -2.5136334896087646,
          0.5789466500282288,
          -0.5038706660270691,
          -3.075803279876709,
          4.068418025970459,
          -1.389967441558838,
          -3.1426515579223633,
          0.08630342781543732,
          0.8892384171485901,
          0.239325150847435,
          -5.434754848480225,
          -1.9497514963150024,
          -2.361811637878418,
          0.05567411705851555,
          -1.878185749053955,
          -1.3587766885757446,
          -0.41327032446861267,
          -0.5713983178138733,
          -3.2156355381011963,
          -0.3908258080482483,
          -4.910506248474121,
          3.1345996856689453,
          2.486193895339966,
          -1.7525503635406494,
          -5.830287933349609,
          -3.253633737564087,
          1.4969849586486816,
          -3.0570831298828125,
          -1.0165939331054688,
          -1.1855498552322388,
          0.012319963425397873,
          0.2973124086856842,
          0.15004520118236542,
          0.009569566696882248,
          1.960469126701355,
          2.1971428394317627,
          -5.951336860656738,
          -1.6097074747085571,
          1.123531460762024,
          -4.135833740234375,
          -1.2962042093276978,
          -3.0821354389190674,
          -0.0209059901535511,
          -7.183205604553223,
          3.2492048740386963,
          -3.0086710453033447,
          -1.552846908569336,
          -1.3731220960617065,
          -6.250115394592285,
          -1.0714387893676758,
          -1.3664757013320923,
          -1.851181983947754,
          -1.513814926147461,
          -1.9120186567306519,
          -3.7640738487243652,
          1.5642811059951782,
          -4.2481889724731445,
          -4.446042537689209,
          -1.9240539073944092,
          -2.8345277309417725,
          -4.210475921630859,
          1.523586630821228,
          -1.0636156797409058,
          -0.13516102731227875,
          -2.055447816848755,
          -1.2621303796768188,
          -10.671099662780762,
          -3.0040619373321533,
          -2.277770757675171,
          -6.375082969665527,
          -6.258821964263916,
          -2.8972833156585693,
          -6.1819562911987305,
          -7.394347190856934,
          -4.617559432983398,
          -5.576468467712402,
          3.334031343460083,
          0.573283851146698,
          2.2108154296875,
          1.3887155055999756,
          -2.7105510234832764,
          0.44826391339302063,
          0.15280203521251678,
          2.393021821975708,
          2.7912895679473877,
          0.2314414232969284
         ],
         "xaxis": "x2",
         "y": [
          7.7669477462768555,
          21.123794555664062,
          20.46268081665039,
          19.802824020385742,
          16.642976760864258,
          15.279073715209961,
          14.852067947387695,
          15.106178283691406,
          15.063925743103027,
          18.4719295501709,
          1.399144172668457,
          -1.3196687698364258,
          0.4347863495349884,
          -0.08502735197544098,
          -0.24406076967716217,
          0.9749664664268494,
          -0.3885900676250458,
          -2.3418872356414795,
          4.16610050201416,
          -1.060168981552124,
          -3.683530569076538,
          -1.652563452720642,
          -1.7167922258377075,
          -2.0865113735198975,
          -3.518495798110962,
          -4.2277350425720215,
          -0.9999774098396301,
          -2.683871269226074,
          -1.5676394701004028,
          -1.0871332883834839,
          -0.9485496878623962,
          -1.0903065204620361,
          -3.364971876144409,
          -0.5803971886634827,
          -4.581081867218018,
          2.744643211364746,
          2.7683064937591553,
          -1.6796008348464966,
          -5.880188465118408,
          -3.466515302658081,
          -0.10886362195014954,
          -0.3730880916118622,
          0.08233802020549774,
          -0.2701509892940521,
          3.1845667362213135,
          2.632322072982788,
          3.251178026199341,
          0.3102785348892212,
          5.202922821044922,
          3.3280231952667236,
          -8.73912525177002,
          -1.8061776161193848,
          1.3701883554458618,
          -4.3498029708862305,
          -0.7726522088050842,
          -5.254192352294922,
          2.3572731018066406,
          -4.205260276794434,
          2.354207754135132,
          -3.175152063369751,
          -4.656261444091797,
          -2.736915349960327,
          -7.097317695617676,
          -1.4234719276428223,
          -4.571697235107422,
          -2.583674669265747,
          -2.3706672191619873,
          -3.7888965606689453,
          -4.538203716278076,
          1.2211363315582275,
          -7.3360748291015625,
          -4.138755798339844,
          -2.1005666255950928,
          -4.9120941162109375,
          -3.8726003170013428,
          3.9154646396636963,
          -1.8426200151443481,
          -1.7470978498458862,
          -5.481634140014648,
          -3.7489683628082275,
          -10.125178337097168,
          -3.761674165725708,
          -2.471155881881714,
          -5.807934761047363,
          -4.190173625946045,
          -2.662513494491577,
          -6.7639288902282715,
          -6.526571273803711,
          -5.054406642913818,
          -4.2106451988220215,
          2.4552595615386963,
          -1.202506184577942,
          1.763609766960144,
          2.321349620819092,
          -2.5356268882751465,
          0.539793074131012,
          1.0744456052780151,
          3.8401176929473877,
          2.698129177093506,
          -0.1549902707338333
         ],
         "yaxis": "y2"
        },
        {
         "marker": {
          "color": [
           "rgb(31, 119, 180)",
           "rgb(31, 119, 180)",
           "rgb(31, 119, 180)",
           "rgb(31, 119, 180)",
           "rgb(31, 119, 180)",
           "rgb(31, 119, 180)",
           "rgb(31, 119, 180)",
           "rgb(31, 119, 180)",
           "rgb(31, 119, 180)",
           "rgb(31, 119, 180)",
           "rgb(255, 127, 14)",
           "rgb(255, 127, 14)",
           "rgb(255, 127, 14)",
           "rgb(255, 127, 14)",
           "rgb(255, 127, 14)",
           "rgb(255, 127, 14)",
           "rgb(255, 127, 14)",
           "rgb(255, 127, 14)",
           "rgb(255, 127, 14)",
           "rgb(255, 127, 14)",
           "rgb(44, 160, 44)",
           "rgb(44, 160, 44)",
           "rgb(44, 160, 44)",
           "rgb(44, 160, 44)",
           "rgb(44, 160, 44)",
           "rgb(44, 160, 44)",
           "rgb(44, 160, 44)",
           "rgb(44, 160, 44)",
           "rgb(44, 160, 44)",
           "rgb(44, 160, 44)",
           "rgb(214, 39, 40)",
           "rgb(214, 39, 40)",
           "rgb(214, 39, 40)",
           "rgb(214, 39, 40)",
           "rgb(214, 39, 40)",
           "rgb(214, 39, 40)",
           "rgb(214, 39, 40)",
           "rgb(214, 39, 40)",
           "rgb(214, 39, 40)",
           "rgb(214, 39, 40)",
           "rgb(148, 103, 189)",
           "rgb(148, 103, 189)",
           "rgb(148, 103, 189)",
           "rgb(148, 103, 189)",
           "rgb(148, 103, 189)",
           "rgb(148, 103, 189)",
           "rgb(148, 103, 189)",
           "rgb(148, 103, 189)",
           "rgb(148, 103, 189)",
           "rgb(148, 103, 189)",
           "rgb(140, 86, 75)",
           "rgb(140, 86, 75)",
           "rgb(140, 86, 75)",
           "rgb(140, 86, 75)",
           "rgb(140, 86, 75)",
           "rgb(140, 86, 75)",
           "rgb(140, 86, 75)",
           "rgb(140, 86, 75)",
           "rgb(140, 86, 75)",
           "rgb(140, 86, 75)",
           "rgb(227, 119, 194)",
           "rgb(227, 119, 194)",
           "rgb(227, 119, 194)",
           "rgb(227, 119, 194)",
           "rgb(227, 119, 194)",
           "rgb(227, 119, 194)",
           "rgb(227, 119, 194)",
           "rgb(227, 119, 194)",
           "rgb(227, 119, 194)",
           "rgb(227, 119, 194)",
           "rgb(127, 127, 127)",
           "rgb(127, 127, 127)",
           "rgb(127, 127, 127)",
           "rgb(127, 127, 127)",
           "rgb(127, 127, 127)",
           "rgb(127, 127, 127)",
           "rgb(127, 127, 127)",
           "rgb(127, 127, 127)",
           "rgb(127, 127, 127)",
           "rgb(127, 127, 127)",
           "rgb(188, 189, 34)",
           "rgb(188, 189, 34)",
           "rgb(188, 189, 34)",
           "rgb(188, 189, 34)",
           "rgb(188, 189, 34)",
           "rgb(188, 189, 34)",
           "rgb(188, 189, 34)",
           "rgb(188, 189, 34)",
           "rgb(188, 189, 34)",
           "rgb(188, 189, 34)",
           "rgb(23, 190, 207)",
           "rgb(23, 190, 207)",
           "rgb(23, 190, 207)",
           "rgb(23, 190, 207)",
           "rgb(23, 190, 207)",
           "rgb(23, 190, 207)",
           "rgb(23, 190, 207)",
           "rgb(23, 190, 207)",
           "rgb(23, 190, 207)",
           "rgb(23, 190, 207)"
          ]
         },
         "mode": "markers",
         "type": "scatter",
         "x": [
          2.6509106159210205,
          14.873050689697266,
          10.521428108215332,
          6.0073041915893555,
          14.680519104003906,
          12.27408504486084,
          9.665372848510742,
          12.231549263000488,
          7.9652814865112305,
          14.227999687194824,
          -0.11282981932163239,
          -1.6930183172225952,
          -0.003797251731157303,
          -0.5804198384284973,
          -2.6937263011932373,
          0.5682299733161926,
          -0.5374220013618469,
          -3.1490299701690674,
          4.115078926086426,
          -1.247146487236023,
          -2.9867806434631348,
          0.2064772993326187,
          1.1145631074905396,
          0.24275031685829163,
          -5.690487861633301,
          -1.775645136833191,
          -2.493759870529175,
          0.252245157957077,
          -2.0132572650909424,
          -1.12799072265625,
          -0.3964385688304901,
          -0.66750168800354,
          -3.197431802749634,
          -0.3624640703201294,
          -4.855644226074219,
          3.224121332168579,
          2.3307316303253174,
          -1.816193699836731,
          -5.8082075119018555,
          -3.3085196018218994,
          1.5749552249908447,
          -2.7973785400390625,
          -0.6752751469612122,
          -1.0590248107910156,
          -0.49103495478630066,
          0.13618235290050507,
          0.2345096319913864,
          0.07332037389278412,
          1.9285058975219727,
          2.208665132522583,
          -5.874186992645264,
          -1.6165512800216675,
          1.187626600265503,
          -3.92077374458313,
          -1.2426809072494507,
          -2.9105064868927,
          -0.02320684865117073,
          -7.056357383728027,
          3.0685927867889404,
          -2.661604166030884,
          -1.487679362297058,
          -1.0681792497634888,
          -6.214315414428711,
          -1.0958185195922852,
          -1.1428791284561157,
          -1.4555376768112183,
          -1.468126893043518,
          -1.3715791702270508,
          -3.6109607219696045,
          1.7674676179885864,
          -4.272114276885986,
          -4.2336931228637695,
          -1.6412138938903809,
          -2.7159106731414795,
          -4.199746131896973,
          1.4775413274765015,
          -1.179491639137268,
          -0.13962885737419128,
          -1.6025774478912354,
          -0.8212891221046448,
          -10.260326385498047,
          -3.026865005493164,
          -2.2908294200897217,
          -6.1730122566223145,
          -6.62716007232666,
          -2.941636323928833,
          -6.2561516761779785,
          -7.050810813903809,
          -4.673025608062744,
          -5.305171489715576,
          3.457221031188965,
          0.7393631339073181,
          1.9710243940353394,
          1.0153217315673828,
          -2.894052028656006,
          0.5514577031135559,
          0.307218462228775,
          2.2709267139434814,
          2.8580338954925537,
          0.3480481207370758
         ],
         "xaxis": "x3",
         "y": [
          7.7669477462768555,
          21.123794555664062,
          20.46268081665039,
          19.802824020385742,
          16.642976760864258,
          15.279073715209961,
          14.852067947387695,
          15.106178283691406,
          15.063925743103027,
          18.4719295501709,
          1.399144172668457,
          -1.3196687698364258,
          0.4347863495349884,
          -0.08502735197544098,
          -0.24406076967716217,
          0.9749664664268494,
          -0.3885900676250458,
          -2.3418872356414795,
          4.16610050201416,
          -1.060168981552124,
          -3.683530569076538,
          -1.652563452720642,
          -1.7167922258377075,
          -2.0865113735198975,
          -3.518495798110962,
          -4.2277350425720215,
          -0.9999774098396301,
          -2.683871269226074,
          -1.5676394701004028,
          -1.0871332883834839,
          -0.9485496878623962,
          -1.0903065204620361,
          -3.364971876144409,
          -0.5803971886634827,
          -4.581081867218018,
          2.744643211364746,
          2.7683064937591553,
          -1.6796008348464966,
          -5.880188465118408,
          -3.466515302658081,
          -0.10886362195014954,
          -0.3730880916118622,
          0.08233802020549774,
          -0.2701509892940521,
          3.1845667362213135,
          2.632322072982788,
          3.251178026199341,
          0.3102785348892212,
          5.202922821044922,
          3.3280231952667236,
          -8.73912525177002,
          -1.8061776161193848,
          1.3701883554458618,
          -4.3498029708862305,
          -0.7726522088050842,
          -5.254192352294922,
          2.3572731018066406,
          -4.205260276794434,
          2.354207754135132,
          -3.175152063369751,
          -4.656261444091797,
          -2.736915349960327,
          -7.097317695617676,
          -1.4234719276428223,
          -4.571697235107422,
          -2.583674669265747,
          -2.3706672191619873,
          -3.7888965606689453,
          -4.538203716278076,
          1.2211363315582275,
          -7.3360748291015625,
          -4.138755798339844,
          -2.1005666255950928,
          -4.9120941162109375,
          -3.8726003170013428,
          3.9154646396636963,
          -1.8426200151443481,
          -1.7470978498458862,
          -5.481634140014648,
          -3.7489683628082275,
          -10.125178337097168,
          -3.761674165725708,
          -2.471155881881714,
          -5.807934761047363,
          -4.190173625946045,
          -2.662513494491577,
          -6.7639288902282715,
          -6.526571273803711,
          -5.054406642913818,
          -4.2106451988220215,
          2.4552595615386963,
          -1.202506184577942,
          1.763609766960144,
          2.321349620819092,
          -2.5356268882751465,
          0.539793074131012,
          1.0744456052780151,
          3.8401176929473877,
          2.698129177093506,
          -0.1549902707338333
         ],
         "yaxis": "y3"
        },
        {
         "marker": {
          "color": [
           "rgb(31, 119, 180)",
           "rgb(31, 119, 180)",
           "rgb(31, 119, 180)",
           "rgb(31, 119, 180)",
           "rgb(31, 119, 180)",
           "rgb(31, 119, 180)",
           "rgb(31, 119, 180)",
           "rgb(31, 119, 180)",
           "rgb(31, 119, 180)",
           "rgb(31, 119, 180)",
           "rgb(255, 127, 14)",
           "rgb(255, 127, 14)",
           "rgb(255, 127, 14)",
           "rgb(255, 127, 14)",
           "rgb(255, 127, 14)",
           "rgb(255, 127, 14)",
           "rgb(255, 127, 14)",
           "rgb(255, 127, 14)",
           "rgb(255, 127, 14)",
           "rgb(255, 127, 14)",
           "rgb(44, 160, 44)",
           "rgb(44, 160, 44)",
           "rgb(44, 160, 44)",
           "rgb(44, 160, 44)",
           "rgb(44, 160, 44)",
           "rgb(44, 160, 44)",
           "rgb(44, 160, 44)",
           "rgb(44, 160, 44)",
           "rgb(44, 160, 44)",
           "rgb(44, 160, 44)",
           "rgb(214, 39, 40)",
           "rgb(214, 39, 40)",
           "rgb(214, 39, 40)",
           "rgb(214, 39, 40)",
           "rgb(214, 39, 40)",
           "rgb(214, 39, 40)",
           "rgb(214, 39, 40)",
           "rgb(214, 39, 40)",
           "rgb(214, 39, 40)",
           "rgb(214, 39, 40)",
           "rgb(148, 103, 189)",
           "rgb(148, 103, 189)",
           "rgb(148, 103, 189)",
           "rgb(148, 103, 189)",
           "rgb(148, 103, 189)",
           "rgb(148, 103, 189)",
           "rgb(148, 103, 189)",
           "rgb(148, 103, 189)",
           "rgb(148, 103, 189)",
           "rgb(148, 103, 189)",
           "rgb(140, 86, 75)",
           "rgb(140, 86, 75)",
           "rgb(140, 86, 75)",
           "rgb(140, 86, 75)",
           "rgb(140, 86, 75)",
           "rgb(140, 86, 75)",
           "rgb(140, 86, 75)",
           "rgb(140, 86, 75)",
           "rgb(140, 86, 75)",
           "rgb(140, 86, 75)",
           "rgb(227, 119, 194)",
           "rgb(227, 119, 194)",
           "rgb(227, 119, 194)",
           "rgb(227, 119, 194)",
           "rgb(227, 119, 194)",
           "rgb(227, 119, 194)",
           "rgb(227, 119, 194)",
           "rgb(227, 119, 194)",
           "rgb(227, 119, 194)",
           "rgb(227, 119, 194)",
           "rgb(127, 127, 127)",
           "rgb(127, 127, 127)",
           "rgb(127, 127, 127)",
           "rgb(127, 127, 127)",
           "rgb(127, 127, 127)",
           "rgb(127, 127, 127)",
           "rgb(127, 127, 127)",
           "rgb(127, 127, 127)",
           "rgb(127, 127, 127)",
           "rgb(127, 127, 127)",
           "rgb(188, 189, 34)",
           "rgb(188, 189, 34)",
           "rgb(188, 189, 34)",
           "rgb(188, 189, 34)",
           "rgb(188, 189, 34)",
           "rgb(188, 189, 34)",
           "rgb(188, 189, 34)",
           "rgb(188, 189, 34)",
           "rgb(188, 189, 34)",
           "rgb(188, 189, 34)",
           "rgb(23, 190, 207)",
           "rgb(23, 190, 207)",
           "rgb(23, 190, 207)",
           "rgb(23, 190, 207)",
           "rgb(23, 190, 207)",
           "rgb(23, 190, 207)",
           "rgb(23, 190, 207)",
           "rgb(23, 190, 207)",
           "rgb(23, 190, 207)",
           "rgb(23, 190, 207)"
          ]
         },
         "mode": "markers",
         "type": "scatter",
         "x": [
          2.17222261428833,
          14.14926528930664,
          9.762595176696777,
          5.106839179992676,
          14.053206443786621,
          12.263986587524414,
          9.137399673461914,
          11.645398139953613,
          7.344595909118652,
          13.930323600769043,
          -0.1342896968126297,
          -1.6979496479034424,
          -0.22226126492023468,
          -1.2141553163528442,
          -2.7515475749969482,
          0.5780618190765381,
          -0.9604601263999939,
          -3.1538655757904053,
          4.099562168121338,
          -1.2524152994155884,
          -2.6806788444519043,
          -0.22450627386569977,
          0.8598575592041016,
          -0.07124443352222443,
          -5.80556583404541,
          -1.8067210912704468,
          -2.600001096725464,
          0.3115288317203522,
          -1.995280385017395,
          -1.276436686515808,
          -0.6362720727920532,
          -0.9829012751579285,
          -3.0450663566589355,
          -0.3785887360572815,
          -5.101573467254639,
          2.8884549140930176,
          1.8827983140945435,
          -1.907806396484375,
          -5.930658340454102,
          -3.5952727794647217,
          1.5092488527297974,
          -2.4604790210723877,
          -0.2296176701784134,
          -1.115464687347412,
          -0.7120112776756287,
          0.003900330513715744,
          -0.23026497662067413,
          0.018700581043958664,
          1.6546449661254883,
          1.9100475311279297,
          -5.373206615447998,
          -1.4886244535446167,
          1.155544638633728,
          -3.438854932785034,
          -0.983692467212677,
          -2.8190433979034424,
          -0.02568109706044197,
          -6.330627918243408,
          3.047595739364624,
          -2.1740126609802246,
          -1.3201936483383179,
          -1.08185613155365,
          -5.808180809020996,
          -1.145630955696106,
          -0.6119281053543091,
          -0.8995813131332397,
          -1.1281894445419312,
          -1.0849164724349976,
          -3.452033758163452,
          1.9900554418563843,
          -4.073376655578613,
          -3.771247625350952,
          -0.7180253863334656,
          -2.790844202041626,
          -4.412240028381348,
          1.1354210376739502,
          -1.3404370546340942,
          -0.3493705987930298,
          -1.4533387422561646,
          -0.5686661601066589,
          -9.857089042663574,
          -2.9083313941955566,
          -1.9602497816085815,
          -5.914731025695801,
          -7.096033096313477,
          -2.7268714904785156,
          -6.0085015296936035,
          -6.674752235412598,
          -4.61649227142334,
          -5.129852771759033,
          3.491307497024536,
          0.325507789850235,
          2.0970284938812256,
          1.0211548805236816,
          -3.1829705238342285,
          0.5957686305046082,
          0.6332381963729858,
          2.591608762741089,
          2.690436840057373,
          0.5880730748176575
         ],
         "xaxis": "x4",
         "y": [
          7.7669477462768555,
          21.123794555664062,
          20.46268081665039,
          19.802824020385742,
          16.642976760864258,
          15.279073715209961,
          14.852067947387695,
          15.106178283691406,
          15.063925743103027,
          18.4719295501709,
          1.399144172668457,
          -1.3196687698364258,
          0.4347863495349884,
          -0.08502735197544098,
          -0.24406076967716217,
          0.9749664664268494,
          -0.3885900676250458,
          -2.3418872356414795,
          4.16610050201416,
          -1.060168981552124,
          -3.683530569076538,
          -1.652563452720642,
          -1.7167922258377075,
          -2.0865113735198975,
          -3.518495798110962,
          -4.2277350425720215,
          -0.9999774098396301,
          -2.683871269226074,
          -1.5676394701004028,
          -1.0871332883834839,
          -0.9485496878623962,
          -1.0903065204620361,
          -3.364971876144409,
          -0.5803971886634827,
          -4.581081867218018,
          2.744643211364746,
          2.7683064937591553,
          -1.6796008348464966,
          -5.880188465118408,
          -3.466515302658081,
          -0.10886362195014954,
          -0.3730880916118622,
          0.08233802020549774,
          -0.2701509892940521,
          3.1845667362213135,
          2.632322072982788,
          3.251178026199341,
          0.3102785348892212,
          5.202922821044922,
          3.3280231952667236,
          -8.73912525177002,
          -1.8061776161193848,
          1.3701883554458618,
          -4.3498029708862305,
          -0.7726522088050842,
          -5.254192352294922,
          2.3572731018066406,
          -4.205260276794434,
          2.354207754135132,
          -3.175152063369751,
          -4.656261444091797,
          -2.736915349960327,
          -7.097317695617676,
          -1.4234719276428223,
          -4.571697235107422,
          -2.583674669265747,
          -2.3706672191619873,
          -3.7888965606689453,
          -4.538203716278076,
          1.2211363315582275,
          -7.3360748291015625,
          -4.138755798339844,
          -2.1005666255950928,
          -4.9120941162109375,
          -3.8726003170013428,
          3.9154646396636963,
          -1.8426200151443481,
          -1.7470978498458862,
          -5.481634140014648,
          -3.7489683628082275,
          -10.125178337097168,
          -3.761674165725708,
          -2.471155881881714,
          -5.807934761047363,
          -4.190173625946045,
          -2.662513494491577,
          -6.7639288902282715,
          -6.526571273803711,
          -5.054406642913818,
          -4.2106451988220215,
          2.4552595615386963,
          -1.202506184577942,
          1.763609766960144,
          2.321349620819092,
          -2.5356268882751465,
          0.539793074131012,
          1.0744456052780151,
          3.8401176929473877,
          2.698129177093506,
          -0.1549902707338333
         ],
         "yaxis": "y4"
        },
        {
         "marker": {
          "color": [
           "rgb(31, 119, 180)",
           "rgb(31, 119, 180)",
           "rgb(31, 119, 180)",
           "rgb(31, 119, 180)",
           "rgb(31, 119, 180)",
           "rgb(31, 119, 180)",
           "rgb(31, 119, 180)",
           "rgb(31, 119, 180)",
           "rgb(31, 119, 180)",
           "rgb(31, 119, 180)",
           "rgb(255, 127, 14)",
           "rgb(255, 127, 14)",
           "rgb(255, 127, 14)",
           "rgb(255, 127, 14)",
           "rgb(255, 127, 14)",
           "rgb(255, 127, 14)",
           "rgb(255, 127, 14)",
           "rgb(255, 127, 14)",
           "rgb(255, 127, 14)",
           "rgb(255, 127, 14)",
           "rgb(44, 160, 44)",
           "rgb(44, 160, 44)",
           "rgb(44, 160, 44)",
           "rgb(44, 160, 44)",
           "rgb(44, 160, 44)",
           "rgb(44, 160, 44)",
           "rgb(44, 160, 44)",
           "rgb(44, 160, 44)",
           "rgb(44, 160, 44)",
           "rgb(44, 160, 44)",
           "rgb(214, 39, 40)",
           "rgb(214, 39, 40)",
           "rgb(214, 39, 40)",
           "rgb(214, 39, 40)",
           "rgb(214, 39, 40)",
           "rgb(214, 39, 40)",
           "rgb(214, 39, 40)",
           "rgb(214, 39, 40)",
           "rgb(214, 39, 40)",
           "rgb(214, 39, 40)",
           "rgb(148, 103, 189)",
           "rgb(148, 103, 189)",
           "rgb(148, 103, 189)",
           "rgb(148, 103, 189)",
           "rgb(148, 103, 189)",
           "rgb(148, 103, 189)",
           "rgb(148, 103, 189)",
           "rgb(148, 103, 189)",
           "rgb(148, 103, 189)",
           "rgb(148, 103, 189)",
           "rgb(140, 86, 75)",
           "rgb(140, 86, 75)",
           "rgb(140, 86, 75)",
           "rgb(140, 86, 75)",
           "rgb(140, 86, 75)",
           "rgb(140, 86, 75)",
           "rgb(140, 86, 75)",
           "rgb(140, 86, 75)",
           "rgb(140, 86, 75)",
           "rgb(140, 86, 75)",
           "rgb(227, 119, 194)",
           "rgb(227, 119, 194)",
           "rgb(227, 119, 194)",
           "rgb(227, 119, 194)",
           "rgb(227, 119, 194)",
           "rgb(227, 119, 194)",
           "rgb(227, 119, 194)",
           "rgb(227, 119, 194)",
           "rgb(227, 119, 194)",
           "rgb(227, 119, 194)",
           "rgb(127, 127, 127)",
           "rgb(127, 127, 127)",
           "rgb(127, 127, 127)",
           "rgb(127, 127, 127)",
           "rgb(127, 127, 127)",
           "rgb(127, 127, 127)",
           "rgb(127, 127, 127)",
           "rgb(127, 127, 127)",
           "rgb(127, 127, 127)",
           "rgb(127, 127, 127)",
           "rgb(188, 189, 34)",
           "rgb(188, 189, 34)",
           "rgb(188, 189, 34)",
           "rgb(188, 189, 34)",
           "rgb(188, 189, 34)",
           "rgb(188, 189, 34)",
           "rgb(188, 189, 34)",
           "rgb(188, 189, 34)",
           "rgb(188, 189, 34)",
           "rgb(188, 189, 34)",
           "rgb(23, 190, 207)",
           "rgb(23, 190, 207)",
           "rgb(23, 190, 207)",
           "rgb(23, 190, 207)",
           "rgb(23, 190, 207)",
           "rgb(23, 190, 207)",
           "rgb(23, 190, 207)",
           "rgb(23, 190, 207)",
           "rgb(23, 190, 207)",
           "rgb(23, 190, 207)"
          ]
         },
         "mode": "markers",
         "type": "scatter",
         "x": [
          1.018509030342102,
          10.033397674560547,
          7.249536514282227,
          2.5679538249969482,
          10.216490745544434,
          9.853082656860352,
          6.4591851234436035,
          8.319218635559082,
          4.896589756011963,
          11.232616424560547,
          -1.1069549322128296,
          -1.7149724960327148,
          -0.7893121242523193,
          -2.0604324340820312,
          -3.5565497875213623,
          0.5076702833175659,
          -1.5398811101913452,
          -2.6686081886291504,
          2.0000133514404297,
          -1.5601557493209839,
          -2.505927324295044,
          -1.624997615814209,
          -0.4210068881511688,
          -0.6820773482322693,
          -5.802943229675293,
          -2.598236560821533,
          -3.027028799057007,
          -0.20531977713108063,
          -2.2307918071746826,
          -2.15899395942688,
          -1.2570236921310425,
          -1.7926933765411377,
          -3.4011199474334717,
          -0.7075363397598267,
          -6.199211120605469,
          0.5596601366996765,
          -0.3610013425350189,
          -2.241257905960083,
          -6.8087615966796875,
          -4.553714752197266,
          0.5818108916282654,
          -1.3726348876953125,
          -0.42549166083335876,
          -0.9765545725822449,
          -1.2783337831497192,
          -0.8401254415512085,
          -1.2494481801986694,
          -0.700714647769928,
          0.645336925983429,
          0.12990446388721466,
          -4.141114711761475,
          -1.6353892087936401,
          0.6605272889137268,
          -2.8408138751983643,
          -1.2245662212371826,
          -2.8512237071990967,
          -0.43322715163230896,
          -5.785879611968994,
          2.329716682434082,
          -1.6459439992904663,
          -1.6136720180511475,
          -1.3968039751052856,
          -5.212428092956543,
          -1.5737178325653076,
          -0.4251159727573395,
          -0.21870340406894684,
          -1.0692824125289917,
          -1.2349047660827637,
          -3.48655104637146,
          1.122583031654358,
          -3.3842110633850098,
          -3.089252233505249,
          -1.089579463005066,
          -3.360603094100952,
          -4.701050758361816,
          -0.33806267380714417,
          -1.4014774560928345,
          -1.0758494138717651,
          -1.5270154476165771,
          -1.2052806615829468,
          -8.993450164794922,
          -2.8918304443359375,
          -1.5654808282852173,
          -5.719580173492432,
          -7.600195407867432,
          -2.8711483478546143,
          -5.587087154388428,
          -5.851338863372803,
          -4.15079402923584,
          -4.737851619720459,
          2.5157389640808105,
          -0.6196429133415222,
          1.7032657861709595,
          0.5380505919456482,
          -3.8055789470672607,
          0.13107500970363617,
          0.631048858165741,
          1.803990364074707,
          1.667685866355896,
          0.4552588164806366
         ],
         "xaxis": "x5",
         "y": [
          7.7669477462768555,
          21.123794555664062,
          20.46268081665039,
          19.802824020385742,
          16.642976760864258,
          15.279073715209961,
          14.852067947387695,
          15.106178283691406,
          15.063925743103027,
          18.4719295501709,
          1.399144172668457,
          -1.3196687698364258,
          0.4347863495349884,
          -0.08502735197544098,
          -0.24406076967716217,
          0.9749664664268494,
          -0.3885900676250458,
          -2.3418872356414795,
          4.16610050201416,
          -1.060168981552124,
          -3.683530569076538,
          -1.652563452720642,
          -1.7167922258377075,
          -2.0865113735198975,
          -3.518495798110962,
          -4.2277350425720215,
          -0.9999774098396301,
          -2.683871269226074,
          -1.5676394701004028,
          -1.0871332883834839,
          -0.9485496878623962,
          -1.0903065204620361,
          -3.364971876144409,
          -0.5803971886634827,
          -4.581081867218018,
          2.744643211364746,
          2.7683064937591553,
          -1.6796008348464966,
          -5.880188465118408,
          -3.466515302658081,
          -0.10886362195014954,
          -0.3730880916118622,
          0.08233802020549774,
          -0.2701509892940521,
          3.1845667362213135,
          2.632322072982788,
          3.251178026199341,
          0.3102785348892212,
          5.202922821044922,
          3.3280231952667236,
          -8.73912525177002,
          -1.8061776161193848,
          1.3701883554458618,
          -4.3498029708862305,
          -0.7726522088050842,
          -5.254192352294922,
          2.3572731018066406,
          -4.205260276794434,
          2.354207754135132,
          -3.175152063369751,
          -4.656261444091797,
          -2.736915349960327,
          -7.097317695617676,
          -1.4234719276428223,
          -4.571697235107422,
          -2.583674669265747,
          -2.3706672191619873,
          -3.7888965606689453,
          -4.538203716278076,
          1.2211363315582275,
          -7.3360748291015625,
          -4.138755798339844,
          -2.1005666255950928,
          -4.9120941162109375,
          -3.8726003170013428,
          3.9154646396636963,
          -1.8426200151443481,
          -1.7470978498458862,
          -5.481634140014648,
          -3.7489683628082275,
          -10.125178337097168,
          -3.761674165725708,
          -2.471155881881714,
          -5.807934761047363,
          -4.190173625946045,
          -2.662513494491577,
          -6.7639288902282715,
          -6.526571273803711,
          -5.054406642913818,
          -4.2106451988220215,
          2.4552595615386963,
          -1.202506184577942,
          1.763609766960144,
          2.321349620819092,
          -2.5356268882751465,
          0.539793074131012,
          1.0744456052780151,
          3.8401176929473877,
          2.698129177093506,
          -0.1549902707338333
         ],
         "yaxis": "y5"
        },
        {
         "marker": {
          "color": [
           "rgb(31, 119, 180)",
           "rgb(31, 119, 180)",
           "rgb(31, 119, 180)",
           "rgb(31, 119, 180)",
           "rgb(31, 119, 180)",
           "rgb(31, 119, 180)",
           "rgb(31, 119, 180)",
           "rgb(31, 119, 180)",
           "rgb(31, 119, 180)",
           "rgb(31, 119, 180)",
           "rgb(255, 127, 14)",
           "rgb(255, 127, 14)",
           "rgb(255, 127, 14)",
           "rgb(255, 127, 14)",
           "rgb(255, 127, 14)",
           "rgb(255, 127, 14)",
           "rgb(255, 127, 14)",
           "rgb(255, 127, 14)",
           "rgb(255, 127, 14)",
           "rgb(255, 127, 14)",
           "rgb(44, 160, 44)",
           "rgb(44, 160, 44)",
           "rgb(44, 160, 44)",
           "rgb(44, 160, 44)",
           "rgb(44, 160, 44)",
           "rgb(44, 160, 44)",
           "rgb(44, 160, 44)",
           "rgb(44, 160, 44)",
           "rgb(44, 160, 44)",
           "rgb(44, 160, 44)",
           "rgb(214, 39, 40)",
           "rgb(214, 39, 40)",
           "rgb(214, 39, 40)",
           "rgb(214, 39, 40)",
           "rgb(214, 39, 40)",
           "rgb(214, 39, 40)",
           "rgb(214, 39, 40)",
           "rgb(214, 39, 40)",
           "rgb(214, 39, 40)",
           "rgb(214, 39, 40)",
           "rgb(148, 103, 189)",
           "rgb(148, 103, 189)",
           "rgb(148, 103, 189)",
           "rgb(148, 103, 189)",
           "rgb(148, 103, 189)",
           "rgb(148, 103, 189)",
           "rgb(148, 103, 189)",
           "rgb(148, 103, 189)",
           "rgb(148, 103, 189)",
           "rgb(148, 103, 189)",
           "rgb(140, 86, 75)",
           "rgb(140, 86, 75)",
           "rgb(140, 86, 75)",
           "rgb(140, 86, 75)",
           "rgb(140, 86, 75)",
           "rgb(140, 86, 75)",
           "rgb(140, 86, 75)",
           "rgb(140, 86, 75)",
           "rgb(140, 86, 75)",
           "rgb(140, 86, 75)",
           "rgb(227, 119, 194)",
           "rgb(227, 119, 194)",
           "rgb(227, 119, 194)",
           "rgb(227, 119, 194)",
           "rgb(227, 119, 194)",
           "rgb(227, 119, 194)",
           "rgb(227, 119, 194)",
           "rgb(227, 119, 194)",
           "rgb(227, 119, 194)",
           "rgb(227, 119, 194)",
           "rgb(127, 127, 127)",
           "rgb(127, 127, 127)",
           "rgb(127, 127, 127)",
           "rgb(127, 127, 127)",
           "rgb(127, 127, 127)",
           "rgb(127, 127, 127)",
           "rgb(127, 127, 127)",
           "rgb(127, 127, 127)",
           "rgb(127, 127, 127)",
           "rgb(127, 127, 127)",
           "rgb(188, 189, 34)",
           "rgb(188, 189, 34)",
           "rgb(188, 189, 34)",
           "rgb(188, 189, 34)",
           "rgb(188, 189, 34)",
           "rgb(188, 189, 34)",
           "rgb(188, 189, 34)",
           "rgb(188, 189, 34)",
           "rgb(188, 189, 34)",
           "rgb(188, 189, 34)",
           "rgb(23, 190, 207)",
           "rgb(23, 190, 207)",
           "rgb(23, 190, 207)",
           "rgb(23, 190, 207)",
           "rgb(23, 190, 207)",
           "rgb(23, 190, 207)",
           "rgb(23, 190, 207)",
           "rgb(23, 190, 207)",
           "rgb(23, 190, 207)",
           "rgb(23, 190, 207)"
          ]
         },
         "mode": "markers",
         "type": "scatter",
         "x": [
          -0.10400883853435516,
          -0.3777680993080139,
          -0.23582978546619415,
          -0.18461591005325317,
          -0.284383624792099,
          -0.22566105425357819,
          -0.3791970908641815,
          -0.5026957988739014,
          -0.1950560063123703,
          -0.28602513670921326,
          -0.3373716175556183,
          -0.5218268036842346,
          -0.31626570224761963,
          -0.4216196537017822,
          -0.7191798090934753,
          -0.1552368551492691,
          -0.25042471289634705,
          -0.26209309697151184,
          -0.37244901061058044,
          -0.323037713766098,
          -0.37794893980026245,
          -0.4795977771282196,
          -0.3104437589645386,
          -0.1687898486852646,
          -0.5492293238639832,
          -0.3923547565937042,
          -0.26272717118263245,
          -0.4284791052341461,
          -0.31481656432151794,
          -0.20593570172786713,
          -0.28158804774284363,
          -0.4092806279659271,
          -0.24472321569919586,
          -0.7477292418479919,
          -1.0023716688156128,
          -0.6684224009513855,
          -0.6298221349716187,
          -0.33063212037086487,
          -0.8082050681114197,
          -0.9674368500709534,
          -0.21257878839969635,
          -0.22304455935955048,
          -0.21349658071994781,
          -0.0760134756565094,
          -0.2337959259748459,
          -0.3265906870365143,
          -0.28386154770851135,
          -0.13660821318626404,
          -0.3052996098995209,
          -0.34257104992866516,
          -0.013160299509763718,
          -0.32209327816963196,
          -0.05120031163096428,
          -0.34037166833877563,
          -0.08152337372303009,
          -0.16538406908512115,
          -0.34651872515678406,
          -0.5403684377670288,
          -0.13778556883335114,
          -0.38242307305336,
          -0.40844959020614624,
          -0.3292906582355499,
          -0.21903543174266815,
          -0.20752809941768646,
          -0.05990751460194588,
          -0.18651224672794342,
          -0.03467530384659767,
          -0.3875519931316376,
          -0.2693566381931305,
          -0.11473138630390167,
          -0.2379526048898697,
          -0.3808692991733551,
          -0.4004567563533783,
          -0.36169081926345825,
          -0.6292179226875305,
          -0.5290424823760986,
          -0.366400808095932,
          -0.43431103229522705,
          -0.5391721725463867,
          -0.3038400113582611,
          -0.8398426175117493,
          -0.22800226509571075,
          -0.4125126302242279,
          -0.2915894687175751,
          -0.47140535712242126,
          -0.3032495677471161,
          -0.3004772663116455,
          -0.5054534077644348,
          -0.6104416251182556,
          -0.32490959763526917,
          -0.17608708143234253,
          -0.39550718665122986,
          -0.1585233360528946,
          0.021504133939743042,
          -0.22874809801578522,
          -0.07986007630825043,
          -0.0024334974586963654,
          -0.15278926491737366,
          -0.35046830773353577,
          -0.05659403279423714
         ],
         "xaxis": "x6",
         "y": [
          7.7669477462768555,
          21.123794555664062,
          20.46268081665039,
          19.802824020385742,
          16.642976760864258,
          15.279073715209961,
          14.852067947387695,
          15.106178283691406,
          15.063925743103027,
          18.4719295501709,
          1.399144172668457,
          -1.3196687698364258,
          0.4347863495349884,
          -0.08502735197544098,
          -0.24406076967716217,
          0.9749664664268494,
          -0.3885900676250458,
          -2.3418872356414795,
          4.16610050201416,
          -1.060168981552124,
          -3.683530569076538,
          -1.652563452720642,
          -1.7167922258377075,
          -2.0865113735198975,
          -3.518495798110962,
          -4.2277350425720215,
          -0.9999774098396301,
          -2.683871269226074,
          -1.5676394701004028,
          -1.0871332883834839,
          -0.9485496878623962,
          -1.0903065204620361,
          -3.364971876144409,
          -0.5803971886634827,
          -4.581081867218018,
          2.744643211364746,
          2.7683064937591553,
          -1.6796008348464966,
          -5.880188465118408,
          -3.466515302658081,
          -0.10886362195014954,
          -0.3730880916118622,
          0.08233802020549774,
          -0.2701509892940521,
          3.1845667362213135,
          2.632322072982788,
          3.251178026199341,
          0.3102785348892212,
          5.202922821044922,
          3.3280231952667236,
          -8.73912525177002,
          -1.8061776161193848,
          1.3701883554458618,
          -4.3498029708862305,
          -0.7726522088050842,
          -5.254192352294922,
          2.3572731018066406,
          -4.205260276794434,
          2.354207754135132,
          -3.175152063369751,
          -4.656261444091797,
          -2.736915349960327,
          -7.097317695617676,
          -1.4234719276428223,
          -4.571697235107422,
          -2.583674669265747,
          -2.3706672191619873,
          -3.7888965606689453,
          -4.538203716278076,
          1.2211363315582275,
          -7.3360748291015625,
          -4.138755798339844,
          -2.1005666255950928,
          -4.9120941162109375,
          -3.8726003170013428,
          3.9154646396636963,
          -1.8426200151443481,
          -1.7470978498458862,
          -5.481634140014648,
          -3.7489683628082275,
          -10.125178337097168,
          -3.761674165725708,
          -2.471155881881714,
          -5.807934761047363,
          -4.190173625946045,
          -2.662513494491577,
          -6.7639288902282715,
          -6.526571273803711,
          -5.054406642913818,
          -4.2106451988220215,
          2.4552595615386963,
          -1.202506184577942,
          1.763609766960144,
          2.321349620819092,
          -2.5356268882751465,
          0.539793074131012,
          1.0744456052780151,
          3.8401176929473877,
          2.698129177093506,
          -0.1549902707338333
         ],
         "yaxis": "y6"
        }
       ],
       "layout": {
        "height": 600,
        "template": {
         "data": {
          "bar": [
           {
            "error_x": {
             "color": "#2a3f5f"
            },
            "error_y": {
             "color": "#2a3f5f"
            },
            "marker": {
             "line": {
              "color": "#E5ECF6",
              "width": 0.5
             },
             "pattern": {
              "fillmode": "overlay",
              "size": 10,
              "solidity": 0.2
             }
            },
            "type": "bar"
           }
          ],
          "barpolar": [
           {
            "marker": {
             "line": {
              "color": "#E5ECF6",
              "width": 0.5
             },
             "pattern": {
              "fillmode": "overlay",
              "size": 10,
              "solidity": 0.2
             }
            },
            "type": "barpolar"
           }
          ],
          "carpet": [
           {
            "aaxis": {
             "endlinecolor": "#2a3f5f",
             "gridcolor": "white",
             "linecolor": "white",
             "minorgridcolor": "white",
             "startlinecolor": "#2a3f5f"
            },
            "baxis": {
             "endlinecolor": "#2a3f5f",
             "gridcolor": "white",
             "linecolor": "white",
             "minorgridcolor": "white",
             "startlinecolor": "#2a3f5f"
            },
            "type": "carpet"
           }
          ],
          "choropleth": [
           {
            "colorbar": {
             "outlinewidth": 0,
             "ticks": ""
            },
            "type": "choropleth"
           }
          ],
          "contour": [
           {
            "colorbar": {
             "outlinewidth": 0,
             "ticks": ""
            },
            "colorscale": [
             [
              0,
              "#0d0887"
             ],
             [
              0.1111111111111111,
              "#46039f"
             ],
             [
              0.2222222222222222,
              "#7201a8"
             ],
             [
              0.3333333333333333,
              "#9c179e"
             ],
             [
              0.4444444444444444,
              "#bd3786"
             ],
             [
              0.5555555555555556,
              "#d8576b"
             ],
             [
              0.6666666666666666,
              "#ed7953"
             ],
             [
              0.7777777777777778,
              "#fb9f3a"
             ],
             [
              0.8888888888888888,
              "#fdca26"
             ],
             [
              1,
              "#f0f921"
             ]
            ],
            "type": "contour"
           }
          ],
          "contourcarpet": [
           {
            "colorbar": {
             "outlinewidth": 0,
             "ticks": ""
            },
            "type": "contourcarpet"
           }
          ],
          "heatmap": [
           {
            "colorbar": {
             "outlinewidth": 0,
             "ticks": ""
            },
            "colorscale": [
             [
              0,
              "#0d0887"
             ],
             [
              0.1111111111111111,
              "#46039f"
             ],
             [
              0.2222222222222222,
              "#7201a8"
             ],
             [
              0.3333333333333333,
              "#9c179e"
             ],
             [
              0.4444444444444444,
              "#bd3786"
             ],
             [
              0.5555555555555556,
              "#d8576b"
             ],
             [
              0.6666666666666666,
              "#ed7953"
             ],
             [
              0.7777777777777778,
              "#fb9f3a"
             ],
             [
              0.8888888888888888,
              "#fdca26"
             ],
             [
              1,
              "#f0f921"
             ]
            ],
            "type": "heatmap"
           }
          ],
          "heatmapgl": [
           {
            "colorbar": {
             "outlinewidth": 0,
             "ticks": ""
            },
            "colorscale": [
             [
              0,
              "#0d0887"
             ],
             [
              0.1111111111111111,
              "#46039f"
             ],
             [
              0.2222222222222222,
              "#7201a8"
             ],
             [
              0.3333333333333333,
              "#9c179e"
             ],
             [
              0.4444444444444444,
              "#bd3786"
             ],
             [
              0.5555555555555556,
              "#d8576b"
             ],
             [
              0.6666666666666666,
              "#ed7953"
             ],
             [
              0.7777777777777778,
              "#fb9f3a"
             ],
             [
              0.8888888888888888,
              "#fdca26"
             ],
             [
              1,
              "#f0f921"
             ]
            ],
            "type": "heatmapgl"
           }
          ],
          "histogram": [
           {
            "marker": {
             "pattern": {
              "fillmode": "overlay",
              "size": 10,
              "solidity": 0.2
             }
            },
            "type": "histogram"
           }
          ],
          "histogram2d": [
           {
            "colorbar": {
             "outlinewidth": 0,
             "ticks": ""
            },
            "colorscale": [
             [
              0,
              "#0d0887"
             ],
             [
              0.1111111111111111,
              "#46039f"
             ],
             [
              0.2222222222222222,
              "#7201a8"
             ],
             [
              0.3333333333333333,
              "#9c179e"
             ],
             [
              0.4444444444444444,
              "#bd3786"
             ],
             [
              0.5555555555555556,
              "#d8576b"
             ],
             [
              0.6666666666666666,
              "#ed7953"
             ],
             [
              0.7777777777777778,
              "#fb9f3a"
             ],
             [
              0.8888888888888888,
              "#fdca26"
             ],
             [
              1,
              "#f0f921"
             ]
            ],
            "type": "histogram2d"
           }
          ],
          "histogram2dcontour": [
           {
            "colorbar": {
             "outlinewidth": 0,
             "ticks": ""
            },
            "colorscale": [
             [
              0,
              "#0d0887"
             ],
             [
              0.1111111111111111,
              "#46039f"
             ],
             [
              0.2222222222222222,
              "#7201a8"
             ],
             [
              0.3333333333333333,
              "#9c179e"
             ],
             [
              0.4444444444444444,
              "#bd3786"
             ],
             [
              0.5555555555555556,
              "#d8576b"
             ],
             [
              0.6666666666666666,
              "#ed7953"
             ],
             [
              0.7777777777777778,
              "#fb9f3a"
             ],
             [
              0.8888888888888888,
              "#fdca26"
             ],
             [
              1,
              "#f0f921"
             ]
            ],
            "type": "histogram2dcontour"
           }
          ],
          "mesh3d": [
           {
            "colorbar": {
             "outlinewidth": 0,
             "ticks": ""
            },
            "type": "mesh3d"
           }
          ],
          "parcoords": [
           {
            "line": {
             "colorbar": {
              "outlinewidth": 0,
              "ticks": ""
             }
            },
            "type": "parcoords"
           }
          ],
          "pie": [
           {
            "automargin": true,
            "type": "pie"
           }
          ],
          "scatter": [
           {
            "fillpattern": {
             "fillmode": "overlay",
             "size": 10,
             "solidity": 0.2
            },
            "type": "scatter"
           }
          ],
          "scatter3d": [
           {
            "line": {
             "colorbar": {
              "outlinewidth": 0,
              "ticks": ""
             }
            },
            "marker": {
             "colorbar": {
              "outlinewidth": 0,
              "ticks": ""
             }
            },
            "type": "scatter3d"
           }
          ],
          "scattercarpet": [
           {
            "marker": {
             "colorbar": {
              "outlinewidth": 0,
              "ticks": ""
             }
            },
            "type": "scattercarpet"
           }
          ],
          "scattergeo": [
           {
            "marker": {
             "colorbar": {
              "outlinewidth": 0,
              "ticks": ""
             }
            },
            "type": "scattergeo"
           }
          ],
          "scattergl": [
           {
            "marker": {
             "colorbar": {
              "outlinewidth": 0,
              "ticks": ""
             }
            },
            "type": "scattergl"
           }
          ],
          "scattermapbox": [
           {
            "marker": {
             "colorbar": {
              "outlinewidth": 0,
              "ticks": ""
             }
            },
            "type": "scattermapbox"
           }
          ],
          "scatterpolar": [
           {
            "marker": {
             "colorbar": {
              "outlinewidth": 0,
              "ticks": ""
             }
            },
            "type": "scatterpolar"
           }
          ],
          "scatterpolargl": [
           {
            "marker": {
             "colorbar": {
              "outlinewidth": 0,
              "ticks": ""
             }
            },
            "type": "scatterpolargl"
           }
          ],
          "scatterternary": [
           {
            "marker": {
             "colorbar": {
              "outlinewidth": 0,
              "ticks": ""
             }
            },
            "type": "scatterternary"
           }
          ],
          "surface": [
           {
            "colorbar": {
             "outlinewidth": 0,
             "ticks": ""
            },
            "colorscale": [
             [
              0,
              "#0d0887"
             ],
             [
              0.1111111111111111,
              "#46039f"
             ],
             [
              0.2222222222222222,
              "#7201a8"
             ],
             [
              0.3333333333333333,
              "#9c179e"
             ],
             [
              0.4444444444444444,
              "#bd3786"
             ],
             [
              0.5555555555555556,
              "#d8576b"
             ],
             [
              0.6666666666666666,
              "#ed7953"
             ],
             [
              0.7777777777777778,
              "#fb9f3a"
             ],
             [
              0.8888888888888888,
              "#fdca26"
             ],
             [
              1,
              "#f0f921"
             ]
            ],
            "type": "surface"
           }
          ],
          "table": [
           {
            "cells": {
             "fill": {
              "color": "#EBF0F8"
             },
             "line": {
              "color": "white"
             }
            },
            "header": {
             "fill": {
              "color": "#C8D4E3"
             },
             "line": {
              "color": "white"
             }
            },
            "type": "table"
           }
          ]
         },
         "layout": {
          "annotationdefaults": {
           "arrowcolor": "#2a3f5f",
           "arrowhead": 0,
           "arrowwidth": 1
          },
          "autotypenumbers": "strict",
          "coloraxis": {
           "colorbar": {
            "outlinewidth": 0,
            "ticks": ""
           }
          },
          "colorscale": {
           "diverging": [
            [
             0,
             "#8e0152"
            ],
            [
             0.1,
             "#c51b7d"
            ],
            [
             0.2,
             "#de77ae"
            ],
            [
             0.3,
             "#f1b6da"
            ],
            [
             0.4,
             "#fde0ef"
            ],
            [
             0.5,
             "#f7f7f7"
            ],
            [
             0.6,
             "#e6f5d0"
            ],
            [
             0.7,
             "#b8e186"
            ],
            [
             0.8,
             "#7fbc41"
            ],
            [
             0.9,
             "#4d9221"
            ],
            [
             1,
             "#276419"
            ]
           ],
           "sequential": [
            [
             0,
             "#0d0887"
            ],
            [
             0.1111111111111111,
             "#46039f"
            ],
            [
             0.2222222222222222,
             "#7201a8"
            ],
            [
             0.3333333333333333,
             "#9c179e"
            ],
            [
             0.4444444444444444,
             "#bd3786"
            ],
            [
             0.5555555555555556,
             "#d8576b"
            ],
            [
             0.6666666666666666,
             "#ed7953"
            ],
            [
             0.7777777777777778,
             "#fb9f3a"
            ],
            [
             0.8888888888888888,
             "#fdca26"
            ],
            [
             1,
             "#f0f921"
            ]
           ],
           "sequentialminus": [
            [
             0,
             "#0d0887"
            ],
            [
             0.1111111111111111,
             "#46039f"
            ],
            [
             0.2222222222222222,
             "#7201a8"
            ],
            [
             0.3333333333333333,
             "#9c179e"
            ],
            [
             0.4444444444444444,
             "#bd3786"
            ],
            [
             0.5555555555555556,
             "#d8576b"
            ],
            [
             0.6666666666666666,
             "#ed7953"
            ],
            [
             0.7777777777777778,
             "#fb9f3a"
            ],
            [
             0.8888888888888888,
             "#fdca26"
            ],
            [
             1,
             "#f0f921"
            ]
           ]
          },
          "colorway": [
           "#636efa",
           "#EF553B",
           "#00cc96",
           "#ab63fa",
           "#FFA15A",
           "#19d3f3",
           "#FF6692",
           "#B6E880",
           "#FF97FF",
           "#FECB52"
          ],
          "font": {
           "color": "#2a3f5f"
          },
          "geo": {
           "bgcolor": "white",
           "lakecolor": "white",
           "landcolor": "#E5ECF6",
           "showlakes": true,
           "showland": true,
           "subunitcolor": "white"
          },
          "hoverlabel": {
           "align": "left"
          },
          "hovermode": "closest",
          "mapbox": {
           "style": "light"
          },
          "paper_bgcolor": "white",
          "plot_bgcolor": "#E5ECF6",
          "polar": {
           "angularaxis": {
            "gridcolor": "white",
            "linecolor": "white",
            "ticks": ""
           },
           "bgcolor": "#E5ECF6",
           "radialaxis": {
            "gridcolor": "white",
            "linecolor": "white",
            "ticks": ""
           }
          },
          "scene": {
           "xaxis": {
            "backgroundcolor": "#E5ECF6",
            "gridcolor": "white",
            "gridwidth": 2,
            "linecolor": "white",
            "showbackground": true,
            "ticks": "",
            "zerolinecolor": "white"
           },
           "yaxis": {
            "backgroundcolor": "#E5ECF6",
            "gridcolor": "white",
            "gridwidth": 2,
            "linecolor": "white",
            "showbackground": true,
            "ticks": "",
            "zerolinecolor": "white"
           },
           "zaxis": {
            "backgroundcolor": "#E5ECF6",
            "gridcolor": "white",
            "gridwidth": 2,
            "linecolor": "white",
            "showbackground": true,
            "ticks": "",
            "zerolinecolor": "white"
           }
          },
          "shapedefaults": {
           "line": {
            "color": "#2a3f5f"
           }
          },
          "ternary": {
           "aaxis": {
            "gridcolor": "white",
            "linecolor": "white",
            "ticks": ""
           },
           "baxis": {
            "gridcolor": "white",
            "linecolor": "white",
            "ticks": ""
           },
           "bgcolor": "#E5ECF6",
           "caxis": {
            "gridcolor": "white",
            "linecolor": "white",
            "ticks": ""
           }
          },
          "title": {
           "x": 0.05
          },
          "xaxis": {
           "automargin": true,
           "gridcolor": "white",
           "linecolor": "white",
           "ticks": "",
           "title": {
            "standoff": 15
           },
           "zerolinecolor": "white",
           "zerolinewidth": 2
          },
          "yaxis": {
           "automargin": true,
           "gridcolor": "white",
           "linecolor": "white",
           "ticks": "",
           "title": {
            "standoff": 15
           },
           "zerolinecolor": "white",
           "zerolinewidth": 2
          }
         }
        },
        "title": {
         "text": "tiger_beetle"
        },
        "width": 1000,
        "xaxis": {
         "anchor": "y",
         "domain": [
          0,
          0.1388888888888889
         ]
        },
        "xaxis2": {
         "anchor": "y2",
         "domain": [
          0.17222222222222222,
          0.3111111111111111
         ]
        },
        "xaxis3": {
         "anchor": "y3",
         "domain": [
          0.34444444444444444,
          0.48333333333333334
         ]
        },
        "xaxis4": {
         "anchor": "y4",
         "domain": [
          0.5166666666666667,
          0.6555555555555557
         ]
        },
        "xaxis5": {
         "anchor": "y5",
         "domain": [
          0.6888888888888889,
          0.8277777777777777
         ]
        },
        "xaxis6": {
         "anchor": "y6",
         "domain": [
          0.861111111111111,
          1
         ]
        },
        "yaxis": {
         "anchor": "x",
         "domain": [
          0,
          1
         ]
        },
        "yaxis2": {
         "anchor": "x2",
         "domain": [
          0,
          1
         ]
        },
        "yaxis3": {
         "anchor": "x3",
         "domain": [
          0,
          1
         ]
        },
        "yaxis4": {
         "anchor": "x4",
         "domain": [
          0,
          1
         ]
        },
        "yaxis5": {
         "anchor": "x5",
         "domain": [
          0,
          1
         ]
        },
        "yaxis6": {
         "anchor": "x6",
         "domain": [
          0,
          1
         ]
        }
       }
      },
      "text/html": [
       "<div>                            <div id=\"0061b838-25b3-4d0c-8197-5010e8620442\" class=\"plotly-graph-div\" style=\"height:600px; width:1000px;\"></div>            <script type=\"text/javascript\">                require([\"plotly\"], function(Plotly) {                    window.PLOTLYENV=window.PLOTLYENV || {};                                    if (document.getElementById(\"0061b838-25b3-4d0c-8197-5010e8620442\")) {                    Plotly.newPlot(                        \"0061b838-25b3-4d0c-8197-5010e8620442\",                        [{\"marker\":{\"color\":[\"rgb(31, 119, 180)\",\"rgb(31, 119, 180)\",\"rgb(31, 119, 180)\",\"rgb(31, 119, 180)\",\"rgb(31, 119, 180)\",\"rgb(31, 119, 180)\",\"rgb(31, 119, 180)\",\"rgb(31, 119, 180)\",\"rgb(31, 119, 180)\",\"rgb(31, 119, 180)\",\"rgb(255, 127, 14)\",\"rgb(255, 127, 14)\",\"rgb(255, 127, 14)\",\"rgb(255, 127, 14)\",\"rgb(255, 127, 14)\",\"rgb(255, 127, 14)\",\"rgb(255, 127, 14)\",\"rgb(255, 127, 14)\",\"rgb(255, 127, 14)\",\"rgb(255, 127, 14)\",\"rgb(44, 160, 44)\",\"rgb(44, 160, 44)\",\"rgb(44, 160, 44)\",\"rgb(44, 160, 44)\",\"rgb(44, 160, 44)\",\"rgb(44, 160, 44)\",\"rgb(44, 160, 44)\",\"rgb(44, 160, 44)\",\"rgb(44, 160, 44)\",\"rgb(44, 160, 44)\",\"rgb(214, 39, 40)\",\"rgb(214, 39, 40)\",\"rgb(214, 39, 40)\",\"rgb(214, 39, 40)\",\"rgb(214, 39, 40)\",\"rgb(214, 39, 40)\",\"rgb(214, 39, 40)\",\"rgb(214, 39, 40)\",\"rgb(214, 39, 40)\",\"rgb(214, 39, 40)\",\"rgb(148, 103, 189)\",\"rgb(148, 103, 189)\",\"rgb(148, 103, 189)\",\"rgb(148, 103, 189)\",\"rgb(148, 103, 189)\",\"rgb(148, 103, 189)\",\"rgb(148, 103, 189)\",\"rgb(148, 103, 189)\",\"rgb(148, 103, 189)\",\"rgb(148, 103, 189)\",\"rgb(140, 86, 75)\",\"rgb(140, 86, 75)\",\"rgb(140, 86, 75)\",\"rgb(140, 86, 75)\",\"rgb(140, 86, 75)\",\"rgb(140, 86, 75)\",\"rgb(140, 86, 75)\",\"rgb(140, 86, 75)\",\"rgb(140, 86, 75)\",\"rgb(140, 86, 75)\",\"rgb(227, 119, 194)\",\"rgb(227, 119, 194)\",\"rgb(227, 119, 194)\",\"rgb(227, 119, 194)\",\"rgb(227, 119, 194)\",\"rgb(227, 119, 194)\",\"rgb(227, 119, 194)\",\"rgb(227, 119, 194)\",\"rgb(227, 119, 194)\",\"rgb(227, 119, 194)\",\"rgb(127, 127, 127)\",\"rgb(127, 127, 127)\",\"rgb(127, 127, 127)\",\"rgb(127, 127, 127)\",\"rgb(127, 127, 127)\",\"rgb(127, 127, 127)\",\"rgb(127, 127, 127)\",\"rgb(127, 127, 127)\",\"rgb(127, 127, 127)\",\"rgb(127, 127, 127)\",\"rgb(188, 189, 34)\",\"rgb(188, 189, 34)\",\"rgb(188, 189, 34)\",\"rgb(188, 189, 34)\",\"rgb(188, 189, 34)\",\"rgb(188, 189, 34)\",\"rgb(188, 189, 34)\",\"rgb(188, 189, 34)\",\"rgb(188, 189, 34)\",\"rgb(188, 189, 34)\",\"rgb(23, 190, 207)\",\"rgb(23, 190, 207)\",\"rgb(23, 190, 207)\",\"rgb(23, 190, 207)\",\"rgb(23, 190, 207)\",\"rgb(23, 190, 207)\",\"rgb(23, 190, 207)\",\"rgb(23, 190, 207)\",\"rgb(23, 190, 207)\",\"rgb(23, 190, 207)\"]},\"mode\":\"markers\",\"x\":[3.004507541656494,15.380291938781738,10.5704927444458,6.386040210723877,15.038509368896484,12.557077407836914,9.732744216918945,12.530158042907715,7.965938091278076,14.68340015411377,-0.19612176716327667,-1.4678128957748413,0.12976674735546112,-0.6416663527488708,-2.5717456340789795,0.6187440752983093,-0.5241124629974365,-2.909529447555542,4.162355422973633,-1.4003993272781372,-3.052706241607666,-0.007138419896364212,0.8889434933662415,0.30053043365478516,-5.363246917724609,-2.0048701763153076,-2.3183820247650146,0.06402336061000824,-1.9368665218353271,-1.349934697151184,-0.4023802578449249,-0.5442386865615845,-3.261995553970337,-0.40655747056007385,-4.954545021057129,3.096359968185425,2.5272634029388428,-1.7763267755508423,-5.847685813903809,-3.271972894668579,1.5360249280929565,-3.0074284076690674,-1.012992024421692,-1.1129330396652222,-0.01928575709462166,0.30913904309272766,0.22170941531658173,0.0075556449592113495,1.9595080614089966,2.1562588214874268,-6.030766010284424,-1.6387137174606323,1.1324273347854614,-4.198517322540283,-1.3786686658859253,-3.121255397796631,0.050227802246809006,-7.231386661529541,3.186955690383911,-2.9323155879974365,-1.5930455923080444,-1.4885998964309692,-6.274661064147949,-0.9826565384864807,-1.3211805820465088,-1.9923676252365112,-1.508445382118225,-1.8888709545135498,-3.7721683979034424,1.6031204462051392,-4.2794880867004395,-4.570207118988037,-1.9757331609725952,-2.962047815322876,-4.264034271240234,1.5123575925827026,-1.0535591840744019,-0.1993640512228012,-1.948192834854126,-1.255643606185913,-10.862406730651855,-3.082139253616333,-2.3760223388671875,-6.440079689025879,-6.18658447265625,-2.910627603530884,-6.227687835693359,-7.487008571624756,-4.723276615142822,-5.611446380615234,3.209653615951538,0.5853326916694641,2.2994656562805176,1.5335426330566406,-2.569655418395996,0.5264223217964172,0.08657984435558319,2.4412364959716797,2.7515504360198975,0.2513844072818756],\"y\":[7.7669477462768555,21.123794555664062,20.46268081665039,19.802824020385742,16.642976760864258,15.279073715209961,14.852067947387695,15.106178283691406,15.063925743103027,18.4719295501709,1.399144172668457,-1.3196687698364258,0.4347863495349884,-0.08502735197544098,-0.24406076967716217,0.9749664664268494,-0.3885900676250458,-2.3418872356414795,4.16610050201416,-1.060168981552124,-3.683530569076538,-1.652563452720642,-1.7167922258377075,-2.0865113735198975,-3.518495798110962,-4.2277350425720215,-0.9999774098396301,-2.683871269226074,-1.5676394701004028,-1.0871332883834839,-0.9485496878623962,-1.0903065204620361,-3.364971876144409,-0.5803971886634827,-4.581081867218018,2.744643211364746,2.7683064937591553,-1.6796008348464966,-5.880188465118408,-3.466515302658081,-0.10886362195014954,-0.3730880916118622,0.08233802020549774,-0.2701509892940521,3.1845667362213135,2.632322072982788,3.251178026199341,0.3102785348892212,5.202922821044922,3.3280231952667236,-8.73912525177002,-1.8061776161193848,1.3701883554458618,-4.3498029708862305,-0.7726522088050842,-5.254192352294922,2.3572731018066406,-4.205260276794434,2.354207754135132,-3.175152063369751,-4.656261444091797,-2.736915349960327,-7.097317695617676,-1.4234719276428223,-4.571697235107422,-2.583674669265747,-2.3706672191619873,-3.7888965606689453,-4.538203716278076,1.2211363315582275,-7.3360748291015625,-4.138755798339844,-2.1005666255950928,-4.9120941162109375,-3.8726003170013428,3.9154646396636963,-1.8426200151443481,-1.7470978498458862,-5.481634140014648,-3.7489683628082275,-10.125178337097168,-3.761674165725708,-2.471155881881714,-5.807934761047363,-4.190173625946045,-2.662513494491577,-6.7639288902282715,-6.526571273803711,-5.054406642913818,-4.2106451988220215,2.4552595615386963,-1.202506184577942,1.763609766960144,2.321349620819092,-2.5356268882751465,0.539793074131012,1.0744456052780151,3.8401176929473877,2.698129177093506,-0.1549902707338333],\"type\":\"scatter\",\"xaxis\":\"x\",\"yaxis\":\"y\"},{\"marker\":{\"color\":[\"rgb(31, 119, 180)\",\"rgb(31, 119, 180)\",\"rgb(31, 119, 180)\",\"rgb(31, 119, 180)\",\"rgb(31, 119, 180)\",\"rgb(31, 119, 180)\",\"rgb(31, 119, 180)\",\"rgb(31, 119, 180)\",\"rgb(31, 119, 180)\",\"rgb(31, 119, 180)\",\"rgb(255, 127, 14)\",\"rgb(255, 127, 14)\",\"rgb(255, 127, 14)\",\"rgb(255, 127, 14)\",\"rgb(255, 127, 14)\",\"rgb(255, 127, 14)\",\"rgb(255, 127, 14)\",\"rgb(255, 127, 14)\",\"rgb(255, 127, 14)\",\"rgb(255, 127, 14)\",\"rgb(44, 160, 44)\",\"rgb(44, 160, 44)\",\"rgb(44, 160, 44)\",\"rgb(44, 160, 44)\",\"rgb(44, 160, 44)\",\"rgb(44, 160, 44)\",\"rgb(44, 160, 44)\",\"rgb(44, 160, 44)\",\"rgb(44, 160, 44)\",\"rgb(44, 160, 44)\",\"rgb(214, 39, 40)\",\"rgb(214, 39, 40)\",\"rgb(214, 39, 40)\",\"rgb(214, 39, 40)\",\"rgb(214, 39, 40)\",\"rgb(214, 39, 40)\",\"rgb(214, 39, 40)\",\"rgb(214, 39, 40)\",\"rgb(214, 39, 40)\",\"rgb(214, 39, 40)\",\"rgb(148, 103, 189)\",\"rgb(148, 103, 189)\",\"rgb(148, 103, 189)\",\"rgb(148, 103, 189)\",\"rgb(148, 103, 189)\",\"rgb(148, 103, 189)\",\"rgb(148, 103, 189)\",\"rgb(148, 103, 189)\",\"rgb(148, 103, 189)\",\"rgb(148, 103, 189)\",\"rgb(140, 86, 75)\",\"rgb(140, 86, 75)\",\"rgb(140, 86, 75)\",\"rgb(140, 86, 75)\",\"rgb(140, 86, 75)\",\"rgb(140, 86, 75)\",\"rgb(140, 86, 75)\",\"rgb(140, 86, 75)\",\"rgb(140, 86, 75)\",\"rgb(140, 86, 75)\",\"rgb(227, 119, 194)\",\"rgb(227, 119, 194)\",\"rgb(227, 119, 194)\",\"rgb(227, 119, 194)\",\"rgb(227, 119, 194)\",\"rgb(227, 119, 194)\",\"rgb(227, 119, 194)\",\"rgb(227, 119, 194)\",\"rgb(227, 119, 194)\",\"rgb(227, 119, 194)\",\"rgb(127, 127, 127)\",\"rgb(127, 127, 127)\",\"rgb(127, 127, 127)\",\"rgb(127, 127, 127)\",\"rgb(127, 127, 127)\",\"rgb(127, 127, 127)\",\"rgb(127, 127, 127)\",\"rgb(127, 127, 127)\",\"rgb(127, 127, 127)\",\"rgb(127, 127, 127)\",\"rgb(188, 189, 34)\",\"rgb(188, 189, 34)\",\"rgb(188, 189, 34)\",\"rgb(188, 189, 34)\",\"rgb(188, 189, 34)\",\"rgb(188, 189, 34)\",\"rgb(188, 189, 34)\",\"rgb(188, 189, 34)\",\"rgb(188, 189, 34)\",\"rgb(188, 189, 34)\",\"rgb(23, 190, 207)\",\"rgb(23, 190, 207)\",\"rgb(23, 190, 207)\",\"rgb(23, 190, 207)\",\"rgb(23, 190, 207)\",\"rgb(23, 190, 207)\",\"rgb(23, 190, 207)\",\"rgb(23, 190, 207)\",\"rgb(23, 190, 207)\",\"rgb(23, 190, 207)\"]},\"mode\":\"markers\",\"x\":[2.9976680278778076,15.164318084716797,10.4827299118042,6.290774345397949,14.749211311340332,12.437451362609863,9.768413543701172,12.509988784790039,8.03402042388916,14.613372802734375,-0.16605348885059357,-1.5397958755493164,0.07395665347576141,-0.6952629685401917,-2.5136334896087646,0.5789466500282288,-0.5038706660270691,-3.075803279876709,4.068418025970459,-1.389967441558838,-3.1426515579223633,0.08630342781543732,0.8892384171485901,0.239325150847435,-5.434754848480225,-1.9497514963150024,-2.361811637878418,0.05567411705851555,-1.878185749053955,-1.3587766885757446,-0.41327032446861267,-0.5713983178138733,-3.2156355381011963,-0.3908258080482483,-4.910506248474121,3.1345996856689453,2.486193895339966,-1.7525503635406494,-5.830287933349609,-3.253633737564087,1.4969849586486816,-3.0570831298828125,-1.0165939331054688,-1.1855498552322388,0.012319963425397873,0.2973124086856842,0.15004520118236542,0.009569566696882248,1.960469126701355,2.1971428394317627,-5.951336860656738,-1.6097074747085571,1.123531460762024,-4.135833740234375,-1.2962042093276978,-3.0821354389190674,-0.0209059901535511,-7.183205604553223,3.2492048740386963,-3.0086710453033447,-1.552846908569336,-1.3731220960617065,-6.250115394592285,-1.0714387893676758,-1.3664757013320923,-1.851181983947754,-1.513814926147461,-1.9120186567306519,-3.7640738487243652,1.5642811059951782,-4.2481889724731445,-4.446042537689209,-1.9240539073944092,-2.8345277309417725,-4.210475921630859,1.523586630821228,-1.0636156797409058,-0.13516102731227875,-2.055447816848755,-1.2621303796768188,-10.671099662780762,-3.0040619373321533,-2.277770757675171,-6.375082969665527,-6.258821964263916,-2.8972833156585693,-6.1819562911987305,-7.394347190856934,-4.617559432983398,-5.576468467712402,3.334031343460083,0.573283851146698,2.2108154296875,1.3887155055999756,-2.7105510234832764,0.44826391339302063,0.15280203521251678,2.393021821975708,2.7912895679473877,0.2314414232969284],\"y\":[7.7669477462768555,21.123794555664062,20.46268081665039,19.802824020385742,16.642976760864258,15.279073715209961,14.852067947387695,15.106178283691406,15.063925743103027,18.4719295501709,1.399144172668457,-1.3196687698364258,0.4347863495349884,-0.08502735197544098,-0.24406076967716217,0.9749664664268494,-0.3885900676250458,-2.3418872356414795,4.16610050201416,-1.060168981552124,-3.683530569076538,-1.652563452720642,-1.7167922258377075,-2.0865113735198975,-3.518495798110962,-4.2277350425720215,-0.9999774098396301,-2.683871269226074,-1.5676394701004028,-1.0871332883834839,-0.9485496878623962,-1.0903065204620361,-3.364971876144409,-0.5803971886634827,-4.581081867218018,2.744643211364746,2.7683064937591553,-1.6796008348464966,-5.880188465118408,-3.466515302658081,-0.10886362195014954,-0.3730880916118622,0.08233802020549774,-0.2701509892940521,3.1845667362213135,2.632322072982788,3.251178026199341,0.3102785348892212,5.202922821044922,3.3280231952667236,-8.73912525177002,-1.8061776161193848,1.3701883554458618,-4.3498029708862305,-0.7726522088050842,-5.254192352294922,2.3572731018066406,-4.205260276794434,2.354207754135132,-3.175152063369751,-4.656261444091797,-2.736915349960327,-7.097317695617676,-1.4234719276428223,-4.571697235107422,-2.583674669265747,-2.3706672191619873,-3.7888965606689453,-4.538203716278076,1.2211363315582275,-7.3360748291015625,-4.138755798339844,-2.1005666255950928,-4.9120941162109375,-3.8726003170013428,3.9154646396636963,-1.8426200151443481,-1.7470978498458862,-5.481634140014648,-3.7489683628082275,-10.125178337097168,-3.761674165725708,-2.471155881881714,-5.807934761047363,-4.190173625946045,-2.662513494491577,-6.7639288902282715,-6.526571273803711,-5.054406642913818,-4.2106451988220215,2.4552595615386963,-1.202506184577942,1.763609766960144,2.321349620819092,-2.5356268882751465,0.539793074131012,1.0744456052780151,3.8401176929473877,2.698129177093506,-0.1549902707338333],\"type\":\"scatter\",\"xaxis\":\"x2\",\"yaxis\":\"y2\"},{\"marker\":{\"color\":[\"rgb(31, 119, 180)\",\"rgb(31, 119, 180)\",\"rgb(31, 119, 180)\",\"rgb(31, 119, 180)\",\"rgb(31, 119, 180)\",\"rgb(31, 119, 180)\",\"rgb(31, 119, 180)\",\"rgb(31, 119, 180)\",\"rgb(31, 119, 180)\",\"rgb(31, 119, 180)\",\"rgb(255, 127, 14)\",\"rgb(255, 127, 14)\",\"rgb(255, 127, 14)\",\"rgb(255, 127, 14)\",\"rgb(255, 127, 14)\",\"rgb(255, 127, 14)\",\"rgb(255, 127, 14)\",\"rgb(255, 127, 14)\",\"rgb(255, 127, 14)\",\"rgb(255, 127, 14)\",\"rgb(44, 160, 44)\",\"rgb(44, 160, 44)\",\"rgb(44, 160, 44)\",\"rgb(44, 160, 44)\",\"rgb(44, 160, 44)\",\"rgb(44, 160, 44)\",\"rgb(44, 160, 44)\",\"rgb(44, 160, 44)\",\"rgb(44, 160, 44)\",\"rgb(44, 160, 44)\",\"rgb(214, 39, 40)\",\"rgb(214, 39, 40)\",\"rgb(214, 39, 40)\",\"rgb(214, 39, 40)\",\"rgb(214, 39, 40)\",\"rgb(214, 39, 40)\",\"rgb(214, 39, 40)\",\"rgb(214, 39, 40)\",\"rgb(214, 39, 40)\",\"rgb(214, 39, 40)\",\"rgb(148, 103, 189)\",\"rgb(148, 103, 189)\",\"rgb(148, 103, 189)\",\"rgb(148, 103, 189)\",\"rgb(148, 103, 189)\",\"rgb(148, 103, 189)\",\"rgb(148, 103, 189)\",\"rgb(148, 103, 189)\",\"rgb(148, 103, 189)\",\"rgb(148, 103, 189)\",\"rgb(140, 86, 75)\",\"rgb(140, 86, 75)\",\"rgb(140, 86, 75)\",\"rgb(140, 86, 75)\",\"rgb(140, 86, 75)\",\"rgb(140, 86, 75)\",\"rgb(140, 86, 75)\",\"rgb(140, 86, 75)\",\"rgb(140, 86, 75)\",\"rgb(140, 86, 75)\",\"rgb(227, 119, 194)\",\"rgb(227, 119, 194)\",\"rgb(227, 119, 194)\",\"rgb(227, 119, 194)\",\"rgb(227, 119, 194)\",\"rgb(227, 119, 194)\",\"rgb(227, 119, 194)\",\"rgb(227, 119, 194)\",\"rgb(227, 119, 194)\",\"rgb(227, 119, 194)\",\"rgb(127, 127, 127)\",\"rgb(127, 127, 127)\",\"rgb(127, 127, 127)\",\"rgb(127, 127, 127)\",\"rgb(127, 127, 127)\",\"rgb(127, 127, 127)\",\"rgb(127, 127, 127)\",\"rgb(127, 127, 127)\",\"rgb(127, 127, 127)\",\"rgb(127, 127, 127)\",\"rgb(188, 189, 34)\",\"rgb(188, 189, 34)\",\"rgb(188, 189, 34)\",\"rgb(188, 189, 34)\",\"rgb(188, 189, 34)\",\"rgb(188, 189, 34)\",\"rgb(188, 189, 34)\",\"rgb(188, 189, 34)\",\"rgb(188, 189, 34)\",\"rgb(188, 189, 34)\",\"rgb(23, 190, 207)\",\"rgb(23, 190, 207)\",\"rgb(23, 190, 207)\",\"rgb(23, 190, 207)\",\"rgb(23, 190, 207)\",\"rgb(23, 190, 207)\",\"rgb(23, 190, 207)\",\"rgb(23, 190, 207)\",\"rgb(23, 190, 207)\",\"rgb(23, 190, 207)\"]},\"mode\":\"markers\",\"x\":[2.6509106159210205,14.873050689697266,10.521428108215332,6.0073041915893555,14.680519104003906,12.27408504486084,9.665372848510742,12.231549263000488,7.9652814865112305,14.227999687194824,-0.11282981932163239,-1.6930183172225952,-0.003797251731157303,-0.5804198384284973,-2.6937263011932373,0.5682299733161926,-0.5374220013618469,-3.1490299701690674,4.115078926086426,-1.247146487236023,-2.9867806434631348,0.2064772993326187,1.1145631074905396,0.24275031685829163,-5.690487861633301,-1.775645136833191,-2.493759870529175,0.252245157957077,-2.0132572650909424,-1.12799072265625,-0.3964385688304901,-0.66750168800354,-3.197431802749634,-0.3624640703201294,-4.855644226074219,3.224121332168579,2.3307316303253174,-1.816193699836731,-5.8082075119018555,-3.3085196018218994,1.5749552249908447,-2.7973785400390625,-0.6752751469612122,-1.0590248107910156,-0.49103495478630066,0.13618235290050507,0.2345096319913864,0.07332037389278412,1.9285058975219727,2.208665132522583,-5.874186992645264,-1.6165512800216675,1.187626600265503,-3.92077374458313,-1.2426809072494507,-2.9105064868927,-0.02320684865117073,-7.056357383728027,3.0685927867889404,-2.661604166030884,-1.487679362297058,-1.0681792497634888,-6.214315414428711,-1.0958185195922852,-1.1428791284561157,-1.4555376768112183,-1.468126893043518,-1.3715791702270508,-3.6109607219696045,1.7674676179885864,-4.272114276885986,-4.2336931228637695,-1.6412138938903809,-2.7159106731414795,-4.199746131896973,1.4775413274765015,-1.179491639137268,-0.13962885737419128,-1.6025774478912354,-0.8212891221046448,-10.260326385498047,-3.026865005493164,-2.2908294200897217,-6.1730122566223145,-6.62716007232666,-2.941636323928833,-6.2561516761779785,-7.050810813903809,-4.673025608062744,-5.305171489715576,3.457221031188965,0.7393631339073181,1.9710243940353394,1.0153217315673828,-2.894052028656006,0.5514577031135559,0.307218462228775,2.2709267139434814,2.8580338954925537,0.3480481207370758],\"y\":[7.7669477462768555,21.123794555664062,20.46268081665039,19.802824020385742,16.642976760864258,15.279073715209961,14.852067947387695,15.106178283691406,15.063925743103027,18.4719295501709,1.399144172668457,-1.3196687698364258,0.4347863495349884,-0.08502735197544098,-0.24406076967716217,0.9749664664268494,-0.3885900676250458,-2.3418872356414795,4.16610050201416,-1.060168981552124,-3.683530569076538,-1.652563452720642,-1.7167922258377075,-2.0865113735198975,-3.518495798110962,-4.2277350425720215,-0.9999774098396301,-2.683871269226074,-1.5676394701004028,-1.0871332883834839,-0.9485496878623962,-1.0903065204620361,-3.364971876144409,-0.5803971886634827,-4.581081867218018,2.744643211364746,2.7683064937591553,-1.6796008348464966,-5.880188465118408,-3.466515302658081,-0.10886362195014954,-0.3730880916118622,0.08233802020549774,-0.2701509892940521,3.1845667362213135,2.632322072982788,3.251178026199341,0.3102785348892212,5.202922821044922,3.3280231952667236,-8.73912525177002,-1.8061776161193848,1.3701883554458618,-4.3498029708862305,-0.7726522088050842,-5.254192352294922,2.3572731018066406,-4.205260276794434,2.354207754135132,-3.175152063369751,-4.656261444091797,-2.736915349960327,-7.097317695617676,-1.4234719276428223,-4.571697235107422,-2.583674669265747,-2.3706672191619873,-3.7888965606689453,-4.538203716278076,1.2211363315582275,-7.3360748291015625,-4.138755798339844,-2.1005666255950928,-4.9120941162109375,-3.8726003170013428,3.9154646396636963,-1.8426200151443481,-1.7470978498458862,-5.481634140014648,-3.7489683628082275,-10.125178337097168,-3.761674165725708,-2.471155881881714,-5.807934761047363,-4.190173625946045,-2.662513494491577,-6.7639288902282715,-6.526571273803711,-5.054406642913818,-4.2106451988220215,2.4552595615386963,-1.202506184577942,1.763609766960144,2.321349620819092,-2.5356268882751465,0.539793074131012,1.0744456052780151,3.8401176929473877,2.698129177093506,-0.1549902707338333],\"type\":\"scatter\",\"xaxis\":\"x3\",\"yaxis\":\"y3\"},{\"marker\":{\"color\":[\"rgb(31, 119, 180)\",\"rgb(31, 119, 180)\",\"rgb(31, 119, 180)\",\"rgb(31, 119, 180)\",\"rgb(31, 119, 180)\",\"rgb(31, 119, 180)\",\"rgb(31, 119, 180)\",\"rgb(31, 119, 180)\",\"rgb(31, 119, 180)\",\"rgb(31, 119, 180)\",\"rgb(255, 127, 14)\",\"rgb(255, 127, 14)\",\"rgb(255, 127, 14)\",\"rgb(255, 127, 14)\",\"rgb(255, 127, 14)\",\"rgb(255, 127, 14)\",\"rgb(255, 127, 14)\",\"rgb(255, 127, 14)\",\"rgb(255, 127, 14)\",\"rgb(255, 127, 14)\",\"rgb(44, 160, 44)\",\"rgb(44, 160, 44)\",\"rgb(44, 160, 44)\",\"rgb(44, 160, 44)\",\"rgb(44, 160, 44)\",\"rgb(44, 160, 44)\",\"rgb(44, 160, 44)\",\"rgb(44, 160, 44)\",\"rgb(44, 160, 44)\",\"rgb(44, 160, 44)\",\"rgb(214, 39, 40)\",\"rgb(214, 39, 40)\",\"rgb(214, 39, 40)\",\"rgb(214, 39, 40)\",\"rgb(214, 39, 40)\",\"rgb(214, 39, 40)\",\"rgb(214, 39, 40)\",\"rgb(214, 39, 40)\",\"rgb(214, 39, 40)\",\"rgb(214, 39, 40)\",\"rgb(148, 103, 189)\",\"rgb(148, 103, 189)\",\"rgb(148, 103, 189)\",\"rgb(148, 103, 189)\",\"rgb(148, 103, 189)\",\"rgb(148, 103, 189)\",\"rgb(148, 103, 189)\",\"rgb(148, 103, 189)\",\"rgb(148, 103, 189)\",\"rgb(148, 103, 189)\",\"rgb(140, 86, 75)\",\"rgb(140, 86, 75)\",\"rgb(140, 86, 75)\",\"rgb(140, 86, 75)\",\"rgb(140, 86, 75)\",\"rgb(140, 86, 75)\",\"rgb(140, 86, 75)\",\"rgb(140, 86, 75)\",\"rgb(140, 86, 75)\",\"rgb(140, 86, 75)\",\"rgb(227, 119, 194)\",\"rgb(227, 119, 194)\",\"rgb(227, 119, 194)\",\"rgb(227, 119, 194)\",\"rgb(227, 119, 194)\",\"rgb(227, 119, 194)\",\"rgb(227, 119, 194)\",\"rgb(227, 119, 194)\",\"rgb(227, 119, 194)\",\"rgb(227, 119, 194)\",\"rgb(127, 127, 127)\",\"rgb(127, 127, 127)\",\"rgb(127, 127, 127)\",\"rgb(127, 127, 127)\",\"rgb(127, 127, 127)\",\"rgb(127, 127, 127)\",\"rgb(127, 127, 127)\",\"rgb(127, 127, 127)\",\"rgb(127, 127, 127)\",\"rgb(127, 127, 127)\",\"rgb(188, 189, 34)\",\"rgb(188, 189, 34)\",\"rgb(188, 189, 34)\",\"rgb(188, 189, 34)\",\"rgb(188, 189, 34)\",\"rgb(188, 189, 34)\",\"rgb(188, 189, 34)\",\"rgb(188, 189, 34)\",\"rgb(188, 189, 34)\",\"rgb(188, 189, 34)\",\"rgb(23, 190, 207)\",\"rgb(23, 190, 207)\",\"rgb(23, 190, 207)\",\"rgb(23, 190, 207)\",\"rgb(23, 190, 207)\",\"rgb(23, 190, 207)\",\"rgb(23, 190, 207)\",\"rgb(23, 190, 207)\",\"rgb(23, 190, 207)\",\"rgb(23, 190, 207)\"]},\"mode\":\"markers\",\"x\":[2.17222261428833,14.14926528930664,9.762595176696777,5.106839179992676,14.053206443786621,12.263986587524414,9.137399673461914,11.645398139953613,7.344595909118652,13.930323600769043,-0.1342896968126297,-1.6979496479034424,-0.22226126492023468,-1.2141553163528442,-2.7515475749969482,0.5780618190765381,-0.9604601263999939,-3.1538655757904053,4.099562168121338,-1.2524152994155884,-2.6806788444519043,-0.22450627386569977,0.8598575592041016,-0.07124443352222443,-5.80556583404541,-1.8067210912704468,-2.600001096725464,0.3115288317203522,-1.995280385017395,-1.276436686515808,-0.6362720727920532,-0.9829012751579285,-3.0450663566589355,-0.3785887360572815,-5.101573467254639,2.8884549140930176,1.8827983140945435,-1.907806396484375,-5.930658340454102,-3.5952727794647217,1.5092488527297974,-2.4604790210723877,-0.2296176701784134,-1.115464687347412,-0.7120112776756287,0.003900330513715744,-0.23026497662067413,0.018700581043958664,1.6546449661254883,1.9100475311279297,-5.373206615447998,-1.4886244535446167,1.155544638633728,-3.438854932785034,-0.983692467212677,-2.8190433979034424,-0.02568109706044197,-6.330627918243408,3.047595739364624,-2.1740126609802246,-1.3201936483383179,-1.08185613155365,-5.808180809020996,-1.145630955696106,-0.6119281053543091,-0.8995813131332397,-1.1281894445419312,-1.0849164724349976,-3.452033758163452,1.9900554418563843,-4.073376655578613,-3.771247625350952,-0.7180253863334656,-2.790844202041626,-4.412240028381348,1.1354210376739502,-1.3404370546340942,-0.3493705987930298,-1.4533387422561646,-0.5686661601066589,-9.857089042663574,-2.9083313941955566,-1.9602497816085815,-5.914731025695801,-7.096033096313477,-2.7268714904785156,-6.0085015296936035,-6.674752235412598,-4.61649227142334,-5.129852771759033,3.491307497024536,0.325507789850235,2.0970284938812256,1.0211548805236816,-3.1829705238342285,0.5957686305046082,0.6332381963729858,2.591608762741089,2.690436840057373,0.5880730748176575],\"y\":[7.7669477462768555,21.123794555664062,20.46268081665039,19.802824020385742,16.642976760864258,15.279073715209961,14.852067947387695,15.106178283691406,15.063925743103027,18.4719295501709,1.399144172668457,-1.3196687698364258,0.4347863495349884,-0.08502735197544098,-0.24406076967716217,0.9749664664268494,-0.3885900676250458,-2.3418872356414795,4.16610050201416,-1.060168981552124,-3.683530569076538,-1.652563452720642,-1.7167922258377075,-2.0865113735198975,-3.518495798110962,-4.2277350425720215,-0.9999774098396301,-2.683871269226074,-1.5676394701004028,-1.0871332883834839,-0.9485496878623962,-1.0903065204620361,-3.364971876144409,-0.5803971886634827,-4.581081867218018,2.744643211364746,2.7683064937591553,-1.6796008348464966,-5.880188465118408,-3.466515302658081,-0.10886362195014954,-0.3730880916118622,0.08233802020549774,-0.2701509892940521,3.1845667362213135,2.632322072982788,3.251178026199341,0.3102785348892212,5.202922821044922,3.3280231952667236,-8.73912525177002,-1.8061776161193848,1.3701883554458618,-4.3498029708862305,-0.7726522088050842,-5.254192352294922,2.3572731018066406,-4.205260276794434,2.354207754135132,-3.175152063369751,-4.656261444091797,-2.736915349960327,-7.097317695617676,-1.4234719276428223,-4.571697235107422,-2.583674669265747,-2.3706672191619873,-3.7888965606689453,-4.538203716278076,1.2211363315582275,-7.3360748291015625,-4.138755798339844,-2.1005666255950928,-4.9120941162109375,-3.8726003170013428,3.9154646396636963,-1.8426200151443481,-1.7470978498458862,-5.481634140014648,-3.7489683628082275,-10.125178337097168,-3.761674165725708,-2.471155881881714,-5.807934761047363,-4.190173625946045,-2.662513494491577,-6.7639288902282715,-6.526571273803711,-5.054406642913818,-4.2106451988220215,2.4552595615386963,-1.202506184577942,1.763609766960144,2.321349620819092,-2.5356268882751465,0.539793074131012,1.0744456052780151,3.8401176929473877,2.698129177093506,-0.1549902707338333],\"type\":\"scatter\",\"xaxis\":\"x4\",\"yaxis\":\"y4\"},{\"marker\":{\"color\":[\"rgb(31, 119, 180)\",\"rgb(31, 119, 180)\",\"rgb(31, 119, 180)\",\"rgb(31, 119, 180)\",\"rgb(31, 119, 180)\",\"rgb(31, 119, 180)\",\"rgb(31, 119, 180)\",\"rgb(31, 119, 180)\",\"rgb(31, 119, 180)\",\"rgb(31, 119, 180)\",\"rgb(255, 127, 14)\",\"rgb(255, 127, 14)\",\"rgb(255, 127, 14)\",\"rgb(255, 127, 14)\",\"rgb(255, 127, 14)\",\"rgb(255, 127, 14)\",\"rgb(255, 127, 14)\",\"rgb(255, 127, 14)\",\"rgb(255, 127, 14)\",\"rgb(255, 127, 14)\",\"rgb(44, 160, 44)\",\"rgb(44, 160, 44)\",\"rgb(44, 160, 44)\",\"rgb(44, 160, 44)\",\"rgb(44, 160, 44)\",\"rgb(44, 160, 44)\",\"rgb(44, 160, 44)\",\"rgb(44, 160, 44)\",\"rgb(44, 160, 44)\",\"rgb(44, 160, 44)\",\"rgb(214, 39, 40)\",\"rgb(214, 39, 40)\",\"rgb(214, 39, 40)\",\"rgb(214, 39, 40)\",\"rgb(214, 39, 40)\",\"rgb(214, 39, 40)\",\"rgb(214, 39, 40)\",\"rgb(214, 39, 40)\",\"rgb(214, 39, 40)\",\"rgb(214, 39, 40)\",\"rgb(148, 103, 189)\",\"rgb(148, 103, 189)\",\"rgb(148, 103, 189)\",\"rgb(148, 103, 189)\",\"rgb(148, 103, 189)\",\"rgb(148, 103, 189)\",\"rgb(148, 103, 189)\",\"rgb(148, 103, 189)\",\"rgb(148, 103, 189)\",\"rgb(148, 103, 189)\",\"rgb(140, 86, 75)\",\"rgb(140, 86, 75)\",\"rgb(140, 86, 75)\",\"rgb(140, 86, 75)\",\"rgb(140, 86, 75)\",\"rgb(140, 86, 75)\",\"rgb(140, 86, 75)\",\"rgb(140, 86, 75)\",\"rgb(140, 86, 75)\",\"rgb(140, 86, 75)\",\"rgb(227, 119, 194)\",\"rgb(227, 119, 194)\",\"rgb(227, 119, 194)\",\"rgb(227, 119, 194)\",\"rgb(227, 119, 194)\",\"rgb(227, 119, 194)\",\"rgb(227, 119, 194)\",\"rgb(227, 119, 194)\",\"rgb(227, 119, 194)\",\"rgb(227, 119, 194)\",\"rgb(127, 127, 127)\",\"rgb(127, 127, 127)\",\"rgb(127, 127, 127)\",\"rgb(127, 127, 127)\",\"rgb(127, 127, 127)\",\"rgb(127, 127, 127)\",\"rgb(127, 127, 127)\",\"rgb(127, 127, 127)\",\"rgb(127, 127, 127)\",\"rgb(127, 127, 127)\",\"rgb(188, 189, 34)\",\"rgb(188, 189, 34)\",\"rgb(188, 189, 34)\",\"rgb(188, 189, 34)\",\"rgb(188, 189, 34)\",\"rgb(188, 189, 34)\",\"rgb(188, 189, 34)\",\"rgb(188, 189, 34)\",\"rgb(188, 189, 34)\",\"rgb(188, 189, 34)\",\"rgb(23, 190, 207)\",\"rgb(23, 190, 207)\",\"rgb(23, 190, 207)\",\"rgb(23, 190, 207)\",\"rgb(23, 190, 207)\",\"rgb(23, 190, 207)\",\"rgb(23, 190, 207)\",\"rgb(23, 190, 207)\",\"rgb(23, 190, 207)\",\"rgb(23, 190, 207)\"]},\"mode\":\"markers\",\"x\":[1.018509030342102,10.033397674560547,7.249536514282227,2.5679538249969482,10.216490745544434,9.853082656860352,6.4591851234436035,8.319218635559082,4.896589756011963,11.232616424560547,-1.1069549322128296,-1.7149724960327148,-0.7893121242523193,-2.0604324340820312,-3.5565497875213623,0.5076702833175659,-1.5398811101913452,-2.6686081886291504,2.0000133514404297,-1.5601557493209839,-2.505927324295044,-1.624997615814209,-0.4210068881511688,-0.6820773482322693,-5.802943229675293,-2.598236560821533,-3.027028799057007,-0.20531977713108063,-2.2307918071746826,-2.15899395942688,-1.2570236921310425,-1.7926933765411377,-3.4011199474334717,-0.7075363397598267,-6.199211120605469,0.5596601366996765,-0.3610013425350189,-2.241257905960083,-6.8087615966796875,-4.553714752197266,0.5818108916282654,-1.3726348876953125,-0.42549166083335876,-0.9765545725822449,-1.2783337831497192,-0.8401254415512085,-1.2494481801986694,-0.700714647769928,0.645336925983429,0.12990446388721466,-4.141114711761475,-1.6353892087936401,0.6605272889137268,-2.8408138751983643,-1.2245662212371826,-2.8512237071990967,-0.43322715163230896,-5.785879611968994,2.329716682434082,-1.6459439992904663,-1.6136720180511475,-1.3968039751052856,-5.212428092956543,-1.5737178325653076,-0.4251159727573395,-0.21870340406894684,-1.0692824125289917,-1.2349047660827637,-3.48655104637146,1.122583031654358,-3.3842110633850098,-3.089252233505249,-1.089579463005066,-3.360603094100952,-4.701050758361816,-0.33806267380714417,-1.4014774560928345,-1.0758494138717651,-1.5270154476165771,-1.2052806615829468,-8.993450164794922,-2.8918304443359375,-1.5654808282852173,-5.719580173492432,-7.600195407867432,-2.8711483478546143,-5.587087154388428,-5.851338863372803,-4.15079402923584,-4.737851619720459,2.5157389640808105,-0.6196429133415222,1.7032657861709595,0.5380505919456482,-3.8055789470672607,0.13107500970363617,0.631048858165741,1.803990364074707,1.667685866355896,0.4552588164806366],\"y\":[7.7669477462768555,21.123794555664062,20.46268081665039,19.802824020385742,16.642976760864258,15.279073715209961,14.852067947387695,15.106178283691406,15.063925743103027,18.4719295501709,1.399144172668457,-1.3196687698364258,0.4347863495349884,-0.08502735197544098,-0.24406076967716217,0.9749664664268494,-0.3885900676250458,-2.3418872356414795,4.16610050201416,-1.060168981552124,-3.683530569076538,-1.652563452720642,-1.7167922258377075,-2.0865113735198975,-3.518495798110962,-4.2277350425720215,-0.9999774098396301,-2.683871269226074,-1.5676394701004028,-1.0871332883834839,-0.9485496878623962,-1.0903065204620361,-3.364971876144409,-0.5803971886634827,-4.581081867218018,2.744643211364746,2.7683064937591553,-1.6796008348464966,-5.880188465118408,-3.466515302658081,-0.10886362195014954,-0.3730880916118622,0.08233802020549774,-0.2701509892940521,3.1845667362213135,2.632322072982788,3.251178026199341,0.3102785348892212,5.202922821044922,3.3280231952667236,-8.73912525177002,-1.8061776161193848,1.3701883554458618,-4.3498029708862305,-0.7726522088050842,-5.254192352294922,2.3572731018066406,-4.205260276794434,2.354207754135132,-3.175152063369751,-4.656261444091797,-2.736915349960327,-7.097317695617676,-1.4234719276428223,-4.571697235107422,-2.583674669265747,-2.3706672191619873,-3.7888965606689453,-4.538203716278076,1.2211363315582275,-7.3360748291015625,-4.138755798339844,-2.1005666255950928,-4.9120941162109375,-3.8726003170013428,3.9154646396636963,-1.8426200151443481,-1.7470978498458862,-5.481634140014648,-3.7489683628082275,-10.125178337097168,-3.761674165725708,-2.471155881881714,-5.807934761047363,-4.190173625946045,-2.662513494491577,-6.7639288902282715,-6.526571273803711,-5.054406642913818,-4.2106451988220215,2.4552595615386963,-1.202506184577942,1.763609766960144,2.321349620819092,-2.5356268882751465,0.539793074131012,1.0744456052780151,3.8401176929473877,2.698129177093506,-0.1549902707338333],\"type\":\"scatter\",\"xaxis\":\"x5\",\"yaxis\":\"y5\"},{\"marker\":{\"color\":[\"rgb(31, 119, 180)\",\"rgb(31, 119, 180)\",\"rgb(31, 119, 180)\",\"rgb(31, 119, 180)\",\"rgb(31, 119, 180)\",\"rgb(31, 119, 180)\",\"rgb(31, 119, 180)\",\"rgb(31, 119, 180)\",\"rgb(31, 119, 180)\",\"rgb(31, 119, 180)\",\"rgb(255, 127, 14)\",\"rgb(255, 127, 14)\",\"rgb(255, 127, 14)\",\"rgb(255, 127, 14)\",\"rgb(255, 127, 14)\",\"rgb(255, 127, 14)\",\"rgb(255, 127, 14)\",\"rgb(255, 127, 14)\",\"rgb(255, 127, 14)\",\"rgb(255, 127, 14)\",\"rgb(44, 160, 44)\",\"rgb(44, 160, 44)\",\"rgb(44, 160, 44)\",\"rgb(44, 160, 44)\",\"rgb(44, 160, 44)\",\"rgb(44, 160, 44)\",\"rgb(44, 160, 44)\",\"rgb(44, 160, 44)\",\"rgb(44, 160, 44)\",\"rgb(44, 160, 44)\",\"rgb(214, 39, 40)\",\"rgb(214, 39, 40)\",\"rgb(214, 39, 40)\",\"rgb(214, 39, 40)\",\"rgb(214, 39, 40)\",\"rgb(214, 39, 40)\",\"rgb(214, 39, 40)\",\"rgb(214, 39, 40)\",\"rgb(214, 39, 40)\",\"rgb(214, 39, 40)\",\"rgb(148, 103, 189)\",\"rgb(148, 103, 189)\",\"rgb(148, 103, 189)\",\"rgb(148, 103, 189)\",\"rgb(148, 103, 189)\",\"rgb(148, 103, 189)\",\"rgb(148, 103, 189)\",\"rgb(148, 103, 189)\",\"rgb(148, 103, 189)\",\"rgb(148, 103, 189)\",\"rgb(140, 86, 75)\",\"rgb(140, 86, 75)\",\"rgb(140, 86, 75)\",\"rgb(140, 86, 75)\",\"rgb(140, 86, 75)\",\"rgb(140, 86, 75)\",\"rgb(140, 86, 75)\",\"rgb(140, 86, 75)\",\"rgb(140, 86, 75)\",\"rgb(140, 86, 75)\",\"rgb(227, 119, 194)\",\"rgb(227, 119, 194)\",\"rgb(227, 119, 194)\",\"rgb(227, 119, 194)\",\"rgb(227, 119, 194)\",\"rgb(227, 119, 194)\",\"rgb(227, 119, 194)\",\"rgb(227, 119, 194)\",\"rgb(227, 119, 194)\",\"rgb(227, 119, 194)\",\"rgb(127, 127, 127)\",\"rgb(127, 127, 127)\",\"rgb(127, 127, 127)\",\"rgb(127, 127, 127)\",\"rgb(127, 127, 127)\",\"rgb(127, 127, 127)\",\"rgb(127, 127, 127)\",\"rgb(127, 127, 127)\",\"rgb(127, 127, 127)\",\"rgb(127, 127, 127)\",\"rgb(188, 189, 34)\",\"rgb(188, 189, 34)\",\"rgb(188, 189, 34)\",\"rgb(188, 189, 34)\",\"rgb(188, 189, 34)\",\"rgb(188, 189, 34)\",\"rgb(188, 189, 34)\",\"rgb(188, 189, 34)\",\"rgb(188, 189, 34)\",\"rgb(188, 189, 34)\",\"rgb(23, 190, 207)\",\"rgb(23, 190, 207)\",\"rgb(23, 190, 207)\",\"rgb(23, 190, 207)\",\"rgb(23, 190, 207)\",\"rgb(23, 190, 207)\",\"rgb(23, 190, 207)\",\"rgb(23, 190, 207)\",\"rgb(23, 190, 207)\",\"rgb(23, 190, 207)\"]},\"mode\":\"markers\",\"x\":[-0.10400883853435516,-0.3777680993080139,-0.23582978546619415,-0.18461591005325317,-0.284383624792099,-0.22566105425357819,-0.3791970908641815,-0.5026957988739014,-0.1950560063123703,-0.28602513670921326,-0.3373716175556183,-0.5218268036842346,-0.31626570224761963,-0.4216196537017822,-0.7191798090934753,-0.1552368551492691,-0.25042471289634705,-0.26209309697151184,-0.37244901061058044,-0.323037713766098,-0.37794893980026245,-0.4795977771282196,-0.3104437589645386,-0.1687898486852646,-0.5492293238639832,-0.3923547565937042,-0.26272717118263245,-0.4284791052341461,-0.31481656432151794,-0.20593570172786713,-0.28158804774284363,-0.4092806279659271,-0.24472321569919586,-0.7477292418479919,-1.0023716688156128,-0.6684224009513855,-0.6298221349716187,-0.33063212037086487,-0.8082050681114197,-0.9674368500709534,-0.21257878839969635,-0.22304455935955048,-0.21349658071994781,-0.0760134756565094,-0.2337959259748459,-0.3265906870365143,-0.28386154770851135,-0.13660821318626404,-0.3052996098995209,-0.34257104992866516,-0.013160299509763718,-0.32209327816963196,-0.05120031163096428,-0.34037166833877563,-0.08152337372303009,-0.16538406908512115,-0.34651872515678406,-0.5403684377670288,-0.13778556883335114,-0.38242307305336,-0.40844959020614624,-0.3292906582355499,-0.21903543174266815,-0.20752809941768646,-0.05990751460194588,-0.18651224672794342,-0.03467530384659767,-0.3875519931316376,-0.2693566381931305,-0.11473138630390167,-0.2379526048898697,-0.3808692991733551,-0.4004567563533783,-0.36169081926345825,-0.6292179226875305,-0.5290424823760986,-0.366400808095932,-0.43431103229522705,-0.5391721725463867,-0.3038400113582611,-0.8398426175117493,-0.22800226509571075,-0.4125126302242279,-0.2915894687175751,-0.47140535712242126,-0.3032495677471161,-0.3004772663116455,-0.5054534077644348,-0.6104416251182556,-0.32490959763526917,-0.17608708143234253,-0.39550718665122986,-0.1585233360528946,0.021504133939743042,-0.22874809801578522,-0.07986007630825043,-0.0024334974586963654,-0.15278926491737366,-0.35046830773353577,-0.05659403279423714],\"y\":[7.7669477462768555,21.123794555664062,20.46268081665039,19.802824020385742,16.642976760864258,15.279073715209961,14.852067947387695,15.106178283691406,15.063925743103027,18.4719295501709,1.399144172668457,-1.3196687698364258,0.4347863495349884,-0.08502735197544098,-0.24406076967716217,0.9749664664268494,-0.3885900676250458,-2.3418872356414795,4.16610050201416,-1.060168981552124,-3.683530569076538,-1.652563452720642,-1.7167922258377075,-2.0865113735198975,-3.518495798110962,-4.2277350425720215,-0.9999774098396301,-2.683871269226074,-1.5676394701004028,-1.0871332883834839,-0.9485496878623962,-1.0903065204620361,-3.364971876144409,-0.5803971886634827,-4.581081867218018,2.744643211364746,2.7683064937591553,-1.6796008348464966,-5.880188465118408,-3.466515302658081,-0.10886362195014954,-0.3730880916118622,0.08233802020549774,-0.2701509892940521,3.1845667362213135,2.632322072982788,3.251178026199341,0.3102785348892212,5.202922821044922,3.3280231952667236,-8.73912525177002,-1.8061776161193848,1.3701883554458618,-4.3498029708862305,-0.7726522088050842,-5.254192352294922,2.3572731018066406,-4.205260276794434,2.354207754135132,-3.175152063369751,-4.656261444091797,-2.736915349960327,-7.097317695617676,-1.4234719276428223,-4.571697235107422,-2.583674669265747,-2.3706672191619873,-3.7888965606689453,-4.538203716278076,1.2211363315582275,-7.3360748291015625,-4.138755798339844,-2.1005666255950928,-4.9120941162109375,-3.8726003170013428,3.9154646396636963,-1.8426200151443481,-1.7470978498458862,-5.481634140014648,-3.7489683628082275,-10.125178337097168,-3.761674165725708,-2.471155881881714,-5.807934761047363,-4.190173625946045,-2.662513494491577,-6.7639288902282715,-6.526571273803711,-5.054406642913818,-4.2106451988220215,2.4552595615386963,-1.202506184577942,1.763609766960144,2.321349620819092,-2.5356268882751465,0.539793074131012,1.0744456052780151,3.8401176929473877,2.698129177093506,-0.1549902707338333],\"type\":\"scatter\",\"xaxis\":\"x6\",\"yaxis\":\"y6\"}],                        {\"template\":{\"data\":{\"histogram2dcontour\":[{\"type\":\"histogram2dcontour\",\"colorbar\":{\"outlinewidth\":0,\"ticks\":\"\"},\"colorscale\":[[0.0,\"#0d0887\"],[0.1111111111111111,\"#46039f\"],[0.2222222222222222,\"#7201a8\"],[0.3333333333333333,\"#9c179e\"],[0.4444444444444444,\"#bd3786\"],[0.5555555555555556,\"#d8576b\"],[0.6666666666666666,\"#ed7953\"],[0.7777777777777778,\"#fb9f3a\"],[0.8888888888888888,\"#fdca26\"],[1.0,\"#f0f921\"]]}],\"choropleth\":[{\"type\":\"choropleth\",\"colorbar\":{\"outlinewidth\":0,\"ticks\":\"\"}}],\"histogram2d\":[{\"type\":\"histogram2d\",\"colorbar\":{\"outlinewidth\":0,\"ticks\":\"\"},\"colorscale\":[[0.0,\"#0d0887\"],[0.1111111111111111,\"#46039f\"],[0.2222222222222222,\"#7201a8\"],[0.3333333333333333,\"#9c179e\"],[0.4444444444444444,\"#bd3786\"],[0.5555555555555556,\"#d8576b\"],[0.6666666666666666,\"#ed7953\"],[0.7777777777777778,\"#fb9f3a\"],[0.8888888888888888,\"#fdca26\"],[1.0,\"#f0f921\"]]}],\"heatmap\":[{\"type\":\"heatmap\",\"colorbar\":{\"outlinewidth\":0,\"ticks\":\"\"},\"colorscale\":[[0.0,\"#0d0887\"],[0.1111111111111111,\"#46039f\"],[0.2222222222222222,\"#7201a8\"],[0.3333333333333333,\"#9c179e\"],[0.4444444444444444,\"#bd3786\"],[0.5555555555555556,\"#d8576b\"],[0.6666666666666666,\"#ed7953\"],[0.7777777777777778,\"#fb9f3a\"],[0.8888888888888888,\"#fdca26\"],[1.0,\"#f0f921\"]]}],\"heatmapgl\":[{\"type\":\"heatmapgl\",\"colorbar\":{\"outlinewidth\":0,\"ticks\":\"\"},\"colorscale\":[[0.0,\"#0d0887\"],[0.1111111111111111,\"#46039f\"],[0.2222222222222222,\"#7201a8\"],[0.3333333333333333,\"#9c179e\"],[0.4444444444444444,\"#bd3786\"],[0.5555555555555556,\"#d8576b\"],[0.6666666666666666,\"#ed7953\"],[0.7777777777777778,\"#fb9f3a\"],[0.8888888888888888,\"#fdca26\"],[1.0,\"#f0f921\"]]}],\"contourcarpet\":[{\"type\":\"contourcarpet\",\"colorbar\":{\"outlinewidth\":0,\"ticks\":\"\"}}],\"contour\":[{\"type\":\"contour\",\"colorbar\":{\"outlinewidth\":0,\"ticks\":\"\"},\"colorscale\":[[0.0,\"#0d0887\"],[0.1111111111111111,\"#46039f\"],[0.2222222222222222,\"#7201a8\"],[0.3333333333333333,\"#9c179e\"],[0.4444444444444444,\"#bd3786\"],[0.5555555555555556,\"#d8576b\"],[0.6666666666666666,\"#ed7953\"],[0.7777777777777778,\"#fb9f3a\"],[0.8888888888888888,\"#fdca26\"],[1.0,\"#f0f921\"]]}],\"surface\":[{\"type\":\"surface\",\"colorbar\":{\"outlinewidth\":0,\"ticks\":\"\"},\"colorscale\":[[0.0,\"#0d0887\"],[0.1111111111111111,\"#46039f\"],[0.2222222222222222,\"#7201a8\"],[0.3333333333333333,\"#9c179e\"],[0.4444444444444444,\"#bd3786\"],[0.5555555555555556,\"#d8576b\"],[0.6666666666666666,\"#ed7953\"],[0.7777777777777778,\"#fb9f3a\"],[0.8888888888888888,\"#fdca26\"],[1.0,\"#f0f921\"]]}],\"mesh3d\":[{\"type\":\"mesh3d\",\"colorbar\":{\"outlinewidth\":0,\"ticks\":\"\"}}],\"scatter\":[{\"fillpattern\":{\"fillmode\":\"overlay\",\"size\":10,\"solidity\":0.2},\"type\":\"scatter\"}],\"parcoords\":[{\"type\":\"parcoords\",\"line\":{\"colorbar\":{\"outlinewidth\":0,\"ticks\":\"\"}}}],\"scatterpolargl\":[{\"type\":\"scatterpolargl\",\"marker\":{\"colorbar\":{\"outlinewidth\":0,\"ticks\":\"\"}}}],\"bar\":[{\"error_x\":{\"color\":\"#2a3f5f\"},\"error_y\":{\"color\":\"#2a3f5f\"},\"marker\":{\"line\":{\"color\":\"#E5ECF6\",\"width\":0.5},\"pattern\":{\"fillmode\":\"overlay\",\"size\":10,\"solidity\":0.2}},\"type\":\"bar\"}],\"scattergeo\":[{\"type\":\"scattergeo\",\"marker\":{\"colorbar\":{\"outlinewidth\":0,\"ticks\":\"\"}}}],\"scatterpolar\":[{\"type\":\"scatterpolar\",\"marker\":{\"colorbar\":{\"outlinewidth\":0,\"ticks\":\"\"}}}],\"histogram\":[{\"marker\":{\"pattern\":{\"fillmode\":\"overlay\",\"size\":10,\"solidity\":0.2}},\"type\":\"histogram\"}],\"scattergl\":[{\"type\":\"scattergl\",\"marker\":{\"colorbar\":{\"outlinewidth\":0,\"ticks\":\"\"}}}],\"scatter3d\":[{\"type\":\"scatter3d\",\"line\":{\"colorbar\":{\"outlinewidth\":0,\"ticks\":\"\"}},\"marker\":{\"colorbar\":{\"outlinewidth\":0,\"ticks\":\"\"}}}],\"scattermapbox\":[{\"type\":\"scattermapbox\",\"marker\":{\"colorbar\":{\"outlinewidth\":0,\"ticks\":\"\"}}}],\"scatterternary\":[{\"type\":\"scatterternary\",\"marker\":{\"colorbar\":{\"outlinewidth\":0,\"ticks\":\"\"}}}],\"scattercarpet\":[{\"type\":\"scattercarpet\",\"marker\":{\"colorbar\":{\"outlinewidth\":0,\"ticks\":\"\"}}}],\"carpet\":[{\"aaxis\":{\"endlinecolor\":\"#2a3f5f\",\"gridcolor\":\"white\",\"linecolor\":\"white\",\"minorgridcolor\":\"white\",\"startlinecolor\":\"#2a3f5f\"},\"baxis\":{\"endlinecolor\":\"#2a3f5f\",\"gridcolor\":\"white\",\"linecolor\":\"white\",\"minorgridcolor\":\"white\",\"startlinecolor\":\"#2a3f5f\"},\"type\":\"carpet\"}],\"table\":[{\"cells\":{\"fill\":{\"color\":\"#EBF0F8\"},\"line\":{\"color\":\"white\"}},\"header\":{\"fill\":{\"color\":\"#C8D4E3\"},\"line\":{\"color\":\"white\"}},\"type\":\"table\"}],\"barpolar\":[{\"marker\":{\"line\":{\"color\":\"#E5ECF6\",\"width\":0.5},\"pattern\":{\"fillmode\":\"overlay\",\"size\":10,\"solidity\":0.2}},\"type\":\"barpolar\"}],\"pie\":[{\"automargin\":true,\"type\":\"pie\"}]},\"layout\":{\"autotypenumbers\":\"strict\",\"colorway\":[\"#636efa\",\"#EF553B\",\"#00cc96\",\"#ab63fa\",\"#FFA15A\",\"#19d3f3\",\"#FF6692\",\"#B6E880\",\"#FF97FF\",\"#FECB52\"],\"font\":{\"color\":\"#2a3f5f\"},\"hovermode\":\"closest\",\"hoverlabel\":{\"align\":\"left\"},\"paper_bgcolor\":\"white\",\"plot_bgcolor\":\"#E5ECF6\",\"polar\":{\"bgcolor\":\"#E5ECF6\",\"angularaxis\":{\"gridcolor\":\"white\",\"linecolor\":\"white\",\"ticks\":\"\"},\"radialaxis\":{\"gridcolor\":\"white\",\"linecolor\":\"white\",\"ticks\":\"\"}},\"ternary\":{\"bgcolor\":\"#E5ECF6\",\"aaxis\":{\"gridcolor\":\"white\",\"linecolor\":\"white\",\"ticks\":\"\"},\"baxis\":{\"gridcolor\":\"white\",\"linecolor\":\"white\",\"ticks\":\"\"},\"caxis\":{\"gridcolor\":\"white\",\"linecolor\":\"white\",\"ticks\":\"\"}},\"coloraxis\":{\"colorbar\":{\"outlinewidth\":0,\"ticks\":\"\"}},\"colorscale\":{\"sequential\":[[0.0,\"#0d0887\"],[0.1111111111111111,\"#46039f\"],[0.2222222222222222,\"#7201a8\"],[0.3333333333333333,\"#9c179e\"],[0.4444444444444444,\"#bd3786\"],[0.5555555555555556,\"#d8576b\"],[0.6666666666666666,\"#ed7953\"],[0.7777777777777778,\"#fb9f3a\"],[0.8888888888888888,\"#fdca26\"],[1.0,\"#f0f921\"]],\"sequentialminus\":[[0.0,\"#0d0887\"],[0.1111111111111111,\"#46039f\"],[0.2222222222222222,\"#7201a8\"],[0.3333333333333333,\"#9c179e\"],[0.4444444444444444,\"#bd3786\"],[0.5555555555555556,\"#d8576b\"],[0.6666666666666666,\"#ed7953\"],[0.7777777777777778,\"#fb9f3a\"],[0.8888888888888888,\"#fdca26\"],[1.0,\"#f0f921\"]],\"diverging\":[[0,\"#8e0152\"],[0.1,\"#c51b7d\"],[0.2,\"#de77ae\"],[0.3,\"#f1b6da\"],[0.4,\"#fde0ef\"],[0.5,\"#f7f7f7\"],[0.6,\"#e6f5d0\"],[0.7,\"#b8e186\"],[0.8,\"#7fbc41\"],[0.9,\"#4d9221\"],[1,\"#276419\"]]},\"xaxis\":{\"gridcolor\":\"white\",\"linecolor\":\"white\",\"ticks\":\"\",\"title\":{\"standoff\":15},\"zerolinecolor\":\"white\",\"automargin\":true,\"zerolinewidth\":2},\"yaxis\":{\"gridcolor\":\"white\",\"linecolor\":\"white\",\"ticks\":\"\",\"title\":{\"standoff\":15},\"zerolinecolor\":\"white\",\"automargin\":true,\"zerolinewidth\":2},\"scene\":{\"xaxis\":{\"backgroundcolor\":\"#E5ECF6\",\"gridcolor\":\"white\",\"linecolor\":\"white\",\"showbackground\":true,\"ticks\":\"\",\"zerolinecolor\":\"white\",\"gridwidth\":2},\"yaxis\":{\"backgroundcolor\":\"#E5ECF6\",\"gridcolor\":\"white\",\"linecolor\":\"white\",\"showbackground\":true,\"ticks\":\"\",\"zerolinecolor\":\"white\",\"gridwidth\":2},\"zaxis\":{\"backgroundcolor\":\"#E5ECF6\",\"gridcolor\":\"white\",\"linecolor\":\"white\",\"showbackground\":true,\"ticks\":\"\",\"zerolinecolor\":\"white\",\"gridwidth\":2}},\"shapedefaults\":{\"line\":{\"color\":\"#2a3f5f\"}},\"annotationdefaults\":{\"arrowcolor\":\"#2a3f5f\",\"arrowhead\":0,\"arrowwidth\":1},\"geo\":{\"bgcolor\":\"white\",\"landcolor\":\"#E5ECF6\",\"subunitcolor\":\"white\",\"showland\":true,\"showlakes\":true,\"lakecolor\":\"white\"},\"title\":{\"x\":0.05},\"mapbox\":{\"style\":\"light\"}}},\"xaxis\":{\"anchor\":\"y\",\"domain\":[0.0,0.1388888888888889]},\"yaxis\":{\"anchor\":\"x\",\"domain\":[0.0,1.0]},\"xaxis2\":{\"anchor\":\"y2\",\"domain\":[0.17222222222222222,0.3111111111111111]},\"yaxis2\":{\"anchor\":\"x2\",\"domain\":[0.0,1.0]},\"xaxis3\":{\"anchor\":\"y3\",\"domain\":[0.34444444444444444,0.48333333333333334]},\"yaxis3\":{\"anchor\":\"x3\",\"domain\":[0.0,1.0]},\"xaxis4\":{\"anchor\":\"y4\",\"domain\":[0.5166666666666667,0.6555555555555557]},\"yaxis4\":{\"anchor\":\"x4\",\"domain\":[0.0,1.0]},\"xaxis5\":{\"anchor\":\"y5\",\"domain\":[0.6888888888888889,0.8277777777777777]},\"yaxis5\":{\"anchor\":\"x5\",\"domain\":[0.0,1.0]},\"xaxis6\":{\"anchor\":\"y6\",\"domain\":[0.861111111111111,1.0]},\"yaxis6\":{\"anchor\":\"x6\",\"domain\":[0.0,1.0]},\"title\":{\"text\":\"tiger_beetle\"},\"height\":600,\"width\":1000},                        {\"responsive\": true}                    ).then(function(){\n",
       "                            \n",
       "var gd = document.getElementById('0061b838-25b3-4d0c-8197-5010e8620442');\n",
       "var x = new MutationObserver(function (mutations, observer) {{\n",
       "        var display = window.getComputedStyle(gd).display;\n",
       "        if (!display || display === 'none') {{\n",
       "            console.log([gd, 'removed!']);\n",
       "            Plotly.purge(gd);\n",
       "            observer.disconnect();\n",
       "        }}\n",
       "}});\n",
       "\n",
       "// Listen for the removal of the full notebook cells\n",
       "var notebookContainer = gd.closest('#notebook-container');\n",
       "if (notebookContainer) {{\n",
       "    x.observe(notebookContainer, {childList: true});\n",
       "}}\n",
       "\n",
       "// Listen for the clearing of the current output cell\n",
       "var outputEl = gd.closest('.output');\n",
       "if (outputEl) {{\n",
       "    x.observe(outputEl, {childList: true});\n",
       "}}\n",
       "\n",
       "                        })                };                });            </script>        </div>"
      ]
     },
     "metadata": {},
     "output_type": "display_data"
    },
    {
     "data": {
      "application/vnd.plotly.v1+json": {
       "config": {
        "plotlyServerURL": "https://plot.ly"
       },
       "data": [
        {
         "marker": {
          "color": [
           "rgb(31, 119, 180)",
           "rgb(31, 119, 180)",
           "rgb(31, 119, 180)",
           "rgb(31, 119, 180)",
           "rgb(31, 119, 180)",
           "rgb(31, 119, 180)",
           "rgb(31, 119, 180)",
           "rgb(31, 119, 180)",
           "rgb(31, 119, 180)",
           "rgb(31, 119, 180)",
           "rgb(255, 127, 14)",
           "rgb(255, 127, 14)",
           "rgb(255, 127, 14)",
           "rgb(255, 127, 14)",
           "rgb(255, 127, 14)",
           "rgb(255, 127, 14)",
           "rgb(255, 127, 14)",
           "rgb(255, 127, 14)",
           "rgb(255, 127, 14)",
           "rgb(255, 127, 14)",
           "rgb(44, 160, 44)",
           "rgb(44, 160, 44)",
           "rgb(44, 160, 44)",
           "rgb(44, 160, 44)",
           "rgb(44, 160, 44)",
           "rgb(44, 160, 44)",
           "rgb(44, 160, 44)",
           "rgb(44, 160, 44)",
           "rgb(44, 160, 44)",
           "rgb(44, 160, 44)",
           "rgb(214, 39, 40)",
           "rgb(214, 39, 40)",
           "rgb(214, 39, 40)",
           "rgb(214, 39, 40)",
           "rgb(214, 39, 40)",
           "rgb(214, 39, 40)",
           "rgb(214, 39, 40)",
           "rgb(214, 39, 40)",
           "rgb(214, 39, 40)",
           "rgb(214, 39, 40)",
           "rgb(148, 103, 189)",
           "rgb(148, 103, 189)",
           "rgb(148, 103, 189)",
           "rgb(148, 103, 189)",
           "rgb(148, 103, 189)",
           "rgb(148, 103, 189)",
           "rgb(148, 103, 189)",
           "rgb(148, 103, 189)",
           "rgb(148, 103, 189)",
           "rgb(148, 103, 189)",
           "rgb(140, 86, 75)",
           "rgb(140, 86, 75)",
           "rgb(140, 86, 75)",
           "rgb(140, 86, 75)",
           "rgb(140, 86, 75)",
           "rgb(140, 86, 75)",
           "rgb(140, 86, 75)",
           "rgb(140, 86, 75)",
           "rgb(140, 86, 75)",
           "rgb(140, 86, 75)",
           "rgb(227, 119, 194)",
           "rgb(227, 119, 194)",
           "rgb(227, 119, 194)",
           "rgb(227, 119, 194)",
           "rgb(227, 119, 194)",
           "rgb(227, 119, 194)",
           "rgb(227, 119, 194)",
           "rgb(227, 119, 194)",
           "rgb(227, 119, 194)",
           "rgb(227, 119, 194)",
           "rgb(127, 127, 127)",
           "rgb(127, 127, 127)",
           "rgb(127, 127, 127)",
           "rgb(127, 127, 127)",
           "rgb(127, 127, 127)",
           "rgb(127, 127, 127)",
           "rgb(127, 127, 127)",
           "rgb(127, 127, 127)",
           "rgb(127, 127, 127)",
           "rgb(127, 127, 127)",
           "rgb(188, 189, 34)",
           "rgb(188, 189, 34)",
           "rgb(188, 189, 34)",
           "rgb(188, 189, 34)",
           "rgb(188, 189, 34)",
           "rgb(188, 189, 34)",
           "rgb(188, 189, 34)",
           "rgb(188, 189, 34)",
           "rgb(188, 189, 34)",
           "rgb(188, 189, 34)",
           "rgb(23, 190, 207)",
           "rgb(23, 190, 207)",
           "rgb(23, 190, 207)",
           "rgb(23, 190, 207)",
           "rgb(23, 190, 207)",
           "rgb(23, 190, 207)",
           "rgb(23, 190, 207)",
           "rgb(23, 190, 207)",
           "rgb(23, 190, 207)",
           "rgb(23, 190, 207)"
          ]
         },
         "mode": "markers",
         "type": "scatter",
         "x": [
          6.168235778808594,
          17.043973922729492,
          17.572919845581055,
          18.200307846069336,
          12.567912101745605,
          11.895506858825684,
          11.701899528503418,
          9.687119483947754,
          13.406464576721191,
          15.895994186401367,
          -0.20562119781970978,
          -3.0628769397735596,
          -0.890383780002594,
          -0.9403181672096252,
          -2.360243558883667,
          -0.13926668465137482,
          -1.2127883434295654,
          -3.1365602016448975,
          2.4268136024475098,
          -1.8287736177444458,
          -5.0682830810546875,
          -3.647578001022339,
          -2.9037415981292725,
          -3.0181620121002197,
          -5.560314178466797,
          -6.691131114959717,
          -1.9351568222045898,
          -4.5774078369140625,
          -2.6249539852142334,
          -2.5360915660858154,
          -1.824414610862732,
          -2.46651554107666,
          -4.038961410522461,
          -1.312301516532898,
          -6.345686912536621,
          1.3661099672317505,
          0.30010566115379333,
          -3.366220712661743,
          -7.654807090759277,
          -4.861946105957031,
          -1.59662926197052,
          -1.735011339187622,
          -1.2921842336654663,
          -1.8319319486618042,
          1.5420507192611694,
          1.6411094665527344,
          1.7260018587112427,
          -1.327027440071106,
          3.9132564067840576,
          1.179404377937317,
          -10.969281196594238,
          -2.669382333755493,
          0.02109096571803093,
          -6.207252025604248,
          -2.5447213649749756,
          -7.152951240539551,
          1.3267472982406616,
          -6.483273506164551,
          0.39772090315818787,
          -4.395556449890137,
          -5.846480369567871,
          -3.5389339923858643,
          -8.162802696228027,
          -3.275770902633667,
          -6.047523498535156,
          -3.762441396713257,
          -3.935974359512329,
          -5.13410758972168,
          -6.204534530639648,
          -1.3905527591705322,
          -9.326842308044434,
          -4.966063499450684,
          -4.57969856262207,
          -6.586575508117676,
          -4.313397407531738,
          2.6506664752960205,
          -3.0642056465148926,
          -2.8833630084991455,
          -6.792575836181641,
          -4.874746799468994,
          -10.392020225524902,
          -4.5125627517700195,
          -3.248084306716919,
          -7.294961452484131,
          -5.376465797424316,
          -3.7723114490509033,
          -7.977622985839844,
          -7.418182849884033,
          -6.617169380187988,
          -4.919900894165039,
          -0.06822492182254791,
          -2.208082675933838,
          -0.6847380995750427,
          0.7477595210075378,
          -5.035104751586914,
          -1.2053091526031494,
          -0.22023607790470123,
          1.9352502822875977,
          0.5033770203590393,
          -1.7335752248764038
         ],
         "xaxis": "x",
         "y": [
          7.7669477462768555,
          21.123794555664062,
          20.46268081665039,
          19.802824020385742,
          16.642976760864258,
          15.279073715209961,
          14.852067947387695,
          15.106178283691406,
          15.063925743103027,
          18.4719295501709,
          1.399144172668457,
          -1.3196687698364258,
          0.4347863495349884,
          -0.08502735197544098,
          -0.24406076967716217,
          0.9749664664268494,
          -0.3885900676250458,
          -2.3418872356414795,
          4.16610050201416,
          -1.060168981552124,
          -3.683530569076538,
          -1.652563452720642,
          -1.7167922258377075,
          -2.0865113735198975,
          -3.518495798110962,
          -4.2277350425720215,
          -0.9999774098396301,
          -2.683871269226074,
          -1.5676394701004028,
          -1.0871332883834839,
          -0.9485496878623962,
          -1.0903065204620361,
          -3.364971876144409,
          -0.5803971886634827,
          -4.581081867218018,
          2.744643211364746,
          2.7683064937591553,
          -1.6796008348464966,
          -5.880188465118408,
          -3.466515302658081,
          -0.10886362195014954,
          -0.3730880916118622,
          0.08233802020549774,
          -0.2701509892940521,
          3.1845667362213135,
          2.632322072982788,
          3.251178026199341,
          0.3102785348892212,
          5.202922821044922,
          3.3280231952667236,
          -8.73912525177002,
          -1.8061776161193848,
          1.3701883554458618,
          -4.3498029708862305,
          -0.7726522088050842,
          -5.254192352294922,
          2.3572731018066406,
          -4.205260276794434,
          2.354207754135132,
          -3.175152063369751,
          -4.656261444091797,
          -2.736915349960327,
          -7.097317695617676,
          -1.4234719276428223,
          -4.571697235107422,
          -2.583674669265747,
          -2.3706672191619873,
          -3.7888965606689453,
          -4.538203716278076,
          1.2211363315582275,
          -7.3360748291015625,
          -4.138755798339844,
          -2.1005666255950928,
          -4.9120941162109375,
          -3.8726003170013428,
          3.9154646396636963,
          -1.8426200151443481,
          -1.7470978498458862,
          -5.481634140014648,
          -3.7489683628082275,
          -10.125178337097168,
          -3.761674165725708,
          -2.471155881881714,
          -5.807934761047363,
          -4.190173625946045,
          -2.662513494491577,
          -6.7639288902282715,
          -6.526571273803711,
          -5.054406642913818,
          -4.2106451988220215,
          2.4552595615386963,
          -1.202506184577942,
          1.763609766960144,
          2.321349620819092,
          -2.5356268882751465,
          0.539793074131012,
          1.0744456052780151,
          3.8401176929473877,
          2.698129177093506,
          -0.1549902707338333
         ],
         "yaxis": "y"
        },
        {
         "marker": {
          "color": [
           "rgb(31, 119, 180)",
           "rgb(31, 119, 180)",
           "rgb(31, 119, 180)",
           "rgb(31, 119, 180)",
           "rgb(31, 119, 180)",
           "rgb(31, 119, 180)",
           "rgb(31, 119, 180)",
           "rgb(31, 119, 180)",
           "rgb(31, 119, 180)",
           "rgb(31, 119, 180)",
           "rgb(255, 127, 14)",
           "rgb(255, 127, 14)",
           "rgb(255, 127, 14)",
           "rgb(255, 127, 14)",
           "rgb(255, 127, 14)",
           "rgb(255, 127, 14)",
           "rgb(255, 127, 14)",
           "rgb(255, 127, 14)",
           "rgb(255, 127, 14)",
           "rgb(255, 127, 14)",
           "rgb(44, 160, 44)",
           "rgb(44, 160, 44)",
           "rgb(44, 160, 44)",
           "rgb(44, 160, 44)",
           "rgb(44, 160, 44)",
           "rgb(44, 160, 44)",
           "rgb(44, 160, 44)",
           "rgb(44, 160, 44)",
           "rgb(44, 160, 44)",
           "rgb(44, 160, 44)",
           "rgb(214, 39, 40)",
           "rgb(214, 39, 40)",
           "rgb(214, 39, 40)",
           "rgb(214, 39, 40)",
           "rgb(214, 39, 40)",
           "rgb(214, 39, 40)",
           "rgb(214, 39, 40)",
           "rgb(214, 39, 40)",
           "rgb(214, 39, 40)",
           "rgb(214, 39, 40)",
           "rgb(148, 103, 189)",
           "rgb(148, 103, 189)",
           "rgb(148, 103, 189)",
           "rgb(148, 103, 189)",
           "rgb(148, 103, 189)",
           "rgb(148, 103, 189)",
           "rgb(148, 103, 189)",
           "rgb(148, 103, 189)",
           "rgb(148, 103, 189)",
           "rgb(148, 103, 189)",
           "rgb(140, 86, 75)",
           "rgb(140, 86, 75)",
           "rgb(140, 86, 75)",
           "rgb(140, 86, 75)",
           "rgb(140, 86, 75)",
           "rgb(140, 86, 75)",
           "rgb(140, 86, 75)",
           "rgb(140, 86, 75)",
           "rgb(140, 86, 75)",
           "rgb(140, 86, 75)",
           "rgb(227, 119, 194)",
           "rgb(227, 119, 194)",
           "rgb(227, 119, 194)",
           "rgb(227, 119, 194)",
           "rgb(227, 119, 194)",
           "rgb(227, 119, 194)",
           "rgb(227, 119, 194)",
           "rgb(227, 119, 194)",
           "rgb(227, 119, 194)",
           "rgb(227, 119, 194)",
           "rgb(127, 127, 127)",
           "rgb(127, 127, 127)",
           "rgb(127, 127, 127)",
           "rgb(127, 127, 127)",
           "rgb(127, 127, 127)",
           "rgb(127, 127, 127)",
           "rgb(127, 127, 127)",
           "rgb(127, 127, 127)",
           "rgb(127, 127, 127)",
           "rgb(127, 127, 127)",
           "rgb(188, 189, 34)",
           "rgb(188, 189, 34)",
           "rgb(188, 189, 34)",
           "rgb(188, 189, 34)",
           "rgb(188, 189, 34)",
           "rgb(188, 189, 34)",
           "rgb(188, 189, 34)",
           "rgb(188, 189, 34)",
           "rgb(188, 189, 34)",
           "rgb(188, 189, 34)",
           "rgb(23, 190, 207)",
           "rgb(23, 190, 207)",
           "rgb(23, 190, 207)",
           "rgb(23, 190, 207)",
           "rgb(23, 190, 207)",
           "rgb(23, 190, 207)",
           "rgb(23, 190, 207)",
           "rgb(23, 190, 207)",
           "rgb(23, 190, 207)",
           "rgb(23, 190, 207)"
          ]
         },
         "mode": "markers",
         "type": "scatter",
         "x": [
          3.5430474281311035,
          12.357586860656738,
          12.515257835388184,
          14.658105850219727,
          7.065016746520996,
          8.491175651550293,
          6.953711986541748,
          3.993276357650757,
          10.85550594329834,
          12.628167152404785,
          -1.9755514860153198,
          -4.840673923492432,
          -2.70725417137146,
          -2.036546468734741,
          -4.254518508911133,
          -1.4309197664260864,
          -2.3674614429473877,
          -4.639462947845459,
          0.10767467319965363,
          -3.0029361248016357,
          -6.960367202758789,
          -6.086591720581055,
          -4.985196113586426,
          -4.617767333984375,
          -7.7822065353393555,
          -9.03649616241455,
          -3.1988003253936768,
          -7.011086463928223,
          -3.774130344390869,
          -4.494470596313477,
          -3.089064359664917,
          -3.9883878231048584,
          -5.112911224365234,
          -2.453697443008423,
          -8.468110084533691,
          -0.9989616274833679,
          -2.8069257736206055,
          -4.8839006423950195,
          -9.9276704788208,
          -6.669046401977539,
          -3.5475504398345947,
          -3.0238471031188965,
          -4.248373508453369,
          -3.450697183609009,
          -0.29207101464271545,
          -0.04768674448132515,
          -0.05499299243092537,
          -3.0236594676971436,
          1.4539952278137207,
          -1.5627495050430298,
          -12.581393241882324,
          -3.9277055263519287,
          -1.5137275457382202,
          -7.999564170837402,
          -3.9583704471588135,
          -8.793632507324219,
          -0.1636444330215454,
          -8.541001319885254,
          -1.2582775354385376,
          -5.7890400886535645,
          -7.175166130065918,
          -4.831600189208984,
          -9.512324333190918,
          -4.820683002471924,
          -7.409019470214844,
          -4.911864280700684,
          -5.363186836242676,
          -6.653003692626953,
          -7.663726806640625,
          -4.205066680908203,
          -11.570245742797852,
          -6.035107612609863,
          -7.20935583114624,
          -8.436259269714355,
          -5.26922607421875,
          0.43034598231315613,
          -5.184146881103516,
          -5.1074724197387695,
          -8.408418655395508,
          -6.771111965179443,
          -11.04244327545166,
          -5.236222267150879,
          -4.166308879852295,
          -8.962042808532715,
          -6.701128005981445,
          -5.391681671142578,
          -8.810393333435059,
          -8.790112495422363,
          -7.891806602478027,
          -6.04410457611084,
          -2.3704569339752197,
          -3.4285085201263428,
          -2.9246151447296143,
          -1.2420108318328857,
          -7.127434730529785,
          -3.591585397720337,
          -1.867907166481018,
          -0.08251066505908966,
          -2.0772337913513184,
          -3.620516061782837
         ],
         "xaxis": "x2",
         "y": [
          7.7669477462768555,
          21.123794555664062,
          20.46268081665039,
          19.802824020385742,
          16.642976760864258,
          15.279073715209961,
          14.852067947387695,
          15.106178283691406,
          15.063925743103027,
          18.4719295501709,
          1.399144172668457,
          -1.3196687698364258,
          0.4347863495349884,
          -0.08502735197544098,
          -0.24406076967716217,
          0.9749664664268494,
          -0.3885900676250458,
          -2.3418872356414795,
          4.16610050201416,
          -1.060168981552124,
          -3.683530569076538,
          -1.652563452720642,
          -1.7167922258377075,
          -2.0865113735198975,
          -3.518495798110962,
          -4.2277350425720215,
          -0.9999774098396301,
          -2.683871269226074,
          -1.5676394701004028,
          -1.0871332883834839,
          -0.9485496878623962,
          -1.0903065204620361,
          -3.364971876144409,
          -0.5803971886634827,
          -4.581081867218018,
          2.744643211364746,
          2.7683064937591553,
          -1.6796008348464966,
          -5.880188465118408,
          -3.466515302658081,
          -0.10886362195014954,
          -0.3730880916118622,
          0.08233802020549774,
          -0.2701509892940521,
          3.1845667362213135,
          2.632322072982788,
          3.251178026199341,
          0.3102785348892212,
          5.202922821044922,
          3.3280231952667236,
          -8.73912525177002,
          -1.8061776161193848,
          1.3701883554458618,
          -4.3498029708862305,
          -0.7726522088050842,
          -5.254192352294922,
          2.3572731018066406,
          -4.205260276794434,
          2.354207754135132,
          -3.175152063369751,
          -4.656261444091797,
          -2.736915349960327,
          -7.097317695617676,
          -1.4234719276428223,
          -4.571697235107422,
          -2.583674669265747,
          -2.3706672191619873,
          -3.7888965606689453,
          -4.538203716278076,
          1.2211363315582275,
          -7.3360748291015625,
          -4.138755798339844,
          -2.1005666255950928,
          -4.9120941162109375,
          -3.8726003170013428,
          3.9154646396636963,
          -1.8426200151443481,
          -1.7470978498458862,
          -5.481634140014648,
          -3.7489683628082275,
          -10.125178337097168,
          -3.761674165725708,
          -2.471155881881714,
          -5.807934761047363,
          -4.190173625946045,
          -2.662513494491577,
          -6.7639288902282715,
          -6.526571273803711,
          -5.054406642913818,
          -4.2106451988220215,
          2.4552595615386963,
          -1.202506184577942,
          1.763609766960144,
          2.321349620819092,
          -2.5356268882751465,
          0.539793074131012,
          1.0744456052780151,
          3.8401176929473877,
          2.698129177093506,
          -0.1549902707338333
         ],
         "yaxis": "y2"
        },
        {
         "marker": {
          "color": [
           "rgb(31, 119, 180)",
           "rgb(31, 119, 180)",
           "rgb(31, 119, 180)",
           "rgb(31, 119, 180)",
           "rgb(31, 119, 180)",
           "rgb(31, 119, 180)",
           "rgb(31, 119, 180)",
           "rgb(31, 119, 180)",
           "rgb(31, 119, 180)",
           "rgb(31, 119, 180)",
           "rgb(255, 127, 14)",
           "rgb(255, 127, 14)",
           "rgb(255, 127, 14)",
           "rgb(255, 127, 14)",
           "rgb(255, 127, 14)",
           "rgb(255, 127, 14)",
           "rgb(255, 127, 14)",
           "rgb(255, 127, 14)",
           "rgb(255, 127, 14)",
           "rgb(255, 127, 14)",
           "rgb(44, 160, 44)",
           "rgb(44, 160, 44)",
           "rgb(44, 160, 44)",
           "rgb(44, 160, 44)",
           "rgb(44, 160, 44)",
           "rgb(44, 160, 44)",
           "rgb(44, 160, 44)",
           "rgb(44, 160, 44)",
           "rgb(44, 160, 44)",
           "rgb(44, 160, 44)",
           "rgb(214, 39, 40)",
           "rgb(214, 39, 40)",
           "rgb(214, 39, 40)",
           "rgb(214, 39, 40)",
           "rgb(214, 39, 40)",
           "rgb(214, 39, 40)",
           "rgb(214, 39, 40)",
           "rgb(214, 39, 40)",
           "rgb(214, 39, 40)",
           "rgb(214, 39, 40)",
           "rgb(148, 103, 189)",
           "rgb(148, 103, 189)",
           "rgb(148, 103, 189)",
           "rgb(148, 103, 189)",
           "rgb(148, 103, 189)",
           "rgb(148, 103, 189)",
           "rgb(148, 103, 189)",
           "rgb(148, 103, 189)",
           "rgb(148, 103, 189)",
           "rgb(148, 103, 189)",
           "rgb(140, 86, 75)",
           "rgb(140, 86, 75)",
           "rgb(140, 86, 75)",
           "rgb(140, 86, 75)",
           "rgb(140, 86, 75)",
           "rgb(140, 86, 75)",
           "rgb(140, 86, 75)",
           "rgb(140, 86, 75)",
           "rgb(140, 86, 75)",
           "rgb(140, 86, 75)",
           "rgb(227, 119, 194)",
           "rgb(227, 119, 194)",
           "rgb(227, 119, 194)",
           "rgb(227, 119, 194)",
           "rgb(227, 119, 194)",
           "rgb(227, 119, 194)",
           "rgb(227, 119, 194)",
           "rgb(227, 119, 194)",
           "rgb(227, 119, 194)",
           "rgb(227, 119, 194)",
           "rgb(127, 127, 127)",
           "rgb(127, 127, 127)",
           "rgb(127, 127, 127)",
           "rgb(127, 127, 127)",
           "rgb(127, 127, 127)",
           "rgb(127, 127, 127)",
           "rgb(127, 127, 127)",
           "rgb(127, 127, 127)",
           "rgb(127, 127, 127)",
           "rgb(127, 127, 127)",
           "rgb(188, 189, 34)",
           "rgb(188, 189, 34)",
           "rgb(188, 189, 34)",
           "rgb(188, 189, 34)",
           "rgb(188, 189, 34)",
           "rgb(188, 189, 34)",
           "rgb(188, 189, 34)",
           "rgb(188, 189, 34)",
           "rgb(188, 189, 34)",
           "rgb(188, 189, 34)",
           "rgb(23, 190, 207)",
           "rgb(23, 190, 207)",
           "rgb(23, 190, 207)",
           "rgb(23, 190, 207)",
           "rgb(23, 190, 207)",
           "rgb(23, 190, 207)",
           "rgb(23, 190, 207)",
           "rgb(23, 190, 207)",
           "rgb(23, 190, 207)",
           "rgb(23, 190, 207)"
          ]
         },
         "mode": "markers",
         "type": "scatter",
         "x": [
          0.0052616409957408905,
          5.756688117980957,
          5.567338943481445,
          8.84981632232666,
          0.6857815980911255,
          3.543036460876465,
          0.7249670028686523,
          -1.2260249853134155,
          6.8489789962768555,
          6.776816368103027,
          -4.430776596069336,
          -7.38264799118042,
          -5.718280792236328,
          -4.385732173919678,
          -7.097137451171875,
          -4.108797073364258,
          -5.193051338195801,
          -7.203064918518066,
          -3.6038732528686523,
          -6.704287528991699,
          -10.148635864257812,
          -9.6869478225708,
          -9.019030570983887,
          -6.66398811340332,
          -11.088471412658691,
          -12.552713394165039,
          -5.256011962890625,
          -11.813186645507812,
          -5.867109298706055,
          -7.7313737869262695,
          -5.303548812866211,
          -7.066736698150635,
          -7.202058792114258,
          -5.100188255310059,
          -11.99200439453125,
          -5.08595085144043,
          -7.248652458190918,
          -7.5015740394592285,
          -12.478262901306152,
          -9.581452369689941,
          -6.326915740966797,
          -5.566669464111328,
          -7.689831733703613,
          -6.130942344665527,
          -3.214416980743408,
          -2.8525450229644775,
          -3.206047296524048,
          -5.288686752319336,
          -1.9809554815292358,
          -5.126133441925049,
          -14.375604629516602,
          -6.549344062805176,
          -3.6570706367492676,
          -10.162394523620605,
          -6.416448593139648,
          -11.100356101989746,
          -3.028087615966797,
          -11.433184623718262,
          -4.2926459312438965,
          -8.185837745666504,
          -9.387699127197266,
          -7.615248203277588,
          -11.941886901855469,
          -7.441783905029297,
          -9.724411964416504,
          -6.696619987487793,
          -7.514641284942627,
          -9.856926918029785,
          -11.0697021484375,
          -7.700005531311035,
          -14.509718894958496,
          -7.922730445861816,
          -10.797383308410645,
          -11.314088821411133,
          -8.61164665222168,
          -3.2713091373443604,
          -8.164782524108887,
          -7.3171257972717285,
          -12.235306739807129,
          -10.00701904296875,
          -13.69844913482666,
          -6.684161186218262,
          -5.383352279663086,
          -11.443552017211914,
          -9.363369941711426,
          -8.331971168518066,
          -10.355987548828125,
          -11.552849769592285,
          -10.352027893066406,
          -8.547635078430176,
          -6.4940900802612305,
          -6.868742942810059,
          -5.974009037017822,
          -4.629395008087158,
          -10.086380958557129,
          -6.533370494842529,
          -4.204303741455078,
          -2.884188413619995,
          -5.711508274078369,
          -6.59544563293457
         ],
         "xaxis": "x3",
         "y": [
          7.7669477462768555,
          21.123794555664062,
          20.46268081665039,
          19.802824020385742,
          16.642976760864258,
          15.279073715209961,
          14.852067947387695,
          15.106178283691406,
          15.063925743103027,
          18.4719295501709,
          1.399144172668457,
          -1.3196687698364258,
          0.4347863495349884,
          -0.08502735197544098,
          -0.24406076967716217,
          0.9749664664268494,
          -0.3885900676250458,
          -2.3418872356414795,
          4.16610050201416,
          -1.060168981552124,
          -3.683530569076538,
          -1.652563452720642,
          -1.7167922258377075,
          -2.0865113735198975,
          -3.518495798110962,
          -4.2277350425720215,
          -0.9999774098396301,
          -2.683871269226074,
          -1.5676394701004028,
          -1.0871332883834839,
          -0.9485496878623962,
          -1.0903065204620361,
          -3.364971876144409,
          -0.5803971886634827,
          -4.581081867218018,
          2.744643211364746,
          2.7683064937591553,
          -1.6796008348464966,
          -5.880188465118408,
          -3.466515302658081,
          -0.10886362195014954,
          -0.3730880916118622,
          0.08233802020549774,
          -0.2701509892940521,
          3.1845667362213135,
          2.632322072982788,
          3.251178026199341,
          0.3102785348892212,
          5.202922821044922,
          3.3280231952667236,
          -8.73912525177002,
          -1.8061776161193848,
          1.3701883554458618,
          -4.3498029708862305,
          -0.7726522088050842,
          -5.254192352294922,
          2.3572731018066406,
          -4.205260276794434,
          2.354207754135132,
          -3.175152063369751,
          -4.656261444091797,
          -2.736915349960327,
          -7.097317695617676,
          -1.4234719276428223,
          -4.571697235107422,
          -2.583674669265747,
          -2.3706672191619873,
          -3.7888965606689453,
          -4.538203716278076,
          1.2211363315582275,
          -7.3360748291015625,
          -4.138755798339844,
          -2.1005666255950928,
          -4.9120941162109375,
          -3.8726003170013428,
          3.9154646396636963,
          -1.8426200151443481,
          -1.7470978498458862,
          -5.481634140014648,
          -3.7489683628082275,
          -10.125178337097168,
          -3.761674165725708,
          -2.471155881881714,
          -5.807934761047363,
          -4.190173625946045,
          -2.662513494491577,
          -6.7639288902282715,
          -6.526571273803711,
          -5.054406642913818,
          -4.2106451988220215,
          2.4552595615386963,
          -1.202506184577942,
          1.763609766960144,
          2.321349620819092,
          -2.5356268882751465,
          0.539793074131012,
          1.0744456052780151,
          3.8401176929473877,
          2.698129177093506,
          -0.1549902707338333
         ],
         "yaxis": "y3"
        },
        {
         "marker": {
          "color": [
           "rgb(31, 119, 180)",
           "rgb(31, 119, 180)",
           "rgb(31, 119, 180)",
           "rgb(31, 119, 180)",
           "rgb(31, 119, 180)",
           "rgb(31, 119, 180)",
           "rgb(31, 119, 180)",
           "rgb(31, 119, 180)",
           "rgb(31, 119, 180)",
           "rgb(31, 119, 180)",
           "rgb(255, 127, 14)",
           "rgb(255, 127, 14)",
           "rgb(255, 127, 14)",
           "rgb(255, 127, 14)",
           "rgb(255, 127, 14)",
           "rgb(255, 127, 14)",
           "rgb(255, 127, 14)",
           "rgb(255, 127, 14)",
           "rgb(255, 127, 14)",
           "rgb(255, 127, 14)",
           "rgb(44, 160, 44)",
           "rgb(44, 160, 44)",
           "rgb(44, 160, 44)",
           "rgb(44, 160, 44)",
           "rgb(44, 160, 44)",
           "rgb(44, 160, 44)",
           "rgb(44, 160, 44)",
           "rgb(44, 160, 44)",
           "rgb(44, 160, 44)",
           "rgb(44, 160, 44)",
           "rgb(214, 39, 40)",
           "rgb(214, 39, 40)",
           "rgb(214, 39, 40)",
           "rgb(214, 39, 40)",
           "rgb(214, 39, 40)",
           "rgb(214, 39, 40)",
           "rgb(214, 39, 40)",
           "rgb(214, 39, 40)",
           "rgb(214, 39, 40)",
           "rgb(214, 39, 40)",
           "rgb(148, 103, 189)",
           "rgb(148, 103, 189)",
           "rgb(148, 103, 189)",
           "rgb(148, 103, 189)",
           "rgb(148, 103, 189)",
           "rgb(148, 103, 189)",
           "rgb(148, 103, 189)",
           "rgb(148, 103, 189)",
           "rgb(148, 103, 189)",
           "rgb(148, 103, 189)",
           "rgb(140, 86, 75)",
           "rgb(140, 86, 75)",
           "rgb(140, 86, 75)",
           "rgb(140, 86, 75)",
           "rgb(140, 86, 75)",
           "rgb(140, 86, 75)",
           "rgb(140, 86, 75)",
           "rgb(140, 86, 75)",
           "rgb(140, 86, 75)",
           "rgb(140, 86, 75)",
           "rgb(227, 119, 194)",
           "rgb(227, 119, 194)",
           "rgb(227, 119, 194)",
           "rgb(227, 119, 194)",
           "rgb(227, 119, 194)",
           "rgb(227, 119, 194)",
           "rgb(227, 119, 194)",
           "rgb(227, 119, 194)",
           "rgb(227, 119, 194)",
           "rgb(227, 119, 194)",
           "rgb(127, 127, 127)",
           "rgb(127, 127, 127)",
           "rgb(127, 127, 127)",
           "rgb(127, 127, 127)",
           "rgb(127, 127, 127)",
           "rgb(127, 127, 127)",
           "rgb(127, 127, 127)",
           "rgb(127, 127, 127)",
           "rgb(127, 127, 127)",
           "rgb(127, 127, 127)",
           "rgb(188, 189, 34)",
           "rgb(188, 189, 34)",
           "rgb(188, 189, 34)",
           "rgb(188, 189, 34)",
           "rgb(188, 189, 34)",
           "rgb(188, 189, 34)",
           "rgb(188, 189, 34)",
           "rgb(188, 189, 34)",
           "rgb(188, 189, 34)",
           "rgb(188, 189, 34)",
           "rgb(23, 190, 207)",
           "rgb(23, 190, 207)",
           "rgb(23, 190, 207)",
           "rgb(23, 190, 207)",
           "rgb(23, 190, 207)",
           "rgb(23, 190, 207)",
           "rgb(23, 190, 207)",
           "rgb(23, 190, 207)",
           "rgb(23, 190, 207)",
           "rgb(23, 190, 207)"
          ]
         },
         "mode": "markers",
         "type": "scatter",
         "x": [
          -3.990560293197632,
          -1.9185996055603027,
          -1.6774897575378418,
          1.467234492301941,
          -6.1129150390625,
          -2.6554338932037354,
          -6.67445182800293,
          -7.756268501281738,
          1.1525925397872925,
          -0.03955783322453499,
          -7.845089912414551,
          -11.999445915222168,
          -9.586297035217285,
          -9.293595314025879,
          -11.720170021057129,
          -8.00955581665039,
          -9.127020835876465,
          -11.959059715270996,
          -8.56679630279541,
          -12.299885749816895,
          -14.843629837036133,
          -15.298654556274414,
          -15.00568675994873,
          -10.388237953186035,
          -15.844233512878418,
          -16.346010208129883,
          -8.860222816467285,
          -17.633100509643555,
          -9.177096366882324,
          -12.576407432556152,
          -8.326506614685059,
          -11.712550163269043,
          -11.875593185424805,
          -10.012621879577637,
          -18.718761444091797,
          -11.4127836227417,
          -12.700624465942383,
          -10.640729904174805,
          -15.921442985534668,
          -14.379500389099121,
          -9.959329605102539,
          -9.696185111999512,
          -12.92241096496582,
          -9.73239803314209,
          -7.208441734313965,
          -7.150254249572754,
          -7.930900573730469,
          -7.69131326675415,
          -7.525623321533203,
          -10.257269859313965,
          -16.183826446533203,
          -9.969252586364746,
          -6.749848365783691,
          -12.920150756835938,
          -9.676848411560059,
          -13.37804126739502,
          -6.990941047668457,
          -16.00303077697754,
          -8.773350715637207,
          -11.518633842468262,
          -13.482924461364746,
          -12.871199607849121,
          -15.179465293884277,
          -10.829760551452637,
          -12.974015235900879,
          -8.537837982177734,
          -10.293437957763672,
          -14.82800579071045,
          -16.668331146240234,
          -12.864606857299805,
          -19.64092445373535,
          -11.893770217895508,
          -15.026315689086914,
          -16.22309684753418,
          -14.436779022216797,
          -8.175081253051758,
          -11.486421585083008,
          -9.453584671020508,
          -18.11808967590332,
          -13.752724647521973,
          -19.76569938659668,
          -9.131922721862793,
          -8.532255172729492,
          -15.70516586303711,
          -13.843552589416504,
          -13.057442665100098,
          -14.25839614868164,
          -16.859506607055664,
          -15.421891212463379,
          -12.679349899291992,
          -12.170950889587402,
          -11.929413795471191,
          -8.352737426757812,
          -8.984553337097168,
          -14.692305564880371,
          -10.160904884338379,
          -7.694461822509766,
          -6.485954284667969,
          -11.21905517578125,
          -9.806229591369629
         ],
         "xaxis": "x4",
         "y": [
          7.7669477462768555,
          21.123794555664062,
          20.46268081665039,
          19.802824020385742,
          16.642976760864258,
          15.279073715209961,
          14.852067947387695,
          15.106178283691406,
          15.063925743103027,
          18.4719295501709,
          1.399144172668457,
          -1.3196687698364258,
          0.4347863495349884,
          -0.08502735197544098,
          -0.24406076967716217,
          0.9749664664268494,
          -0.3885900676250458,
          -2.3418872356414795,
          4.16610050201416,
          -1.060168981552124,
          -3.683530569076538,
          -1.652563452720642,
          -1.7167922258377075,
          -2.0865113735198975,
          -3.518495798110962,
          -4.2277350425720215,
          -0.9999774098396301,
          -2.683871269226074,
          -1.5676394701004028,
          -1.0871332883834839,
          -0.9485496878623962,
          -1.0903065204620361,
          -3.364971876144409,
          -0.5803971886634827,
          -4.581081867218018,
          2.744643211364746,
          2.7683064937591553,
          -1.6796008348464966,
          -5.880188465118408,
          -3.466515302658081,
          -0.10886362195014954,
          -0.3730880916118622,
          0.08233802020549774,
          -0.2701509892940521,
          3.1845667362213135,
          2.632322072982788,
          3.251178026199341,
          0.3102785348892212,
          5.202922821044922,
          3.3280231952667236,
          -8.73912525177002,
          -1.8061776161193848,
          1.3701883554458618,
          -4.3498029708862305,
          -0.7726522088050842,
          -5.254192352294922,
          2.3572731018066406,
          -4.205260276794434,
          2.354207754135132,
          -3.175152063369751,
          -4.656261444091797,
          -2.736915349960327,
          -7.097317695617676,
          -1.4234719276428223,
          -4.571697235107422,
          -2.583674669265747,
          -2.3706672191619873,
          -3.7888965606689453,
          -4.538203716278076,
          1.2211363315582275,
          -7.3360748291015625,
          -4.138755798339844,
          -2.1005666255950928,
          -4.9120941162109375,
          -3.8726003170013428,
          3.9154646396636963,
          -1.8426200151443481,
          -1.7470978498458862,
          -5.481634140014648,
          -3.7489683628082275,
          -10.125178337097168,
          -3.761674165725708,
          -2.471155881881714,
          -5.807934761047363,
          -4.190173625946045,
          -2.662513494491577,
          -6.7639288902282715,
          -6.526571273803711,
          -5.054406642913818,
          -4.2106451988220215,
          2.4552595615386963,
          -1.202506184577942,
          1.763609766960144,
          2.321349620819092,
          -2.5356268882751465,
          0.539793074131012,
          1.0744456052780151,
          3.8401176929473877,
          2.698129177093506,
          -0.1549902707338333
         ],
         "yaxis": "y4"
        },
        {
         "marker": {
          "color": [
           "rgb(31, 119, 180)",
           "rgb(31, 119, 180)",
           "rgb(31, 119, 180)",
           "rgb(31, 119, 180)",
           "rgb(31, 119, 180)",
           "rgb(31, 119, 180)",
           "rgb(31, 119, 180)",
           "rgb(31, 119, 180)",
           "rgb(31, 119, 180)",
           "rgb(31, 119, 180)",
           "rgb(255, 127, 14)",
           "rgb(255, 127, 14)",
           "rgb(255, 127, 14)",
           "rgb(255, 127, 14)",
           "rgb(255, 127, 14)",
           "rgb(255, 127, 14)",
           "rgb(255, 127, 14)",
           "rgb(255, 127, 14)",
           "rgb(255, 127, 14)",
           "rgb(255, 127, 14)",
           "rgb(44, 160, 44)",
           "rgb(44, 160, 44)",
           "rgb(44, 160, 44)",
           "rgb(44, 160, 44)",
           "rgb(44, 160, 44)",
           "rgb(44, 160, 44)",
           "rgb(44, 160, 44)",
           "rgb(44, 160, 44)",
           "rgb(44, 160, 44)",
           "rgb(44, 160, 44)",
           "rgb(214, 39, 40)",
           "rgb(214, 39, 40)",
           "rgb(214, 39, 40)",
           "rgb(214, 39, 40)",
           "rgb(214, 39, 40)",
           "rgb(214, 39, 40)",
           "rgb(214, 39, 40)",
           "rgb(214, 39, 40)",
           "rgb(214, 39, 40)",
           "rgb(214, 39, 40)",
           "rgb(148, 103, 189)",
           "rgb(148, 103, 189)",
           "rgb(148, 103, 189)",
           "rgb(148, 103, 189)",
           "rgb(148, 103, 189)",
           "rgb(148, 103, 189)",
           "rgb(148, 103, 189)",
           "rgb(148, 103, 189)",
           "rgb(148, 103, 189)",
           "rgb(148, 103, 189)",
           "rgb(140, 86, 75)",
           "rgb(140, 86, 75)",
           "rgb(140, 86, 75)",
           "rgb(140, 86, 75)",
           "rgb(140, 86, 75)",
           "rgb(140, 86, 75)",
           "rgb(140, 86, 75)",
           "rgb(140, 86, 75)",
           "rgb(140, 86, 75)",
           "rgb(140, 86, 75)",
           "rgb(227, 119, 194)",
           "rgb(227, 119, 194)",
           "rgb(227, 119, 194)",
           "rgb(227, 119, 194)",
           "rgb(227, 119, 194)",
           "rgb(227, 119, 194)",
           "rgb(227, 119, 194)",
           "rgb(227, 119, 194)",
           "rgb(227, 119, 194)",
           "rgb(227, 119, 194)",
           "rgb(127, 127, 127)",
           "rgb(127, 127, 127)",
           "rgb(127, 127, 127)",
           "rgb(127, 127, 127)",
           "rgb(127, 127, 127)",
           "rgb(127, 127, 127)",
           "rgb(127, 127, 127)",
           "rgb(127, 127, 127)",
           "rgb(127, 127, 127)",
           "rgb(127, 127, 127)",
           "rgb(188, 189, 34)",
           "rgb(188, 189, 34)",
           "rgb(188, 189, 34)",
           "rgb(188, 189, 34)",
           "rgb(188, 189, 34)",
           "rgb(188, 189, 34)",
           "rgb(188, 189, 34)",
           "rgb(188, 189, 34)",
           "rgb(188, 189, 34)",
           "rgb(188, 189, 34)",
           "rgb(23, 190, 207)",
           "rgb(23, 190, 207)",
           "rgb(23, 190, 207)",
           "rgb(23, 190, 207)",
           "rgb(23, 190, 207)",
           "rgb(23, 190, 207)",
           "rgb(23, 190, 207)",
           "rgb(23, 190, 207)",
           "rgb(23, 190, 207)",
           "rgb(23, 190, 207)"
          ]
         },
         "mode": "markers",
         "type": "scatter",
         "x": [
          -6.824946880340576,
          -6.826580047607422,
          -5.9578857421875,
          -4.396994590759277,
          -11.173527717590332,
          -6.462413311004639,
          -11.6155366897583,
          -11.757590293884277,
          -3.773944854736328,
          -5.048685073852539,
          -14.205050468444824,
          -18.563426971435547,
          -13.762276649475098,
          -18.794509887695312,
          -17.293638229370117,
          -12.568445205688477,
          -14.070765495300293,
          -18.63901138305664,
          -13.733054161071777,
          -20.169734954833984,
          -19.627290725708008,
          -20.480876922607422,
          -22.200214385986328,
          -15.930059432983398,
          -21.781108856201172,
          -18.978734970092773,
          -14.514941215515137,
          -23.398290634155273,
          -14.031163215637207,
          -18.090566635131836,
          -12.844499588012695,
          -16.011642456054688,
          -20.11531639099121,
          -15.246916770935059,
          -26.12542152404785,
          -20.01054573059082,
          -19.394073486328125,
          -13.98729419708252,
          -20.07285499572754,
          -21.10820960998535,
          -14.971841812133789,
          -15.539202690124512,
          -18.753358840942383,
          -12.337796211242676,
          -11.350822448730469,
          -11.757189750671387,
          -13.795066833496094,
          -10.10694408416748,
          -13.653759956359863,
          -13.620442390441895,
          -17.68398666381836,
          -14.399012565612793,
          -9.474448204040527,
          -16.818723678588867,
          -13.48192024230957,
          -15.798558235168457,
          -11.885802268981934,
          -20.60222816467285,
          -14.835827827453613,
          -16.211633682250977,
          -19.754289627075195,
          -18.40656852722168,
          -18.093053817749023,
          -14.551567077636719,
          -15.53032398223877,
          -10.147244453430176,
          -13.168667793273926,
          -20.108327865600586,
          -21.386220932006836,
          -17.432619094848633,
          -21.540945053100586,
          -17.49013328552246,
          -18.0886173248291,
          -19.924501419067383,
          -23.95746421813965,
          -16.033788681030273,
          -13.661529541015625,
          -11.674713134765625,
          -23.52194595336914,
          -16.926000595092773,
          -29.144168853759766,
          -12.571430206298828,
          -14.250832557678223,
          -21.008852005004883,
          -19.63528823852539,
          -19.968181610107422,
          -18.921655654907227,
          -22.291597366333008,
          -23.48267364501953,
          -18.000696182250977,
          -16.059343338012695,
          -16.193134307861328,
          -10.121519088745117,
          -12.196484565734863,
          -18.87883186340332,
          -11.890493392944336,
          -9.611660957336426,
          -10.568268775939941,
          -16.927350997924805,
          -10.28423023223877
         ],
         "xaxis": "x5",
         "y": [
          7.7669477462768555,
          21.123794555664062,
          20.46268081665039,
          19.802824020385742,
          16.642976760864258,
          15.279073715209961,
          14.852067947387695,
          15.106178283691406,
          15.063925743103027,
          18.4719295501709,
          1.399144172668457,
          -1.3196687698364258,
          0.4347863495349884,
          -0.08502735197544098,
          -0.24406076967716217,
          0.9749664664268494,
          -0.3885900676250458,
          -2.3418872356414795,
          4.16610050201416,
          -1.060168981552124,
          -3.683530569076538,
          -1.652563452720642,
          -1.7167922258377075,
          -2.0865113735198975,
          -3.518495798110962,
          -4.2277350425720215,
          -0.9999774098396301,
          -2.683871269226074,
          -1.5676394701004028,
          -1.0871332883834839,
          -0.9485496878623962,
          -1.0903065204620361,
          -3.364971876144409,
          -0.5803971886634827,
          -4.581081867218018,
          2.744643211364746,
          2.7683064937591553,
          -1.6796008348464966,
          -5.880188465118408,
          -3.466515302658081,
          -0.10886362195014954,
          -0.3730880916118622,
          0.08233802020549774,
          -0.2701509892940521,
          3.1845667362213135,
          2.632322072982788,
          3.251178026199341,
          0.3102785348892212,
          5.202922821044922,
          3.3280231952667236,
          -8.73912525177002,
          -1.8061776161193848,
          1.3701883554458618,
          -4.3498029708862305,
          -0.7726522088050842,
          -5.254192352294922,
          2.3572731018066406,
          -4.205260276794434,
          2.354207754135132,
          -3.175152063369751,
          -4.656261444091797,
          -2.736915349960327,
          -7.097317695617676,
          -1.4234719276428223,
          -4.571697235107422,
          -2.583674669265747,
          -2.3706672191619873,
          -3.7888965606689453,
          -4.538203716278076,
          1.2211363315582275,
          -7.3360748291015625,
          -4.138755798339844,
          -2.1005666255950928,
          -4.9120941162109375,
          -3.8726003170013428,
          3.9154646396636963,
          -1.8426200151443481,
          -1.7470978498458862,
          -5.481634140014648,
          -3.7489683628082275,
          -10.125178337097168,
          -3.761674165725708,
          -2.471155881881714,
          -5.807934761047363,
          -4.190173625946045,
          -2.662513494491577,
          -6.7639288902282715,
          -6.526571273803711,
          -5.054406642913818,
          -4.2106451988220215,
          2.4552595615386963,
          -1.202506184577942,
          1.763609766960144,
          2.321349620819092,
          -2.5356268882751465,
          0.539793074131012,
          1.0744456052780151,
          3.8401176929473877,
          2.698129177093506,
          -0.1549902707338333
         ],
         "yaxis": "y5"
        },
        {
         "marker": {
          "color": [
           "rgb(31, 119, 180)",
           "rgb(31, 119, 180)",
           "rgb(31, 119, 180)",
           "rgb(31, 119, 180)",
           "rgb(31, 119, 180)",
           "rgb(31, 119, 180)",
           "rgb(31, 119, 180)",
           "rgb(31, 119, 180)",
           "rgb(31, 119, 180)",
           "rgb(31, 119, 180)",
           "rgb(255, 127, 14)",
           "rgb(255, 127, 14)",
           "rgb(255, 127, 14)",
           "rgb(255, 127, 14)",
           "rgb(255, 127, 14)",
           "rgb(255, 127, 14)",
           "rgb(255, 127, 14)",
           "rgb(255, 127, 14)",
           "rgb(255, 127, 14)",
           "rgb(255, 127, 14)",
           "rgb(44, 160, 44)",
           "rgb(44, 160, 44)",
           "rgb(44, 160, 44)",
           "rgb(44, 160, 44)",
           "rgb(44, 160, 44)",
           "rgb(44, 160, 44)",
           "rgb(44, 160, 44)",
           "rgb(44, 160, 44)",
           "rgb(44, 160, 44)",
           "rgb(44, 160, 44)",
           "rgb(214, 39, 40)",
           "rgb(214, 39, 40)",
           "rgb(214, 39, 40)",
           "rgb(214, 39, 40)",
           "rgb(214, 39, 40)",
           "rgb(214, 39, 40)",
           "rgb(214, 39, 40)",
           "rgb(214, 39, 40)",
           "rgb(214, 39, 40)",
           "rgb(214, 39, 40)",
           "rgb(148, 103, 189)",
           "rgb(148, 103, 189)",
           "rgb(148, 103, 189)",
           "rgb(148, 103, 189)",
           "rgb(148, 103, 189)",
           "rgb(148, 103, 189)",
           "rgb(148, 103, 189)",
           "rgb(148, 103, 189)",
           "rgb(148, 103, 189)",
           "rgb(148, 103, 189)",
           "rgb(140, 86, 75)",
           "rgb(140, 86, 75)",
           "rgb(140, 86, 75)",
           "rgb(140, 86, 75)",
           "rgb(140, 86, 75)",
           "rgb(140, 86, 75)",
           "rgb(140, 86, 75)",
           "rgb(140, 86, 75)",
           "rgb(140, 86, 75)",
           "rgb(140, 86, 75)",
           "rgb(227, 119, 194)",
           "rgb(227, 119, 194)",
           "rgb(227, 119, 194)",
           "rgb(227, 119, 194)",
           "rgb(227, 119, 194)",
           "rgb(227, 119, 194)",
           "rgb(227, 119, 194)",
           "rgb(227, 119, 194)",
           "rgb(227, 119, 194)",
           "rgb(227, 119, 194)",
           "rgb(127, 127, 127)",
           "rgb(127, 127, 127)",
           "rgb(127, 127, 127)",
           "rgb(127, 127, 127)",
           "rgb(127, 127, 127)",
           "rgb(127, 127, 127)",
           "rgb(127, 127, 127)",
           "rgb(127, 127, 127)",
           "rgb(127, 127, 127)",
           "rgb(127, 127, 127)",
           "rgb(188, 189, 34)",
           "rgb(188, 189, 34)",
           "rgb(188, 189, 34)",
           "rgb(188, 189, 34)",
           "rgb(188, 189, 34)",
           "rgb(188, 189, 34)",
           "rgb(188, 189, 34)",
           "rgb(188, 189, 34)",
           "rgb(188, 189, 34)",
           "rgb(188, 189, 34)",
           "rgb(23, 190, 207)",
           "rgb(23, 190, 207)",
           "rgb(23, 190, 207)",
           "rgb(23, 190, 207)",
           "rgb(23, 190, 207)",
           "rgb(23, 190, 207)",
           "rgb(23, 190, 207)",
           "rgb(23, 190, 207)",
           "rgb(23, 190, 207)",
           "rgb(23, 190, 207)"
          ]
         },
         "mode": "markers",
         "type": "scatter",
         "x": [
          0.2254553884267807,
          0.20968998968601227,
          0.2353065460920334,
          0.2510014772415161,
          0.21092964708805084,
          0.21663442254066467,
          0.268585741519928,
          0.21670298278331757,
          0.26281771063804626,
          0.21087059378623962,
          0.2111690789461136,
          0.20537562668323517,
          0.21179349720478058,
          0.21613247692584991,
          0.226450577378273,
          0.21239833533763885,
          0.19949230551719666,
          0.1998666226863861,
          0.2066843956708908,
          0.2011302411556244,
          0.20168150961399078,
          0.20436088740825653,
          0.19928842782974243,
          0.20038868486881256,
          0.20482826232910156,
          0.20181502401828766,
          0.20276471972465515,
          0.20318743586540222,
          0.2014600783586502,
          0.20748232305049896,
          0.1998669058084488,
          0.1998438984155655,
          0.21245279908180237,
          0.20741429924964905,
          0.2064024657011032,
          0.20555482804775238,
          0.20388171076774597,
          0.19940058887004852,
          0.20112942159175873,
          0.20389355719089508,
          0.21731379628181458,
          0.21151375770568848,
          0.2082805186510086,
          0.20120450854301453,
          0.21728301048278809,
          0.2288925051689148,
          0.22199033200740814,
          0.2168477326631546,
          0.23053841292858124,
          0.21524964272975922,
          0.19785933196544647,
          0.20396247506141663,
          0.20463599264621735,
          0.20286785066127777,
          0.19794075191020966,
          0.19782507419586182,
          0.19898928701877594,
          0.20137138664722443,
          0.20288465917110443,
          0.20159725844860077,
          0.2311600148677826,
          0.20546340942382812,
          0.19833172857761383,
          0.2040499895811081,
          0.20100553333759308,
          0.20061321556568146,
          0.2006242871284485,
          0.22982865571975708,
          0.20212911069393158,
          0.2122795134782791,
          0.21055400371551514,
          0.21014191210269928,
          0.20825569331645966,
          0.20762449502944946,
          0.2024308294057846,
          0.227576345205307,
          0.2019302397966385,
          0.2013215571641922,
          0.20242546498775482,
          0.1997755765914917,
          0.2063625454902649,
          0.19914142787456512,
          0.21406836807727814,
          0.2094094455242157,
          0.20812173187732697,
          0.2012956738471985,
          0.2049323469400406,
          0.20195096731185913,
          0.2026054561138153,
          0.20458026230335236,
          0.20785264670848846,
          0.20374758541584015,
          0.20205067098140717,
          0.19994793832302094,
          0.201036274433136,
          0.19828107953071594,
          0.19895212352275848,
          0.20321430265903473,
          0.2019369751214981,
          0.2057514637708664
         ],
         "xaxis": "x6",
         "y": [
          7.7669477462768555,
          21.123794555664062,
          20.46268081665039,
          19.802824020385742,
          16.642976760864258,
          15.279073715209961,
          14.852067947387695,
          15.106178283691406,
          15.063925743103027,
          18.4719295501709,
          1.399144172668457,
          -1.3196687698364258,
          0.4347863495349884,
          -0.08502735197544098,
          -0.24406076967716217,
          0.9749664664268494,
          -0.3885900676250458,
          -2.3418872356414795,
          4.16610050201416,
          -1.060168981552124,
          -3.683530569076538,
          -1.652563452720642,
          -1.7167922258377075,
          -2.0865113735198975,
          -3.518495798110962,
          -4.2277350425720215,
          -0.9999774098396301,
          -2.683871269226074,
          -1.5676394701004028,
          -1.0871332883834839,
          -0.9485496878623962,
          -1.0903065204620361,
          -3.364971876144409,
          -0.5803971886634827,
          -4.581081867218018,
          2.744643211364746,
          2.7683064937591553,
          -1.6796008348464966,
          -5.880188465118408,
          -3.466515302658081,
          -0.10886362195014954,
          -0.3730880916118622,
          0.08233802020549774,
          -0.2701509892940521,
          3.1845667362213135,
          2.632322072982788,
          3.251178026199341,
          0.3102785348892212,
          5.202922821044922,
          3.3280231952667236,
          -8.73912525177002,
          -1.8061776161193848,
          1.3701883554458618,
          -4.3498029708862305,
          -0.7726522088050842,
          -5.254192352294922,
          2.3572731018066406,
          -4.205260276794434,
          2.354207754135132,
          -3.175152063369751,
          -4.656261444091797,
          -2.736915349960327,
          -7.097317695617676,
          -1.4234719276428223,
          -4.571697235107422,
          -2.583674669265747,
          -2.3706672191619873,
          -3.7888965606689453,
          -4.538203716278076,
          1.2211363315582275,
          -7.3360748291015625,
          -4.138755798339844,
          -2.1005666255950928,
          -4.9120941162109375,
          -3.8726003170013428,
          3.9154646396636963,
          -1.8426200151443481,
          -1.7470978498458862,
          -5.481634140014648,
          -3.7489683628082275,
          -10.125178337097168,
          -3.761674165725708,
          -2.471155881881714,
          -5.807934761047363,
          -4.190173625946045,
          -2.662513494491577,
          -6.7639288902282715,
          -6.526571273803711,
          -5.054406642913818,
          -4.2106451988220215,
          2.4552595615386963,
          -1.202506184577942,
          1.763609766960144,
          2.321349620819092,
          -2.5356268882751465,
          0.539793074131012,
          1.0744456052780151,
          3.8401176929473877,
          2.698129177093506,
          -0.1549902707338333
         ],
         "yaxis": "y6"
        }
       ],
       "layout": {
        "height": 600,
        "template": {
         "data": {
          "bar": [
           {
            "error_x": {
             "color": "#2a3f5f"
            },
            "error_y": {
             "color": "#2a3f5f"
            },
            "marker": {
             "line": {
              "color": "#E5ECF6",
              "width": 0.5
             },
             "pattern": {
              "fillmode": "overlay",
              "size": 10,
              "solidity": 0.2
             }
            },
            "type": "bar"
           }
          ],
          "barpolar": [
           {
            "marker": {
             "line": {
              "color": "#E5ECF6",
              "width": 0.5
             },
             "pattern": {
              "fillmode": "overlay",
              "size": 10,
              "solidity": 0.2
             }
            },
            "type": "barpolar"
           }
          ],
          "carpet": [
           {
            "aaxis": {
             "endlinecolor": "#2a3f5f",
             "gridcolor": "white",
             "linecolor": "white",
             "minorgridcolor": "white",
             "startlinecolor": "#2a3f5f"
            },
            "baxis": {
             "endlinecolor": "#2a3f5f",
             "gridcolor": "white",
             "linecolor": "white",
             "minorgridcolor": "white",
             "startlinecolor": "#2a3f5f"
            },
            "type": "carpet"
           }
          ],
          "choropleth": [
           {
            "colorbar": {
             "outlinewidth": 0,
             "ticks": ""
            },
            "type": "choropleth"
           }
          ],
          "contour": [
           {
            "colorbar": {
             "outlinewidth": 0,
             "ticks": ""
            },
            "colorscale": [
             [
              0,
              "#0d0887"
             ],
             [
              0.1111111111111111,
              "#46039f"
             ],
             [
              0.2222222222222222,
              "#7201a8"
             ],
             [
              0.3333333333333333,
              "#9c179e"
             ],
             [
              0.4444444444444444,
              "#bd3786"
             ],
             [
              0.5555555555555556,
              "#d8576b"
             ],
             [
              0.6666666666666666,
              "#ed7953"
             ],
             [
              0.7777777777777778,
              "#fb9f3a"
             ],
             [
              0.8888888888888888,
              "#fdca26"
             ],
             [
              1,
              "#f0f921"
             ]
            ],
            "type": "contour"
           }
          ],
          "contourcarpet": [
           {
            "colorbar": {
             "outlinewidth": 0,
             "ticks": ""
            },
            "type": "contourcarpet"
           }
          ],
          "heatmap": [
           {
            "colorbar": {
             "outlinewidth": 0,
             "ticks": ""
            },
            "colorscale": [
             [
              0,
              "#0d0887"
             ],
             [
              0.1111111111111111,
              "#46039f"
             ],
             [
              0.2222222222222222,
              "#7201a8"
             ],
             [
              0.3333333333333333,
              "#9c179e"
             ],
             [
              0.4444444444444444,
              "#bd3786"
             ],
             [
              0.5555555555555556,
              "#d8576b"
             ],
             [
              0.6666666666666666,
              "#ed7953"
             ],
             [
              0.7777777777777778,
              "#fb9f3a"
             ],
             [
              0.8888888888888888,
              "#fdca26"
             ],
             [
              1,
              "#f0f921"
             ]
            ],
            "type": "heatmap"
           }
          ],
          "heatmapgl": [
           {
            "colorbar": {
             "outlinewidth": 0,
             "ticks": ""
            },
            "colorscale": [
             [
              0,
              "#0d0887"
             ],
             [
              0.1111111111111111,
              "#46039f"
             ],
             [
              0.2222222222222222,
              "#7201a8"
             ],
             [
              0.3333333333333333,
              "#9c179e"
             ],
             [
              0.4444444444444444,
              "#bd3786"
             ],
             [
              0.5555555555555556,
              "#d8576b"
             ],
             [
              0.6666666666666666,
              "#ed7953"
             ],
             [
              0.7777777777777778,
              "#fb9f3a"
             ],
             [
              0.8888888888888888,
              "#fdca26"
             ],
             [
              1,
              "#f0f921"
             ]
            ],
            "type": "heatmapgl"
           }
          ],
          "histogram": [
           {
            "marker": {
             "pattern": {
              "fillmode": "overlay",
              "size": 10,
              "solidity": 0.2
             }
            },
            "type": "histogram"
           }
          ],
          "histogram2d": [
           {
            "colorbar": {
             "outlinewidth": 0,
             "ticks": ""
            },
            "colorscale": [
             [
              0,
              "#0d0887"
             ],
             [
              0.1111111111111111,
              "#46039f"
             ],
             [
              0.2222222222222222,
              "#7201a8"
             ],
             [
              0.3333333333333333,
              "#9c179e"
             ],
             [
              0.4444444444444444,
              "#bd3786"
             ],
             [
              0.5555555555555556,
              "#d8576b"
             ],
             [
              0.6666666666666666,
              "#ed7953"
             ],
             [
              0.7777777777777778,
              "#fb9f3a"
             ],
             [
              0.8888888888888888,
              "#fdca26"
             ],
             [
              1,
              "#f0f921"
             ]
            ],
            "type": "histogram2d"
           }
          ],
          "histogram2dcontour": [
           {
            "colorbar": {
             "outlinewidth": 0,
             "ticks": ""
            },
            "colorscale": [
             [
              0,
              "#0d0887"
             ],
             [
              0.1111111111111111,
              "#46039f"
             ],
             [
              0.2222222222222222,
              "#7201a8"
             ],
             [
              0.3333333333333333,
              "#9c179e"
             ],
             [
              0.4444444444444444,
              "#bd3786"
             ],
             [
              0.5555555555555556,
              "#d8576b"
             ],
             [
              0.6666666666666666,
              "#ed7953"
             ],
             [
              0.7777777777777778,
              "#fb9f3a"
             ],
             [
              0.8888888888888888,
              "#fdca26"
             ],
             [
              1,
              "#f0f921"
             ]
            ],
            "type": "histogram2dcontour"
           }
          ],
          "mesh3d": [
           {
            "colorbar": {
             "outlinewidth": 0,
             "ticks": ""
            },
            "type": "mesh3d"
           }
          ],
          "parcoords": [
           {
            "line": {
             "colorbar": {
              "outlinewidth": 0,
              "ticks": ""
             }
            },
            "type": "parcoords"
           }
          ],
          "pie": [
           {
            "automargin": true,
            "type": "pie"
           }
          ],
          "scatter": [
           {
            "fillpattern": {
             "fillmode": "overlay",
             "size": 10,
             "solidity": 0.2
            },
            "type": "scatter"
           }
          ],
          "scatter3d": [
           {
            "line": {
             "colorbar": {
              "outlinewidth": 0,
              "ticks": ""
             }
            },
            "marker": {
             "colorbar": {
              "outlinewidth": 0,
              "ticks": ""
             }
            },
            "type": "scatter3d"
           }
          ],
          "scattercarpet": [
           {
            "marker": {
             "colorbar": {
              "outlinewidth": 0,
              "ticks": ""
             }
            },
            "type": "scattercarpet"
           }
          ],
          "scattergeo": [
           {
            "marker": {
             "colorbar": {
              "outlinewidth": 0,
              "ticks": ""
             }
            },
            "type": "scattergeo"
           }
          ],
          "scattergl": [
           {
            "marker": {
             "colorbar": {
              "outlinewidth": 0,
              "ticks": ""
             }
            },
            "type": "scattergl"
           }
          ],
          "scattermapbox": [
           {
            "marker": {
             "colorbar": {
              "outlinewidth": 0,
              "ticks": ""
             }
            },
            "type": "scattermapbox"
           }
          ],
          "scatterpolar": [
           {
            "marker": {
             "colorbar": {
              "outlinewidth": 0,
              "ticks": ""
             }
            },
            "type": "scatterpolar"
           }
          ],
          "scatterpolargl": [
           {
            "marker": {
             "colorbar": {
              "outlinewidth": 0,
              "ticks": ""
             }
            },
            "type": "scatterpolargl"
           }
          ],
          "scatterternary": [
           {
            "marker": {
             "colorbar": {
              "outlinewidth": 0,
              "ticks": ""
             }
            },
            "type": "scatterternary"
           }
          ],
          "surface": [
           {
            "colorbar": {
             "outlinewidth": 0,
             "ticks": ""
            },
            "colorscale": [
             [
              0,
              "#0d0887"
             ],
             [
              0.1111111111111111,
              "#46039f"
             ],
             [
              0.2222222222222222,
              "#7201a8"
             ],
             [
              0.3333333333333333,
              "#9c179e"
             ],
             [
              0.4444444444444444,
              "#bd3786"
             ],
             [
              0.5555555555555556,
              "#d8576b"
             ],
             [
              0.6666666666666666,
              "#ed7953"
             ],
             [
              0.7777777777777778,
              "#fb9f3a"
             ],
             [
              0.8888888888888888,
              "#fdca26"
             ],
             [
              1,
              "#f0f921"
             ]
            ],
            "type": "surface"
           }
          ],
          "table": [
           {
            "cells": {
             "fill": {
              "color": "#EBF0F8"
             },
             "line": {
              "color": "white"
             }
            },
            "header": {
             "fill": {
              "color": "#C8D4E3"
             },
             "line": {
              "color": "white"
             }
            },
            "type": "table"
           }
          ]
         },
         "layout": {
          "annotationdefaults": {
           "arrowcolor": "#2a3f5f",
           "arrowhead": 0,
           "arrowwidth": 1
          },
          "autotypenumbers": "strict",
          "coloraxis": {
           "colorbar": {
            "outlinewidth": 0,
            "ticks": ""
           }
          },
          "colorscale": {
           "diverging": [
            [
             0,
             "#8e0152"
            ],
            [
             0.1,
             "#c51b7d"
            ],
            [
             0.2,
             "#de77ae"
            ],
            [
             0.3,
             "#f1b6da"
            ],
            [
             0.4,
             "#fde0ef"
            ],
            [
             0.5,
             "#f7f7f7"
            ],
            [
             0.6,
             "#e6f5d0"
            ],
            [
             0.7,
             "#b8e186"
            ],
            [
             0.8,
             "#7fbc41"
            ],
            [
             0.9,
             "#4d9221"
            ],
            [
             1,
             "#276419"
            ]
           ],
           "sequential": [
            [
             0,
             "#0d0887"
            ],
            [
             0.1111111111111111,
             "#46039f"
            ],
            [
             0.2222222222222222,
             "#7201a8"
            ],
            [
             0.3333333333333333,
             "#9c179e"
            ],
            [
             0.4444444444444444,
             "#bd3786"
            ],
            [
             0.5555555555555556,
             "#d8576b"
            ],
            [
             0.6666666666666666,
             "#ed7953"
            ],
            [
             0.7777777777777778,
             "#fb9f3a"
            ],
            [
             0.8888888888888888,
             "#fdca26"
            ],
            [
             1,
             "#f0f921"
            ]
           ],
           "sequentialminus": [
            [
             0,
             "#0d0887"
            ],
            [
             0.1111111111111111,
             "#46039f"
            ],
            [
             0.2222222222222222,
             "#7201a8"
            ],
            [
             0.3333333333333333,
             "#9c179e"
            ],
            [
             0.4444444444444444,
             "#bd3786"
            ],
            [
             0.5555555555555556,
             "#d8576b"
            ],
            [
             0.6666666666666666,
             "#ed7953"
            ],
            [
             0.7777777777777778,
             "#fb9f3a"
            ],
            [
             0.8888888888888888,
             "#fdca26"
            ],
            [
             1,
             "#f0f921"
            ]
           ]
          },
          "colorway": [
           "#636efa",
           "#EF553B",
           "#00cc96",
           "#ab63fa",
           "#FFA15A",
           "#19d3f3",
           "#FF6692",
           "#B6E880",
           "#FF97FF",
           "#FECB52"
          ],
          "font": {
           "color": "#2a3f5f"
          },
          "geo": {
           "bgcolor": "white",
           "lakecolor": "white",
           "landcolor": "#E5ECF6",
           "showlakes": true,
           "showland": true,
           "subunitcolor": "white"
          },
          "hoverlabel": {
           "align": "left"
          },
          "hovermode": "closest",
          "mapbox": {
           "style": "light"
          },
          "paper_bgcolor": "white",
          "plot_bgcolor": "#E5ECF6",
          "polar": {
           "angularaxis": {
            "gridcolor": "white",
            "linecolor": "white",
            "ticks": ""
           },
           "bgcolor": "#E5ECF6",
           "radialaxis": {
            "gridcolor": "white",
            "linecolor": "white",
            "ticks": ""
           }
          },
          "scene": {
           "xaxis": {
            "backgroundcolor": "#E5ECF6",
            "gridcolor": "white",
            "gridwidth": 2,
            "linecolor": "white",
            "showbackground": true,
            "ticks": "",
            "zerolinecolor": "white"
           },
           "yaxis": {
            "backgroundcolor": "#E5ECF6",
            "gridcolor": "white",
            "gridwidth": 2,
            "linecolor": "white",
            "showbackground": true,
            "ticks": "",
            "zerolinecolor": "white"
           },
           "zaxis": {
            "backgroundcolor": "#E5ECF6",
            "gridcolor": "white",
            "gridwidth": 2,
            "linecolor": "white",
            "showbackground": true,
            "ticks": "",
            "zerolinecolor": "white"
           }
          },
          "shapedefaults": {
           "line": {
            "color": "#2a3f5f"
           }
          },
          "ternary": {
           "aaxis": {
            "gridcolor": "white",
            "linecolor": "white",
            "ticks": ""
           },
           "baxis": {
            "gridcolor": "white",
            "linecolor": "white",
            "ticks": ""
           },
           "bgcolor": "#E5ECF6",
           "caxis": {
            "gridcolor": "white",
            "linecolor": "white",
            "ticks": ""
           }
          },
          "title": {
           "x": 0.05
          },
          "xaxis": {
           "automargin": true,
           "gridcolor": "white",
           "linecolor": "white",
           "ticks": "",
           "title": {
            "standoff": 15
           },
           "zerolinecolor": "white",
           "zerolinewidth": 2
          },
          "yaxis": {
           "automargin": true,
           "gridcolor": "white",
           "linecolor": "white",
           "ticks": "",
           "title": {
            "standoff": 15
           },
           "zerolinecolor": "white",
           "zerolinewidth": 2
          }
         }
        },
        "title": {
         "text": "all"
        },
        "width": 1000,
        "xaxis": {
         "anchor": "y",
         "domain": [
          0,
          0.1388888888888889
         ]
        },
        "xaxis2": {
         "anchor": "y2",
         "domain": [
          0.17222222222222222,
          0.3111111111111111
         ]
        },
        "xaxis3": {
         "anchor": "y3",
         "domain": [
          0.34444444444444444,
          0.48333333333333334
         ]
        },
        "xaxis4": {
         "anchor": "y4",
         "domain": [
          0.5166666666666667,
          0.6555555555555557
         ]
        },
        "xaxis5": {
         "anchor": "y5",
         "domain": [
          0.6888888888888889,
          0.8277777777777777
         ]
        },
        "xaxis6": {
         "anchor": "y6",
         "domain": [
          0.861111111111111,
          1
         ]
        },
        "yaxis": {
         "anchor": "x",
         "domain": [
          0,
          1
         ]
        },
        "yaxis2": {
         "anchor": "x2",
         "domain": [
          0,
          1
         ]
        },
        "yaxis3": {
         "anchor": "x3",
         "domain": [
          0,
          1
         ]
        },
        "yaxis4": {
         "anchor": "x4",
         "domain": [
          0,
          1
         ]
        },
        "yaxis5": {
         "anchor": "x5",
         "domain": [
          0,
          1
         ]
        },
        "yaxis6": {
         "anchor": "x6",
         "domain": [
          0,
          1
         ]
        }
       }
      },
      "text/html": [
       "<div>                            <div id=\"f58f05db-d24c-4e1b-904b-daefdd7640b5\" class=\"plotly-graph-div\" style=\"height:600px; width:1000px;\"></div>            <script type=\"text/javascript\">                require([\"plotly\"], function(Plotly) {                    window.PLOTLYENV=window.PLOTLYENV || {};                                    if (document.getElementById(\"f58f05db-d24c-4e1b-904b-daefdd7640b5\")) {                    Plotly.newPlot(                        \"f58f05db-d24c-4e1b-904b-daefdd7640b5\",                        [{\"marker\":{\"color\":[\"rgb(31, 119, 180)\",\"rgb(31, 119, 180)\",\"rgb(31, 119, 180)\",\"rgb(31, 119, 180)\",\"rgb(31, 119, 180)\",\"rgb(31, 119, 180)\",\"rgb(31, 119, 180)\",\"rgb(31, 119, 180)\",\"rgb(31, 119, 180)\",\"rgb(31, 119, 180)\",\"rgb(255, 127, 14)\",\"rgb(255, 127, 14)\",\"rgb(255, 127, 14)\",\"rgb(255, 127, 14)\",\"rgb(255, 127, 14)\",\"rgb(255, 127, 14)\",\"rgb(255, 127, 14)\",\"rgb(255, 127, 14)\",\"rgb(255, 127, 14)\",\"rgb(255, 127, 14)\",\"rgb(44, 160, 44)\",\"rgb(44, 160, 44)\",\"rgb(44, 160, 44)\",\"rgb(44, 160, 44)\",\"rgb(44, 160, 44)\",\"rgb(44, 160, 44)\",\"rgb(44, 160, 44)\",\"rgb(44, 160, 44)\",\"rgb(44, 160, 44)\",\"rgb(44, 160, 44)\",\"rgb(214, 39, 40)\",\"rgb(214, 39, 40)\",\"rgb(214, 39, 40)\",\"rgb(214, 39, 40)\",\"rgb(214, 39, 40)\",\"rgb(214, 39, 40)\",\"rgb(214, 39, 40)\",\"rgb(214, 39, 40)\",\"rgb(214, 39, 40)\",\"rgb(214, 39, 40)\",\"rgb(148, 103, 189)\",\"rgb(148, 103, 189)\",\"rgb(148, 103, 189)\",\"rgb(148, 103, 189)\",\"rgb(148, 103, 189)\",\"rgb(148, 103, 189)\",\"rgb(148, 103, 189)\",\"rgb(148, 103, 189)\",\"rgb(148, 103, 189)\",\"rgb(148, 103, 189)\",\"rgb(140, 86, 75)\",\"rgb(140, 86, 75)\",\"rgb(140, 86, 75)\",\"rgb(140, 86, 75)\",\"rgb(140, 86, 75)\",\"rgb(140, 86, 75)\",\"rgb(140, 86, 75)\",\"rgb(140, 86, 75)\",\"rgb(140, 86, 75)\",\"rgb(140, 86, 75)\",\"rgb(227, 119, 194)\",\"rgb(227, 119, 194)\",\"rgb(227, 119, 194)\",\"rgb(227, 119, 194)\",\"rgb(227, 119, 194)\",\"rgb(227, 119, 194)\",\"rgb(227, 119, 194)\",\"rgb(227, 119, 194)\",\"rgb(227, 119, 194)\",\"rgb(227, 119, 194)\",\"rgb(127, 127, 127)\",\"rgb(127, 127, 127)\",\"rgb(127, 127, 127)\",\"rgb(127, 127, 127)\",\"rgb(127, 127, 127)\",\"rgb(127, 127, 127)\",\"rgb(127, 127, 127)\",\"rgb(127, 127, 127)\",\"rgb(127, 127, 127)\",\"rgb(127, 127, 127)\",\"rgb(188, 189, 34)\",\"rgb(188, 189, 34)\",\"rgb(188, 189, 34)\",\"rgb(188, 189, 34)\",\"rgb(188, 189, 34)\",\"rgb(188, 189, 34)\",\"rgb(188, 189, 34)\",\"rgb(188, 189, 34)\",\"rgb(188, 189, 34)\",\"rgb(188, 189, 34)\",\"rgb(23, 190, 207)\",\"rgb(23, 190, 207)\",\"rgb(23, 190, 207)\",\"rgb(23, 190, 207)\",\"rgb(23, 190, 207)\",\"rgb(23, 190, 207)\",\"rgb(23, 190, 207)\",\"rgb(23, 190, 207)\",\"rgb(23, 190, 207)\",\"rgb(23, 190, 207)\"]},\"mode\":\"markers\",\"x\":[6.168235778808594,17.043973922729492,17.572919845581055,18.200307846069336,12.567912101745605,11.895506858825684,11.701899528503418,9.687119483947754,13.406464576721191,15.895994186401367,-0.20562119781970978,-3.0628769397735596,-0.890383780002594,-0.9403181672096252,-2.360243558883667,-0.13926668465137482,-1.2127883434295654,-3.1365602016448975,2.4268136024475098,-1.8287736177444458,-5.0682830810546875,-3.647578001022339,-2.9037415981292725,-3.0181620121002197,-5.560314178466797,-6.691131114959717,-1.9351568222045898,-4.5774078369140625,-2.6249539852142334,-2.5360915660858154,-1.824414610862732,-2.46651554107666,-4.038961410522461,-1.312301516532898,-6.345686912536621,1.3661099672317505,0.30010566115379333,-3.366220712661743,-7.654807090759277,-4.861946105957031,-1.59662926197052,-1.735011339187622,-1.2921842336654663,-1.8319319486618042,1.5420507192611694,1.6411094665527344,1.7260018587112427,-1.327027440071106,3.9132564067840576,1.179404377937317,-10.969281196594238,-2.669382333755493,0.02109096571803093,-6.207252025604248,-2.5447213649749756,-7.152951240539551,1.3267472982406616,-6.483273506164551,0.39772090315818787,-4.395556449890137,-5.846480369567871,-3.5389339923858643,-8.162802696228027,-3.275770902633667,-6.047523498535156,-3.762441396713257,-3.935974359512329,-5.13410758972168,-6.204534530639648,-1.3905527591705322,-9.326842308044434,-4.966063499450684,-4.57969856262207,-6.586575508117676,-4.313397407531738,2.6506664752960205,-3.0642056465148926,-2.8833630084991455,-6.792575836181641,-4.874746799468994,-10.392020225524902,-4.5125627517700195,-3.248084306716919,-7.294961452484131,-5.376465797424316,-3.7723114490509033,-7.977622985839844,-7.418182849884033,-6.617169380187988,-4.919900894165039,-0.06822492182254791,-2.208082675933838,-0.6847380995750427,0.7477595210075378,-5.035104751586914,-1.2053091526031494,-0.22023607790470123,1.9352502822875977,0.5033770203590393,-1.7335752248764038],\"y\":[7.7669477462768555,21.123794555664062,20.46268081665039,19.802824020385742,16.642976760864258,15.279073715209961,14.852067947387695,15.106178283691406,15.063925743103027,18.4719295501709,1.399144172668457,-1.3196687698364258,0.4347863495349884,-0.08502735197544098,-0.24406076967716217,0.9749664664268494,-0.3885900676250458,-2.3418872356414795,4.16610050201416,-1.060168981552124,-3.683530569076538,-1.652563452720642,-1.7167922258377075,-2.0865113735198975,-3.518495798110962,-4.2277350425720215,-0.9999774098396301,-2.683871269226074,-1.5676394701004028,-1.0871332883834839,-0.9485496878623962,-1.0903065204620361,-3.364971876144409,-0.5803971886634827,-4.581081867218018,2.744643211364746,2.7683064937591553,-1.6796008348464966,-5.880188465118408,-3.466515302658081,-0.10886362195014954,-0.3730880916118622,0.08233802020549774,-0.2701509892940521,3.1845667362213135,2.632322072982788,3.251178026199341,0.3102785348892212,5.202922821044922,3.3280231952667236,-8.73912525177002,-1.8061776161193848,1.3701883554458618,-4.3498029708862305,-0.7726522088050842,-5.254192352294922,2.3572731018066406,-4.205260276794434,2.354207754135132,-3.175152063369751,-4.656261444091797,-2.736915349960327,-7.097317695617676,-1.4234719276428223,-4.571697235107422,-2.583674669265747,-2.3706672191619873,-3.7888965606689453,-4.538203716278076,1.2211363315582275,-7.3360748291015625,-4.138755798339844,-2.1005666255950928,-4.9120941162109375,-3.8726003170013428,3.9154646396636963,-1.8426200151443481,-1.7470978498458862,-5.481634140014648,-3.7489683628082275,-10.125178337097168,-3.761674165725708,-2.471155881881714,-5.807934761047363,-4.190173625946045,-2.662513494491577,-6.7639288902282715,-6.526571273803711,-5.054406642913818,-4.2106451988220215,2.4552595615386963,-1.202506184577942,1.763609766960144,2.321349620819092,-2.5356268882751465,0.539793074131012,1.0744456052780151,3.8401176929473877,2.698129177093506,-0.1549902707338333],\"type\":\"scatter\",\"xaxis\":\"x\",\"yaxis\":\"y\"},{\"marker\":{\"color\":[\"rgb(31, 119, 180)\",\"rgb(31, 119, 180)\",\"rgb(31, 119, 180)\",\"rgb(31, 119, 180)\",\"rgb(31, 119, 180)\",\"rgb(31, 119, 180)\",\"rgb(31, 119, 180)\",\"rgb(31, 119, 180)\",\"rgb(31, 119, 180)\",\"rgb(31, 119, 180)\",\"rgb(255, 127, 14)\",\"rgb(255, 127, 14)\",\"rgb(255, 127, 14)\",\"rgb(255, 127, 14)\",\"rgb(255, 127, 14)\",\"rgb(255, 127, 14)\",\"rgb(255, 127, 14)\",\"rgb(255, 127, 14)\",\"rgb(255, 127, 14)\",\"rgb(255, 127, 14)\",\"rgb(44, 160, 44)\",\"rgb(44, 160, 44)\",\"rgb(44, 160, 44)\",\"rgb(44, 160, 44)\",\"rgb(44, 160, 44)\",\"rgb(44, 160, 44)\",\"rgb(44, 160, 44)\",\"rgb(44, 160, 44)\",\"rgb(44, 160, 44)\",\"rgb(44, 160, 44)\",\"rgb(214, 39, 40)\",\"rgb(214, 39, 40)\",\"rgb(214, 39, 40)\",\"rgb(214, 39, 40)\",\"rgb(214, 39, 40)\",\"rgb(214, 39, 40)\",\"rgb(214, 39, 40)\",\"rgb(214, 39, 40)\",\"rgb(214, 39, 40)\",\"rgb(214, 39, 40)\",\"rgb(148, 103, 189)\",\"rgb(148, 103, 189)\",\"rgb(148, 103, 189)\",\"rgb(148, 103, 189)\",\"rgb(148, 103, 189)\",\"rgb(148, 103, 189)\",\"rgb(148, 103, 189)\",\"rgb(148, 103, 189)\",\"rgb(148, 103, 189)\",\"rgb(148, 103, 189)\",\"rgb(140, 86, 75)\",\"rgb(140, 86, 75)\",\"rgb(140, 86, 75)\",\"rgb(140, 86, 75)\",\"rgb(140, 86, 75)\",\"rgb(140, 86, 75)\",\"rgb(140, 86, 75)\",\"rgb(140, 86, 75)\",\"rgb(140, 86, 75)\",\"rgb(140, 86, 75)\",\"rgb(227, 119, 194)\",\"rgb(227, 119, 194)\",\"rgb(227, 119, 194)\",\"rgb(227, 119, 194)\",\"rgb(227, 119, 194)\",\"rgb(227, 119, 194)\",\"rgb(227, 119, 194)\",\"rgb(227, 119, 194)\",\"rgb(227, 119, 194)\",\"rgb(227, 119, 194)\",\"rgb(127, 127, 127)\",\"rgb(127, 127, 127)\",\"rgb(127, 127, 127)\",\"rgb(127, 127, 127)\",\"rgb(127, 127, 127)\",\"rgb(127, 127, 127)\",\"rgb(127, 127, 127)\",\"rgb(127, 127, 127)\",\"rgb(127, 127, 127)\",\"rgb(127, 127, 127)\",\"rgb(188, 189, 34)\",\"rgb(188, 189, 34)\",\"rgb(188, 189, 34)\",\"rgb(188, 189, 34)\",\"rgb(188, 189, 34)\",\"rgb(188, 189, 34)\",\"rgb(188, 189, 34)\",\"rgb(188, 189, 34)\",\"rgb(188, 189, 34)\",\"rgb(188, 189, 34)\",\"rgb(23, 190, 207)\",\"rgb(23, 190, 207)\",\"rgb(23, 190, 207)\",\"rgb(23, 190, 207)\",\"rgb(23, 190, 207)\",\"rgb(23, 190, 207)\",\"rgb(23, 190, 207)\",\"rgb(23, 190, 207)\",\"rgb(23, 190, 207)\",\"rgb(23, 190, 207)\"]},\"mode\":\"markers\",\"x\":[3.5430474281311035,12.357586860656738,12.515257835388184,14.658105850219727,7.065016746520996,8.491175651550293,6.953711986541748,3.993276357650757,10.85550594329834,12.628167152404785,-1.9755514860153198,-4.840673923492432,-2.70725417137146,-2.036546468734741,-4.254518508911133,-1.4309197664260864,-2.3674614429473877,-4.639462947845459,0.10767467319965363,-3.0029361248016357,-6.960367202758789,-6.086591720581055,-4.985196113586426,-4.617767333984375,-7.7822065353393555,-9.03649616241455,-3.1988003253936768,-7.011086463928223,-3.774130344390869,-4.494470596313477,-3.089064359664917,-3.9883878231048584,-5.112911224365234,-2.453697443008423,-8.468110084533691,-0.9989616274833679,-2.8069257736206055,-4.8839006423950195,-9.9276704788208,-6.669046401977539,-3.5475504398345947,-3.0238471031188965,-4.248373508453369,-3.450697183609009,-0.29207101464271545,-0.04768674448132515,-0.05499299243092537,-3.0236594676971436,1.4539952278137207,-1.5627495050430298,-12.581393241882324,-3.9277055263519287,-1.5137275457382202,-7.999564170837402,-3.9583704471588135,-8.793632507324219,-0.1636444330215454,-8.541001319885254,-1.2582775354385376,-5.7890400886535645,-7.175166130065918,-4.831600189208984,-9.512324333190918,-4.820683002471924,-7.409019470214844,-4.911864280700684,-5.363186836242676,-6.653003692626953,-7.663726806640625,-4.205066680908203,-11.570245742797852,-6.035107612609863,-7.20935583114624,-8.436259269714355,-5.26922607421875,0.43034598231315613,-5.184146881103516,-5.1074724197387695,-8.408418655395508,-6.771111965179443,-11.04244327545166,-5.236222267150879,-4.166308879852295,-8.962042808532715,-6.701128005981445,-5.391681671142578,-8.810393333435059,-8.790112495422363,-7.891806602478027,-6.04410457611084,-2.3704569339752197,-3.4285085201263428,-2.9246151447296143,-1.2420108318328857,-7.127434730529785,-3.591585397720337,-1.867907166481018,-0.08251066505908966,-2.0772337913513184,-3.620516061782837],\"y\":[7.7669477462768555,21.123794555664062,20.46268081665039,19.802824020385742,16.642976760864258,15.279073715209961,14.852067947387695,15.106178283691406,15.063925743103027,18.4719295501709,1.399144172668457,-1.3196687698364258,0.4347863495349884,-0.08502735197544098,-0.24406076967716217,0.9749664664268494,-0.3885900676250458,-2.3418872356414795,4.16610050201416,-1.060168981552124,-3.683530569076538,-1.652563452720642,-1.7167922258377075,-2.0865113735198975,-3.518495798110962,-4.2277350425720215,-0.9999774098396301,-2.683871269226074,-1.5676394701004028,-1.0871332883834839,-0.9485496878623962,-1.0903065204620361,-3.364971876144409,-0.5803971886634827,-4.581081867218018,2.744643211364746,2.7683064937591553,-1.6796008348464966,-5.880188465118408,-3.466515302658081,-0.10886362195014954,-0.3730880916118622,0.08233802020549774,-0.2701509892940521,3.1845667362213135,2.632322072982788,3.251178026199341,0.3102785348892212,5.202922821044922,3.3280231952667236,-8.73912525177002,-1.8061776161193848,1.3701883554458618,-4.3498029708862305,-0.7726522088050842,-5.254192352294922,2.3572731018066406,-4.205260276794434,2.354207754135132,-3.175152063369751,-4.656261444091797,-2.736915349960327,-7.097317695617676,-1.4234719276428223,-4.571697235107422,-2.583674669265747,-2.3706672191619873,-3.7888965606689453,-4.538203716278076,1.2211363315582275,-7.3360748291015625,-4.138755798339844,-2.1005666255950928,-4.9120941162109375,-3.8726003170013428,3.9154646396636963,-1.8426200151443481,-1.7470978498458862,-5.481634140014648,-3.7489683628082275,-10.125178337097168,-3.761674165725708,-2.471155881881714,-5.807934761047363,-4.190173625946045,-2.662513494491577,-6.7639288902282715,-6.526571273803711,-5.054406642913818,-4.2106451988220215,2.4552595615386963,-1.202506184577942,1.763609766960144,2.321349620819092,-2.5356268882751465,0.539793074131012,1.0744456052780151,3.8401176929473877,2.698129177093506,-0.1549902707338333],\"type\":\"scatter\",\"xaxis\":\"x2\",\"yaxis\":\"y2\"},{\"marker\":{\"color\":[\"rgb(31, 119, 180)\",\"rgb(31, 119, 180)\",\"rgb(31, 119, 180)\",\"rgb(31, 119, 180)\",\"rgb(31, 119, 180)\",\"rgb(31, 119, 180)\",\"rgb(31, 119, 180)\",\"rgb(31, 119, 180)\",\"rgb(31, 119, 180)\",\"rgb(31, 119, 180)\",\"rgb(255, 127, 14)\",\"rgb(255, 127, 14)\",\"rgb(255, 127, 14)\",\"rgb(255, 127, 14)\",\"rgb(255, 127, 14)\",\"rgb(255, 127, 14)\",\"rgb(255, 127, 14)\",\"rgb(255, 127, 14)\",\"rgb(255, 127, 14)\",\"rgb(255, 127, 14)\",\"rgb(44, 160, 44)\",\"rgb(44, 160, 44)\",\"rgb(44, 160, 44)\",\"rgb(44, 160, 44)\",\"rgb(44, 160, 44)\",\"rgb(44, 160, 44)\",\"rgb(44, 160, 44)\",\"rgb(44, 160, 44)\",\"rgb(44, 160, 44)\",\"rgb(44, 160, 44)\",\"rgb(214, 39, 40)\",\"rgb(214, 39, 40)\",\"rgb(214, 39, 40)\",\"rgb(214, 39, 40)\",\"rgb(214, 39, 40)\",\"rgb(214, 39, 40)\",\"rgb(214, 39, 40)\",\"rgb(214, 39, 40)\",\"rgb(214, 39, 40)\",\"rgb(214, 39, 40)\",\"rgb(148, 103, 189)\",\"rgb(148, 103, 189)\",\"rgb(148, 103, 189)\",\"rgb(148, 103, 189)\",\"rgb(148, 103, 189)\",\"rgb(148, 103, 189)\",\"rgb(148, 103, 189)\",\"rgb(148, 103, 189)\",\"rgb(148, 103, 189)\",\"rgb(148, 103, 189)\",\"rgb(140, 86, 75)\",\"rgb(140, 86, 75)\",\"rgb(140, 86, 75)\",\"rgb(140, 86, 75)\",\"rgb(140, 86, 75)\",\"rgb(140, 86, 75)\",\"rgb(140, 86, 75)\",\"rgb(140, 86, 75)\",\"rgb(140, 86, 75)\",\"rgb(140, 86, 75)\",\"rgb(227, 119, 194)\",\"rgb(227, 119, 194)\",\"rgb(227, 119, 194)\",\"rgb(227, 119, 194)\",\"rgb(227, 119, 194)\",\"rgb(227, 119, 194)\",\"rgb(227, 119, 194)\",\"rgb(227, 119, 194)\",\"rgb(227, 119, 194)\",\"rgb(227, 119, 194)\",\"rgb(127, 127, 127)\",\"rgb(127, 127, 127)\",\"rgb(127, 127, 127)\",\"rgb(127, 127, 127)\",\"rgb(127, 127, 127)\",\"rgb(127, 127, 127)\",\"rgb(127, 127, 127)\",\"rgb(127, 127, 127)\",\"rgb(127, 127, 127)\",\"rgb(127, 127, 127)\",\"rgb(188, 189, 34)\",\"rgb(188, 189, 34)\",\"rgb(188, 189, 34)\",\"rgb(188, 189, 34)\",\"rgb(188, 189, 34)\",\"rgb(188, 189, 34)\",\"rgb(188, 189, 34)\",\"rgb(188, 189, 34)\",\"rgb(188, 189, 34)\",\"rgb(188, 189, 34)\",\"rgb(23, 190, 207)\",\"rgb(23, 190, 207)\",\"rgb(23, 190, 207)\",\"rgb(23, 190, 207)\",\"rgb(23, 190, 207)\",\"rgb(23, 190, 207)\",\"rgb(23, 190, 207)\",\"rgb(23, 190, 207)\",\"rgb(23, 190, 207)\",\"rgb(23, 190, 207)\"]},\"mode\":\"markers\",\"x\":[0.0052616409957408905,5.756688117980957,5.567338943481445,8.84981632232666,0.6857815980911255,3.543036460876465,0.7249670028686523,-1.2260249853134155,6.8489789962768555,6.776816368103027,-4.430776596069336,-7.38264799118042,-5.718280792236328,-4.385732173919678,-7.097137451171875,-4.108797073364258,-5.193051338195801,-7.203064918518066,-3.6038732528686523,-6.704287528991699,-10.148635864257812,-9.6869478225708,-9.019030570983887,-6.66398811340332,-11.088471412658691,-12.552713394165039,-5.256011962890625,-11.813186645507812,-5.867109298706055,-7.7313737869262695,-5.303548812866211,-7.066736698150635,-7.202058792114258,-5.100188255310059,-11.99200439453125,-5.08595085144043,-7.248652458190918,-7.5015740394592285,-12.478262901306152,-9.581452369689941,-6.326915740966797,-5.566669464111328,-7.689831733703613,-6.130942344665527,-3.214416980743408,-2.8525450229644775,-3.206047296524048,-5.288686752319336,-1.9809554815292358,-5.126133441925049,-14.375604629516602,-6.549344062805176,-3.6570706367492676,-10.162394523620605,-6.416448593139648,-11.100356101989746,-3.028087615966797,-11.433184623718262,-4.2926459312438965,-8.185837745666504,-9.387699127197266,-7.615248203277588,-11.941886901855469,-7.441783905029297,-9.724411964416504,-6.696619987487793,-7.514641284942627,-9.856926918029785,-11.0697021484375,-7.700005531311035,-14.509718894958496,-7.922730445861816,-10.797383308410645,-11.314088821411133,-8.61164665222168,-3.2713091373443604,-8.164782524108887,-7.3171257972717285,-12.235306739807129,-10.00701904296875,-13.69844913482666,-6.684161186218262,-5.383352279663086,-11.443552017211914,-9.363369941711426,-8.331971168518066,-10.355987548828125,-11.552849769592285,-10.352027893066406,-8.547635078430176,-6.4940900802612305,-6.868742942810059,-5.974009037017822,-4.629395008087158,-10.086380958557129,-6.533370494842529,-4.204303741455078,-2.884188413619995,-5.711508274078369,-6.59544563293457],\"y\":[7.7669477462768555,21.123794555664062,20.46268081665039,19.802824020385742,16.642976760864258,15.279073715209961,14.852067947387695,15.106178283691406,15.063925743103027,18.4719295501709,1.399144172668457,-1.3196687698364258,0.4347863495349884,-0.08502735197544098,-0.24406076967716217,0.9749664664268494,-0.3885900676250458,-2.3418872356414795,4.16610050201416,-1.060168981552124,-3.683530569076538,-1.652563452720642,-1.7167922258377075,-2.0865113735198975,-3.518495798110962,-4.2277350425720215,-0.9999774098396301,-2.683871269226074,-1.5676394701004028,-1.0871332883834839,-0.9485496878623962,-1.0903065204620361,-3.364971876144409,-0.5803971886634827,-4.581081867218018,2.744643211364746,2.7683064937591553,-1.6796008348464966,-5.880188465118408,-3.466515302658081,-0.10886362195014954,-0.3730880916118622,0.08233802020549774,-0.2701509892940521,3.1845667362213135,2.632322072982788,3.251178026199341,0.3102785348892212,5.202922821044922,3.3280231952667236,-8.73912525177002,-1.8061776161193848,1.3701883554458618,-4.3498029708862305,-0.7726522088050842,-5.254192352294922,2.3572731018066406,-4.205260276794434,2.354207754135132,-3.175152063369751,-4.656261444091797,-2.736915349960327,-7.097317695617676,-1.4234719276428223,-4.571697235107422,-2.583674669265747,-2.3706672191619873,-3.7888965606689453,-4.538203716278076,1.2211363315582275,-7.3360748291015625,-4.138755798339844,-2.1005666255950928,-4.9120941162109375,-3.8726003170013428,3.9154646396636963,-1.8426200151443481,-1.7470978498458862,-5.481634140014648,-3.7489683628082275,-10.125178337097168,-3.761674165725708,-2.471155881881714,-5.807934761047363,-4.190173625946045,-2.662513494491577,-6.7639288902282715,-6.526571273803711,-5.054406642913818,-4.2106451988220215,2.4552595615386963,-1.202506184577942,1.763609766960144,2.321349620819092,-2.5356268882751465,0.539793074131012,1.0744456052780151,3.8401176929473877,2.698129177093506,-0.1549902707338333],\"type\":\"scatter\",\"xaxis\":\"x3\",\"yaxis\":\"y3\"},{\"marker\":{\"color\":[\"rgb(31, 119, 180)\",\"rgb(31, 119, 180)\",\"rgb(31, 119, 180)\",\"rgb(31, 119, 180)\",\"rgb(31, 119, 180)\",\"rgb(31, 119, 180)\",\"rgb(31, 119, 180)\",\"rgb(31, 119, 180)\",\"rgb(31, 119, 180)\",\"rgb(31, 119, 180)\",\"rgb(255, 127, 14)\",\"rgb(255, 127, 14)\",\"rgb(255, 127, 14)\",\"rgb(255, 127, 14)\",\"rgb(255, 127, 14)\",\"rgb(255, 127, 14)\",\"rgb(255, 127, 14)\",\"rgb(255, 127, 14)\",\"rgb(255, 127, 14)\",\"rgb(255, 127, 14)\",\"rgb(44, 160, 44)\",\"rgb(44, 160, 44)\",\"rgb(44, 160, 44)\",\"rgb(44, 160, 44)\",\"rgb(44, 160, 44)\",\"rgb(44, 160, 44)\",\"rgb(44, 160, 44)\",\"rgb(44, 160, 44)\",\"rgb(44, 160, 44)\",\"rgb(44, 160, 44)\",\"rgb(214, 39, 40)\",\"rgb(214, 39, 40)\",\"rgb(214, 39, 40)\",\"rgb(214, 39, 40)\",\"rgb(214, 39, 40)\",\"rgb(214, 39, 40)\",\"rgb(214, 39, 40)\",\"rgb(214, 39, 40)\",\"rgb(214, 39, 40)\",\"rgb(214, 39, 40)\",\"rgb(148, 103, 189)\",\"rgb(148, 103, 189)\",\"rgb(148, 103, 189)\",\"rgb(148, 103, 189)\",\"rgb(148, 103, 189)\",\"rgb(148, 103, 189)\",\"rgb(148, 103, 189)\",\"rgb(148, 103, 189)\",\"rgb(148, 103, 189)\",\"rgb(148, 103, 189)\",\"rgb(140, 86, 75)\",\"rgb(140, 86, 75)\",\"rgb(140, 86, 75)\",\"rgb(140, 86, 75)\",\"rgb(140, 86, 75)\",\"rgb(140, 86, 75)\",\"rgb(140, 86, 75)\",\"rgb(140, 86, 75)\",\"rgb(140, 86, 75)\",\"rgb(140, 86, 75)\",\"rgb(227, 119, 194)\",\"rgb(227, 119, 194)\",\"rgb(227, 119, 194)\",\"rgb(227, 119, 194)\",\"rgb(227, 119, 194)\",\"rgb(227, 119, 194)\",\"rgb(227, 119, 194)\",\"rgb(227, 119, 194)\",\"rgb(227, 119, 194)\",\"rgb(227, 119, 194)\",\"rgb(127, 127, 127)\",\"rgb(127, 127, 127)\",\"rgb(127, 127, 127)\",\"rgb(127, 127, 127)\",\"rgb(127, 127, 127)\",\"rgb(127, 127, 127)\",\"rgb(127, 127, 127)\",\"rgb(127, 127, 127)\",\"rgb(127, 127, 127)\",\"rgb(127, 127, 127)\",\"rgb(188, 189, 34)\",\"rgb(188, 189, 34)\",\"rgb(188, 189, 34)\",\"rgb(188, 189, 34)\",\"rgb(188, 189, 34)\",\"rgb(188, 189, 34)\",\"rgb(188, 189, 34)\",\"rgb(188, 189, 34)\",\"rgb(188, 189, 34)\",\"rgb(188, 189, 34)\",\"rgb(23, 190, 207)\",\"rgb(23, 190, 207)\",\"rgb(23, 190, 207)\",\"rgb(23, 190, 207)\",\"rgb(23, 190, 207)\",\"rgb(23, 190, 207)\",\"rgb(23, 190, 207)\",\"rgb(23, 190, 207)\",\"rgb(23, 190, 207)\",\"rgb(23, 190, 207)\"]},\"mode\":\"markers\",\"x\":[-3.990560293197632,-1.9185996055603027,-1.6774897575378418,1.467234492301941,-6.1129150390625,-2.6554338932037354,-6.67445182800293,-7.756268501281738,1.1525925397872925,-0.03955783322453499,-7.845089912414551,-11.999445915222168,-9.586297035217285,-9.293595314025879,-11.720170021057129,-8.00955581665039,-9.127020835876465,-11.959059715270996,-8.56679630279541,-12.299885749816895,-14.843629837036133,-15.298654556274414,-15.00568675994873,-10.388237953186035,-15.844233512878418,-16.346010208129883,-8.860222816467285,-17.633100509643555,-9.177096366882324,-12.576407432556152,-8.326506614685059,-11.712550163269043,-11.875593185424805,-10.012621879577637,-18.718761444091797,-11.4127836227417,-12.700624465942383,-10.640729904174805,-15.921442985534668,-14.379500389099121,-9.959329605102539,-9.696185111999512,-12.92241096496582,-9.73239803314209,-7.208441734313965,-7.150254249572754,-7.930900573730469,-7.69131326675415,-7.525623321533203,-10.257269859313965,-16.183826446533203,-9.969252586364746,-6.749848365783691,-12.920150756835938,-9.676848411560059,-13.37804126739502,-6.990941047668457,-16.00303077697754,-8.773350715637207,-11.518633842468262,-13.482924461364746,-12.871199607849121,-15.179465293884277,-10.829760551452637,-12.974015235900879,-8.537837982177734,-10.293437957763672,-14.82800579071045,-16.668331146240234,-12.864606857299805,-19.64092445373535,-11.893770217895508,-15.026315689086914,-16.22309684753418,-14.436779022216797,-8.175081253051758,-11.486421585083008,-9.453584671020508,-18.11808967590332,-13.752724647521973,-19.76569938659668,-9.131922721862793,-8.532255172729492,-15.70516586303711,-13.843552589416504,-13.057442665100098,-14.25839614868164,-16.859506607055664,-15.421891212463379,-12.679349899291992,-12.170950889587402,-11.929413795471191,-8.352737426757812,-8.984553337097168,-14.692305564880371,-10.160904884338379,-7.694461822509766,-6.485954284667969,-11.21905517578125,-9.806229591369629],\"y\":[7.7669477462768555,21.123794555664062,20.46268081665039,19.802824020385742,16.642976760864258,15.279073715209961,14.852067947387695,15.106178283691406,15.063925743103027,18.4719295501709,1.399144172668457,-1.3196687698364258,0.4347863495349884,-0.08502735197544098,-0.24406076967716217,0.9749664664268494,-0.3885900676250458,-2.3418872356414795,4.16610050201416,-1.060168981552124,-3.683530569076538,-1.652563452720642,-1.7167922258377075,-2.0865113735198975,-3.518495798110962,-4.2277350425720215,-0.9999774098396301,-2.683871269226074,-1.5676394701004028,-1.0871332883834839,-0.9485496878623962,-1.0903065204620361,-3.364971876144409,-0.5803971886634827,-4.581081867218018,2.744643211364746,2.7683064937591553,-1.6796008348464966,-5.880188465118408,-3.466515302658081,-0.10886362195014954,-0.3730880916118622,0.08233802020549774,-0.2701509892940521,3.1845667362213135,2.632322072982788,3.251178026199341,0.3102785348892212,5.202922821044922,3.3280231952667236,-8.73912525177002,-1.8061776161193848,1.3701883554458618,-4.3498029708862305,-0.7726522088050842,-5.254192352294922,2.3572731018066406,-4.205260276794434,2.354207754135132,-3.175152063369751,-4.656261444091797,-2.736915349960327,-7.097317695617676,-1.4234719276428223,-4.571697235107422,-2.583674669265747,-2.3706672191619873,-3.7888965606689453,-4.538203716278076,1.2211363315582275,-7.3360748291015625,-4.138755798339844,-2.1005666255950928,-4.9120941162109375,-3.8726003170013428,3.9154646396636963,-1.8426200151443481,-1.7470978498458862,-5.481634140014648,-3.7489683628082275,-10.125178337097168,-3.761674165725708,-2.471155881881714,-5.807934761047363,-4.190173625946045,-2.662513494491577,-6.7639288902282715,-6.526571273803711,-5.054406642913818,-4.2106451988220215,2.4552595615386963,-1.202506184577942,1.763609766960144,2.321349620819092,-2.5356268882751465,0.539793074131012,1.0744456052780151,3.8401176929473877,2.698129177093506,-0.1549902707338333],\"type\":\"scatter\",\"xaxis\":\"x4\",\"yaxis\":\"y4\"},{\"marker\":{\"color\":[\"rgb(31, 119, 180)\",\"rgb(31, 119, 180)\",\"rgb(31, 119, 180)\",\"rgb(31, 119, 180)\",\"rgb(31, 119, 180)\",\"rgb(31, 119, 180)\",\"rgb(31, 119, 180)\",\"rgb(31, 119, 180)\",\"rgb(31, 119, 180)\",\"rgb(31, 119, 180)\",\"rgb(255, 127, 14)\",\"rgb(255, 127, 14)\",\"rgb(255, 127, 14)\",\"rgb(255, 127, 14)\",\"rgb(255, 127, 14)\",\"rgb(255, 127, 14)\",\"rgb(255, 127, 14)\",\"rgb(255, 127, 14)\",\"rgb(255, 127, 14)\",\"rgb(255, 127, 14)\",\"rgb(44, 160, 44)\",\"rgb(44, 160, 44)\",\"rgb(44, 160, 44)\",\"rgb(44, 160, 44)\",\"rgb(44, 160, 44)\",\"rgb(44, 160, 44)\",\"rgb(44, 160, 44)\",\"rgb(44, 160, 44)\",\"rgb(44, 160, 44)\",\"rgb(44, 160, 44)\",\"rgb(214, 39, 40)\",\"rgb(214, 39, 40)\",\"rgb(214, 39, 40)\",\"rgb(214, 39, 40)\",\"rgb(214, 39, 40)\",\"rgb(214, 39, 40)\",\"rgb(214, 39, 40)\",\"rgb(214, 39, 40)\",\"rgb(214, 39, 40)\",\"rgb(214, 39, 40)\",\"rgb(148, 103, 189)\",\"rgb(148, 103, 189)\",\"rgb(148, 103, 189)\",\"rgb(148, 103, 189)\",\"rgb(148, 103, 189)\",\"rgb(148, 103, 189)\",\"rgb(148, 103, 189)\",\"rgb(148, 103, 189)\",\"rgb(148, 103, 189)\",\"rgb(148, 103, 189)\",\"rgb(140, 86, 75)\",\"rgb(140, 86, 75)\",\"rgb(140, 86, 75)\",\"rgb(140, 86, 75)\",\"rgb(140, 86, 75)\",\"rgb(140, 86, 75)\",\"rgb(140, 86, 75)\",\"rgb(140, 86, 75)\",\"rgb(140, 86, 75)\",\"rgb(140, 86, 75)\",\"rgb(227, 119, 194)\",\"rgb(227, 119, 194)\",\"rgb(227, 119, 194)\",\"rgb(227, 119, 194)\",\"rgb(227, 119, 194)\",\"rgb(227, 119, 194)\",\"rgb(227, 119, 194)\",\"rgb(227, 119, 194)\",\"rgb(227, 119, 194)\",\"rgb(227, 119, 194)\",\"rgb(127, 127, 127)\",\"rgb(127, 127, 127)\",\"rgb(127, 127, 127)\",\"rgb(127, 127, 127)\",\"rgb(127, 127, 127)\",\"rgb(127, 127, 127)\",\"rgb(127, 127, 127)\",\"rgb(127, 127, 127)\",\"rgb(127, 127, 127)\",\"rgb(127, 127, 127)\",\"rgb(188, 189, 34)\",\"rgb(188, 189, 34)\",\"rgb(188, 189, 34)\",\"rgb(188, 189, 34)\",\"rgb(188, 189, 34)\",\"rgb(188, 189, 34)\",\"rgb(188, 189, 34)\",\"rgb(188, 189, 34)\",\"rgb(188, 189, 34)\",\"rgb(188, 189, 34)\",\"rgb(23, 190, 207)\",\"rgb(23, 190, 207)\",\"rgb(23, 190, 207)\",\"rgb(23, 190, 207)\",\"rgb(23, 190, 207)\",\"rgb(23, 190, 207)\",\"rgb(23, 190, 207)\",\"rgb(23, 190, 207)\",\"rgb(23, 190, 207)\",\"rgb(23, 190, 207)\"]},\"mode\":\"markers\",\"x\":[-6.824946880340576,-6.826580047607422,-5.9578857421875,-4.396994590759277,-11.173527717590332,-6.462413311004639,-11.6155366897583,-11.757590293884277,-3.773944854736328,-5.048685073852539,-14.205050468444824,-18.563426971435547,-13.762276649475098,-18.794509887695312,-17.293638229370117,-12.568445205688477,-14.070765495300293,-18.63901138305664,-13.733054161071777,-20.169734954833984,-19.627290725708008,-20.480876922607422,-22.200214385986328,-15.930059432983398,-21.781108856201172,-18.978734970092773,-14.514941215515137,-23.398290634155273,-14.031163215637207,-18.090566635131836,-12.844499588012695,-16.011642456054688,-20.11531639099121,-15.246916770935059,-26.12542152404785,-20.01054573059082,-19.394073486328125,-13.98729419708252,-20.07285499572754,-21.10820960998535,-14.971841812133789,-15.539202690124512,-18.753358840942383,-12.337796211242676,-11.350822448730469,-11.757189750671387,-13.795066833496094,-10.10694408416748,-13.653759956359863,-13.620442390441895,-17.68398666381836,-14.399012565612793,-9.474448204040527,-16.818723678588867,-13.48192024230957,-15.798558235168457,-11.885802268981934,-20.60222816467285,-14.835827827453613,-16.211633682250977,-19.754289627075195,-18.40656852722168,-18.093053817749023,-14.551567077636719,-15.53032398223877,-10.147244453430176,-13.168667793273926,-20.108327865600586,-21.386220932006836,-17.432619094848633,-21.540945053100586,-17.49013328552246,-18.0886173248291,-19.924501419067383,-23.95746421813965,-16.033788681030273,-13.661529541015625,-11.674713134765625,-23.52194595336914,-16.926000595092773,-29.144168853759766,-12.571430206298828,-14.250832557678223,-21.008852005004883,-19.63528823852539,-19.968181610107422,-18.921655654907227,-22.291597366333008,-23.48267364501953,-18.000696182250977,-16.059343338012695,-16.193134307861328,-10.121519088745117,-12.196484565734863,-18.87883186340332,-11.890493392944336,-9.611660957336426,-10.568268775939941,-16.927350997924805,-10.28423023223877],\"y\":[7.7669477462768555,21.123794555664062,20.46268081665039,19.802824020385742,16.642976760864258,15.279073715209961,14.852067947387695,15.106178283691406,15.063925743103027,18.4719295501709,1.399144172668457,-1.3196687698364258,0.4347863495349884,-0.08502735197544098,-0.24406076967716217,0.9749664664268494,-0.3885900676250458,-2.3418872356414795,4.16610050201416,-1.060168981552124,-3.683530569076538,-1.652563452720642,-1.7167922258377075,-2.0865113735198975,-3.518495798110962,-4.2277350425720215,-0.9999774098396301,-2.683871269226074,-1.5676394701004028,-1.0871332883834839,-0.9485496878623962,-1.0903065204620361,-3.364971876144409,-0.5803971886634827,-4.581081867218018,2.744643211364746,2.7683064937591553,-1.6796008348464966,-5.880188465118408,-3.466515302658081,-0.10886362195014954,-0.3730880916118622,0.08233802020549774,-0.2701509892940521,3.1845667362213135,2.632322072982788,3.251178026199341,0.3102785348892212,5.202922821044922,3.3280231952667236,-8.73912525177002,-1.8061776161193848,1.3701883554458618,-4.3498029708862305,-0.7726522088050842,-5.254192352294922,2.3572731018066406,-4.205260276794434,2.354207754135132,-3.175152063369751,-4.656261444091797,-2.736915349960327,-7.097317695617676,-1.4234719276428223,-4.571697235107422,-2.583674669265747,-2.3706672191619873,-3.7888965606689453,-4.538203716278076,1.2211363315582275,-7.3360748291015625,-4.138755798339844,-2.1005666255950928,-4.9120941162109375,-3.8726003170013428,3.9154646396636963,-1.8426200151443481,-1.7470978498458862,-5.481634140014648,-3.7489683628082275,-10.125178337097168,-3.761674165725708,-2.471155881881714,-5.807934761047363,-4.190173625946045,-2.662513494491577,-6.7639288902282715,-6.526571273803711,-5.054406642913818,-4.2106451988220215,2.4552595615386963,-1.202506184577942,1.763609766960144,2.321349620819092,-2.5356268882751465,0.539793074131012,1.0744456052780151,3.8401176929473877,2.698129177093506,-0.1549902707338333],\"type\":\"scatter\",\"xaxis\":\"x5\",\"yaxis\":\"y5\"},{\"marker\":{\"color\":[\"rgb(31, 119, 180)\",\"rgb(31, 119, 180)\",\"rgb(31, 119, 180)\",\"rgb(31, 119, 180)\",\"rgb(31, 119, 180)\",\"rgb(31, 119, 180)\",\"rgb(31, 119, 180)\",\"rgb(31, 119, 180)\",\"rgb(31, 119, 180)\",\"rgb(31, 119, 180)\",\"rgb(255, 127, 14)\",\"rgb(255, 127, 14)\",\"rgb(255, 127, 14)\",\"rgb(255, 127, 14)\",\"rgb(255, 127, 14)\",\"rgb(255, 127, 14)\",\"rgb(255, 127, 14)\",\"rgb(255, 127, 14)\",\"rgb(255, 127, 14)\",\"rgb(255, 127, 14)\",\"rgb(44, 160, 44)\",\"rgb(44, 160, 44)\",\"rgb(44, 160, 44)\",\"rgb(44, 160, 44)\",\"rgb(44, 160, 44)\",\"rgb(44, 160, 44)\",\"rgb(44, 160, 44)\",\"rgb(44, 160, 44)\",\"rgb(44, 160, 44)\",\"rgb(44, 160, 44)\",\"rgb(214, 39, 40)\",\"rgb(214, 39, 40)\",\"rgb(214, 39, 40)\",\"rgb(214, 39, 40)\",\"rgb(214, 39, 40)\",\"rgb(214, 39, 40)\",\"rgb(214, 39, 40)\",\"rgb(214, 39, 40)\",\"rgb(214, 39, 40)\",\"rgb(214, 39, 40)\",\"rgb(148, 103, 189)\",\"rgb(148, 103, 189)\",\"rgb(148, 103, 189)\",\"rgb(148, 103, 189)\",\"rgb(148, 103, 189)\",\"rgb(148, 103, 189)\",\"rgb(148, 103, 189)\",\"rgb(148, 103, 189)\",\"rgb(148, 103, 189)\",\"rgb(148, 103, 189)\",\"rgb(140, 86, 75)\",\"rgb(140, 86, 75)\",\"rgb(140, 86, 75)\",\"rgb(140, 86, 75)\",\"rgb(140, 86, 75)\",\"rgb(140, 86, 75)\",\"rgb(140, 86, 75)\",\"rgb(140, 86, 75)\",\"rgb(140, 86, 75)\",\"rgb(140, 86, 75)\",\"rgb(227, 119, 194)\",\"rgb(227, 119, 194)\",\"rgb(227, 119, 194)\",\"rgb(227, 119, 194)\",\"rgb(227, 119, 194)\",\"rgb(227, 119, 194)\",\"rgb(227, 119, 194)\",\"rgb(227, 119, 194)\",\"rgb(227, 119, 194)\",\"rgb(227, 119, 194)\",\"rgb(127, 127, 127)\",\"rgb(127, 127, 127)\",\"rgb(127, 127, 127)\",\"rgb(127, 127, 127)\",\"rgb(127, 127, 127)\",\"rgb(127, 127, 127)\",\"rgb(127, 127, 127)\",\"rgb(127, 127, 127)\",\"rgb(127, 127, 127)\",\"rgb(127, 127, 127)\",\"rgb(188, 189, 34)\",\"rgb(188, 189, 34)\",\"rgb(188, 189, 34)\",\"rgb(188, 189, 34)\",\"rgb(188, 189, 34)\",\"rgb(188, 189, 34)\",\"rgb(188, 189, 34)\",\"rgb(188, 189, 34)\",\"rgb(188, 189, 34)\",\"rgb(188, 189, 34)\",\"rgb(23, 190, 207)\",\"rgb(23, 190, 207)\",\"rgb(23, 190, 207)\",\"rgb(23, 190, 207)\",\"rgb(23, 190, 207)\",\"rgb(23, 190, 207)\",\"rgb(23, 190, 207)\",\"rgb(23, 190, 207)\",\"rgb(23, 190, 207)\",\"rgb(23, 190, 207)\"]},\"mode\":\"markers\",\"x\":[0.2254553884267807,0.20968998968601227,0.2353065460920334,0.2510014772415161,0.21092964708805084,0.21663442254066467,0.268585741519928,0.21670298278331757,0.26281771063804626,0.21087059378623962,0.2111690789461136,0.20537562668323517,0.21179349720478058,0.21613247692584991,0.226450577378273,0.21239833533763885,0.19949230551719666,0.1998666226863861,0.2066843956708908,0.2011302411556244,0.20168150961399078,0.20436088740825653,0.19928842782974243,0.20038868486881256,0.20482826232910156,0.20181502401828766,0.20276471972465515,0.20318743586540222,0.2014600783586502,0.20748232305049896,0.1998669058084488,0.1998438984155655,0.21245279908180237,0.20741429924964905,0.2064024657011032,0.20555482804775238,0.20388171076774597,0.19940058887004852,0.20112942159175873,0.20389355719089508,0.21731379628181458,0.21151375770568848,0.2082805186510086,0.20120450854301453,0.21728301048278809,0.2288925051689148,0.22199033200740814,0.2168477326631546,0.23053841292858124,0.21524964272975922,0.19785933196544647,0.20396247506141663,0.20463599264621735,0.20286785066127777,0.19794075191020966,0.19782507419586182,0.19898928701877594,0.20137138664722443,0.20288465917110443,0.20159725844860077,0.2311600148677826,0.20546340942382812,0.19833172857761383,0.2040499895811081,0.20100553333759308,0.20061321556568146,0.2006242871284485,0.22982865571975708,0.20212911069393158,0.2122795134782791,0.21055400371551514,0.21014191210269928,0.20825569331645966,0.20762449502944946,0.2024308294057846,0.227576345205307,0.2019302397966385,0.2013215571641922,0.20242546498775482,0.1997755765914917,0.2063625454902649,0.19914142787456512,0.21406836807727814,0.2094094455242157,0.20812173187732697,0.2012956738471985,0.2049323469400406,0.20195096731185913,0.2026054561138153,0.20458026230335236,0.20785264670848846,0.20374758541584015,0.20205067098140717,0.19994793832302094,0.201036274433136,0.19828107953071594,0.19895212352275848,0.20321430265903473,0.2019369751214981,0.2057514637708664],\"y\":[7.7669477462768555,21.123794555664062,20.46268081665039,19.802824020385742,16.642976760864258,15.279073715209961,14.852067947387695,15.106178283691406,15.063925743103027,18.4719295501709,1.399144172668457,-1.3196687698364258,0.4347863495349884,-0.08502735197544098,-0.24406076967716217,0.9749664664268494,-0.3885900676250458,-2.3418872356414795,4.16610050201416,-1.060168981552124,-3.683530569076538,-1.652563452720642,-1.7167922258377075,-2.0865113735198975,-3.518495798110962,-4.2277350425720215,-0.9999774098396301,-2.683871269226074,-1.5676394701004028,-1.0871332883834839,-0.9485496878623962,-1.0903065204620361,-3.364971876144409,-0.5803971886634827,-4.581081867218018,2.744643211364746,2.7683064937591553,-1.6796008348464966,-5.880188465118408,-3.466515302658081,-0.10886362195014954,-0.3730880916118622,0.08233802020549774,-0.2701509892940521,3.1845667362213135,2.632322072982788,3.251178026199341,0.3102785348892212,5.202922821044922,3.3280231952667236,-8.73912525177002,-1.8061776161193848,1.3701883554458618,-4.3498029708862305,-0.7726522088050842,-5.254192352294922,2.3572731018066406,-4.205260276794434,2.354207754135132,-3.175152063369751,-4.656261444091797,-2.736915349960327,-7.097317695617676,-1.4234719276428223,-4.571697235107422,-2.583674669265747,-2.3706672191619873,-3.7888965606689453,-4.538203716278076,1.2211363315582275,-7.3360748291015625,-4.138755798339844,-2.1005666255950928,-4.9120941162109375,-3.8726003170013428,3.9154646396636963,-1.8426200151443481,-1.7470978498458862,-5.481634140014648,-3.7489683628082275,-10.125178337097168,-3.761674165725708,-2.471155881881714,-5.807934761047363,-4.190173625946045,-2.662513494491577,-6.7639288902282715,-6.526571273803711,-5.054406642913818,-4.2106451988220215,2.4552595615386963,-1.202506184577942,1.763609766960144,2.321349620819092,-2.5356268882751465,0.539793074131012,1.0744456052780151,3.8401176929473877,2.698129177093506,-0.1549902707338333],\"type\":\"scatter\",\"xaxis\":\"x6\",\"yaxis\":\"y6\"}],                        {\"template\":{\"data\":{\"histogram2dcontour\":[{\"type\":\"histogram2dcontour\",\"colorbar\":{\"outlinewidth\":0,\"ticks\":\"\"},\"colorscale\":[[0.0,\"#0d0887\"],[0.1111111111111111,\"#46039f\"],[0.2222222222222222,\"#7201a8\"],[0.3333333333333333,\"#9c179e\"],[0.4444444444444444,\"#bd3786\"],[0.5555555555555556,\"#d8576b\"],[0.6666666666666666,\"#ed7953\"],[0.7777777777777778,\"#fb9f3a\"],[0.8888888888888888,\"#fdca26\"],[1.0,\"#f0f921\"]]}],\"choropleth\":[{\"type\":\"choropleth\",\"colorbar\":{\"outlinewidth\":0,\"ticks\":\"\"}}],\"histogram2d\":[{\"type\":\"histogram2d\",\"colorbar\":{\"outlinewidth\":0,\"ticks\":\"\"},\"colorscale\":[[0.0,\"#0d0887\"],[0.1111111111111111,\"#46039f\"],[0.2222222222222222,\"#7201a8\"],[0.3333333333333333,\"#9c179e\"],[0.4444444444444444,\"#bd3786\"],[0.5555555555555556,\"#d8576b\"],[0.6666666666666666,\"#ed7953\"],[0.7777777777777778,\"#fb9f3a\"],[0.8888888888888888,\"#fdca26\"],[1.0,\"#f0f921\"]]}],\"heatmap\":[{\"type\":\"heatmap\",\"colorbar\":{\"outlinewidth\":0,\"ticks\":\"\"},\"colorscale\":[[0.0,\"#0d0887\"],[0.1111111111111111,\"#46039f\"],[0.2222222222222222,\"#7201a8\"],[0.3333333333333333,\"#9c179e\"],[0.4444444444444444,\"#bd3786\"],[0.5555555555555556,\"#d8576b\"],[0.6666666666666666,\"#ed7953\"],[0.7777777777777778,\"#fb9f3a\"],[0.8888888888888888,\"#fdca26\"],[1.0,\"#f0f921\"]]}],\"heatmapgl\":[{\"type\":\"heatmapgl\",\"colorbar\":{\"outlinewidth\":0,\"ticks\":\"\"},\"colorscale\":[[0.0,\"#0d0887\"],[0.1111111111111111,\"#46039f\"],[0.2222222222222222,\"#7201a8\"],[0.3333333333333333,\"#9c179e\"],[0.4444444444444444,\"#bd3786\"],[0.5555555555555556,\"#d8576b\"],[0.6666666666666666,\"#ed7953\"],[0.7777777777777778,\"#fb9f3a\"],[0.8888888888888888,\"#fdca26\"],[1.0,\"#f0f921\"]]}],\"contourcarpet\":[{\"type\":\"contourcarpet\",\"colorbar\":{\"outlinewidth\":0,\"ticks\":\"\"}}],\"contour\":[{\"type\":\"contour\",\"colorbar\":{\"outlinewidth\":0,\"ticks\":\"\"},\"colorscale\":[[0.0,\"#0d0887\"],[0.1111111111111111,\"#46039f\"],[0.2222222222222222,\"#7201a8\"],[0.3333333333333333,\"#9c179e\"],[0.4444444444444444,\"#bd3786\"],[0.5555555555555556,\"#d8576b\"],[0.6666666666666666,\"#ed7953\"],[0.7777777777777778,\"#fb9f3a\"],[0.8888888888888888,\"#fdca26\"],[1.0,\"#f0f921\"]]}],\"surface\":[{\"type\":\"surface\",\"colorbar\":{\"outlinewidth\":0,\"ticks\":\"\"},\"colorscale\":[[0.0,\"#0d0887\"],[0.1111111111111111,\"#46039f\"],[0.2222222222222222,\"#7201a8\"],[0.3333333333333333,\"#9c179e\"],[0.4444444444444444,\"#bd3786\"],[0.5555555555555556,\"#d8576b\"],[0.6666666666666666,\"#ed7953\"],[0.7777777777777778,\"#fb9f3a\"],[0.8888888888888888,\"#fdca26\"],[1.0,\"#f0f921\"]]}],\"mesh3d\":[{\"type\":\"mesh3d\",\"colorbar\":{\"outlinewidth\":0,\"ticks\":\"\"}}],\"scatter\":[{\"fillpattern\":{\"fillmode\":\"overlay\",\"size\":10,\"solidity\":0.2},\"type\":\"scatter\"}],\"parcoords\":[{\"type\":\"parcoords\",\"line\":{\"colorbar\":{\"outlinewidth\":0,\"ticks\":\"\"}}}],\"scatterpolargl\":[{\"type\":\"scatterpolargl\",\"marker\":{\"colorbar\":{\"outlinewidth\":0,\"ticks\":\"\"}}}],\"bar\":[{\"error_x\":{\"color\":\"#2a3f5f\"},\"error_y\":{\"color\":\"#2a3f5f\"},\"marker\":{\"line\":{\"color\":\"#E5ECF6\",\"width\":0.5},\"pattern\":{\"fillmode\":\"overlay\",\"size\":10,\"solidity\":0.2}},\"type\":\"bar\"}],\"scattergeo\":[{\"type\":\"scattergeo\",\"marker\":{\"colorbar\":{\"outlinewidth\":0,\"ticks\":\"\"}}}],\"scatterpolar\":[{\"type\":\"scatterpolar\",\"marker\":{\"colorbar\":{\"outlinewidth\":0,\"ticks\":\"\"}}}],\"histogram\":[{\"marker\":{\"pattern\":{\"fillmode\":\"overlay\",\"size\":10,\"solidity\":0.2}},\"type\":\"histogram\"}],\"scattergl\":[{\"type\":\"scattergl\",\"marker\":{\"colorbar\":{\"outlinewidth\":0,\"ticks\":\"\"}}}],\"scatter3d\":[{\"type\":\"scatter3d\",\"line\":{\"colorbar\":{\"outlinewidth\":0,\"ticks\":\"\"}},\"marker\":{\"colorbar\":{\"outlinewidth\":0,\"ticks\":\"\"}}}],\"scattermapbox\":[{\"type\":\"scattermapbox\",\"marker\":{\"colorbar\":{\"outlinewidth\":0,\"ticks\":\"\"}}}],\"scatterternary\":[{\"type\":\"scatterternary\",\"marker\":{\"colorbar\":{\"outlinewidth\":0,\"ticks\":\"\"}}}],\"scattercarpet\":[{\"type\":\"scattercarpet\",\"marker\":{\"colorbar\":{\"outlinewidth\":0,\"ticks\":\"\"}}}],\"carpet\":[{\"aaxis\":{\"endlinecolor\":\"#2a3f5f\",\"gridcolor\":\"white\",\"linecolor\":\"white\",\"minorgridcolor\":\"white\",\"startlinecolor\":\"#2a3f5f\"},\"baxis\":{\"endlinecolor\":\"#2a3f5f\",\"gridcolor\":\"white\",\"linecolor\":\"white\",\"minorgridcolor\":\"white\",\"startlinecolor\":\"#2a3f5f\"},\"type\":\"carpet\"}],\"table\":[{\"cells\":{\"fill\":{\"color\":\"#EBF0F8\"},\"line\":{\"color\":\"white\"}},\"header\":{\"fill\":{\"color\":\"#C8D4E3\"},\"line\":{\"color\":\"white\"}},\"type\":\"table\"}],\"barpolar\":[{\"marker\":{\"line\":{\"color\":\"#E5ECF6\",\"width\":0.5},\"pattern\":{\"fillmode\":\"overlay\",\"size\":10,\"solidity\":0.2}},\"type\":\"barpolar\"}],\"pie\":[{\"automargin\":true,\"type\":\"pie\"}]},\"layout\":{\"autotypenumbers\":\"strict\",\"colorway\":[\"#636efa\",\"#EF553B\",\"#00cc96\",\"#ab63fa\",\"#FFA15A\",\"#19d3f3\",\"#FF6692\",\"#B6E880\",\"#FF97FF\",\"#FECB52\"],\"font\":{\"color\":\"#2a3f5f\"},\"hovermode\":\"closest\",\"hoverlabel\":{\"align\":\"left\"},\"paper_bgcolor\":\"white\",\"plot_bgcolor\":\"#E5ECF6\",\"polar\":{\"bgcolor\":\"#E5ECF6\",\"angularaxis\":{\"gridcolor\":\"white\",\"linecolor\":\"white\",\"ticks\":\"\"},\"radialaxis\":{\"gridcolor\":\"white\",\"linecolor\":\"white\",\"ticks\":\"\"}},\"ternary\":{\"bgcolor\":\"#E5ECF6\",\"aaxis\":{\"gridcolor\":\"white\",\"linecolor\":\"white\",\"ticks\":\"\"},\"baxis\":{\"gridcolor\":\"white\",\"linecolor\":\"white\",\"ticks\":\"\"},\"caxis\":{\"gridcolor\":\"white\",\"linecolor\":\"white\",\"ticks\":\"\"}},\"coloraxis\":{\"colorbar\":{\"outlinewidth\":0,\"ticks\":\"\"}},\"colorscale\":{\"sequential\":[[0.0,\"#0d0887\"],[0.1111111111111111,\"#46039f\"],[0.2222222222222222,\"#7201a8\"],[0.3333333333333333,\"#9c179e\"],[0.4444444444444444,\"#bd3786\"],[0.5555555555555556,\"#d8576b\"],[0.6666666666666666,\"#ed7953\"],[0.7777777777777778,\"#fb9f3a\"],[0.8888888888888888,\"#fdca26\"],[1.0,\"#f0f921\"]],\"sequentialminus\":[[0.0,\"#0d0887\"],[0.1111111111111111,\"#46039f\"],[0.2222222222222222,\"#7201a8\"],[0.3333333333333333,\"#9c179e\"],[0.4444444444444444,\"#bd3786\"],[0.5555555555555556,\"#d8576b\"],[0.6666666666666666,\"#ed7953\"],[0.7777777777777778,\"#fb9f3a\"],[0.8888888888888888,\"#fdca26\"],[1.0,\"#f0f921\"]],\"diverging\":[[0,\"#8e0152\"],[0.1,\"#c51b7d\"],[0.2,\"#de77ae\"],[0.3,\"#f1b6da\"],[0.4,\"#fde0ef\"],[0.5,\"#f7f7f7\"],[0.6,\"#e6f5d0\"],[0.7,\"#b8e186\"],[0.8,\"#7fbc41\"],[0.9,\"#4d9221\"],[1,\"#276419\"]]},\"xaxis\":{\"gridcolor\":\"white\",\"linecolor\":\"white\",\"ticks\":\"\",\"title\":{\"standoff\":15},\"zerolinecolor\":\"white\",\"automargin\":true,\"zerolinewidth\":2},\"yaxis\":{\"gridcolor\":\"white\",\"linecolor\":\"white\",\"ticks\":\"\",\"title\":{\"standoff\":15},\"zerolinecolor\":\"white\",\"automargin\":true,\"zerolinewidth\":2},\"scene\":{\"xaxis\":{\"backgroundcolor\":\"#E5ECF6\",\"gridcolor\":\"white\",\"linecolor\":\"white\",\"showbackground\":true,\"ticks\":\"\",\"zerolinecolor\":\"white\",\"gridwidth\":2},\"yaxis\":{\"backgroundcolor\":\"#E5ECF6\",\"gridcolor\":\"white\",\"linecolor\":\"white\",\"showbackground\":true,\"ticks\":\"\",\"zerolinecolor\":\"white\",\"gridwidth\":2},\"zaxis\":{\"backgroundcolor\":\"#E5ECF6\",\"gridcolor\":\"white\",\"linecolor\":\"white\",\"showbackground\":true,\"ticks\":\"\",\"zerolinecolor\":\"white\",\"gridwidth\":2}},\"shapedefaults\":{\"line\":{\"color\":\"#2a3f5f\"}},\"annotationdefaults\":{\"arrowcolor\":\"#2a3f5f\",\"arrowhead\":0,\"arrowwidth\":1},\"geo\":{\"bgcolor\":\"white\",\"landcolor\":\"#E5ECF6\",\"subunitcolor\":\"white\",\"showland\":true,\"showlakes\":true,\"lakecolor\":\"white\"},\"title\":{\"x\":0.05},\"mapbox\":{\"style\":\"light\"}}},\"xaxis\":{\"anchor\":\"y\",\"domain\":[0.0,0.1388888888888889]},\"yaxis\":{\"anchor\":\"x\",\"domain\":[0.0,1.0]},\"xaxis2\":{\"anchor\":\"y2\",\"domain\":[0.17222222222222222,0.3111111111111111]},\"yaxis2\":{\"anchor\":\"x2\",\"domain\":[0.0,1.0]},\"xaxis3\":{\"anchor\":\"y3\",\"domain\":[0.34444444444444444,0.48333333333333334]},\"yaxis3\":{\"anchor\":\"x3\",\"domain\":[0.0,1.0]},\"xaxis4\":{\"anchor\":\"y4\",\"domain\":[0.5166666666666667,0.6555555555555557]},\"yaxis4\":{\"anchor\":\"x4\",\"domain\":[0.0,1.0]},\"xaxis5\":{\"anchor\":\"y5\",\"domain\":[0.6888888888888889,0.8277777777777777]},\"yaxis5\":{\"anchor\":\"x5\",\"domain\":[0.0,1.0]},\"xaxis6\":{\"anchor\":\"y6\",\"domain\":[0.861111111111111,1.0]},\"yaxis6\":{\"anchor\":\"x6\",\"domain\":[0.0,1.0]},\"title\":{\"text\":\"all\"},\"height\":600,\"width\":1000},                        {\"responsive\": true}                    ).then(function(){\n",
       "                            \n",
       "var gd = document.getElementById('f58f05db-d24c-4e1b-904b-daefdd7640b5');\n",
       "var x = new MutationObserver(function (mutations, observer) {{\n",
       "        var display = window.getComputedStyle(gd).display;\n",
       "        if (!display || display === 'none') {{\n",
       "            console.log([gd, 'removed!']);\n",
       "            Plotly.purge(gd);\n",
       "            observer.disconnect();\n",
       "        }}\n",
       "}});\n",
       "\n",
       "// Listen for the removal of the full notebook cells\n",
       "var notebookContainer = gd.closest('#notebook-container');\n",
       "if (notebookContainer) {{\n",
       "    x.observe(notebookContainer, {childList: true});\n",
       "}}\n",
       "\n",
       "// Listen for the clearing of the current output cell\n",
       "var outputEl = gd.closest('.output');\n",
       "if (outputEl) {{\n",
       "    x.observe(outputEl, {childList: true});\n",
       "}}\n",
       "\n",
       "                        })                };                });            </script>        </div>"
      ]
     },
     "metadata": {},
     "output_type": "display_data"
    },
    {
     "data": {
      "application/vnd.plotly.v1+json": {
       "config": {
        "plotlyServerURL": "https://plot.ly"
       },
       "data": [
        {
         "mode": "lines",
         "name": "tench",
         "type": "scatter",
         "x": [
          0.6,
          0.482,
          0.364,
          0.246,
          0.128,
          0.01
         ],
         "y": [
          0.9218278065264458,
          0.9236037958279514,
          0.9248354409833104,
          0.9225862359727472,
          0.9186748095318924,
          0.7678764219490054
         ]
        },
        {
         "mode": "lines",
         "name": "tiger_beetle",
         "type": "scatter",
         "x": [
          0.6,
          0.482,
          0.364,
          0.246,
          0.128,
          0.01
         ],
         "y": [
          0.9375544148043853,
          0.9373948373786701,
          0.9323749769270573,
          0.9229811171038553,
          0.8943002162053283,
          0.18139232037771205
         ]
        },
        {
         "mode": "lines",
         "name": "all",
         "type": "scatter",
         "x": [
          0.6,
          0.482,
          0.364,
          0.246,
          0.128,
          0.01
         ],
         "y": [
          0.9942741377025772,
          0.976092934547453,
          0.9365715794290278,
          0.840975946202264,
          0.7414128935021354,
          0.5819399763262607
         ]
        }
       ],
       "layout": {
        "template": {
         "data": {
          "bar": [
           {
            "error_x": {
             "color": "#2a3f5f"
            },
            "error_y": {
             "color": "#2a3f5f"
            },
            "marker": {
             "line": {
              "color": "#E5ECF6",
              "width": 0.5
             },
             "pattern": {
              "fillmode": "overlay",
              "size": 10,
              "solidity": 0.2
             }
            },
            "type": "bar"
           }
          ],
          "barpolar": [
           {
            "marker": {
             "line": {
              "color": "#E5ECF6",
              "width": 0.5
             },
             "pattern": {
              "fillmode": "overlay",
              "size": 10,
              "solidity": 0.2
             }
            },
            "type": "barpolar"
           }
          ],
          "carpet": [
           {
            "aaxis": {
             "endlinecolor": "#2a3f5f",
             "gridcolor": "white",
             "linecolor": "white",
             "minorgridcolor": "white",
             "startlinecolor": "#2a3f5f"
            },
            "baxis": {
             "endlinecolor": "#2a3f5f",
             "gridcolor": "white",
             "linecolor": "white",
             "minorgridcolor": "white",
             "startlinecolor": "#2a3f5f"
            },
            "type": "carpet"
           }
          ],
          "choropleth": [
           {
            "colorbar": {
             "outlinewidth": 0,
             "ticks": ""
            },
            "type": "choropleth"
           }
          ],
          "contour": [
           {
            "colorbar": {
             "outlinewidth": 0,
             "ticks": ""
            },
            "colorscale": [
             [
              0,
              "#0d0887"
             ],
             [
              0.1111111111111111,
              "#46039f"
             ],
             [
              0.2222222222222222,
              "#7201a8"
             ],
             [
              0.3333333333333333,
              "#9c179e"
             ],
             [
              0.4444444444444444,
              "#bd3786"
             ],
             [
              0.5555555555555556,
              "#d8576b"
             ],
             [
              0.6666666666666666,
              "#ed7953"
             ],
             [
              0.7777777777777778,
              "#fb9f3a"
             ],
             [
              0.8888888888888888,
              "#fdca26"
             ],
             [
              1,
              "#f0f921"
             ]
            ],
            "type": "contour"
           }
          ],
          "contourcarpet": [
           {
            "colorbar": {
             "outlinewidth": 0,
             "ticks": ""
            },
            "type": "contourcarpet"
           }
          ],
          "heatmap": [
           {
            "colorbar": {
             "outlinewidth": 0,
             "ticks": ""
            },
            "colorscale": [
             [
              0,
              "#0d0887"
             ],
             [
              0.1111111111111111,
              "#46039f"
             ],
             [
              0.2222222222222222,
              "#7201a8"
             ],
             [
              0.3333333333333333,
              "#9c179e"
             ],
             [
              0.4444444444444444,
              "#bd3786"
             ],
             [
              0.5555555555555556,
              "#d8576b"
             ],
             [
              0.6666666666666666,
              "#ed7953"
             ],
             [
              0.7777777777777778,
              "#fb9f3a"
             ],
             [
              0.8888888888888888,
              "#fdca26"
             ],
             [
              1,
              "#f0f921"
             ]
            ],
            "type": "heatmap"
           }
          ],
          "heatmapgl": [
           {
            "colorbar": {
             "outlinewidth": 0,
             "ticks": ""
            },
            "colorscale": [
             [
              0,
              "#0d0887"
             ],
             [
              0.1111111111111111,
              "#46039f"
             ],
             [
              0.2222222222222222,
              "#7201a8"
             ],
             [
              0.3333333333333333,
              "#9c179e"
             ],
             [
              0.4444444444444444,
              "#bd3786"
             ],
             [
              0.5555555555555556,
              "#d8576b"
             ],
             [
              0.6666666666666666,
              "#ed7953"
             ],
             [
              0.7777777777777778,
              "#fb9f3a"
             ],
             [
              0.8888888888888888,
              "#fdca26"
             ],
             [
              1,
              "#f0f921"
             ]
            ],
            "type": "heatmapgl"
           }
          ],
          "histogram": [
           {
            "marker": {
             "pattern": {
              "fillmode": "overlay",
              "size": 10,
              "solidity": 0.2
             }
            },
            "type": "histogram"
           }
          ],
          "histogram2d": [
           {
            "colorbar": {
             "outlinewidth": 0,
             "ticks": ""
            },
            "colorscale": [
             [
              0,
              "#0d0887"
             ],
             [
              0.1111111111111111,
              "#46039f"
             ],
             [
              0.2222222222222222,
              "#7201a8"
             ],
             [
              0.3333333333333333,
              "#9c179e"
             ],
             [
              0.4444444444444444,
              "#bd3786"
             ],
             [
              0.5555555555555556,
              "#d8576b"
             ],
             [
              0.6666666666666666,
              "#ed7953"
             ],
             [
              0.7777777777777778,
              "#fb9f3a"
             ],
             [
              0.8888888888888888,
              "#fdca26"
             ],
             [
              1,
              "#f0f921"
             ]
            ],
            "type": "histogram2d"
           }
          ],
          "histogram2dcontour": [
           {
            "colorbar": {
             "outlinewidth": 0,
             "ticks": ""
            },
            "colorscale": [
             [
              0,
              "#0d0887"
             ],
             [
              0.1111111111111111,
              "#46039f"
             ],
             [
              0.2222222222222222,
              "#7201a8"
             ],
             [
              0.3333333333333333,
              "#9c179e"
             ],
             [
              0.4444444444444444,
              "#bd3786"
             ],
             [
              0.5555555555555556,
              "#d8576b"
             ],
             [
              0.6666666666666666,
              "#ed7953"
             ],
             [
              0.7777777777777778,
              "#fb9f3a"
             ],
             [
              0.8888888888888888,
              "#fdca26"
             ],
             [
              1,
              "#f0f921"
             ]
            ],
            "type": "histogram2dcontour"
           }
          ],
          "mesh3d": [
           {
            "colorbar": {
             "outlinewidth": 0,
             "ticks": ""
            },
            "type": "mesh3d"
           }
          ],
          "parcoords": [
           {
            "line": {
             "colorbar": {
              "outlinewidth": 0,
              "ticks": ""
             }
            },
            "type": "parcoords"
           }
          ],
          "pie": [
           {
            "automargin": true,
            "type": "pie"
           }
          ],
          "scatter": [
           {
            "fillpattern": {
             "fillmode": "overlay",
             "size": 10,
             "solidity": 0.2
            },
            "type": "scatter"
           }
          ],
          "scatter3d": [
           {
            "line": {
             "colorbar": {
              "outlinewidth": 0,
              "ticks": ""
             }
            },
            "marker": {
             "colorbar": {
              "outlinewidth": 0,
              "ticks": ""
             }
            },
            "type": "scatter3d"
           }
          ],
          "scattercarpet": [
           {
            "marker": {
             "colorbar": {
              "outlinewidth": 0,
              "ticks": ""
             }
            },
            "type": "scattercarpet"
           }
          ],
          "scattergeo": [
           {
            "marker": {
             "colorbar": {
              "outlinewidth": 0,
              "ticks": ""
             }
            },
            "type": "scattergeo"
           }
          ],
          "scattergl": [
           {
            "marker": {
             "colorbar": {
              "outlinewidth": 0,
              "ticks": ""
             }
            },
            "type": "scattergl"
           }
          ],
          "scattermapbox": [
           {
            "marker": {
             "colorbar": {
              "outlinewidth": 0,
              "ticks": ""
             }
            },
            "type": "scattermapbox"
           }
          ],
          "scatterpolar": [
           {
            "marker": {
             "colorbar": {
              "outlinewidth": 0,
              "ticks": ""
             }
            },
            "type": "scatterpolar"
           }
          ],
          "scatterpolargl": [
           {
            "marker": {
             "colorbar": {
              "outlinewidth": 0,
              "ticks": ""
             }
            },
            "type": "scatterpolargl"
           }
          ],
          "scatterternary": [
           {
            "marker": {
             "colorbar": {
              "outlinewidth": 0,
              "ticks": ""
             }
            },
            "type": "scatterternary"
           }
          ],
          "surface": [
           {
            "colorbar": {
             "outlinewidth": 0,
             "ticks": ""
            },
            "colorscale": [
             [
              0,
              "#0d0887"
             ],
             [
              0.1111111111111111,
              "#46039f"
             ],
             [
              0.2222222222222222,
              "#7201a8"
             ],
             [
              0.3333333333333333,
              "#9c179e"
             ],
             [
              0.4444444444444444,
              "#bd3786"
             ],
             [
              0.5555555555555556,
              "#d8576b"
             ],
             [
              0.6666666666666666,
              "#ed7953"
             ],
             [
              0.7777777777777778,
              "#fb9f3a"
             ],
             [
              0.8888888888888888,
              "#fdca26"
             ],
             [
              1,
              "#f0f921"
             ]
            ],
            "type": "surface"
           }
          ],
          "table": [
           {
            "cells": {
             "fill": {
              "color": "#EBF0F8"
             },
             "line": {
              "color": "white"
             }
            },
            "header": {
             "fill": {
              "color": "#C8D4E3"
             },
             "line": {
              "color": "white"
             }
            },
            "type": "table"
           }
          ]
         },
         "layout": {
          "annotationdefaults": {
           "arrowcolor": "#2a3f5f",
           "arrowhead": 0,
           "arrowwidth": 1
          },
          "autotypenumbers": "strict",
          "coloraxis": {
           "colorbar": {
            "outlinewidth": 0,
            "ticks": ""
           }
          },
          "colorscale": {
           "diverging": [
            [
             0,
             "#8e0152"
            ],
            [
             0.1,
             "#c51b7d"
            ],
            [
             0.2,
             "#de77ae"
            ],
            [
             0.3,
             "#f1b6da"
            ],
            [
             0.4,
             "#fde0ef"
            ],
            [
             0.5,
             "#f7f7f7"
            ],
            [
             0.6,
             "#e6f5d0"
            ],
            [
             0.7,
             "#b8e186"
            ],
            [
             0.8,
             "#7fbc41"
            ],
            [
             0.9,
             "#4d9221"
            ],
            [
             1,
             "#276419"
            ]
           ],
           "sequential": [
            [
             0,
             "#0d0887"
            ],
            [
             0.1111111111111111,
             "#46039f"
            ],
            [
             0.2222222222222222,
             "#7201a8"
            ],
            [
             0.3333333333333333,
             "#9c179e"
            ],
            [
             0.4444444444444444,
             "#bd3786"
            ],
            [
             0.5555555555555556,
             "#d8576b"
            ],
            [
             0.6666666666666666,
             "#ed7953"
            ],
            [
             0.7777777777777778,
             "#fb9f3a"
            ],
            [
             0.8888888888888888,
             "#fdca26"
            ],
            [
             1,
             "#f0f921"
            ]
           ],
           "sequentialminus": [
            [
             0,
             "#0d0887"
            ],
            [
             0.1111111111111111,
             "#46039f"
            ],
            [
             0.2222222222222222,
             "#7201a8"
            ],
            [
             0.3333333333333333,
             "#9c179e"
            ],
            [
             0.4444444444444444,
             "#bd3786"
            ],
            [
             0.5555555555555556,
             "#d8576b"
            ],
            [
             0.6666666666666666,
             "#ed7953"
            ],
            [
             0.7777777777777778,
             "#fb9f3a"
            ],
            [
             0.8888888888888888,
             "#fdca26"
            ],
            [
             1,
             "#f0f921"
            ]
           ]
          },
          "colorway": [
           "#636efa",
           "#EF553B",
           "#00cc96",
           "#ab63fa",
           "#FFA15A",
           "#19d3f3",
           "#FF6692",
           "#B6E880",
           "#FF97FF",
           "#FECB52"
          ],
          "font": {
           "color": "#2a3f5f"
          },
          "geo": {
           "bgcolor": "white",
           "lakecolor": "white",
           "landcolor": "#E5ECF6",
           "showlakes": true,
           "showland": true,
           "subunitcolor": "white"
          },
          "hoverlabel": {
           "align": "left"
          },
          "hovermode": "closest",
          "mapbox": {
           "style": "light"
          },
          "paper_bgcolor": "white",
          "plot_bgcolor": "#E5ECF6",
          "polar": {
           "angularaxis": {
            "gridcolor": "white",
            "linecolor": "white",
            "ticks": ""
           },
           "bgcolor": "#E5ECF6",
           "radialaxis": {
            "gridcolor": "white",
            "linecolor": "white",
            "ticks": ""
           }
          },
          "scene": {
           "xaxis": {
            "backgroundcolor": "#E5ECF6",
            "gridcolor": "white",
            "gridwidth": 2,
            "linecolor": "white",
            "showbackground": true,
            "ticks": "",
            "zerolinecolor": "white"
           },
           "yaxis": {
            "backgroundcolor": "#E5ECF6",
            "gridcolor": "white",
            "gridwidth": 2,
            "linecolor": "white",
            "showbackground": true,
            "ticks": "",
            "zerolinecolor": "white"
           },
           "zaxis": {
            "backgroundcolor": "#E5ECF6",
            "gridcolor": "white",
            "gridwidth": 2,
            "linecolor": "white",
            "showbackground": true,
            "ticks": "",
            "zerolinecolor": "white"
           }
          },
          "shapedefaults": {
           "line": {
            "color": "#2a3f5f"
           }
          },
          "ternary": {
           "aaxis": {
            "gridcolor": "white",
            "linecolor": "white",
            "ticks": ""
           },
           "baxis": {
            "gridcolor": "white",
            "linecolor": "white",
            "ticks": ""
           },
           "bgcolor": "#E5ECF6",
           "caxis": {
            "gridcolor": "white",
            "linecolor": "white",
            "ticks": ""
           }
          },
          "title": {
           "x": 0.05
          },
          "xaxis": {
           "automargin": true,
           "gridcolor": "white",
           "linecolor": "white",
           "ticks": "",
           "title": {
            "standoff": 15
           },
           "zerolinecolor": "white",
           "zerolinewidth": 2
          },
          "yaxis": {
           "automargin": true,
           "gridcolor": "white",
           "linecolor": "white",
           "ticks": "",
           "title": {
            "standoff": 15
           },
           "zerolinecolor": "white",
           "zerolinewidth": 2
          }
         }
        },
        "xaxis": {
         "autorange": "reversed"
        }
       }
      },
      "text/html": [
       "<div>                            <div id=\"f047ad16-2906-462a-92ff-c760b5e0101c\" class=\"plotly-graph-div\" style=\"height:525px; width:100%;\"></div>            <script type=\"text/javascript\">                require([\"plotly\"], function(Plotly) {                    window.PLOTLYENV=window.PLOTLYENV || {};                                    if (document.getElementById(\"f047ad16-2906-462a-92ff-c760b5e0101c\")) {                    Plotly.newPlot(                        \"f047ad16-2906-462a-92ff-c760b5e0101c\",                        [{\"mode\":\"lines\",\"name\":\"tench\",\"x\":[0.6,0.482,0.364,0.246,0.128,0.01],\"y\":[0.9218278065264458,0.9236037958279514,0.9248354409833104,0.9225862359727472,0.9186748095318924,0.7678764219490054],\"type\":\"scatter\"},{\"mode\":\"lines\",\"name\":\"tiger_beetle\",\"x\":[0.6,0.482,0.364,0.246,0.128,0.01],\"y\":[0.9375544148043853,0.9373948373786701,0.9323749769270573,0.9229811171038553,0.8943002162053283,0.18139232037771205],\"type\":\"scatter\"},{\"mode\":\"lines\",\"name\":\"all\",\"x\":[0.6,0.482,0.364,0.246,0.128,0.01],\"y\":[0.9942741377025772,0.976092934547453,0.9365715794290278,0.840975946202264,0.7414128935021354,0.5819399763262607],\"type\":\"scatter\"}],                        {\"template\":{\"data\":{\"histogram2dcontour\":[{\"type\":\"histogram2dcontour\",\"colorbar\":{\"outlinewidth\":0,\"ticks\":\"\"},\"colorscale\":[[0.0,\"#0d0887\"],[0.1111111111111111,\"#46039f\"],[0.2222222222222222,\"#7201a8\"],[0.3333333333333333,\"#9c179e\"],[0.4444444444444444,\"#bd3786\"],[0.5555555555555556,\"#d8576b\"],[0.6666666666666666,\"#ed7953\"],[0.7777777777777778,\"#fb9f3a\"],[0.8888888888888888,\"#fdca26\"],[1.0,\"#f0f921\"]]}],\"choropleth\":[{\"type\":\"choropleth\",\"colorbar\":{\"outlinewidth\":0,\"ticks\":\"\"}}],\"histogram2d\":[{\"type\":\"histogram2d\",\"colorbar\":{\"outlinewidth\":0,\"ticks\":\"\"},\"colorscale\":[[0.0,\"#0d0887\"],[0.1111111111111111,\"#46039f\"],[0.2222222222222222,\"#7201a8\"],[0.3333333333333333,\"#9c179e\"],[0.4444444444444444,\"#bd3786\"],[0.5555555555555556,\"#d8576b\"],[0.6666666666666666,\"#ed7953\"],[0.7777777777777778,\"#fb9f3a\"],[0.8888888888888888,\"#fdca26\"],[1.0,\"#f0f921\"]]}],\"heatmap\":[{\"type\":\"heatmap\",\"colorbar\":{\"outlinewidth\":0,\"ticks\":\"\"},\"colorscale\":[[0.0,\"#0d0887\"],[0.1111111111111111,\"#46039f\"],[0.2222222222222222,\"#7201a8\"],[0.3333333333333333,\"#9c179e\"],[0.4444444444444444,\"#bd3786\"],[0.5555555555555556,\"#d8576b\"],[0.6666666666666666,\"#ed7953\"],[0.7777777777777778,\"#fb9f3a\"],[0.8888888888888888,\"#fdca26\"],[1.0,\"#f0f921\"]]}],\"heatmapgl\":[{\"type\":\"heatmapgl\",\"colorbar\":{\"outlinewidth\":0,\"ticks\":\"\"},\"colorscale\":[[0.0,\"#0d0887\"],[0.1111111111111111,\"#46039f\"],[0.2222222222222222,\"#7201a8\"],[0.3333333333333333,\"#9c179e\"],[0.4444444444444444,\"#bd3786\"],[0.5555555555555556,\"#d8576b\"],[0.6666666666666666,\"#ed7953\"],[0.7777777777777778,\"#fb9f3a\"],[0.8888888888888888,\"#fdca26\"],[1.0,\"#f0f921\"]]}],\"contourcarpet\":[{\"type\":\"contourcarpet\",\"colorbar\":{\"outlinewidth\":0,\"ticks\":\"\"}}],\"contour\":[{\"type\":\"contour\",\"colorbar\":{\"outlinewidth\":0,\"ticks\":\"\"},\"colorscale\":[[0.0,\"#0d0887\"],[0.1111111111111111,\"#46039f\"],[0.2222222222222222,\"#7201a8\"],[0.3333333333333333,\"#9c179e\"],[0.4444444444444444,\"#bd3786\"],[0.5555555555555556,\"#d8576b\"],[0.6666666666666666,\"#ed7953\"],[0.7777777777777778,\"#fb9f3a\"],[0.8888888888888888,\"#fdca26\"],[1.0,\"#f0f921\"]]}],\"surface\":[{\"type\":\"surface\",\"colorbar\":{\"outlinewidth\":0,\"ticks\":\"\"},\"colorscale\":[[0.0,\"#0d0887\"],[0.1111111111111111,\"#46039f\"],[0.2222222222222222,\"#7201a8\"],[0.3333333333333333,\"#9c179e\"],[0.4444444444444444,\"#bd3786\"],[0.5555555555555556,\"#d8576b\"],[0.6666666666666666,\"#ed7953\"],[0.7777777777777778,\"#fb9f3a\"],[0.8888888888888888,\"#fdca26\"],[1.0,\"#f0f921\"]]}],\"mesh3d\":[{\"type\":\"mesh3d\",\"colorbar\":{\"outlinewidth\":0,\"ticks\":\"\"}}],\"scatter\":[{\"fillpattern\":{\"fillmode\":\"overlay\",\"size\":10,\"solidity\":0.2},\"type\":\"scatter\"}],\"parcoords\":[{\"type\":\"parcoords\",\"line\":{\"colorbar\":{\"outlinewidth\":0,\"ticks\":\"\"}}}],\"scatterpolargl\":[{\"type\":\"scatterpolargl\",\"marker\":{\"colorbar\":{\"outlinewidth\":0,\"ticks\":\"\"}}}],\"bar\":[{\"error_x\":{\"color\":\"#2a3f5f\"},\"error_y\":{\"color\":\"#2a3f5f\"},\"marker\":{\"line\":{\"color\":\"#E5ECF6\",\"width\":0.5},\"pattern\":{\"fillmode\":\"overlay\",\"size\":10,\"solidity\":0.2}},\"type\":\"bar\"}],\"scattergeo\":[{\"type\":\"scattergeo\",\"marker\":{\"colorbar\":{\"outlinewidth\":0,\"ticks\":\"\"}}}],\"scatterpolar\":[{\"type\":\"scatterpolar\",\"marker\":{\"colorbar\":{\"outlinewidth\":0,\"ticks\":\"\"}}}],\"histogram\":[{\"marker\":{\"pattern\":{\"fillmode\":\"overlay\",\"size\":10,\"solidity\":0.2}},\"type\":\"histogram\"}],\"scattergl\":[{\"type\":\"scattergl\",\"marker\":{\"colorbar\":{\"outlinewidth\":0,\"ticks\":\"\"}}}],\"scatter3d\":[{\"type\":\"scatter3d\",\"line\":{\"colorbar\":{\"outlinewidth\":0,\"ticks\":\"\"}},\"marker\":{\"colorbar\":{\"outlinewidth\":0,\"ticks\":\"\"}}}],\"scattermapbox\":[{\"type\":\"scattermapbox\",\"marker\":{\"colorbar\":{\"outlinewidth\":0,\"ticks\":\"\"}}}],\"scatterternary\":[{\"type\":\"scatterternary\",\"marker\":{\"colorbar\":{\"outlinewidth\":0,\"ticks\":\"\"}}}],\"scattercarpet\":[{\"type\":\"scattercarpet\",\"marker\":{\"colorbar\":{\"outlinewidth\":0,\"ticks\":\"\"}}}],\"carpet\":[{\"aaxis\":{\"endlinecolor\":\"#2a3f5f\",\"gridcolor\":\"white\",\"linecolor\":\"white\",\"minorgridcolor\":\"white\",\"startlinecolor\":\"#2a3f5f\"},\"baxis\":{\"endlinecolor\":\"#2a3f5f\",\"gridcolor\":\"white\",\"linecolor\":\"white\",\"minorgridcolor\":\"white\",\"startlinecolor\":\"#2a3f5f\"},\"type\":\"carpet\"}],\"table\":[{\"cells\":{\"fill\":{\"color\":\"#EBF0F8\"},\"line\":{\"color\":\"white\"}},\"header\":{\"fill\":{\"color\":\"#C8D4E3\"},\"line\":{\"color\":\"white\"}},\"type\":\"table\"}],\"barpolar\":[{\"marker\":{\"line\":{\"color\":\"#E5ECF6\",\"width\":0.5},\"pattern\":{\"fillmode\":\"overlay\",\"size\":10,\"solidity\":0.2}},\"type\":\"barpolar\"}],\"pie\":[{\"automargin\":true,\"type\":\"pie\"}]},\"layout\":{\"autotypenumbers\":\"strict\",\"colorway\":[\"#636efa\",\"#EF553B\",\"#00cc96\",\"#ab63fa\",\"#FFA15A\",\"#19d3f3\",\"#FF6692\",\"#B6E880\",\"#FF97FF\",\"#FECB52\"],\"font\":{\"color\":\"#2a3f5f\"},\"hovermode\":\"closest\",\"hoverlabel\":{\"align\":\"left\"},\"paper_bgcolor\":\"white\",\"plot_bgcolor\":\"#E5ECF6\",\"polar\":{\"bgcolor\":\"#E5ECF6\",\"angularaxis\":{\"gridcolor\":\"white\",\"linecolor\":\"white\",\"ticks\":\"\"},\"radialaxis\":{\"gridcolor\":\"white\",\"linecolor\":\"white\",\"ticks\":\"\"}},\"ternary\":{\"bgcolor\":\"#E5ECF6\",\"aaxis\":{\"gridcolor\":\"white\",\"linecolor\":\"white\",\"ticks\":\"\"},\"baxis\":{\"gridcolor\":\"white\",\"linecolor\":\"white\",\"ticks\":\"\"},\"caxis\":{\"gridcolor\":\"white\",\"linecolor\":\"white\",\"ticks\":\"\"}},\"coloraxis\":{\"colorbar\":{\"outlinewidth\":0,\"ticks\":\"\"}},\"colorscale\":{\"sequential\":[[0.0,\"#0d0887\"],[0.1111111111111111,\"#46039f\"],[0.2222222222222222,\"#7201a8\"],[0.3333333333333333,\"#9c179e\"],[0.4444444444444444,\"#bd3786\"],[0.5555555555555556,\"#d8576b\"],[0.6666666666666666,\"#ed7953\"],[0.7777777777777778,\"#fb9f3a\"],[0.8888888888888888,\"#fdca26\"],[1.0,\"#f0f921\"]],\"sequentialminus\":[[0.0,\"#0d0887\"],[0.1111111111111111,\"#46039f\"],[0.2222222222222222,\"#7201a8\"],[0.3333333333333333,\"#9c179e\"],[0.4444444444444444,\"#bd3786\"],[0.5555555555555556,\"#d8576b\"],[0.6666666666666666,\"#ed7953\"],[0.7777777777777778,\"#fb9f3a\"],[0.8888888888888888,\"#fdca26\"],[1.0,\"#f0f921\"]],\"diverging\":[[0,\"#8e0152\"],[0.1,\"#c51b7d\"],[0.2,\"#de77ae\"],[0.3,\"#f1b6da\"],[0.4,\"#fde0ef\"],[0.5,\"#f7f7f7\"],[0.6,\"#e6f5d0\"],[0.7,\"#b8e186\"],[0.8,\"#7fbc41\"],[0.9,\"#4d9221\"],[1,\"#276419\"]]},\"xaxis\":{\"gridcolor\":\"white\",\"linecolor\":\"white\",\"ticks\":\"\",\"title\":{\"standoff\":15},\"zerolinecolor\":\"white\",\"automargin\":true,\"zerolinewidth\":2},\"yaxis\":{\"gridcolor\":\"white\",\"linecolor\":\"white\",\"ticks\":\"\",\"title\":{\"standoff\":15},\"zerolinecolor\":\"white\",\"automargin\":true,\"zerolinewidth\":2},\"scene\":{\"xaxis\":{\"backgroundcolor\":\"#E5ECF6\",\"gridcolor\":\"white\",\"linecolor\":\"white\",\"showbackground\":true,\"ticks\":\"\",\"zerolinecolor\":\"white\",\"gridwidth\":2},\"yaxis\":{\"backgroundcolor\":\"#E5ECF6\",\"gridcolor\":\"white\",\"linecolor\":\"white\",\"showbackground\":true,\"ticks\":\"\",\"zerolinecolor\":\"white\",\"gridwidth\":2},\"zaxis\":{\"backgroundcolor\":\"#E5ECF6\",\"gridcolor\":\"white\",\"linecolor\":\"white\",\"showbackground\":true,\"ticks\":\"\",\"zerolinecolor\":\"white\",\"gridwidth\":2}},\"shapedefaults\":{\"line\":{\"color\":\"#2a3f5f\"}},\"annotationdefaults\":{\"arrowcolor\":\"#2a3f5f\",\"arrowhead\":0,\"arrowwidth\":1},\"geo\":{\"bgcolor\":\"white\",\"landcolor\":\"#E5ECF6\",\"subunitcolor\":\"white\",\"showland\":true,\"showlakes\":true,\"lakecolor\":\"white\"},\"title\":{\"x\":0.05},\"mapbox\":{\"style\":\"light\"}}},\"xaxis\":{\"autorange\":\"reversed\"}},                        {\"responsive\": true}                    ).then(function(){\n",
       "                            \n",
       "var gd = document.getElementById('f047ad16-2906-462a-92ff-c760b5e0101c');\n",
       "var x = new MutationObserver(function (mutations, observer) {{\n",
       "        var display = window.getComputedStyle(gd).display;\n",
       "        if (!display || display === 'none') {{\n",
       "            console.log([gd, 'removed!']);\n",
       "            Plotly.purge(gd);\n",
       "            observer.disconnect();\n",
       "        }}\n",
       "}});\n",
       "\n",
       "// Listen for the removal of the full notebook cells\n",
       "var notebookContainer = gd.closest('#notebook-container');\n",
       "if (notebookContainer) {{\n",
       "    x.observe(notebookContainer, {childList: true});\n",
       "}}\n",
       "\n",
       "// Listen for the clearing of the current output cell\n",
       "var outputEl = gd.closest('.output');\n",
       "if (outputEl) {{\n",
       "    x.observe(outputEl, {childList: true});\n",
       "}}\n",
       "\n",
       "                        })                };                });            </script>        </div>"
      ]
     },
     "metadata": {},
     "output_type": "display_data"
    }
   ],
   "source": [
    "#plotting scatterplots\n",
    "import plotly.express as px\n",
    "from plotly.subplots import make_subplots\n",
    "import plotly.graph_objects as go\n",
    "import plotly\n",
    "\n",
    "\n",
    "cols = plotly.colors.DEFAULT_PLOTLY_COLORS\n",
    "all_cols = []\n",
    "for col in cols:\n",
    "    for i in range(10):\n",
    "        all_cols.append(col)\n",
    "\n",
    "#for cat in list(units.keys())+['all']:\n",
    "for cat in ['tench','all']:\n",
    "    #print(cat)\n",
    "    fig = make_subplots(rows=1, cols=len(circuit_activations[cat]))\n",
    "    for s, c_acts in enumerate(circuit_activations[cat]):\n",
    "        fig.add_trace(\n",
    "            go.Scatter(x=c_acts, y=unit_activations,\n",
    "                       mode='markers',\n",
    "                       marker=dict(color=all_cols)),\n",
    "            row=1, col=s+1\n",
    "                    )\n",
    "\n",
    "    fig.update_layout(height=600, width=1000, title_text=cat)\n",
    "    fig.show()\n",
    "    \n",
    "    \n",
    "fig = go.Figure()\n",
    "for cat in ['tench','tiger_beetle','all']:\n",
    "    fig.add_trace(\n",
    "                go.Scatter(x=sparsities, \n",
    "                           y=correlations[cat],\n",
    "                           mode='lines',\n",
    "                           name=cat))\n",
    "fig['layout']['xaxis']['autorange'] = \"reversed\"\n",
    "fig.show()\n",
    "   \n"
   ]
  }
 ],
 "metadata": {
  "kernelspec": {
   "display_name": "circuit_explorer",
   "language": "python",
   "name": "circuit_explorer"
  },
  "language_info": {
   "codemirror_mode": {
    "name": "ipython",
    "version": 3
   },
   "file_extension": ".py",
   "mimetype": "text/x-python",
   "name": "python",
   "nbconvert_exporter": "python",
   "pygments_lexer": "ipython3",
   "version": "3.7.13"
  }
 },
 "nbformat": 4,
 "nbformat_minor": 5
}
