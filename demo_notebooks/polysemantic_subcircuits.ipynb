{
 "cells": [
  {
   "cell_type": "markdown",
   "metadata": {},
   "source": [
    "notebook for generating plots from section 6.1"
   ]
  },
  {
   "cell_type": "code",
   "execution_count": 1,
   "metadata": {},
   "outputs": [],
   "source": [
    "%load_ext autoreload\n",
    "%autoreload 2"
   ]
  },
  {
   "cell_type": "markdown",
   "metadata": {},
   "source": [
    "#### model"
   ]
  },
  {
   "cell_type": "code",
   "execution_count": null,
   "metadata": {},
   "outputs": [],
   "source": [
    "#hardware\n",
    "device = 'cuda:0'\n",
    "\n",
    "from circuit_explorer.utils import load_config\n",
    "import torch\n",
    "import os\n",
    "from copy import deepcopy\n",
    "\n",
    "config = load_config('../configs/alexnet_sparse_config.py')\n",
    "model = config.model.to(device)\n"
   ]
  },
  {
   "cell_type": "markdown",
   "metadata": {},
   "source": [
    "#### feature target"
   ]
  },
  {
   "cell_type": "code",
   "execution_count": 3,
   "metadata": {},
   "outputs": [],
   "source": [
    "#dog/metal feature\n",
    "layer = 'features.10'\n",
    "unit = 9\n",
    "\n",
    "#monkey/text feature\n",
    "#layer = 'features.10'\n",
    "#unit = 161"
   ]
  },
  {
   "cell_type": "markdown",
   "metadata": {},
   "source": [
    "#### dataloading"
   ]
  },
  {
   "cell_type": "code",
   "execution_count": 4,
   "metadata": {},
   "outputs": [],
   "source": [
    "image_root_folder = '../image_data/polysemantic/'+layer+':'+str(unit)+'/'\n",
    "\n",
    "\n",
    "clusters = ['cluster_0','cluster_1']\n",
    "#You can run the control experiment by uncommenting the following line:\n",
    "#clusters = ['mixed_0','mixed_1']\n",
    "\n",
    "if (clusters == ['mixed_0','mixed_1']) and not (os.path.exists(image_root_folder+'/mixed_0')):\n",
    "    from circuit_explorer.utils import mix_image_folders\n",
    "    mix_image_folders(image_root_folder,['cluster_0','cluster_1'],clusters)\n",
    "\n",
    "from circuit_explorer.data_loading import rank_image_data\n",
    "from torch.utils.data import DataLoader\n",
    "\n",
    "dataloaders = {}\n",
    "kwargs = {'num_workers': 4, 'pin_memory': True, 'sampler':None} if 'cuda' in device else {}\n",
    "\n",
    "for cluster in clusters:\n",
    "    dataloaders[cluster] = DataLoader(rank_image_data(image_root_folder+'/'+cluster,\n",
    "                                                      class_folders=False),\n",
    "                                      batch_size=1,\n",
    "                                      shuffle=False,\n",
    "                                      **kwargs)\n"
   ]
  },
  {
   "cell_type": "markdown",
   "metadata": {},
   "source": [
    "#### score"
   ]
  },
  {
   "cell_type": "code",
   "execution_count": 5,
   "metadata": {},
   "outputs": [
    {
     "name": "stdout",
     "output_type": "stream",
     "text": [
      "cluster_0\n",
      "cluster_1\n"
     ]
    }
   ],
   "source": [
    "from circuit_explorer.score import actgrad_kernel_score\n",
    "\n",
    "scores = {}\n",
    "\n",
    "# we want to backprop the top activations in each image, this can be done by specifying a loss function that \n",
    "#operates on the output of each feature per batch \n",
    "loss_f = torch.max\n",
    "\n",
    "for cluster in clusters:\n",
    "    print(cluster)\n",
    "    scores[cluster] = actgrad_kernel_score(model,dataloaders[cluster],layer,unit,loss_f = loss_f)"
   ]
  },
  {
   "cell_type": "markdown",
   "metadata": {},
   "source": [
    "#### get original activations to images"
   ]
  },
  {
   "cell_type": "code",
   "execution_count": 6,
   "metadata": {},
   "outputs": [],
   "source": [
    "from circuit_explorer.target import layer_activations_from_dataloader\n",
    "from circuit_explorer.utils import actmap_maxpos\n",
    "\n",
    "original_activations = {}\n",
    "original_positions = {}\n",
    "for cluster in clusters:\n",
    "    target_layer_activations = layer_activations_from_dataloader(layer,dataloaders[cluster],model)[layer]\n",
    "    unit_actmaps = target_layer_activations[:,unit]\n",
    "    original_positions[cluster] = actmap_maxpos(unit_actmaps) #where in the activation map are we trying to preserve\n",
    "    original_activations[cluster] = torch.amax(unit_actmaps,dim=(1, 2)) #what was the orig activation"
   ]
  },
  {
   "cell_type": "markdown",
   "metadata": {},
   "source": [
    "#### check feature preservation"
   ]
  },
  {
   "cell_type": "code",
   "execution_count": 32,
   "metadata": {},
   "outputs": [
    {
     "name": "stdout",
     "output_type": "stream",
     "text": [
      "cluster_0 circuit\n",
      "cluster_0 data\n",
      "0.4\n",
      "0.3795\n",
      "0.3589\n",
      "0.3384\n",
      "0.3179\n",
      "0.2974\n",
      "0.2768\n",
      "0.2563\n",
      "0.2358\n",
      "0.2153\n",
      "0.1947\n",
      "0.1742\n",
      "0.1537\n",
      "0.1332\n",
      "0.1126\n",
      "0.0921\n",
      "0.0716\n",
      "0.0511\n",
      "0.0305\n",
      "0.01\n",
      "cluster_1 data\n",
      "0.4\n",
      "0.3795\n",
      "0.3589\n",
      "0.3384\n",
      "0.3179\n",
      "0.2974\n",
      "0.2768\n",
      "0.2563\n",
      "0.2358\n",
      "0.2153\n",
      "0.1947\n",
      "0.1742\n",
      "0.1537\n",
      "0.1332\n",
      "0.1126\n",
      "0.0921\n",
      "0.0716\n",
      "0.0511\n",
      "0.0305\n",
      "0.01\n",
      "cluster_1 circuit\n",
      "cluster_0 data\n",
      "0.4\n",
      "0.3795\n",
      "0.3589\n",
      "0.3384\n",
      "0.3179\n",
      "0.2974\n",
      "0.2768\n",
      "0.2563\n",
      "0.2358\n",
      "0.2153\n",
      "0.1947\n",
      "0.1742\n",
      "0.1537\n",
      "0.1332\n",
      "0.1126\n",
      "0.0921\n",
      "0.0716\n",
      "0.0511\n",
      "0.0305\n",
      "0.01\n",
      "cluster_1 data\n",
      "0.4\n",
      "0.3795\n",
      "0.3589\n",
      "0.3384\n",
      "0.3179\n",
      "0.2974\n",
      "0.2768\n",
      "0.2563\n",
      "0.2358\n",
      "0.2153\n",
      "0.1947\n",
      "0.1742\n",
      "0.1537\n",
      "0.1332\n",
      "0.1126\n",
      "0.0921\n",
      "0.0716\n",
      "0.0511\n",
      "0.0305\n",
      "0.01\n"
     ]
    }
   ],
   "source": [
    "#calculate new circuit activations at different sparsities\n",
    "\n",
    "import numpy as np\n",
    "from circuit_explorer.mask import mask_from_scores, apply_mask\n",
    "#from circuit_explorer.data_loading import single_image_data\n",
    "\n",
    "sparsities = np.round(np.linspace(.4, .01, num=20),4)\n",
    "\n",
    "sparsity_activations = {}\n",
    "for circuit_cluster in clusters:\n",
    "    print(circuit_cluster +' circuit')\n",
    "    sparsity_activations[circuit_cluster+'_circuit'] = {}\n",
    "    for data_cluster in clusters:\n",
    "        print(data_cluster +' data')\n",
    "        sparsity_activations[circuit_cluster+'_circuit'][data_cluster+'_data'] = []\n",
    "        for sparsity in sparsities:\n",
    "            print(sparsity) \n",
    "            activations = [] \n",
    "            mask = mask_from_scores(scores[circuit_cluster],sparsity = sparsity, model=model,unit=unit,target_layer=layer)\n",
    "            apply_mask(model,mask)\n",
    "            masked_layer_activations = layer_activations_from_dataloader(layer,dataloaders[data_cluster],model)[layer]\n",
    "            for i in range(original_positions[data_cluster].shape[0]):\n",
    "                position = original_positions[data_cluster][i]\n",
    "                #get new activations at position\n",
    "                activations.append(masked_layer_activations[i,unit,position[0],position[1]].half())\n",
    "            #add those to the circuit activations at each sparsity\n",
    "            sparsity_activations[circuit_cluster+'_circuit'][data_cluster+'_data'].append(activations)"
   ]
  },
  {
   "cell_type": "code",
   "execution_count": 33,
   "metadata": {},
   "outputs": [
    {
     "data": {
      "application/vnd.plotly.v1+json": {
       "config": {
        "plotlyServerURL": "https://plot.ly"
       },
       "data": [
        {
         "line": {
          "color": "#4C78A8",
          "width": 4
         },
         "name": "cluster 1 circuit : cluster 1 images",
         "type": "scatter",
         "x": [
          0.4,
          0.3795,
          0.3589,
          0.3384,
          0.3179,
          0.2974,
          0.2768,
          0.2563,
          0.2358,
          0.2153,
          0.1947,
          0.1742,
          0.1537,
          0.1332,
          0.1126,
          0.0921,
          0.0716,
          0.0511,
          0.0305,
          0.01
         ],
         "y": [
          0.004771593026816845,
          0.005734334699809551,
          0.010502323508262634,
          0.023852171376347542,
          0.009600147604942322,
          0.009287971071898937,
          0.012064468115568161,
          0.015547952614724636,
          0.01940280944108963,
          0.03609950467944145,
          0.09047843515872955,
          0.10004504024982452,
          0.13343195617198944,
          0.10360454022884369,
          0.21803011000156403,
          0.24655672907829285,
          0.384522020816803,
          0.6468316316604614,
          0.5729910731315613,
          0.5638672113418579
         ]
        },
        {
         "line": {
          "color": "#4C78A8",
          "dash": "dot",
          "width": 4
         },
         "name": "cluster 1 circuit : cluster 2 images",
         "type": "scatter",
         "x": [
          0.4,
          0.3795,
          0.3589,
          0.3384,
          0.3179,
          0.2974,
          0.2768,
          0.2563,
          0.2358,
          0.2153,
          0.1947,
          0.1742,
          0.1537,
          0.1332,
          0.1126,
          0.0921,
          0.0716,
          0.0511,
          0.0305,
          0.01
         ],
         "y": [
          0.0936446338891983,
          0.09941756725311279,
          0.1141638457775116,
          0.1469820737838745,
          0.18598134815692902,
          0.256040096282959,
          0.26945042610168457,
          0.2887329161167145,
          0.3633226752281189,
          0.4765247106552124,
          0.4916127920150757,
          0.5147767066955566,
          0.6149221062660217,
          0.6629519462585449,
          0.7332837581634521,
          0.7783751487731934,
          0.89808189868927,
          1.0297225713729858,
          1.1201962232589722,
          0.834385871887207
         ]
        },
        {
         "line": {
          "color": "#F58518",
          "dash": "dot",
          "width": 4
         },
         "name": "cluster 2 circuit : cluster 1 images",
         "type": "scatter",
         "x": [
          0.4,
          0.3795,
          0.3589,
          0.3384,
          0.3179,
          0.2974,
          0.2768,
          0.2563,
          0.2358,
          0.2153,
          0.1947,
          0.1742,
          0.1537,
          0.1332,
          0.1126,
          0.0921,
          0.0716,
          0.0511,
          0.0305,
          0.01
         ],
         "y": [
          0.9412062168121338,
          0.985282838344574,
          1.0292853116989136,
          1.0063974857330322,
          1.1331524848937988,
          1.1394531726837158,
          1.042912483215332,
          1.0445683002471924,
          1.0318368673324585,
          0.9999317526817322,
          0.9157102108001709,
          1.0437875986099243,
          0.9995942115783691,
          0.92406165599823,
          0.8578024506568909,
          0.8756628632545471,
          0.9501866698265076,
          0.9369562864303589,
          0.8975498676300049,
          0.8230127096176147
         ]
        },
        {
         "line": {
          "color": "#F58518",
          "width": 4
         },
         "name": "cluster 2 circuit : cluster 2 images",
         "type": "scatter",
         "x": [
          0.4,
          0.3795,
          0.3589,
          0.3384,
          0.3179,
          0.2974,
          0.2768,
          0.2563,
          0.2358,
          0.2153,
          0.1947,
          0.1742,
          0.1537,
          0.1332,
          0.1126,
          0.0921,
          0.0716,
          0.0511,
          0.0305,
          0.01
         ],
         "y": [
          0.03655974939465523,
          0.04792943224310875,
          0.04736889898777008,
          0.04559183865785599,
          0.017983224242925644,
          0.024638812988996506,
          0.043154276907444,
          0.033622127026319504,
          0.054292283952236176,
          0.06397254765033722,
          0.05262841656804085,
          0.07609536498785019,
          0.07626093178987503,
          0.07443428039550781,
          0.08660687506198883,
          0.27291229367256165,
          0.38347360491752625,
          0.556460976600647,
          0.6504455208778381,
          0.5274485945701599
         ]
        }
       ],
       "layout": {
        "legend": {
         "bgcolor": "rgba(255,255,255,0.3)",
         "x": 0.03,
         "xanchor": "left",
         "y": 0.95,
         "yanchor": "top"
        },
        "paper_bgcolor": "rgba(255,255,255,1)",
        "plot_bgcolor": "rgba(255,255,255,1)",
        "template": {
         "data": {
          "bar": [
           {
            "error_x": {
             "color": "#2a3f5f"
            },
            "error_y": {
             "color": "#2a3f5f"
            },
            "marker": {
             "line": {
              "color": "#E5ECF6",
              "width": 0.5
             },
             "pattern": {
              "fillmode": "overlay",
              "size": 10,
              "solidity": 0.2
             }
            },
            "type": "bar"
           }
          ],
          "barpolar": [
           {
            "marker": {
             "line": {
              "color": "#E5ECF6",
              "width": 0.5
             },
             "pattern": {
              "fillmode": "overlay",
              "size": 10,
              "solidity": 0.2
             }
            },
            "type": "barpolar"
           }
          ],
          "carpet": [
           {
            "aaxis": {
             "endlinecolor": "#2a3f5f",
             "gridcolor": "white",
             "linecolor": "white",
             "minorgridcolor": "white",
             "startlinecolor": "#2a3f5f"
            },
            "baxis": {
             "endlinecolor": "#2a3f5f",
             "gridcolor": "white",
             "linecolor": "white",
             "minorgridcolor": "white",
             "startlinecolor": "#2a3f5f"
            },
            "type": "carpet"
           }
          ],
          "choropleth": [
           {
            "colorbar": {
             "outlinewidth": 0,
             "ticks": ""
            },
            "type": "choropleth"
           }
          ],
          "contour": [
           {
            "colorbar": {
             "outlinewidth": 0,
             "ticks": ""
            },
            "colorscale": [
             [
              0,
              "#0d0887"
             ],
             [
              0.1111111111111111,
              "#46039f"
             ],
             [
              0.2222222222222222,
              "#7201a8"
             ],
             [
              0.3333333333333333,
              "#9c179e"
             ],
             [
              0.4444444444444444,
              "#bd3786"
             ],
             [
              0.5555555555555556,
              "#d8576b"
             ],
             [
              0.6666666666666666,
              "#ed7953"
             ],
             [
              0.7777777777777778,
              "#fb9f3a"
             ],
             [
              0.8888888888888888,
              "#fdca26"
             ],
             [
              1,
              "#f0f921"
             ]
            ],
            "type": "contour"
           }
          ],
          "contourcarpet": [
           {
            "colorbar": {
             "outlinewidth": 0,
             "ticks": ""
            },
            "type": "contourcarpet"
           }
          ],
          "heatmap": [
           {
            "colorbar": {
             "outlinewidth": 0,
             "ticks": ""
            },
            "colorscale": [
             [
              0,
              "#0d0887"
             ],
             [
              0.1111111111111111,
              "#46039f"
             ],
             [
              0.2222222222222222,
              "#7201a8"
             ],
             [
              0.3333333333333333,
              "#9c179e"
             ],
             [
              0.4444444444444444,
              "#bd3786"
             ],
             [
              0.5555555555555556,
              "#d8576b"
             ],
             [
              0.6666666666666666,
              "#ed7953"
             ],
             [
              0.7777777777777778,
              "#fb9f3a"
             ],
             [
              0.8888888888888888,
              "#fdca26"
             ],
             [
              1,
              "#f0f921"
             ]
            ],
            "type": "heatmap"
           }
          ],
          "heatmapgl": [
           {
            "colorbar": {
             "outlinewidth": 0,
             "ticks": ""
            },
            "colorscale": [
             [
              0,
              "#0d0887"
             ],
             [
              0.1111111111111111,
              "#46039f"
             ],
             [
              0.2222222222222222,
              "#7201a8"
             ],
             [
              0.3333333333333333,
              "#9c179e"
             ],
             [
              0.4444444444444444,
              "#bd3786"
             ],
             [
              0.5555555555555556,
              "#d8576b"
             ],
             [
              0.6666666666666666,
              "#ed7953"
             ],
             [
              0.7777777777777778,
              "#fb9f3a"
             ],
             [
              0.8888888888888888,
              "#fdca26"
             ],
             [
              1,
              "#f0f921"
             ]
            ],
            "type": "heatmapgl"
           }
          ],
          "histogram": [
           {
            "marker": {
             "pattern": {
              "fillmode": "overlay",
              "size": 10,
              "solidity": 0.2
             }
            },
            "type": "histogram"
           }
          ],
          "histogram2d": [
           {
            "colorbar": {
             "outlinewidth": 0,
             "ticks": ""
            },
            "colorscale": [
             [
              0,
              "#0d0887"
             ],
             [
              0.1111111111111111,
              "#46039f"
             ],
             [
              0.2222222222222222,
              "#7201a8"
             ],
             [
              0.3333333333333333,
              "#9c179e"
             ],
             [
              0.4444444444444444,
              "#bd3786"
             ],
             [
              0.5555555555555556,
              "#d8576b"
             ],
             [
              0.6666666666666666,
              "#ed7953"
             ],
             [
              0.7777777777777778,
              "#fb9f3a"
             ],
             [
              0.8888888888888888,
              "#fdca26"
             ],
             [
              1,
              "#f0f921"
             ]
            ],
            "type": "histogram2d"
           }
          ],
          "histogram2dcontour": [
           {
            "colorbar": {
             "outlinewidth": 0,
             "ticks": ""
            },
            "colorscale": [
             [
              0,
              "#0d0887"
             ],
             [
              0.1111111111111111,
              "#46039f"
             ],
             [
              0.2222222222222222,
              "#7201a8"
             ],
             [
              0.3333333333333333,
              "#9c179e"
             ],
             [
              0.4444444444444444,
              "#bd3786"
             ],
             [
              0.5555555555555556,
              "#d8576b"
             ],
             [
              0.6666666666666666,
              "#ed7953"
             ],
             [
              0.7777777777777778,
              "#fb9f3a"
             ],
             [
              0.8888888888888888,
              "#fdca26"
             ],
             [
              1,
              "#f0f921"
             ]
            ],
            "type": "histogram2dcontour"
           }
          ],
          "mesh3d": [
           {
            "colorbar": {
             "outlinewidth": 0,
             "ticks": ""
            },
            "type": "mesh3d"
           }
          ],
          "parcoords": [
           {
            "line": {
             "colorbar": {
              "outlinewidth": 0,
              "ticks": ""
             }
            },
            "type": "parcoords"
           }
          ],
          "pie": [
           {
            "automargin": true,
            "type": "pie"
           }
          ],
          "scatter": [
           {
            "fillpattern": {
             "fillmode": "overlay",
             "size": 10,
             "solidity": 0.2
            },
            "type": "scatter"
           }
          ],
          "scatter3d": [
           {
            "line": {
             "colorbar": {
              "outlinewidth": 0,
              "ticks": ""
             }
            },
            "marker": {
             "colorbar": {
              "outlinewidth": 0,
              "ticks": ""
             }
            },
            "type": "scatter3d"
           }
          ],
          "scattercarpet": [
           {
            "marker": {
             "colorbar": {
              "outlinewidth": 0,
              "ticks": ""
             }
            },
            "type": "scattercarpet"
           }
          ],
          "scattergeo": [
           {
            "marker": {
             "colorbar": {
              "outlinewidth": 0,
              "ticks": ""
             }
            },
            "type": "scattergeo"
           }
          ],
          "scattergl": [
           {
            "marker": {
             "colorbar": {
              "outlinewidth": 0,
              "ticks": ""
             }
            },
            "type": "scattergl"
           }
          ],
          "scattermapbox": [
           {
            "marker": {
             "colorbar": {
              "outlinewidth": 0,
              "ticks": ""
             }
            },
            "type": "scattermapbox"
           }
          ],
          "scatterpolar": [
           {
            "marker": {
             "colorbar": {
              "outlinewidth": 0,
              "ticks": ""
             }
            },
            "type": "scatterpolar"
           }
          ],
          "scatterpolargl": [
           {
            "marker": {
             "colorbar": {
              "outlinewidth": 0,
              "ticks": ""
             }
            },
            "type": "scatterpolargl"
           }
          ],
          "scatterternary": [
           {
            "marker": {
             "colorbar": {
              "outlinewidth": 0,
              "ticks": ""
             }
            },
            "type": "scatterternary"
           }
          ],
          "surface": [
           {
            "colorbar": {
             "outlinewidth": 0,
             "ticks": ""
            },
            "colorscale": [
             [
              0,
              "#0d0887"
             ],
             [
              0.1111111111111111,
              "#46039f"
             ],
             [
              0.2222222222222222,
              "#7201a8"
             ],
             [
              0.3333333333333333,
              "#9c179e"
             ],
             [
              0.4444444444444444,
              "#bd3786"
             ],
             [
              0.5555555555555556,
              "#d8576b"
             ],
             [
              0.6666666666666666,
              "#ed7953"
             ],
             [
              0.7777777777777778,
              "#fb9f3a"
             ],
             [
              0.8888888888888888,
              "#fdca26"
             ],
             [
              1,
              "#f0f921"
             ]
            ],
            "type": "surface"
           }
          ],
          "table": [
           {
            "cells": {
             "fill": {
              "color": "#EBF0F8"
             },
             "line": {
              "color": "white"
             }
            },
            "header": {
             "fill": {
              "color": "#C8D4E3"
             },
             "line": {
              "color": "white"
             }
            },
            "type": "table"
           }
          ]
         },
         "layout": {
          "annotationdefaults": {
           "arrowcolor": "#2a3f5f",
           "arrowhead": 0,
           "arrowwidth": 1
          },
          "autotypenumbers": "strict",
          "coloraxis": {
           "colorbar": {
            "outlinewidth": 0,
            "ticks": ""
           }
          },
          "colorscale": {
           "diverging": [
            [
             0,
             "#8e0152"
            ],
            [
             0.1,
             "#c51b7d"
            ],
            [
             0.2,
             "#de77ae"
            ],
            [
             0.3,
             "#f1b6da"
            ],
            [
             0.4,
             "#fde0ef"
            ],
            [
             0.5,
             "#f7f7f7"
            ],
            [
             0.6,
             "#e6f5d0"
            ],
            [
             0.7,
             "#b8e186"
            ],
            [
             0.8,
             "#7fbc41"
            ],
            [
             0.9,
             "#4d9221"
            ],
            [
             1,
             "#276419"
            ]
           ],
           "sequential": [
            [
             0,
             "#0d0887"
            ],
            [
             0.1111111111111111,
             "#46039f"
            ],
            [
             0.2222222222222222,
             "#7201a8"
            ],
            [
             0.3333333333333333,
             "#9c179e"
            ],
            [
             0.4444444444444444,
             "#bd3786"
            ],
            [
             0.5555555555555556,
             "#d8576b"
            ],
            [
             0.6666666666666666,
             "#ed7953"
            ],
            [
             0.7777777777777778,
             "#fb9f3a"
            ],
            [
             0.8888888888888888,
             "#fdca26"
            ],
            [
             1,
             "#f0f921"
            ]
           ],
           "sequentialminus": [
            [
             0,
             "#0d0887"
            ],
            [
             0.1111111111111111,
             "#46039f"
            ],
            [
             0.2222222222222222,
             "#7201a8"
            ],
            [
             0.3333333333333333,
             "#9c179e"
            ],
            [
             0.4444444444444444,
             "#bd3786"
            ],
            [
             0.5555555555555556,
             "#d8576b"
            ],
            [
             0.6666666666666666,
             "#ed7953"
            ],
            [
             0.7777777777777778,
             "#fb9f3a"
            ],
            [
             0.8888888888888888,
             "#fdca26"
            ],
            [
             1,
             "#f0f921"
            ]
           ]
          },
          "colorway": [
           "#636efa",
           "#EF553B",
           "#00cc96",
           "#ab63fa",
           "#FFA15A",
           "#19d3f3",
           "#FF6692",
           "#B6E880",
           "#FF97FF",
           "#FECB52"
          ],
          "font": {
           "color": "#2a3f5f"
          },
          "geo": {
           "bgcolor": "white",
           "lakecolor": "white",
           "landcolor": "#E5ECF6",
           "showlakes": true,
           "showland": true,
           "subunitcolor": "white"
          },
          "hoverlabel": {
           "align": "left"
          },
          "hovermode": "closest",
          "mapbox": {
           "style": "light"
          },
          "paper_bgcolor": "white",
          "plot_bgcolor": "#E5ECF6",
          "polar": {
           "angularaxis": {
            "gridcolor": "white",
            "linecolor": "white",
            "ticks": ""
           },
           "bgcolor": "#E5ECF6",
           "radialaxis": {
            "gridcolor": "white",
            "linecolor": "white",
            "ticks": ""
           }
          },
          "scene": {
           "xaxis": {
            "backgroundcolor": "#E5ECF6",
            "gridcolor": "white",
            "gridwidth": 2,
            "linecolor": "white",
            "showbackground": true,
            "ticks": "",
            "zerolinecolor": "white"
           },
           "yaxis": {
            "backgroundcolor": "#E5ECF6",
            "gridcolor": "white",
            "gridwidth": 2,
            "linecolor": "white",
            "showbackground": true,
            "ticks": "",
            "zerolinecolor": "white"
           },
           "zaxis": {
            "backgroundcolor": "#E5ECF6",
            "gridcolor": "white",
            "gridwidth": 2,
            "linecolor": "white",
            "showbackground": true,
            "ticks": "",
            "zerolinecolor": "white"
           }
          },
          "shapedefaults": {
           "line": {
            "color": "#2a3f5f"
           }
          },
          "ternary": {
           "aaxis": {
            "gridcolor": "white",
            "linecolor": "white",
            "ticks": ""
           },
           "baxis": {
            "gridcolor": "white",
            "linecolor": "white",
            "ticks": ""
           },
           "bgcolor": "#E5ECF6",
           "caxis": {
            "gridcolor": "white",
            "linecolor": "white",
            "ticks": ""
           }
          },
          "title": {
           "x": 0.05
          },
          "xaxis": {
           "automargin": true,
           "gridcolor": "white",
           "linecolor": "white",
           "ticks": "",
           "title": {
            "standoff": 15
           },
           "zerolinecolor": "white",
           "zerolinewidth": 2
          },
          "yaxis": {
           "automargin": true,
           "gridcolor": "white",
           "linecolor": "white",
           "ticks": "",
           "title": {
            "standoff": 15
           },
           "zerolinecolor": "white",
           "zerolinewidth": 2
          }
         }
        },
        "width": 720,
        "xaxis": {
         "autorange": "reversed",
         "gridcolor": "rgb(210,210,210)",
         "gridwidth": 1,
         "tickmode": "array",
         "tickvals": [
          0.5,
          0.4,
          0.3,
          0.2,
          0.1
         ],
         "title": {
          "text": "sparsity"
         }
        },
        "yaxis": {
         "gridcolor": "rgb(210,210,210)",
         "gridwidth": 1,
         "title": {
          "text": "${\\Delta\\mathcal{F}_{norm}}$"
         }
        }
       }
      },
      "text/html": [
       "<div>                            <div id=\"c5199463-a2c6-4842-a499-85918f52eb56\" class=\"plotly-graph-div\" style=\"height:525px; width:720px;\"></div>            <script type=\"text/javascript\">                require([\"plotly\"], function(Plotly) {                    window.PLOTLYENV=window.PLOTLYENV || {};                                    if (document.getElementById(\"c5199463-a2c6-4842-a499-85918f52eb56\")) {                    Plotly.newPlot(                        \"c5199463-a2c6-4842-a499-85918f52eb56\",                        [{\"line\":{\"color\":\"#4C78A8\",\"width\":4},\"name\":\"cluster 1 circuit : cluster 1 images\",\"x\":[0.4,0.3795,0.3589,0.3384,0.3179,0.2974,0.2768,0.2563,0.2358,0.2153,0.1947,0.1742,0.1537,0.1332,0.1126,0.0921,0.0716,0.0511,0.0305,0.01],\"y\":[0.004771593026816845,0.005734334699809551,0.010502323508262634,0.023852171376347542,0.009600147604942322,0.009287971071898937,0.012064468115568161,0.015547952614724636,0.01940280944108963,0.03609950467944145,0.09047843515872955,0.10004504024982452,0.13343195617198944,0.10360454022884369,0.21803011000156403,0.24655672907829285,0.384522020816803,0.6468316316604614,0.5729910731315613,0.5638672113418579],\"type\":\"scatter\"},{\"line\":{\"color\":\"#4C78A8\",\"dash\":\"dot\",\"width\":4},\"name\":\"cluster 1 circuit : cluster 2 images\",\"x\":[0.4,0.3795,0.3589,0.3384,0.3179,0.2974,0.2768,0.2563,0.2358,0.2153,0.1947,0.1742,0.1537,0.1332,0.1126,0.0921,0.0716,0.0511,0.0305,0.01],\"y\":[0.0936446338891983,0.09941756725311279,0.1141638457775116,0.1469820737838745,0.18598134815692902,0.256040096282959,0.26945042610168457,0.2887329161167145,0.3633226752281189,0.4765247106552124,0.4916127920150757,0.5147767066955566,0.6149221062660217,0.6629519462585449,0.7332837581634521,0.7783751487731934,0.89808189868927,1.0297225713729858,1.1201962232589722,0.834385871887207],\"type\":\"scatter\"},{\"line\":{\"color\":\"#F58518\",\"dash\":\"dot\",\"width\":4},\"name\":\"cluster 2 circuit : cluster 1 images\",\"x\":[0.4,0.3795,0.3589,0.3384,0.3179,0.2974,0.2768,0.2563,0.2358,0.2153,0.1947,0.1742,0.1537,0.1332,0.1126,0.0921,0.0716,0.0511,0.0305,0.01],\"y\":[0.9412062168121338,0.985282838344574,1.0292853116989136,1.0063974857330322,1.1331524848937988,1.1394531726837158,1.042912483215332,1.0445683002471924,1.0318368673324585,0.9999317526817322,0.9157102108001709,1.0437875986099243,0.9995942115783691,0.92406165599823,0.8578024506568909,0.8756628632545471,0.9501866698265076,0.9369562864303589,0.8975498676300049,0.8230127096176147],\"type\":\"scatter\"},{\"line\":{\"color\":\"#F58518\",\"width\":4},\"name\":\"cluster 2 circuit : cluster 2 images\",\"x\":[0.4,0.3795,0.3589,0.3384,0.3179,0.2974,0.2768,0.2563,0.2358,0.2153,0.1947,0.1742,0.1537,0.1332,0.1126,0.0921,0.0716,0.0511,0.0305,0.01],\"y\":[0.03655974939465523,0.04792943224310875,0.04736889898777008,0.04559183865785599,0.017983224242925644,0.024638812988996506,0.043154276907444,0.033622127026319504,0.054292283952236176,0.06397254765033722,0.05262841656804085,0.07609536498785019,0.07626093178987503,0.07443428039550781,0.08660687506198883,0.27291229367256165,0.38347360491752625,0.556460976600647,0.6504455208778381,0.5274485945701599],\"type\":\"scatter\"}],                        {\"template\":{\"data\":{\"histogram2dcontour\":[{\"type\":\"histogram2dcontour\",\"colorbar\":{\"outlinewidth\":0,\"ticks\":\"\"},\"colorscale\":[[0.0,\"#0d0887\"],[0.1111111111111111,\"#46039f\"],[0.2222222222222222,\"#7201a8\"],[0.3333333333333333,\"#9c179e\"],[0.4444444444444444,\"#bd3786\"],[0.5555555555555556,\"#d8576b\"],[0.6666666666666666,\"#ed7953\"],[0.7777777777777778,\"#fb9f3a\"],[0.8888888888888888,\"#fdca26\"],[1.0,\"#f0f921\"]]}],\"choropleth\":[{\"type\":\"choropleth\",\"colorbar\":{\"outlinewidth\":0,\"ticks\":\"\"}}],\"histogram2d\":[{\"type\":\"histogram2d\",\"colorbar\":{\"outlinewidth\":0,\"ticks\":\"\"},\"colorscale\":[[0.0,\"#0d0887\"],[0.1111111111111111,\"#46039f\"],[0.2222222222222222,\"#7201a8\"],[0.3333333333333333,\"#9c179e\"],[0.4444444444444444,\"#bd3786\"],[0.5555555555555556,\"#d8576b\"],[0.6666666666666666,\"#ed7953\"],[0.7777777777777778,\"#fb9f3a\"],[0.8888888888888888,\"#fdca26\"],[1.0,\"#f0f921\"]]}],\"heatmap\":[{\"type\":\"heatmap\",\"colorbar\":{\"outlinewidth\":0,\"ticks\":\"\"},\"colorscale\":[[0.0,\"#0d0887\"],[0.1111111111111111,\"#46039f\"],[0.2222222222222222,\"#7201a8\"],[0.3333333333333333,\"#9c179e\"],[0.4444444444444444,\"#bd3786\"],[0.5555555555555556,\"#d8576b\"],[0.6666666666666666,\"#ed7953\"],[0.7777777777777778,\"#fb9f3a\"],[0.8888888888888888,\"#fdca26\"],[1.0,\"#f0f921\"]]}],\"heatmapgl\":[{\"type\":\"heatmapgl\",\"colorbar\":{\"outlinewidth\":0,\"ticks\":\"\"},\"colorscale\":[[0.0,\"#0d0887\"],[0.1111111111111111,\"#46039f\"],[0.2222222222222222,\"#7201a8\"],[0.3333333333333333,\"#9c179e\"],[0.4444444444444444,\"#bd3786\"],[0.5555555555555556,\"#d8576b\"],[0.6666666666666666,\"#ed7953\"],[0.7777777777777778,\"#fb9f3a\"],[0.8888888888888888,\"#fdca26\"],[1.0,\"#f0f921\"]]}],\"contourcarpet\":[{\"type\":\"contourcarpet\",\"colorbar\":{\"outlinewidth\":0,\"ticks\":\"\"}}],\"contour\":[{\"type\":\"contour\",\"colorbar\":{\"outlinewidth\":0,\"ticks\":\"\"},\"colorscale\":[[0.0,\"#0d0887\"],[0.1111111111111111,\"#46039f\"],[0.2222222222222222,\"#7201a8\"],[0.3333333333333333,\"#9c179e\"],[0.4444444444444444,\"#bd3786\"],[0.5555555555555556,\"#d8576b\"],[0.6666666666666666,\"#ed7953\"],[0.7777777777777778,\"#fb9f3a\"],[0.8888888888888888,\"#fdca26\"],[1.0,\"#f0f921\"]]}],\"surface\":[{\"type\":\"surface\",\"colorbar\":{\"outlinewidth\":0,\"ticks\":\"\"},\"colorscale\":[[0.0,\"#0d0887\"],[0.1111111111111111,\"#46039f\"],[0.2222222222222222,\"#7201a8\"],[0.3333333333333333,\"#9c179e\"],[0.4444444444444444,\"#bd3786\"],[0.5555555555555556,\"#d8576b\"],[0.6666666666666666,\"#ed7953\"],[0.7777777777777778,\"#fb9f3a\"],[0.8888888888888888,\"#fdca26\"],[1.0,\"#f0f921\"]]}],\"mesh3d\":[{\"type\":\"mesh3d\",\"colorbar\":{\"outlinewidth\":0,\"ticks\":\"\"}}],\"scatter\":[{\"fillpattern\":{\"fillmode\":\"overlay\",\"size\":10,\"solidity\":0.2},\"type\":\"scatter\"}],\"parcoords\":[{\"type\":\"parcoords\",\"line\":{\"colorbar\":{\"outlinewidth\":0,\"ticks\":\"\"}}}],\"scatterpolargl\":[{\"type\":\"scatterpolargl\",\"marker\":{\"colorbar\":{\"outlinewidth\":0,\"ticks\":\"\"}}}],\"bar\":[{\"error_x\":{\"color\":\"#2a3f5f\"},\"error_y\":{\"color\":\"#2a3f5f\"},\"marker\":{\"line\":{\"color\":\"#E5ECF6\",\"width\":0.5},\"pattern\":{\"fillmode\":\"overlay\",\"size\":10,\"solidity\":0.2}},\"type\":\"bar\"}],\"scattergeo\":[{\"type\":\"scattergeo\",\"marker\":{\"colorbar\":{\"outlinewidth\":0,\"ticks\":\"\"}}}],\"scatterpolar\":[{\"type\":\"scatterpolar\",\"marker\":{\"colorbar\":{\"outlinewidth\":0,\"ticks\":\"\"}}}],\"histogram\":[{\"marker\":{\"pattern\":{\"fillmode\":\"overlay\",\"size\":10,\"solidity\":0.2}},\"type\":\"histogram\"}],\"scattergl\":[{\"type\":\"scattergl\",\"marker\":{\"colorbar\":{\"outlinewidth\":0,\"ticks\":\"\"}}}],\"scatter3d\":[{\"type\":\"scatter3d\",\"line\":{\"colorbar\":{\"outlinewidth\":0,\"ticks\":\"\"}},\"marker\":{\"colorbar\":{\"outlinewidth\":0,\"ticks\":\"\"}}}],\"scattermapbox\":[{\"type\":\"scattermapbox\",\"marker\":{\"colorbar\":{\"outlinewidth\":0,\"ticks\":\"\"}}}],\"scatterternary\":[{\"type\":\"scatterternary\",\"marker\":{\"colorbar\":{\"outlinewidth\":0,\"ticks\":\"\"}}}],\"scattercarpet\":[{\"type\":\"scattercarpet\",\"marker\":{\"colorbar\":{\"outlinewidth\":0,\"ticks\":\"\"}}}],\"carpet\":[{\"aaxis\":{\"endlinecolor\":\"#2a3f5f\",\"gridcolor\":\"white\",\"linecolor\":\"white\",\"minorgridcolor\":\"white\",\"startlinecolor\":\"#2a3f5f\"},\"baxis\":{\"endlinecolor\":\"#2a3f5f\",\"gridcolor\":\"white\",\"linecolor\":\"white\",\"minorgridcolor\":\"white\",\"startlinecolor\":\"#2a3f5f\"},\"type\":\"carpet\"}],\"table\":[{\"cells\":{\"fill\":{\"color\":\"#EBF0F8\"},\"line\":{\"color\":\"white\"}},\"header\":{\"fill\":{\"color\":\"#C8D4E3\"},\"line\":{\"color\":\"white\"}},\"type\":\"table\"}],\"barpolar\":[{\"marker\":{\"line\":{\"color\":\"#E5ECF6\",\"width\":0.5},\"pattern\":{\"fillmode\":\"overlay\",\"size\":10,\"solidity\":0.2}},\"type\":\"barpolar\"}],\"pie\":[{\"automargin\":true,\"type\":\"pie\"}]},\"layout\":{\"autotypenumbers\":\"strict\",\"colorway\":[\"#636efa\",\"#EF553B\",\"#00cc96\",\"#ab63fa\",\"#FFA15A\",\"#19d3f3\",\"#FF6692\",\"#B6E880\",\"#FF97FF\",\"#FECB52\"],\"font\":{\"color\":\"#2a3f5f\"},\"hovermode\":\"closest\",\"hoverlabel\":{\"align\":\"left\"},\"paper_bgcolor\":\"white\",\"plot_bgcolor\":\"#E5ECF6\",\"polar\":{\"bgcolor\":\"#E5ECF6\",\"angularaxis\":{\"gridcolor\":\"white\",\"linecolor\":\"white\",\"ticks\":\"\"},\"radialaxis\":{\"gridcolor\":\"white\",\"linecolor\":\"white\",\"ticks\":\"\"}},\"ternary\":{\"bgcolor\":\"#E5ECF6\",\"aaxis\":{\"gridcolor\":\"white\",\"linecolor\":\"white\",\"ticks\":\"\"},\"baxis\":{\"gridcolor\":\"white\",\"linecolor\":\"white\",\"ticks\":\"\"},\"caxis\":{\"gridcolor\":\"white\",\"linecolor\":\"white\",\"ticks\":\"\"}},\"coloraxis\":{\"colorbar\":{\"outlinewidth\":0,\"ticks\":\"\"}},\"colorscale\":{\"sequential\":[[0.0,\"#0d0887\"],[0.1111111111111111,\"#46039f\"],[0.2222222222222222,\"#7201a8\"],[0.3333333333333333,\"#9c179e\"],[0.4444444444444444,\"#bd3786\"],[0.5555555555555556,\"#d8576b\"],[0.6666666666666666,\"#ed7953\"],[0.7777777777777778,\"#fb9f3a\"],[0.8888888888888888,\"#fdca26\"],[1.0,\"#f0f921\"]],\"sequentialminus\":[[0.0,\"#0d0887\"],[0.1111111111111111,\"#46039f\"],[0.2222222222222222,\"#7201a8\"],[0.3333333333333333,\"#9c179e\"],[0.4444444444444444,\"#bd3786\"],[0.5555555555555556,\"#d8576b\"],[0.6666666666666666,\"#ed7953\"],[0.7777777777777778,\"#fb9f3a\"],[0.8888888888888888,\"#fdca26\"],[1.0,\"#f0f921\"]],\"diverging\":[[0,\"#8e0152\"],[0.1,\"#c51b7d\"],[0.2,\"#de77ae\"],[0.3,\"#f1b6da\"],[0.4,\"#fde0ef\"],[0.5,\"#f7f7f7\"],[0.6,\"#e6f5d0\"],[0.7,\"#b8e186\"],[0.8,\"#7fbc41\"],[0.9,\"#4d9221\"],[1,\"#276419\"]]},\"xaxis\":{\"gridcolor\":\"white\",\"linecolor\":\"white\",\"ticks\":\"\",\"title\":{\"standoff\":15},\"zerolinecolor\":\"white\",\"automargin\":true,\"zerolinewidth\":2},\"yaxis\":{\"gridcolor\":\"white\",\"linecolor\":\"white\",\"ticks\":\"\",\"title\":{\"standoff\":15},\"zerolinecolor\":\"white\",\"automargin\":true,\"zerolinewidth\":2},\"scene\":{\"xaxis\":{\"backgroundcolor\":\"#E5ECF6\",\"gridcolor\":\"white\",\"linecolor\":\"white\",\"showbackground\":true,\"ticks\":\"\",\"zerolinecolor\":\"white\",\"gridwidth\":2},\"yaxis\":{\"backgroundcolor\":\"#E5ECF6\",\"gridcolor\":\"white\",\"linecolor\":\"white\",\"showbackground\":true,\"ticks\":\"\",\"zerolinecolor\":\"white\",\"gridwidth\":2},\"zaxis\":{\"backgroundcolor\":\"#E5ECF6\",\"gridcolor\":\"white\",\"linecolor\":\"white\",\"showbackground\":true,\"ticks\":\"\",\"zerolinecolor\":\"white\",\"gridwidth\":2}},\"shapedefaults\":{\"line\":{\"color\":\"#2a3f5f\"}},\"annotationdefaults\":{\"arrowcolor\":\"#2a3f5f\",\"arrowhead\":0,\"arrowwidth\":1},\"geo\":{\"bgcolor\":\"white\",\"landcolor\":\"#E5ECF6\",\"subunitcolor\":\"white\",\"showland\":true,\"showlakes\":true,\"lakecolor\":\"white\"},\"title\":{\"x\":0.05},\"mapbox\":{\"style\":\"light\"}}},\"legend\":{\"yanchor\":\"top\",\"y\":0.95,\"xanchor\":\"left\",\"x\":0.03,\"bgcolor\":\"rgba(255,255,255,0.3)\"},\"width\":720,\"plot_bgcolor\":\"rgba(255,255,255,1)\",\"paper_bgcolor\":\"rgba(255,255,255,1)\",\"xaxis\":{\"title\":{\"text\":\"sparsity\"},\"autorange\":\"reversed\",\"gridcolor\":\"rgb(210,210,210)\",\"gridwidth\":1,\"tickmode\":\"array\",\"tickvals\":[0.5,0.4,0.3,0.2,0.1]},\"yaxis\":{\"title\":{\"text\":\"${\\\\Delta\\\\mathcal{F}_{norm}}$\"},\"gridcolor\":\"rgb(210,210,210)\",\"gridwidth\":1}},                        {\"responsive\": true}                    ).then(function(){\n",
       "                            \n",
       "var gd = document.getElementById('c5199463-a2c6-4842-a499-85918f52eb56');\n",
       "var x = new MutationObserver(function (mutations, observer) {{\n",
       "        var display = window.getComputedStyle(gd).display;\n",
       "        if (!display || display === 'none') {{\n",
       "            console.log([gd, 'removed!']);\n",
       "            Plotly.purge(gd);\n",
       "            observer.disconnect();\n",
       "        }}\n",
       "}});\n",
       "\n",
       "// Listen for the removal of the full notebook cells\n",
       "var notebookContainer = gd.closest('#notebook-container');\n",
       "if (notebookContainer) {{\n",
       "    x.observe(notebookContainer, {childList: true});\n",
       "}}\n",
       "\n",
       "// Listen for the clearing of the current output cell\n",
       "var outputEl = gd.closest('.output');\n",
       "if (outputEl) {{\n",
       "    x.observe(outputEl, {childList: true});\n",
       "}}\n",
       "\n",
       "                        })                };                });            </script>        </div>"
      ]
     },
     "metadata": {},
     "output_type": "display_data"
    }
   ],
   "source": [
    "import plotly.graph_objects as go\n",
    "import plotly.express as px\n",
    "\n",
    "\n",
    "color_dict = {\n",
    "               clusters[0]+'_circuit':px.colors.qualitative.T10[0],\n",
    "               clusters[1]+'_circuit':px.colors.qualitative.T10[1],\n",
    "             }\n",
    "\n",
    "fig = go.Figure()\n",
    "\n",
    "for circuit in sparsity_activations:\n",
    "    for data in sparsity_activations[circuit]:\n",
    "        # Create and style traces\n",
    "        if data.replace('_data','') == circuit.replace('_circuit',''):\n",
    "            linetype = None\n",
    "        else:\n",
    "            linetype = 'dot'\n",
    "            \n",
    "        name = (circuit+' : '+data).replace('_',' ').replace('1','2').replace('0','1').replace('data','images')\n",
    "        #get diff metric\n",
    "        y = []\n",
    "        for i in range(len(sparsity_activations[circuit][data])):\n",
    "            circuit_acts = torch.tensor(sparsity_activations[circuit][data][i])\n",
    "            orig_acts = original_activations[data.replace('_data','')]\n",
    "            y.append(torch.mean(torch.abs(circuit_acts - orig_acts))/torch.mean(torch.abs(orig_acts)))\n",
    "\n",
    "        x = sparsities\n",
    "        fig.add_trace(go.Scatter(x=x, y=y, name=name,\n",
    "                         line=dict(color=color_dict[circuit], width=4,dash=linetype)))\n",
    "\n",
    "# Edit the layout\n",
    "fig.update_layout( width = 720,\n",
    "                   plot_bgcolor = 'rgba(255,255,255,1)',\n",
    "                   paper_bgcolor = 'rgba(255,255,255,1)',\n",
    "                   xaxis_title='sparsity',\n",
    "                   yaxis_title=r'${\\Delta\\mathcal{F}_{norm}}$',\n",
    "                  legend=dict(\n",
    "                                yanchor=\"top\",\n",
    "                                y=0.95,\n",
    "                                xanchor=\"left\",\n",
    "                                x=0.03,\n",
    "                                bgcolor='rgba(255,255,255,0.3)'\n",
    "                              )\n",
    "                 )\n",
    "\n",
    "fig.update_xaxes(autorange=\"reversed\",gridcolor='rgb(210,210,210)',gridwidth=1)\n",
    "fig.update_yaxes(gridcolor='rgb(210,210,210)',gridwidth=1)\n",
    "\n",
    "fig.update_layout(\n",
    "    xaxis = dict(\n",
    "        tickmode = 'array',\n",
    "        tickvals = [.5, .4, .3, .2, .1]\n",
    "    )\n",
    ")\n",
    "\n",
    "\n",
    "fig.show()"
   ]
  },
  {
   "cell_type": "markdown",
   "metadata": {},
   "source": [
    "#### extract circuit at particular sparsity"
   ]
  },
  {
   "cell_type": "code",
   "execution_count": 39,
   "metadata": {},
   "outputs": [],
   "source": [
    "from circuit_explorer.mask import mask_from_scores, apply_mask\n",
    "\n",
    "# extraction at last good sparsity\n",
    "\n",
    "target_sparsities = {'cluster_0':0.12,\n",
    "                     'cluster_1':0.11\n",
    "                    }\n",
    "\n",
    "\n",
    "masks = {}\n",
    "\n",
    "for cluster in clusters:\n",
    "    masks[cluster] = mask_from_scores(scores[cluster],sparsity = target_sparsities[cluster], model=model,unit=unit,target_layer=layer)\n"
   ]
  },
  {
   "cell_type": "markdown",
   "metadata": {},
   "source": [
    "##### feature visualization"
   ]
  },
  {
   "cell_type": "code",
   "execution_count": 40,
   "metadata": {},
   "outputs": [
    {
     "name": "stdout",
     "output_type": "stream",
     "text": [
      "original\n"
     ]
    },
    {
     "name": "stderr",
     "output_type": "stream",
     "text": [
      "100%|████████████████████████████████████████████████████████████████████████████████████████████████████████████████████████████████| 512/512 [00:06<00:00, 79.51it/s]\n"
     ]
    },
    {
     "data": {
      "text/html": [
       "<div style=\"display: flex; flex-direction: row;\"><div style=\"margin-right:10px; margin-top: 4px;\">\n",
       "                            0 <br/>\n",
       "                            <img src=\"data:image/PNG;base64,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\" style=\"image-rendering: pixelated;\">\n",
       "                        </div></div>"
      ],
      "text/plain": [
       "<IPython.core.display.HTML object>"
      ]
     },
     "metadata": {},
     "output_type": "display_data"
    },
    {
     "name": "stdout",
     "output_type": "stream",
     "text": [
      "final loss: -88.479\n",
      "cluster_0\n"
     ]
    },
    {
     "name": "stderr",
     "output_type": "stream",
     "text": [
      "100%|████████████████████████████████████████████████████████████████████████████████████████████████████████████████████████████████| 512/512 [00:06<00:00, 79.85it/s]\n"
     ]
    },
    {
     "data": {
      "text/html": [
       "<div style=\"display: flex; flex-direction: row;\"><div style=\"margin-right:10px; margin-top: 4px;\">\n",
       "                            0 <br/>\n",
       "                            <img src=\"data:image/PNG;base64,iVBORw0KGgoAAAANSUhEUgAAAOAAAADgCAIAAACVT/22AAEAAElEQVR4nGz9d6AtyVUeiq+1qqq7dzz53HNzmjtZM6MZ5YiEEFhkYwE2WGDDD2ww4IBtbMIzxsZ+xvAwTg9sY55IwhiwACMjASIo55EmpxvmpnPPPXGHTlVr/f6oqu4+Axdx556ze/fuXfXVt74VahX+8I/8KCAIiwAAACIgoIBA+AUAAgJC+wfjX/H/QQAA0b8VEPxbhYgAEIQBEJt3IqL/SQQQRQRAQABEEFHCzUREQESYRSRcw/55JLwKAoIC8clEkAgQ/TsAkMh/DPoPJEBEUIT+qYSBnUNSRAQASAqEHQsCEBESEiEAMjMAAJAIAKIidNaxc0TIzokwIooIEgCAtQ4RAAgRkdA5FgGlCMJgShwAgjDISEhISkSEGRGJCFBA0H8JQUQi51icA0KtSNixc8JMhP4ZnHWISEoJgHUOAEUEEElR+4QgYWpFABEAAcP/BIBZgAgR0P/SP62In1E//Bif3l+GICLg/8/fpPkTf9n8GOYA2vdEnMWXmk8JYMNmSgUAdXsbkAjEzvdpIYh+xA6BViCOdfuA0OCivZd0cS7tbVvINcgEgPDAcYWEN2HEY/NhFD/YzyYIABACh/s0T8AIFD8cJQAdiRS0GBaIfylFHmMg8asQiQACogiIECIhcni2sB6YRViQEAgEQBicY498BBARP7tEGJ63HUHG7lQBCjP75ycQYRAWEOXnEQQ4PIBC9LchIkQQFgREJKEOOJCQUJwTEIzT79cweowDArCIIFJDEPFpkRCcvxiRAh0JNBPTMtjhnzDCtGGuOKMYxjo+oTSIwkBWHVD4/+ou/F9KlYjd65sXG+YMeBfACNUu8/o3tqBv3+bXkucd/5QAAsIcxgDj3Ptl4m8iAhjwhwCI5BdMWOIYqAEAFBKLEEbyFERE8u9qGD2+LGEMW0j6l+KD+J/9c7KnFoyrHMOXaGgBWADCtwERDCwjQt3rWzYVZlEIceEzu7BaO0AQECZERYjejIgQISGACAH6tSSB9QTJv7H5XAqvQiTHuKIiWx6CRiSlSDAYbVQgTohLB+KHSoOTYEwgzllLJOHZQADilEMYEP/REWbxCf1U+D86AuYlyH3JH2wtRfwmAULRanSQLYFZOvYcxC/3aC0CMMNoRRKN1qFZxORfgggLQA9rBJB2ZBGBkIAw/BJBSWtrAQUBgYWC1ScAJCKJqwAR0asRYkIKg+OhRqpZA8AiwNB+KYmYDygHRBFCIIZWIjEzioBq6dyPgWcyEGEGQgqzyCKA5L8nooiwZy9CwjBCpJCICEGYmy8uDP5xEREcMzNSUBpeDrVMExe0hDUHEgnGW8nGJDYG2S9f8AMQ0RDx1BjmFhbd/3YA1ciEDkaDdQ6M1KwOicYUA0CDkW4x1uXR8DMCSqNmXvpi94fmYyHYRfTyAFgk3CSSjh8DDiAL08rdZdAsbmmwHv7y6zUuHD8fXjIqIvYTRp4JCUQCZTbyCwAAw/MheZpEIKIwc/F7IIg3s0wQpC00y8p/E/8FRQTIY08kqm3w344RNYavC14JRBkezUm0BkjoLYt4PAiQ8vQZTA15dc3MLIesrgAp8uaVmRWRl9dRKGJnPaNHBHMzQQBR8wUDwuwtMiE1Mr81geFHD3QMJi7yix84aWB1GKd/wZ8oZTsYjP9E0FFxQvCNIFht6Sy7zj8aRwhaqXoIn/HvBnF/jl3D6vH80AoyaARQuENDGhGd7RBTMKwenBC1XVBOROgFcyQ7JIJWrpEXGBiUApIiRPICQzynCooAeQ5jYWZglqACuLU3cVLiBEcWEAAARSTi/HUNaYXBwxb9AMDCROEaxO50iidLjDCmwPDCXmwoEoHgFzaLVVoHwK8l/8WD2YnDJCIsgCpK2LjYwlsJGj8JgrwB6ki+aCDDF29mGdsPBUDB9tV4qZfO7dcMtNo19R0woY4ww1b9QQf8DZKbB8JoD/xl8dVWeXXNepzAdlIb8mnVdpCk0t4XOuZeosWLjxO1Y9AA/tMhYNMzh4gIAwQr75/ajwsF8QreIwruq0Rd6FWRsPh3SdCSQWtGxy3IRomAjqNMzYARAiKx5yFCaVZufPIwbYTBarB/liAumm8K6AUZe2F22DrFq6OY6gxb9JpBJCzvqPaCNcXwU1j6IJ35xaAWpVl9jSeMcQIDB4X4T/A0wpD5hSwNiIKFjLMNjbqFZjibvyN9xfeJjnDoXCBRIIu0YIu2NcDYP0dckF3m7FwbEN+Z1gDLZoZarggaVOLgeUnUqOlD6AyyQdhbIB9M8Xj1QSIUFITGaHj3Ng60R2GD+Ua2IBKBCLAAC6AAkcQ58ndv3Dg4NOThQwilFacICEBEHIMGYfFxoGDvY4RVIACEjUvbsYaCgMIcsIoo3FGRf8HMRDARNjSM2IQffPhJRcIFwuCcR8Jrpy8AWPxTHYZ/XKDNrPiXPCqjFUE4PDqe84Rbv+sQ8F7CnZ1X20Xfjnw7Os3gN7apGb74r0ZRBu0P0uHLaANb6hE/VNHPBGi9oxjO8OEVr+APPTmGSCHGBYxEpBThoT+e1pG8rff/psikYekFGDef3kpr9kGeCFNmYI7MFh49cAliUAshgAJEGFWFICCp4I1FoRa8aRZgFo5DAohRQ0YQSxxNiM55HCNP2xxWQCupMX4XEfA+VBjPxkqAgAD514Ixjj8gAAt6AU5dXdawJITARpyyAOPG9kKXbSMkwhfp2L4GmY1G7KzFBk5dQYjRSYomuYtPiM5cIFRobw/SAU5HQ8rhp4n/aFgyhjbEY7AxqyIS5TQioXBjLACj2+JJCJEomI/wiEhIQo0Rp7jehSH+0ts4Jcz+DdHUelPehg3ZOmAGx1FtsjhubBfEaBAGN18IvVIgACQkL6rFxxQJiVCEGkHjJX7DyGGi4zxyo1IQWRgYIh+FyJQEP+TQIMfpiYMIiEiKQEDYuXg/BAR0ftH4XxAgExFScIB83MDrYA4Oop/UoNZ9xKXBrh/6xk9BbAEbGQrEh1q9tIiGASNeu8g8DCSADuYhALSL2L/g58b4vOQl6TpS7QvYWI3wfw0UvYFtJAwANC4iRpHcmIPI2yAdkdl8xSiq/JrzI0+NlwoSKUY8PWC4sCtkWESEKN7KuxvONZPvHZFowSRYTkIkZMcogZwFgJAQiYXFsR97IiKlWIBd5ErPo8wSVxsSujCZkcElPBj4dc2CFGROsOuHbFlYwBKZDJsRFhFgCLajgxok/wOFKH38Q9gdEzzkMYcX2nmPfqD4J46KMw4bNETbrCNpjPFhH7DFmxz6qftHw5+DXpeKI+6h4eWwZMOAevkU9Jj8uQ/15IeHnyn6sRAMFBAHbSeRCICQYvypEUX+B4LGvrWM6IP3fiQIY8gyBMUBwLs+Ip6fBDzJeHLjoKmZUQRDKAeEwf8bCRvLgoQCQETiomscv7FfT4QoFCxFox0EkIVJ/D/C9UjIAhD5TyBEuUm8RxVCel2nDCQmDfz0R+g1NtlLEa8xOJrvIF7J627PyETxnSBCigCAxS8twRgzwhZvAq07gtK4uUH5cHAqmmhDG12KnnbH1gdWkdZ1axH1EkAjgmfQv5g3IdyzdcChIZTuO9pfRaEZV3mwCX4OOqiUNqvkH5rIW00fVxbweXwkdv6LUWvAQ+QZCAlVGCaQxrDHL9oNEnQEkgR7ygDAMcEjwsBMIYLvNYifJwAKOVKGIAZ8eQECKK0oelHekgggKApfQESifwSIwuKcAwyx7iAW4wC0NBpS/1HjRXseZhBbzHh/TqJ1RQwSmNmXQIhSqpVJiEopjHF2wjCM3KR9MQjhjmOBwCyBhAINhVmUNqok8Zt4VAaa7lhRaUHRzXBGmgpSLjhth5g1rnrdEZN/EcnGAIOAYEznNpY/PnJ7pX+h809ohwAOv70d8oBpaJSERIcGOSyKwAOdKUWMmhZ9Et1TGMRv7V/wIOEwBuQNN7eIEGBACcaUvDRlX6QS7KOgiLjgugECCopPMCEgiXWRDHwdAAv7jxB2DEiC0WgL+3IWP40sjIikAtkKADsGEKIQT/JT34ye/4JRNwMhxghXJHKKCyoyU4AzgY+sCTQlKUH9SEtWEv1vAAhcK8GmYYNDaDJ/jZCQVq9JIFNAOgTQZsZbJRCxEVEI0AUnNpegNGGml2DUPw2FK6OuaMHYaOJ46xiniNUbYRFgi872FsFLD5wrTRAjBKtj1geCSSUv1yTEjYJLgETion8rEDmWG4UWRtAxUEPuAojs/Z5oPr2VaoPhkUI85prxRfJpQ2hIiBSKkCD7J+8Oul8YGLMFwRFnUWHmxM8lqkgUIswszEjITQSSRRiAJGRxEUGQnf848qwsAkopwOh4+fon5XNeIs24RIngDQ0hSlzj1Mx3VO2NrQ8T5x2A6BdG2d9gNn7nGJRp0NXAFxovVDrUeuhXh7z5+EJgIN2K1pZju3zcUYENvFsTDcEiBkBHnRoq4bDzpmiaI7f7qWz9p2i7Iuv7qjSfhA7jwBJmCiNTxjGIUgsQfbjE443baIMfcxF27CikuwGYWYRABDEo5WAxsa3ugW7ANibuA98IISApDKlHv0rbUI1gLGMMhh1EmBCJMDyaCDM45mCnBQCQuYUCQKilYg72N7jhQALOv+pNlgQ2xWbyKMSbgotDiBK/t8S4EjNDzFhAO1TN9MaFDc0Pjb5uxh4jwqHzY6COaO7g0M0ROkPavAkOXSTBrmoMM9ASa5d1PWdh5PZgOeKnhBtzx9a3ll0oohpe4ul5QxkGEZvv6ccx5vsQPJxbvApxIODASfHW0FwPofDC34JRAENo2CtxYQZhHwIlQmYAjjEtv9oxOMKxmtT7vpHsg4j2jOiXOITB8cSDgCDMjNDOi3ibECrmUDiQor+tc9yRYOgcQ4xfotctIuwDGSG0S161ND47gIcvEgEqAkARJg9PgrBwUHxWXQCY+ZBjEcg0aMhooAJDB1/+kAkO49j8KE3+hSji+LAtl3DfaMeiNwKHHwQAIGYfI2SpURGdO8b57gRfsXkt8lkwrvELRCvQXtmqgIjS5t7SrjiIkkvkkAlv7xYvgSa63tEGFL52o7SjzWwMvWcg6XB1+B8CebrtrF+JdkjAq9JWQUGjRoQDd4L4PDYKI4BPGQR7HYwvNt6wVqSiM+iDPEoReDLz0+yVcktpPuIr7MTHqgJfotfMADGIFMackJTypSQU4lyhLs9Dwj8edFijmcwowSSAB9txbFQwBE0Ubbs0OGleimPY8m7LdPE/rX8EzY0RO9MCjeTzd9LNs/mrG+stQWjHe3WUQCwcltYdi3PciuIOf3dwH50Zf3P/oSEf3doLaJ6vCWhH6yUAzA2rxavjf5AkDiVHXCMhMbLHoQNsCteCfvCf5LzJCyQViAQAEBQgiwgLEYk4gvAZPgzmDYVjDmvMOYnuO6KvhHPCoGOVvs9akpfUnhsQSBGzhICXinG0wJxhONuFJCAChKCUCmEuAcKAv2ArAnKb9YYttzWhATxUgd4QTVxQ4dkOEVwY8kZ9NK5ShHkTUQYQCRU8wQjC4fu0sG0fobHjTWQYQkV999XOe5tFFJElf+7Clo4x5mzC12qNe/Nt4ufGqEl4twggkue5ZqQicjybNdo/UDUFQpVuWCb4AugzRo11xuDzEhIQM4BPzATeCpEtCksTQzRRMIbH/e8JAYSVMuGBiXyZU5xR/w7GSO1Kh/yiRyaSr6bzOSoiRI5DgHFmQYBUiF0Gl5tBKwzsSEToM/sxgUkIgMKOsAUHx3Qx+IhCKJ5HVMiOfXoJ/BuDXguYDuNIGLbWBBcBO3TYZb7AtH+RioyWrMM1wbphy9Vh3A5jCZup7MA5ulgYaUw6+AgrMrwPox6EuIEhukCdrxfsQ7Ql8Tpsvlz8CKIWvAHiwT41VV0t1XtMdvw9jNKnoWeIIpm7xB9yTAjkVR8h+Z1JCChCIIRACApRBd0H0QBEpwREESgQCoMliIgs8Ys0GUSvC0EpIkLlvymzJkwSpRUhCLBoIqNREaIwMAMweR/dV9YRKs/fIiCiCBUR+aoObxY4ePFN3SAEd6LNq4VVzsDOLyEM8kt8uMv7WBj9UGze1cxRqwsxaGo5VKTWgCkqqzjJXd+oofMG3Y1l7Tojf9GfVnFACDO9lMrDRX9OwAZ8QWOtRZrilNYngIYgD98vfkpkLwAMJfN+PWE70IELG+hLszCjxWict2C/RCD4WP4hG2Q37wAEUIigvNQl8i5REyAL4k0w8qufZwSfqhKRoDW9PxSMaQj6oXjlAYACRiEHjInSihSyQ1/yTJqUosYlV+R1CQARCCulQNj7QwSoFBEBOxFgEuQmqduUIHWNUBTyfgBCliCacuBgpwKlsQB6NxFbOQQg0S077JgcsphxaqDBn5/KbuAh8EZcP4eBEMH3EiUIEVYtgkUAdTeUCtDadcCof6QBZUBQXHRxTeFLwdj83FL4IaURPhvBVyUDQOPWdxaXiARzFHcMBROPANgYu8YyhAKhwD1hGXhPID5m1HyIgfYAhZ1/PIqZGBDx7kkjUIPjLAzCwBDSAdysBgGf4yIR/2sRpZAtC4j3TDimpnTYQuR8bKtRpSHuA15uoPJWOhpgP2v+MYIFD4mfUCYq0H59ARFHEidIQEIyMoA1hECbbxfQ3alF7WrBgMBWp3EjtEI9CUCXLDsQ9CTSPAZEGQbh3o230yKnqSvFyGOgo+ffRVnAUFhV7ddAxFDoHqc/YtvDHqO8C3XfzTdFaIahQ5NhFWGbK4xqu/l3swyCq44NW2P8PXh8NN/Tm5i4Ta1dWp6WBUWIyCerCZAFm1ArQoydd4ogPWGxr5D3u31UGB0K1cd+Ifl6JvEZQkVUI6MKtVeEEpwSAARBEKUIYoYQAJWv4RIGEULUyu8jDaNORArJicRlHFQyhA1UCKFuGGIQojFMAf2AEHeASMglxaQuxMGUaKH9qo+1MlHDSWM5obnwz9vojpjD6OK2XNeCvwn7vvRPfEf0xrT/aIqcLIff5ae5a+spVJJ35F/UJhKz/t2lJJ0Hau8I0aCHwW4vCClIYRFR1HxGIzGFYrmoH+cmGB99JgSIAdQwnN5jD1ehMMXsdiBSACRkJ+2IeQUTCuqi2vbcGeKdUWMxh5145N0OJ96nJnTBHY9TTuh8JZO34L58Q4IrLYSKQq0JRrqQmDKgUHMV3UwJfAGIvrbai46o/r3VbqysVxEtvBo+bH18JMCwZTS+ijFxGeeR2+2sAuLrczrGP74xcmC8ySFOfolBbaRgE/tsYzmRh3V41EBb7S2aN4W7iDTfyLNeM5eHlxHCS8qXoPOtGqTG54cYM442JQ5cMB8Y/k0RvJ6hpJUpfnn5hySF7NiPt+c4v79MCGPWgFEUgN8PieCLd6Jh8DF8v8cnPraABFvWhML8o4tELzjECsKPFOqjvXPPCMoX/Ie0TRwQREGiUJ6BAEKgAMFfCwjIYdMw+deZJT5p9DN8kwcJgtI/RpCh0oFImL9gDTyIo3MTVRb6mFkUlH6bPzQCKiT9AXzOOSrReHMBwNa2Hf4TpO0hHdsipYVMNHHtywHxOi7yyGNR0gV/MGqIgIb4d1SHYQyC6o0/+tXRKGjpOCtR0IYXOuaDGoUPjYGKQPGyIS7GaM5cSAIFlAgggdYq0EAIDyEg+WlXhAAEwMAoyB5DEhVFZN7AIex8bUc09HFEY6wVEUnEiYgiapYJt8FzJK/XQIQFFYEv0IxwIRJAAgQlsaRXEQow+EB9TIkRol+TSI1ECg8tKMLOOaVUAK9fTV2JhcELjMQUSpo8l8eqEW/8WCDEYUJVKIQCFA5EFaoNIzRjWEXiQmisZeTtFvGH8AMdtGIHQtCgpku42k9l1IQQRRs2ovCwVHhp6bKXAJ2PDpSHQbw3UqpZtyG47yMX0aCHQQqAFQABFvY7jjjsWGMQZAklF81+NL9NnJ31g9Fs6A1DGYY1KCOlCFiEJEYAfEhVkMg5CXIzPkhnZcYvL4JIYceFVxc+YOpXYTvoHg8hVGRrBhQkVEINgRGSd7bYCYiAUuTrS7gRq8Efso6FRWkSCNtZOZIld9R2oM6AK2wNZidD25osls5mH/Ephyjro9wkgmBOBAHQu3sSdrXG0i9o/BOIqJJ2rJp13ZmRkF2IKIxVIQ2+PMM1ykDjS+xxe7eGnKKkDC81YjFycquE22fxSz26oe1Kieq1FQ0S/CoQCK054kRTWPsijGETcFiN4nOMEM0WRKqIjMcCwoRESCJMpHynA4iRfyJShMLCPhRKyC704UBgJHC22bCPUfUFESzCiCoMD4CvNgECAnCM4GUkM7Z7fQEYPDyDIEcg1EH2IbAPNqEgAAeIB7qMvggS+WCE97W9Uo3XQXDVAWNaLkARfIVUBFYzU42xi2UEIh7WEZzeM4txTRGIu+wbm+bZFMUTfpjuVqw1KGnpolGXLYj9BS2QGoR0WFm3MSdp/b8I5vZPVw4336H5gWI2o/nUiMUO6AGC6xnhKU24sZPPiPzThJ0QIFYXd94Vg+MgIEhEbUAWhEX7/koCSikn4sPdDEIAAowICKKUYnGx9DTEROOsBZL2aU+vyTrlp8i+mB+AGZQCicXx7Bwpz/kSGDqUzzGCBhXqYWLxnnjhgSJEaEXQd50QCNtcgteDiGFrf0sHcS6jRgozgs3EQKBTbFgg/qOZqCYuBQgxeAWhris4YNGlC/VhEODpd2MFXRxh2H2u1gnqQCBySUMT/iEOYSt+r+aW+tAtIkBaOMerO9zfEZuH8Nfkb6Kq6eCYIxaZOS7V8KSeIiHIjJgXYeHQpisOq/i8RxCEFBrZxB2aKnKLSGjDFGo9oElOBTeZmTmUeijlFQUTgCJwlpvOOs1iUEr53lvesIYy9LigRICd79kEDkXYCZJDUXG0wUdAo7eGghwcNQEG1ApYSBi9zyMA3kCHUUD0O9taLghLxIuwpr2fxJZm0VeDVkG1cjD6nhj0asAmYbMlIQTto04Cn/Dz2bZmOmM2OKwPiGa0s3KayGH7QtQP4ZEaCEoAaQtuaOQIALab5lq4HQJsUA4NvXbBDWH9RidP/L4DaQx3s5i9KQgxH2bxuR/sBMfiSgqfgUTB3EchE5tqRBLze4OACJGUAlEADMxsncQLFPmOItiUcIYS+cACgIBAws7fN24YFQAUCv0TJaxhH3VhaXbHg/jUIwsSiAMiduwcAyGJs06UJmYhQCRkESJi64CQnQg7JQAAChA02aqVv0jELm43Jb9x2WvMQGGhADQGDfy8U5x+PDxbwgJ+G1YTkwlaDB1HxygKD19e54c3TJ8IKiIiDo14mtnoxqDIO3YQbyWHeL6hrNbywiE6ayAV3XiJTIUvragXOeQRdUCOXXLs3LljLw4/TQQuRM3I0dg0HyXhmwoAhr4dIYYmYXtQwKffrd1k1SHcCcE3DvE7FBWCEINlYBB2jo1W3qMPAx1IFYBCQzAQUVrFXgyBQ7jZrewLRl2cNu9KOlaGRHz4k4T9ZjOHyOKEmZmdYrBsAcCXQ/skKAASSlBxDFVVaaOSxKgY6UcUQmKxKCLObzgRItWUyzVVeUQU+uxBlP2IFNKnfvxCRWwg0aCkIym3Po1IE79DYOZovfystLSHiCAO4sWtGGumPoKtzbi0EOrAq8VqC5XA7ND1siL4RKBpHhY+pl0I0NJtqMuJph4hBH79B1IYFW/wOMZAG1vTgLJjx4PTAUiuLXZuauzDZzSNMwFBkWrB6sHuMzTk4et73qAFAHTAyC70eCUAtq4ZDa2UT9cggC/CMEaXtvK+vudZ6xxp35UylJ74AAyIFV/gLCwOHLDnSmEgTdbV3poLo62dn0tmpwy62jqBXj/xBaCucGVeOacSo5FQHAv7mGgwO+wYBLXRWitAdI6bRCE1OwwEgEKPBmZpSvIxNgyDMJgxdRI7K3FgAq/jKSqtDjii/CJAbp06iBqgmfmgPrvRC2CQuMMW8RA8DzPqSzDbAW0HeR4pOtp7ad7SMq/EaieMnIcIUdmEm0vzAc0yat7c6uDI/Icfl4N7L42ZCTloRO8NRxnq9y54/oi1PiDedyIEQGZJEoOItqqdYxBwlgFAacVWeVQBAKKQQk2+tgMIARRqTSCAAuLzi5Z9y0ZFJMgowFZIAwCyc6CFrRMhAHHgQMCxQyAQx8KIggy2qnSihcjWFhFd7UorteU01Ygk+/MyL6zVWWp6/R6zZevQGAFfmyziRCkiUlppx76JA8ZgWaiZalqECBCI89uzQClSKpSWBkPg3xj32mMY8+iP+nRgBBkSxD7WvvweucVjlMGNm9XI8JahmpXTgO2luGyS8hC9QOzI+UjZAiGeI4i6YaMOgqVFcnPjCMJG4HT0cVR9TTQw3s03looWNTxejIh5ssWm3CESdEzFMAOwH2LybTqI0O81jjsnA/WLiJAAGYO11q52LECCzkmSkDZKrLhagB0BaQIwqioZAbRSIqwQBYjZKuVdLfRxLz+94jcWWUYRZ61oBSLO1uS711n25TO1swiiNdqqFHbggFGzY1vVzFDm1Xw6H42WkYRdXVeltbYepL6vg3OOnUMkW1tnWSEp8lV7yAwKCZUSL3dFWEQppYiUIkCw1qsQ8SX0wSJHgmT2gScOroHXLcGD7QICG90pfoNWLHpsRFmIeTXmGJsI/mEYviTcE3/ErjvkgdxUTAc4RP3Y+SQMHkBI9ET3CwAaZ0TCWxuOk4g1n/XCgM+W9VuEhq8TNipikzAT/5LEon2ILwWkUoj6eLKMCVdS3u8RBEYgFrYuSmBv5thobdLEWrZl5VjYOURRhEKe44RAFBFochUBg78ha2VtYBRNXuRJTLqIB4HRgTzqunJOAJBt5ROVwpbBgWNGFlbsrDjLCrSgrStFibVc5mXVS3wQQZgRxNVVXRbOWnHMzgkAW1eVFoWUJgm1TYoUIgkSWhfIy7ejUkoBiDjwK9X3kCQ/cMA+ACsCTV8fb819QMwzalC06MsTAo0dCiCCj5h35Z5EgHRJGIIWguh++Nn1b49pypbsumZdWhqMCrrj9QMAgG7wFG4eTg0IV3QjThFHAWcYheahFRPXVwBWZMuIV4FmT0F01yQU9GDMaAMgEikkEfbEAcKAKuQ2fFCJY55KfBM5J84yJJikqa0c11acE2fFOk+TYkFA0GenlCblgBlFlNaKHPtKTxAk0opqywIMQI6ZQITZOrbWOeeUMs7WvoOx2BqJQByAExZBcU7YWQBxdaUV2bo2WoEA27ouynI211pphYqwtlyXhatLZ/1GORAn6MA5p0GbntE6UUpzbYn85mbxTKc0xbyDNyUAsa409qsL0Q6OnRmQFAaT6QhBHEcHs+t0xon2KaIY3QsGs9VrnYmOhtPLgOifNeTc+mQRL503NdiS4ILHeE6TRQsrQrfo7nAzdpi6RX+8d9gs7NNlUTt76Da1ReHbUEOzEODUAjaQX/OQjYkHJIltE7wmctEZ8/LCl50TkXPMLEqjAnSOreUkNWmWuKoSEHHsrNOEJjFS15YdQOL9YK2UcwzMCKH4iIXZ+W10oBDq2gopEKzrmtkF31rY1rXfOOFqQRHhmoicE+dskmhbFb74qC6LLDFiHVsbsq3Ozvb3s0EfFSYGBHRZ1OV8DpQgiNEKHNSlFSbdT3v9ARktVkBAKXIiROS3wCMIoRJnJRgiH5MFT7ZEJNh2pvAp69CmRRhFmJuyhDDevlY1tGRDH1FhdtJEWAIimxA0RObBxj5DG+eJlWnY5ciO3cdArLFQobmg6wchNs4bvUTGYgRJZOJmjUAb9Q1+fcjhNk/gFYzf0xgzayEMGSMi4atC4H+K9NnxI+OXJr/xkZQICBILtgYGsdFbEpeFANS1RYQky0yS+C2OYi04h8Am0aQ0V1YBKkKjPfzZt7IhX77DEhrciTCLq52z1lrLztbW1rX/OfzWuZrFVbW11jlm6xwz29qGjRksrrZc175m3RAoktn+ZPf2rtF6YXlEyM7WtqoRJU1NmhourStrTTQc9wfjAQpVpRNBpUhrY5LEpKkxiVIGIIQ+gQFZMGRuSWulMOxL9iu82T+KPnkV6vERffIC2xkPfnpQgOC47dwTEdk1phL1XiDMJtAjjVhrJF6DXYiLArqAaiAbfXHv34UOCCGT1LlFA+W4RMK75LDn5P2b5gt0XaM2VI/+dIDOrclnDYM/7tenV6GxhiA09UREIkXKIbEgsxPlxx0AUEJyWNiF6g0vSZxlZzlJdNpLxdXaF885B0KKIE0M29pZ9nqNyLC1rrboR9J3vHECoNhZx+wcWyssYm3tX2QRx8ygWMCfbgQAjp2talLK1ra2zhgN7FBArEV2YC0pyhLRXFkHs3kxGKaLS6PtW7t1ZX2cqz/oE0BdVMiyuDheWl0ApGJelqXtjTKdpizgmLXxz+9QmLRy1rE/YUeYUGltiDCEz2OoTgkAISlkBow1Jr4MLbRmit4BIKKwD18LgDCDaloPes8pujut99SK1giJCMimKqkDVojeVYc5Gzw1C6EFor+Hbqi4u9OskZYBme2LDQNi+8tGmIYsTDA7wRvD4GUFavQyBYJ2bCRHjC15C08CIIJKhWYHru4sWc+g3i9wHDYRASIIW2fL2mhK00SqREmtBZEZrEUibbS1VpzzzjmBiGO2lp1jxyDsLDtnlRYQZudc7erasoBjZ+saiKxlQGKunRMgFOdCJw9mAFczOcdiLTsmALCcmZStNUipRkSoK7a1I+DhsG+IiHRvMOj3e71emu+VbGUw7G+cWc8Gye7mQVVUZHTST3SWVqVFoCRNagQRUl6HkBXr2LJSOklSo7W3XOAdIJ/MBUWK/N5Nv23Wl18RogsJc2wCF001G0JTft+QXgwDxpKHxhvvGPeOue8I1gZyUWd2/gRFhy+5OH4EAAaASuDIVjbjS27l7x+/in9maiJfEf8SAzQATU2z/zSPPkJmDsWtvrAyKJvwoGFkARDIl71prYAFWCOyxD0OLKKQtCbnREQIiBSBYxFXVZXWZDQliUHLSpgE2DqlAJC0InHMUiMigkMRW+QsyCIoYq1zltlVDsjVlXPsHBe1RRQn7GpBgKq2hAjOWQuIxCwanUJ2tfWnytVVCSyDXh/ZIZEDAEalFShMU13Z0uhQgrI4Gi6sLGWJVkC5lcTopePLS2vjyfb0YHdusiTpJ1k/I62rSZGkiU60s6wUmkRrAluWFdRKoTIqzRIi5Nr6c4yIgIjEN4tUyD6YJ+iEBJiIPFIDEcQyagiw4KbMpYu2xpS+BGAv+Q1EDu5C8y9GZ/t6Y5ybT5XIrqgb/9y/0CqI7gcI+JrpJn7QUSFBIUQXv+MQQlMviIIhou6rcsLTxPUQFUhYqk0ZCDMnxmBihAWBKBTAEwAKojJaOWAWv6sXFLJVzGzLUgmBOCIkUQpYnOPaEiEpJXXlM9RinTgHCGVpbW1VYoClri0AWGZr2bJ1ImVdK6KyqkgZcIxIbBnZKlS2LpUCRiFkRcS+UsQxsdiqyrK0l6R7+/u9Xi/J9HRepr2eTsxolJXTEkHfcfeZxeUxWHaVaJ2sHx2tnlozRh/szpRWq8dXaudQqaqwzkp/OTVGF1w7plE/MxrmlRMhbVR/lJrM2Nox18xCCtlXySpiX5UsLD7J68AFJ0OABKA51c57BLFAJuafIHhZ2Ag/jAoi7qGNxhMiIqIDE135hqEOG/B4ZYOzxueRxiIjQCwWkeY6gGgwocONh5Et8T/Q/H+0A0E1d0AnsXJMgjWg5ltR6GqA4MsZMGrewLbh5lor9jVsoZcxioCzYjLSRjvrEEEpBT7camtbV4nSBOxqS4rCHaqaK6sVEZGrChQUJ7aylGhXczG32qK1vm0RzHNbCSsFVV07doBSVPVgkLBDZFYCwIBolVgj3uNllSbG6Kq2RimtkMSR2MFgLNxXiVImMQkMFkYK7WA43rq2t7w0uvCy85PdfetcNsy4NivHV7WhKnfo7LFTS8O1wfat/TovtVb9nhoM0qpys2ndGySjcZ/reie3iLo/ygZLPXZSlXNbO1SojI+HKkBUKKhQrB9/AhIKFVzMQqFosN1yCRjKf+MmrhhEj7VPcY46GaSWwvyVsYrZg1VEOjBqQN961dBY89a8t9JUBPQh2o6YOiyKoanbbL2zSKSBfGOwH2KoFGOpcgN3BF/sROIYQht67+ITgFDcROu/lYpbENmJVpikSVlWbYUqKmZgx0pra5mFlEkUCZMIsdSOrVUatSZbloKgFBmN7JwrCqVTYXS1c46r0mlRzLquq7IsWXz1spS1lM6RYivAwq52iTEK0TkhAAUEYBOtaldqEUAnQASWABdGPVszOE51qhBIqsWVESgznZfL6yu9YaqIs3TI9c59Lz+/sLZa7k+zUd+kvdSkC0ujKp8LycaJ5cHKGLUmaw1ibzhwLCBS5jXX9fLKkja0v1NWheuPegurQ9Mzk52prRkQkzQhjc6fD6tIxPcH9dXTPlciTfAu1pMQhGa1URGGPR3RRDYB0YgO7vQVizMSXA1pENfAIzBvp+5Tog/Tlj69hETbu/oW4BLzAthcEX4Tl5c0drmldAHqrqHoC1E0FEHaBjvBAgoACRUqdqFPiwIERKV9q+LQhcFzKBAJg4g4x4ooSZK6qgEAlQqHsDELkkmSuua6Zp2qJDEq1dUcqqIAAK0hTRUXhbUMCGmqy7quK2trEAdcQzl3IFhXjh0B4N7etDfMyGDt2IdaisKSIYWS9TO0lJd5mvYUilaUoE20U4qsY9KEStXssszgKEMBV7CryqSX6p5JRkv1rd3ltYXeIOXaEiWrR9aO33lH1hsQZv3hgtLQS3SSGKlQDbJ0mClDZVGn6IbrS6CT2bS0RV1Mi8XlwXCcusru3JwgqcX18WCpXxVVMa+t46SXJf0EUKRyobegL4v2Pb8VQCiI5lAC2MQkI6YwQiSG0mPv35AY6nRnaAxuA7oYe4wvHXq9G4iMGtKjttWbzWURcIh4+BCFxraH4I+0zn03Y9S9PjxZ8+0CqqMRkA57d2UNke8wz7HA3u8q9x3m0Yv8UM0O1jkibRItwmKd/0TnnFhUKEmaANq6cgpcaiBNlR5kuauxLp0tk1RTAmylnpdSK0TDDvNZoZVih8VcbFmqJK3zPBv258W+k6q/kNjaaqMcauYaalxe7ouF3b3pwGTDzPB8nhkAWxKBFR6NBrVzaa83r6x1bnEx6S0sTffnbl46kUE/y8a9dYPjlQVhRpUIJGfvu5ANRihATL1eBlD5s4s1KuynztUAYplXj4zNeFgUFmsnwoO+GS0OUOTg9nxyUBw/t7awOgCB6c6szKukb3rjjLQq5oX4Ha2aJJwfIkohgjA78OrJm29h8Fs7ANAfHuG3yMRDvJljl/A2HRN5q+OF+KR3a81bzMesOALEOowI5xgHaoNE2LwU3wjQNA/DQPeRMjv12NA+Uis3IRgLCAK4W1sVq37jimjTUpGFCSjYA8+j5HdwEMXN1yFK0jQRqq3zsUtHoI2yloGIEevSkXZJonyIyc6c1NjPVJYqAYaigApUolWinU3yWS3WGpNplc72JknaJ9Xf391fWO4VeZ0NibTJy5rmQIAoTpzKsn6Rz8bD0f7m/nRvdse9x4nLYn5grKvqqj9MK6D+eEGQmBSkrI1GAJPpY0fObV25qsXpbIgIKxsr2Wg0u7WrVDo6spoMh4RYT6bGMXAFToSF6wIYpawRWdgZrdPBwAlQXfcS5RCHWY/ZVbN6f2syGCSrx8akaH9zf3dzP+mbpbVFSmg+LetalNKkFBm01iH7bD4Isz/pUytiYXYWQqBbCTOG7uQCgsABixybpwJEk+jZhNBx4wcFD8hfgK1O8NaziaW38Gg+qBMrgBYhh0lNt1msju8eI5wYt0d3bwDxBAoIB/Q1wSbsOvO+VgW8+HiJyvBLmJ1jEWQBjaE1B0I09IHxSSkvenynmdqxMRqVSpQG0gcH+Tyv9DBLEkVA+cF0Piuxcpmx/ZSds2zZ1sBMZPqkbZGX8/3pcDAk6OUTSzplhza3dSXsMDEGUPKyLur62MbS7Z3dNOsPF8d1bg/2yrXh4rGjq5tPP5OKpGlaFrnOxqKU6Y9Zad0fjVPa37qeDnrANumpU/dd2Hz6WZP1skFmMp1kg5nMSOve0gIiVQfT6ZVrWiku5lJxnfttrBrEUaLQKEoNOHBFYZTGgQYiRj3dK+vaseCR0ytJZqbbsyvP3MwG2dKRhf4oLfKymhdKkzYaNbITgOBBIoIFX6ytSKP4eBQFR5RAhJEUOWFwQZb58n7v5raJGBSKKRXAxqlvguBhfiFqVGyuaOpEw96c6Go3uSCJWhDaaACwaACJu+678f0GqF3ubR4zfkx8yScwfEKiESASZYX/2xsA8XuGiAgYQPkoh2O/RxsUYVRG0bNCVApdZQVQGYWOK8fAQkolRvWHvbqyeVFnBpIE+z0qJyWX86rIs7FJ+ma2X9aVspWYRAlDr5+U+3vFngWXQG1RyIAG1rZGrjkzyiTJNBd2FTAmhD1FWZZBJeW8PH/y5GA8snt7AipZWsQK0tUT+XRmaaR7KlvoL6yNdL92ZWXZOjsfr62snzvu5nmINDtbF/no5ICM1Ae7O08/y6XVvWF+e2rnYivjCiadkkGVEmZGpSVqAgCV9lApAawq5pKTLFteGYwWenXhnv7clSzLFtdGvUHqajvdmQpCr5+Robp2gA4ESSEpEmF0rJRCUsy173WvFLKQsANChQoV+SoDaBI1/snDVLbWuZngrrVs5SNLG2MK4AuvRPvcKlFvYEVAgLFBIraqUjduv8TfUSg/kA6ptlGnBvrNq61/BxCzRiFcGbUFNoE1v9oIgbQC6wDIO1SOnVIG2h41YR0KCgsyi3VOKzRGsZOqtgYJEfr9pNYEzLPpjHrSVzbJWFlbHkyLSaZ6Q9ZD55LJ3PZrKiflwiBLqc8VutxJBekgrShTDjKdcFUrJBAe9Aeu5vm0EtaDJNHKTOflQtZb31iotiezwq2tHYHeoqszHB9FNa1To7TTmekv9jFbm02m+7f35tVsJGVvdYHn6f71m0myUtf5ZH6w2jtiq/n1Jz4z2czTlFQ5szNb7DiAodhMG6sSrRKEJNd9MgMjirQYJBZAYhwMMzTGGEKW2zf28twdP7eU9HRV2IOdg6KsFjcWdWrq2oJvcEekjPZl+wBAivy2RceCREorsVYQ/L4ZQEDXdRVQwi79hipf4olDw5PNbzweIvICPiDm/xpgw6HbAMT9VeGTO1jTMQoQ6TlAUDpk3FSJHlpG2HpuKBD7BkVZgei3AjY/BS0icSUhoc89gq+4E2BhrY2PaVG4PC4oQkBwzoG4JNEsunZQ1JIaTBNFAFCjK+a1TDPMsxRcmpZWuSnqJDUqVVRVuavmOK8FSp2y0UJVPZc5DswYlFvoDeoq16nJEl07K1k2Go1ubG2VBSwfWbvyzLNHxr2Vc8cuf/KZCQw2Fo9Df4xQSX/Q72fzeT2vStnJj985xExTmlV5WeXl/u7W0vJyujDae/IFlbj+Yl2oecXzfOvGU09dTEGP+6BFHWxOoDCahlIN0nSE2mCiOCVdGlVYlSpTOtMboCJl0iwzQCTO2Unh5uXRjeU0VVzx9uZOXhRrp9bSNLFsxbFzTgDTfoog7KzEViKOQZiV0oROKXJOwPezoKDbJEosxw78ydDh0JLWyxcIO0gQIRya0mJXWhvaZdwW0o2sDVCOQjZAEtsrEEB0C/vunaDx37F1vVoqlUCk2AK+Ix4aXYC+0ww2B/kIAqAv8lSkfAmZr/eUGCIOfdwRoDnakMBoVOicq8QxpTrrJ3mJjKqobEqun8h4oJxYyPOqnBL2dX8RnClzsnMEo7VOipkrC4IZ9dgYxsQlPW0sWzSKMqd7elqqwlZcS5akoDFRRulxaak/XLp+e+fuEyey9fHtnGR0fg7p2sYR2pkNlhbmdb25uTXuGct2cjDtL2T90cCtDXduHlx55qK+m1ePnpa+fv7qzulUqswdzHdf+PyjV65vbywkUHM1sZOdYqgXNFtwJVTOMul+yv0EXaqtNnXirKstmtQkQjojFEUOHGO/3+srhQ52Ng+2tiYbZ9cGw15VVPm8EGAwpt/PSFFVVLVlZ11ja5XRYp1SGHxsImWUAFi/IZZCDCrEVnyMtKl+bzwMgBhHDXCQ0PM7MFVAbPRJgj1s3xp1rbSZqgZ2rQX1rW8afEbQB9qLwGx+3fjvID5GQY0TB9LukmgcQgAAUn49EWJ71IsAiLAvtAlyQABAmJmUb0yDAoLKV9ZYkBoBULi0VjGpJNEZGZ24sqryaSoOea6pECWQDQqrzGCsjR6odHbA+weknMqU0RpVUWWsUiZiImVKLsBkKnG9sUrrbFK43d3bw8GomOwuDJbnVVbbubW957avv/Psm/RotLVXWDO2WXbiwTPzS7sH82JruzrYL46u97CXvXh1Z016qxvLveVkAMnnnrg5g8kbjx4tjTx9fXvl/EIJ+ZOPf/ba09d3dmfjbGRnvH1rNkh6B/NZCqwFlYATVecZUl+BZVbCPXaUhPYAKIxITmpIswyhYsH5JJ9PyuW1pcEoy6f57taOICwdXU4GGSmVz4uyKH2lImmFBOh8JF4ExB/OoLUipZyzPrFEioAQnA9I+VKYiKtoXkOY1Oc7Gw+Zuh5yVwO2DotEt6ljbBuy7PxpkBf2JB1SBfGWreON4S3Yvux3ZQlA3LsJ8VJsb4Ex5B53vXSEqrAA+TyGQr8avOJhAN248H63eG1B2GiNSiFT6bR2SgQScIMMaiax83J+IPUsyxJMR+IIaVBVyC5BIsVW50XP5r3MkCDPIaEUrKYkqR2JMUxVf6Gvqb84Wph+XlVADMx5knI9XBgunjoyczBziavlxRubi2u9+9/62oX10XrlPvT7N1IpUpwsHV/La/foZ5+cc7J8bKhHwwTzy7ubz96Yv/qNr6SBu7Zzaydf5/n2ox991k1rDTSdFge3c2IymirHDu0ghQpzpfqia4YSHUDNttQsRrAEQSNaXKl1QtooQEO6rqwitbK+hKnku5PpdD4vivXTq/1Rj0WK2bzKa8dAhrQiZkcoDIQM6DfJ+OZWComgrtmxw9CQJfbX8N1vOnYxklTb7ylkctooZAhKhrD9IWBIZGDp4FJiwVsLoyZ+CX5PUvTYgqONjeaM/8Hom0vM48e0AQSghs0vsXAmsHaUqTE2hoCxZXaIqylCBL/jNu6VQZ9danQEI0Fd2rIGNFkyyKzoykovUakGVRdVPbPVDMFaQOqPlBqg1WVt6loZShOSpb7rKcjyyiDr8XI9y6TuO6vUIDEJ3t6fVaUbJ4u9vk0W+3c+fA9g8pkPfPZg205m9YUzx9ZOjBdGR2rSL3zk8vXp7P6Xn1g/vZKkxhXu9otbJ4/CyTsXs1Hvmc88+9STT979yocm9ZZJnDOTTbd344Xt7f1nK+Mq465vXuPtm1ev7SWWj6+Ntnfzg4NidTgualEmMcY47VinKlEm6wlq0sYY7VC0SRDQVQxQgxChKAIurVIKM6N6Wld2Np1Otw8KcYOlUX/Us0U13ZtYx5QmJjUmS6yzyonv8ufYekoAYUQhRV7fe/tOAtYf5U0U26YiBOA2+cQYGmodjtZXD2HseMpzg6gmW8kQgomHuPMQRlvQdzqLBAkbJUNsixqR1eki1hXL/mdCDEf5xiWjGnpv4eqHoP1AgEZ0OoZmGUCoHhESFAKliSXJK1YAST9RYsQCIXBd1/OZzSfIRb+vs1GflLGOlcoU9Aa9QeJEw2xEhbIHydqiVKmoBVw5wpAaUKghWVZZaW8+u3nzynz5xDBb6vWG6Whj/GD9yI1HNy+/+HT6xP5db6V3fuXbd/fL5x6/NbWyfnIFgG1ln/n01eU+XXjoyNqpheeffOF9v/PBs3csLa1k0+rg+YOnj2XDcrE6mM6f2Hxqcen0vJjevG7l9nRzJx8YOqaT3d2aRZPp46BPWilFyXBMyugkSXuZSTKd9AkFVeLQKETLwOzNs/PJDULUhhSCYye2Tnppkul0mOTTPN+bFkWxsLbQGyaUptaxdSIgTsRZCyKoEB0wMxKSJhHmKNb82SBIqBqOIF8eKk03kYaqol8ErR1tJGNj+2PkxyMwhudfcnnX2TnkiDfNw6DBO3TkZysVokptuJ1b3YqEKIjY1CBE3dsIkSb2LiIU+tC00QnyYVEkDC27AJH8WZUKgUF0akpnmTElnWqt0JWzWVnNDJRaa6NTpUUpUqbPQKPxYqp6dmaTvOybqtcfCIJzQ1k7XskQBwNMEpMorjlbwVEfl8+PL3729rXL25Z7/SVjlD52z9qRM6ufeo4//NQH31a94aHX3v8r/+331k7cn7145WD/9vT2frG/I/P6/N3rSyeWVZr80fs+OZnnqr/eG65cmTzz4c++8LZXnoNxVZb1525svnnjxN7eXj5cuPzMzqx0C1lv9fjxmzcurQ7Ha0ureVWqWhYG2aifEuLCylJ/2EuTnk56lbW6N6xr51hZxrqwIIyoWJgUAoGrWfeUNmqwONJ1YsHO5/nezp5jGa2OBsvDtJ9Wde1qy9bWlgWESJRSDOIKCyAmNaSorKzfoBh9C5//FGfDSY7o98R4IPoDAGJlSICGdIKSEK9sf4PRi24PMIcoCF9ilg/nnXwL8PgmAa8TOo3tmiUS/XqRtt/x4WgWQmyIys0zx5YyIqGRpt8zCPEAVhZGQVRaK+0cO3YgQAqMMchUVTU7MIlKjcmGSVHKdJYPB6jJmR6W1gHXScqJUQpFmcSk/d5wIVFpPa1pNlN1IUWdT0GNTuRFOrdDq3tQqYFGrVCTBic6UXoxvfCG44unVz79pzfzp6aP9IeLJ9PBGn3FN778p//9s9am/WFSTGQ+zu86d8FC9eynn50dmMWjy0vHlTi8de16XU/SLMsRAfDWzpXnPnjjzgv9bFEJyPasNJRXB8WLz6vZhJVK7jx/9PiJhYufzU4vnSl295ZGg5XlbGnUz3pZv6cXjg6VUWR6arjETKTIWqhZl5UrCldXHI+iE/bNpLXOMoOpplzNJvvz3f2qqgcr48HSUBDKeZ7P55Vj0Ar9ZntAEKnzgkWU0SbRAGJrx/EssnC8GUJo3uTLHDsU1oAhEGDXlfZX+iOqo8lueQ99W3xoCkGgw7wNXckhSQlaYrFmoEOvJjrVcB1V60Ef/acm3C+dPGzbBdH7nW1C3zfDBgQCBXELl1cQEinWCyHHaPyJLUxlUXONpqfSTDPybFrNp7NBX4urgARcpdBmie6PFtPeUm0zdomthIsiJaj2JsXMHuwz9xZhZXkCGhLsGefKGirV6ymZi8314h1D3ae1C+b164Pf+Nln3/+/XnzNa4/d8cbR0bvSs+ffDiZLeyrnte294pGX37Vz64mnHr09OnLH6Tt1f6H3whPPbt68dO/D98yfvDTdLy8+90lbc75TPfrYzYX1AWVao0BV5gd1Xc8W+0sqqd7xN79qdml7Mrly3U3PLo+XFjeOXzgldb22AEbbBGqtkRIAAjQpmgRIgUqqsp7lrqrcbJIDCiqwlnWWoCLTSwShLnOxNumZtbUxJIl1sntrty5zpSFbGFBqUCcAUtfWVpZFUGHaSxAlnxd1XSOCACMp9MUfENKDgUpAfLIZu/VrQfz5HjnRe+rq1FaYYsuvrbzEJs3e+FhtDCuuCQ3dKKs0CyEybrjM/55a0RvdJC8HAoibvHwMzEOTo/Ls7f8maEJTITwm7JyQj3EIWJGqtolRaWYEKM+reV4MBv3UoMt0MZsr1ImySrmewX7PZJnRSZpkI1egIq1R0uVUW2dxzM7Ue+qxpw4uX2TbWx0t9NYye24N+porRkxGz39q97ScXTjdo1QlY/ra77n7P/2zx979m0/8w7teyX1aHPVUkqQjc+L+t0xn15575spAKkr0tdvbd/WPD4fpRz/+1MqR/sNvOPf87s1nHnti6+aZou9cJbeeyh86czpduXHu9ImD+Xg2gUEycGr017/vbevHLnzyvVs39vewxL/6nd/MmaKkl4qkeqKrTbr5lJqjGq7IpJBkkRZXsGdUanS/p3p1kTutdT7PLQNoREU6UQDAtTVZOlpbNguD0tWTyWz75h6z643S3miY9FNU2jI7v72fWRD6gwwVFPN5WZQiDhUgKo4+CITkSPhfSF3GVvxB78VeYp74KEahAjyjoW6A1DBtU2wkwcNuANmWdoSbSuMkScdlb3/TwrDFdBPA96siJANQRHzYiJvAmH8rdawABmb1C9HvHGb2PQwRELQmx8KWrQVttCZKMrQMRVETlcNB1kvJ1WhtkWkcDVVfJYMM0/5izUleclGA5tLludR5olD1kt54jdaTh8+lZ6bw5NP7+zdffOGFyzuGH3nZqZUzg/xgp0rVox999mRxTi9n2XK2vkBv+LoLP/+zu+//ra2XvWX1yvWS0VhRr3/L2he+QB/9g8fv3Ritr/aeeeyx2c6pbKBgdNypvJpNbWGLkvuDpaeuXgGbTC9DMVlZunDiwsk333hxBrA0z91Xvuvr3vy6VxY7e7/6e783r+w3fuMPnP2Su6czN9+zqqxk98Bee07fuGRnExFQa2do4QyUFlfW0ChttBqm2rAmJMS8KGsWk2hgdqVLh71EARUG51Tenub7OyIuGw8GyyOV6KqyALUIMKAIaKNIKa0pn81m05yFlSalyTpxtfUOMRJyTKgHWumAwTMfeF7leLRfwFZT6i6BDLs1HFFmhsh+tJ8tKLHDlSCIoGNQSWI4FQDAN1uLiIxpoZZhsaHEw/DFRqr6ZdccXyQgnoCjcPDPxIiK/Pks7ABIKX8GsAhDZZmUJInq9VGmbj7LQaDf0/0MbOmAa3FWGbIMGtJaTFXYfG8+0Epbu3vzdn5r93OffWF3glt2WKan3/CGhzeOJifOrD7xwcuffuwzj1967Etf9fK7XzZUGh//zKed+ip14uwTQt/5ZdnKhdQOjkxH6ec/Pb9y69LmpSPDo8gOTh7vPXnilbt0Oa3mB9PZ9ZsHg7VxL5OVMZbzg+LALo6HiwvDG3+02xuPsmGvnmRn739kJdm4qUTpo4L5t3/zWzW5//4D764lHWfnvuj7XwGEVNdPf/ry0b0P82PvMzvTPtSZuFQQN/fV0SlOKp5VwKTXFfX7JtUowo4ROM8LqUqV9pUxqp86W9elINdawXh5NEy0BciLosgdgJhEG2NQab/lWhuqimKyP2XhtJ9oQ47ZVqWzVvuee412DAfSSQwbhn4u5GsSm+xQZNNo2f3/WnnauuKADcA7RfttsKfRBZ7OQp/Bw54TNhKhTTAFfQvdEG1LtT470fA3BvEqPmcRqbP9mHaVSRPg8m2DFKFJFDMwY1nVgEJK69Q4sfOiMCpJU0pMkiJrcGg0JqN5zZV1RGky7DPjbF5uXt699dxz127vP7M7v51LzY89+czvK0z18PTr3/jqpfUL1y5//Hc/+OvPfpzf8Vde/5Hnnlo/ulrg4v/5wPVv+pKHJ4qm0rsi6uxCUmN+7cVy+my9el73F9Txc8u3b+XZaomDE889fW111eS3nz/7yINK2f2d7TTBYbZoVHrk/Joyo/KWXHjVA+QGr7pw/Jehv7jxSC/RezfzX/vcH2lc/P0/+wnRWqP+G697p7bPPairRYMnUz1W+gjhEkgvmSS7M3WikBm42qAmrbRKE0i0UeQAyTIZpRMNWgOL2NpoygY9TDB1w539/WI+z/McANJeahBjNbgQirN2PssBYLQwTHraWptP5mVRYigkE3aBGql1FSLWOLR7i5EchtbxgBCjD8d7RnxG5yja3LBNzaM0dN5rREJrqwEBdLS6MWyFjS/fsG5II/hDp+TPSVlso1Jt+CHuqQu3hybEiWF9NeYe0B/gAgLgGIBAESkStFBV1jmXZZAYJERXo+XaCPZS1CxZljHg3NZo+owIrp7O5foL00f/6M8Obj0/m++NzeD4YFGyE5v7l+fFvnU1zz/93t+6eO8K3yEXZ1X1m9v81j/8yHM7+6nM/+hjT+2++MQzmw/tCRSOtqa4My0Gx84dYP3HH9t6jRwZr/LSWHO6Nnfby6tHwF3funLtyMriZHd/eal/+uTpSbG3n6+Ywcadr37Nxc9fU1VviY4lyfjc0TXGxXsffsgo9Xe+8X01l//5X/2HpSOGUL3xxEPX7U6CvId8T6o/PHNzkXM6+RqyJ1U1mtXJ/DnKe1w41lVv0CMSUglZxtqRE0U+R8y2dEiU9DPKFMzZFjYhKcmlmRbSqFTtxHGtNWujBaEqa+c4G/aGi0Nrq+n+fD6bM7PSSAoFxLFzEs+cCIkejK2IxAtHkXAkqN8I0nhDcNiqdoKg0RRLs7euy7JtbDO+DwUhdmptObjx5Rvge4hF56gTbmg9+ug7CYCEE69j6MsLUf/fyOOB7BvGJmyOShVBdo4QSWNCpqqsrWtjMDHoFLGzDMq6UqErXc2YIlGilIi5tZ1/4ROXdy5dzQ+uHk+4srDtiqLaHY/PT+Rcev4r67Pn9n/zr7n6ycu3iqehfv8C/GNS7/rEVUXm1z5TVBvn8vJDv/l/Jq//on5ZW7e0dPnjW2sb46c2bS65SuonHz9YXkuPLOD2tYOV5XSlvz610yPr64994rGXv+ae13/pF196+qm9HRlkp15x7r75dl/28fLj00fOnxql+vjDX7f9wtNV/tClnT9ASF/7ziOkzZNv+brn6x0R9w+GuDI0P7JvDB5huO9Zqz5Sf+o7TPEmkdTeTmafw3yq+qBWF5JjR7BPYB3nFvK56BrHiasBEFVinFgRVkbrSgbjPhjRtStqV5aWELVSzOAciHNVZXWa9kcpEc5n+WwyBxBSYBJNimrrmBlBkBriDE0Ioy8P6Js6IWKswWjoJvb87SK0g5AmGt84MG24tPsn4ERH5mz4rQNTfw9vfIN4Rl+OKiLU7EF96YoJ9j9694Dge8kjQlNS4M+vFCLfnglJkXPhWMHaslKoyaACJKhsBUAgpLRKjUayShMjsdKokzQZ1WV99drOwWZhqr23vmy4cn7p6LHjpFOG4+bkq+3G6X/zMf3V71x421g/9OEfLm9+18+NcGD55bfkVwf8gbrItDyxfQ4npWP+2P/ZfOD1pyuVbe5SXphJrh6/Xg5XF/JMbuzspsT13mxlMR+cGM53q/2tg5Vj65dNfzA6vrDQW7vnnBquH8z69gDOrhzHIV3ZxD/+6MEdX734lX/9zLv/7n892HpHaW+Pkz6S2Jt/+tee/IwSWUf4zktXL+3PJnd/mVl6L1e11Fs5PPHT1U8kVJ1zZVJum1oWxyNzdFEtD5VJXFHltydW8t4IOc8hAUYFtTipBSyRJP3MFdLDrJrOqLKawInUzgEB1yIgShudqMyooiimB1NCVEYhgTKaRay1jbuDTaonJJn8OTk+dcmNQguM2BwIGPd+yEtYUTo82/4QX2xQ3OE83bhCbXebxoFHgNjtW4KkxdgAKJrxRk0KHF42TcVAG7AKII9bQWKZgVer4LuvI2lE5dhxXWtFWiP4A4wUagVKiYirHSsFic7qOleitrf261m1OOqtH2N1/Qk3u723q2scTpPkwr2ri8vZcx+yz73TfLVWH//MO15zevzQ+77mh77o5wns38pFga75SF0Q5BeR6WCv/PgmV4Xc+twcS+SVtFJoib/wwn5R7y+OezbfGiUEdcXTvcz0k6z/mlfeb/Z218+vmeUFNqPB4sbHPndjbX3FqcKcHv3xJ3aLv8R3HzEM860bdc2zNx0ds9R//NZvQ6IB4J88+5gi/UKyDBsfSX6Zyt8r7c+lzDShL/93+W9/s2EAt+T2Hr5xNbu6mJw9A9mwmpXTWweYFGasIDWAipFsLapHAsIoPlAqyGmqhS2RlFYcg3UczjwRZ7Sq63p6MGNBk2pU/tgutpb9tuK2QkMYIJAiiz/Eh4L/HgLYJNG595OPnbhmU7jU5JtCgVv03qWVhA10JMYhxReLvNSH6XjrEeIh7u4R2e5LDl+ihWlI5zMzEfrakNDpnUMzMX8hxZeIfPtKEUAWIOHQ34atkEoz4xz7ftfWVYiA5LRSisTZwhaFlRqZTxxdybd3sLzhDnZzK1NHv3dlfrW6Ip/4peTsX9361Pv+61d9w/d86ESG7rOXP6MB3138skGTQybIgq+B6v2g/hrChrXuC4/W1cEB6nHS62Urig5EGzffvLg8ypcWYL/YkYOZSenY+kKW9vuyf+L8edx8fnFxbMZLArAINNvDi9tolBkv9qr9Wy9cPVga9paPP7yTOwBwYtke/LJTX92nD9j+V/5z+dBPqR+s1Oij+geRf/gb0P0/OaDm+sYtMe8RGkN9t1R3HRyYa5vDeYljW+f11vVJ0puNTo7FWinnlrXT6AAkUQ4tiyMFpFEx6URbrskxC7AgI4CDrGcAJJ/Py6JSRpESUso6W5WWHWMMT/rGeJE0wy56jw6Op8yTRydGMvUORwRs42RLhyFjUr0jXA8p2EMq9qXtF7tXhIR5kMftCmgCVcGAQ0wFxZdYhB2zE0TfcRPD2ZHCMS4mje/VxDL8J1rLLIwEitA5V5YlEjHXVZ37jsKKwtG8tiy1UstL6+PxWElV7d5cO7a0dH597XUPHPu6b/i6v/8PTr3lbwzvf+vtaV7Mfnfy/Lf+4hYWDInWqDUlr3PQk/7/AHVG5LZIAlgIGSfzgycrW+RCKtkwurD1pavZ/osPXEjuvzC4/NxzKZj+4jGs6+NHV06fXN/oZ+MFvXzPhYRn2aDfXxgNhr37H1o9cWzw9BUixte9+sgzX7i5d3v24KseTAZszMKn9o0tq9V++vc++Fu3ePWZX/r6je+325U81ZcLGeZvcQwHzGjdh2tRW5xddvC5Sg5yme2VUlpQONucXLm6lU8qdA6qeTUvy3nhjyp21gIQIwmAUohKlEKj0Sgh8j0hrRCQoqqyRV6Roiw1WS9VWlVVbUMvFvGHjmqlMJ43F7kQAJDZxWP7OkDoxElbxupgDkMxG0QsNRXxHexFfmy4r5HBAX+HNcMhcQlxVRwCY3Dz/GP5JRXEB7enpWAbrYgBAulo56h4/GP7Q9kBFSntOwByktB4lKaZ8b3xbFU7B8YMtOozK1vUe9s7t3bnOzk8swl/+mj1s7/21Pses8XRha/4exd+9d13WVgVOvjhV/zcZ0oUAIci6Y8KCmZD6v8w4QuIU1RzUgJQy6wGSpWyqSqTvclCcvu+80KKd/bytfXl3gCXRnz3facWM1xeGa+eO68B0sUN3UvRHhChSUy/bx66r3/27t7Tl61D1E5Nbx+8/P6l4ZLRZnXHusm+3V1cwoVjLEdZLtbvmVVXnAb5lrnIZE+KNyAdwfS7GeYlqJzdppNdm2ln9YKhTE9fOLi0dc1OJ0RST6ZuVjkHtrS2rFzl6rK2tbMuHoNIihC0gsSg0ZhmSdpLmGU2nddVlaQ6zQwiVmVla4vk49AIAESktD8nNwrDNpcuwXCH85IaEDY8FoM9MeEZceCT4THH2VSLSBeYnUiTCEUSfIlBj+n6DroDcfpTT6LAbSIMzUrBpvcnALP4A35a3duJFjQLTGJk13eg9x2NSaE2pBSA1CLO2toyI0BtrVKpUhrACOutW7fn80KZpDfuV0rxKDv2wMuuHbinH9u++uRkE2GI7s4f+7eOAfnXvu/bru/VbmIdZgNMvptkR+tPKLOqTKb7iU6HCnZk5xbydSg2z93D9vaVU0f4jtPL82ubG3jrvrXqkbtWTy7Wa0dO9ZK+QpMsLprRIkpBWqSYcTHnumLHwPzGe7MLd/d25/TsFSkrbdmZHmQL9yXJ4OlnJk/tYLmzqZRRehGzqXxX/kUHwr8hYF9P6n8vf3AAdldk7juSViC19FZXk+TMGUT9uU98em++31MEkIu1bl5hUVcH83JauLKytRPxPb/8YQiiNZlEEzqthJDLvNjbPcjzyqQmzQyCFLO8zEsA0Fp591xECAFEHLum0KKZMN9nPKi8GE5sdCXEAhCv1KRFbMuDDdDihZFMsX3BX0Wt09TgJRD3ITINlNn67EGGttYevb8v2KVMAIliBSHY8VjC1TyuiIcygID4TSBVbZ2ztq5RGIHqyhVFXRZ5npcsxIIISTnPnbUiTg97kiqX0mBl8NBrzzz0yo13fvP9Zp23n/zUf3nXTz5f2Te+Fh2sMmL+uf/02QMr1ikj6H7TyKO9ft1fPJ31x8P0hVRdS+ma4j2lIUnKB05CPrl26tzGzo2bD65UX/y68+dX86MnlpeXV43NKV2sZvXs1i1m4WJXii2u83Lz4uzKlcnmQTmtpHYn+3LmbK9y9PgTk+1r8yqff8X3foNR6tat/Szp/dZP/syP/sw/1v13ZasTuvX/bv5E3rteqfQrk5edfccCQv2zIE4kEwBEOqvL1a9+M/Z61Sc337/9hc38dn9hJKkg0uT6rcnVTZeXVVEI10qT93gEwIlzCILIINooReBsmU+njjkbpFm/JyyzybwqKq3VYNjPshQAbc0AfrOyOMeOmUOL+0CEkVV9KzfoqEbsxkFF4l6P4BxH3HVbfkCTl2zzUh0WRe3d6eiySRe/jf+P7Yb6Dp/H6k/ETmasIXwI60y8OIqrIFaHYKTTUETKHYuvtEJkRDGJ0gSAnJlModOaCJXWWqxFAT1IalcvjcY7k4Pd+c5+ad/7O58a2dmXffFmclDIbrlz6Qu2qr/q9bfP/IsfwfQcy2ay/OC7P7C9/uZh4h5nnGp+3xsffvVzz23tbl1egmv5+P5Sb3B/bA/U0iL3q12qnnv9a978/P/51CMvW1+7cEFVS0TaUb/a2Ydyy7Grdplf/EK6oNIjx4Fya3sA9srHnyqX71o8u9hjvnudTr597WOf3r30zKW6LB551V3Vl3yxmx4cWdmo1u64+45sdUlM8tlN+VX1oXf+2K+tfve7v+vcT8mffs9NhBoENAEp01fq/rffb+58meTVE//hF264fBGSY9/wiurms5c/9mgyWOwdOcq2VElGCYpyAq50hQVnCdhbeEVknWWnkHuDlHRCisqqrOd5Xdc6S3rDvmOXz8sir5g5MYk2Os+L2vqTRMSfpSfCEFu3et7j2ANMmm40TWQqoqXFRGObI2Ka33UYNrIqAIDoRplGIEOL65Y/QxC+W7vf/umkTg9jW2LznSYeK00UIQSfoosVdAmGDXPGKADH7KyIVuicJQVVXQswlJWwFZHU6MKWtw92bu/tX37+2uVnbm9e2ixn8/d94qIBd+fZBUeuqnPYf/TiP/+A6BVxg+Gr7oXPX/7x33dnjj17qf7aB+/YPkMfs3irgPz+jRG95qsf/Ww+259j+fkH73vZHety/r77kv2d157ubbzyYWVID88gGaZSDxmff4GnV3rJjKuL4M7v/slH1Yl79Ykh897xV5144RMXf/cTvbd/xV3HNsystO944/qz51Y/90ePXfrY9dPH7l5dw2/6lu8kVT71kSc3Bs+ePz7+k+2HH3qbjCqbqM/VP3V2+qFvJZWhpCeH/b0ieYVWw2/8UpkfzN7z0Z852HIgb3rD38QFc/E3H53s7a1nRop9caoumE3uHDhTOUWiSUiRaHTkytxVFkB0YsSJdXVVcpEXbG3WT9OeYWfLeZnPcieYZEmvnzG7oqiZnTeGCGGbgz/+sWGTLhgitLD13rHN4LRYEgyc2El4QsjjNJ53QJRulsIhSHYjooixlUP4488h9peFkAF6Sm1rouJnBoXaRCUQqbHr4m8QjT2IA0QBcsxQO0JmREQoiqquSsvOmxUS2+ulCLLDrnb1zu6Wg2qwka7QaDqf5Benha0nZf2hz9/kZOgcIFgo9oDuQN45eGYve0RtPv/HK8ObP/yT3/Lj/+zvP38rf+vdy2VdfNsP/ej/+dj88b0XM17MMvt933rhqUtXHjm/sqKmK3euJkvrxHOiHppELyyI5eT4kszuqB/7oGRoZ18wD75i/uRjUs17j7wakuz+L107/QD/xv946v7XXjh21/DIilldxbXs5Z/4+PZkkl/o9S7cvXjlC49vLK2dXFtfWMYHH3z7WX7ul/7t4gD/Z+/isbXVjeK2Har0zSvm/Zv61QNjUVd/9Onf+8gzk/R4pu5+x/eevfbU43/48acfOHrE2tzI1M6pwLJ0zAPBIZBOSGlFKbM/aATBmERptE7K2tZ1nucikI0G/X6Cwvl8Pp+VAtQfpEmvJ8JFUTnHSqtmxjhMdkjb+CofadraNcQmzbYOP8NdaxyRHFRpGxCNEagO0wmA33Yc/eiI/5gDCL6aaqOeLTHHkBg27fIRGn3d4ry7EQDCntPAx8IiyP7waWmiY4DglEIiMcZohYSitdJ6QIrYnwPMti7L2sr8IN8+2O8tDg9mW9nAvO6ee+59ePk1p9ff+99+59f+1y0AdFUlQAB9XLoDqhXavySu7G+sHEye/v99+asX+Kk6n3/lvQsbF9a+44u+aXFxpPau9s2S5fSf//TXa6pTtfrw2vXl42vZ6l2IjDViSqgISWGmKdXSN+qNX8U796on/qCeXhycPVUe7M4f+/T44TdQv7d6T/87f+TIlc+XO1fVeGyyId1/jy4dbG5V02qeJHD8znN5Ye975DWXnnvujhHbpz95lId3nzm1OBrNd07O5wfazXfr+UbaGw+T6nb+7Kdu/TGvLaydfPl9a9vbt//ff/0L6/0FTlJcXlQLC64+IK7F6aqyyiLagpQWVuAy4VTrNNU9ZObZVIRtXWmjSGvSVJXVfDKpilqnaX/YS3uZZcnnZV1ZVEhaibA4joVwEk5wk8afl3CiZTPxoU0IhP5wwTa2KW6RiMeGBiNhSvDqG64F3XmhCWbCn//TsDd0l0YbnofQWySWD0ZGbur+Y3ZBYnICEdEf3Kv8LgFSCMJIBMAI6Ky1Ve2P3SIF4rsHcg0A1vL+5ICMWt4Yi3HODF949sqVS9ubL27+pR957T/9V+/eXPm+P/3Fq+wSxxVAjYlWaz2YzdSCPnXH4M/s1ol7To5W9blB/9yrv2RwfLb46i9z+a6qT5w4PahXqpefGqDoySeefOBrXkl1qVMDdcXX53hhIHVNAqB9/RWDrbG/pu7/Gth6lmxOi8u0a+afe3z4wP0q6WGqzr1yeKpCWwIaFAN3H1Nuz66tm/FYLyyOJ5P5xpFk70Xpw97JowsF4sP3vvojH3r05s7e0CitkrtPnjI3d7YXeruXpp/iY0UmTnaqovzl//SHOaVLx86desuDRopy5xaStcVBTT025CrHaMkRkDYEqekpUFzbsqzq2iJIr58lglVti/k8n85sVadZ1h/30iy11hXzoixrn3+W0IYVERFZEFGFjQ8tXzWJG3oJUcYYDYadvtF/Cr4WNZiSLrwafAECgg5Vo+j5LsIx+vD+QmnjSB3ICoAwKooIjuHcUKviz5QGhHDwYyujW9ALIgq75oQyAEZmJBTLwlaEa+Y8L4o8t3WNGhUJkpBWg3E2XF5IE9k/uIY8WVrT0zyZXOP/+YXHv+9Nb/jJf/RzX/bsP915ruJb21IeaLeT3X/G3lhNF/LlJT1cXFs7ezQxvTPLJxbuuXP5FW9JNexNMx4d3b9e/P13LQ2HfbDywFc9oBOiRMl8KgcHMhYpcrAWXC1XryDuYwLApYzPSFWx9AUyrnJaW+71FuztXaUTvbIKIJRh0idnxVlZWoDVXknT0mCqE4MDPLY0u2GmJ1aGy8ePFuV8sGhWcVosjTPk46NseP7cztbnn+LBpU25XKv96dOGZOumqSyvnHvoDV//5mp+UNzcU3llxkb1E1JIRFXNVhgdJqkWsbWbV64Uy+KQFKVaWwfTWVHm+WQyE4Fs0B8vDnv9tK7qfF6VpfUloX4/WSijCNMaAuyNmPPAY78ZVGGrFdsTvWKwp0N1jSr1efsucFsNCiJxTxKItPjzLlr4cG+Jg7iIpf8AAMBxw0bAcPTfm0R+QCLGai30fXAi4EHAb2xGFHGIAMBIqAgUoVaUGKONJo0IYjQgQeVcXua1rYi0Mur67c29g23URX9FndpYXl46e+lS8f6f++y3vL7OMP2r/+hv/tJPf4jxZr39QrZql4/x/pCP3JEum/LMfa8YLq5pMzp2euXoW74sU4TIz+0Ntlje+q7hfae0SRM0Ao4BmJ0rLl2ixR4Phjjfrx79xeKDn59s7WZLyeiuYzKvko071dk7Qa2KtbRx1N24wYVLVpaV0QAOiXhWgkLQClylVLF6pHr2My+u9PfW7r2DwB09NT6yrMtif/noaTtXWd89dOF4eVAUqCFTT9ycTlVf0/KeNtvz22x3dGbSweKp8+de+6oHDdnp7dzaevn0aTMwBHYAtoACkYzKrDipkYmczRVmIKB0ah1ba4u8nk9m1ro0TXSaZJkxCdm6yvOqrCwqRVqpCAgmYOsPvHXecEvM2cTpFRFojwaT0ConoKTVmtJAAiNjNSzbkO6hnyBU1Mf4VSsXo/SN2hCbjjfx/k1tiPhnhghEAJBwyjyzaO0dqpBn6kRRQYC59eMC3B0LO3YO88IJgONKGyJNlm1Vl9ooRSKobl/bnld5upDqxd6Ng61LBzvj+QGYvJyWv/7Cs19/9t77llbOv+aOi3p88Hi5egZPbchz60fXhsnRQe++lz+olFLozv/l78kM+TNCfupX5B/+4OD0guQlZ7VTVQ3A4sqDR59M7zi6v/m0LobTj/67977n8toge+Ttdz19desOdAtv+vL5jc9kycScel09yS2kdOb4ZPM2XXd4ZbJ6ByUbQ0ihvniJjbW9gVDSG7nBqHrmwx8eLIserVJCeq2/9WJOCa4fPSrWZSOTDYa92Y00Se551ZuefvH9mPT0as/CVBl77r4zX/q1r021MlLnVy+7/enSmTOY9irnWCqjBYGItQVRKNZWTkCT8QAqy7KurbM8n5VakU6N72YPwM5BXdWVdcooVAoQRZBZQISdOOeca5Pv7JhDvVIToIzMFLPw0DQGgwYUnXhP0JXYcCYEYm34MxCcDmXvEDfAR78qXNSp7OsKzghSaQMNTYRfBEAIVVxbAkAijEAdu9/cSNiF4hl/ag8iEKC1YtnVdW1dXVX1PC9qdjpRvb6qq6KoKtWj5eOrFdXb0+2b1/YWTvVW1lfOfMnS3uXH3/+Lv/yOH/yR9VTffce43smvzc6dPt1/YEHdOrlx+vhSlqRnz5/uDRc10bl7EmALRO/+sd1/+y/GBE6YDiau/uxz6y8/Vs/ngtWlyXb12eev/O8PPHiPvPfPtnobC/f+5Ze/2L//rrc88O//7Y/f+4lfGySj/OLHl8177nvX188Jjr36S3tHFqpR6Wp95bGtta15/8Iiro/50u+VV7fKZEMW7j16fmnXLTz7B793/i1fVBbmyNFlLK2S/d7CESKzfu7U4jP7lqpXfdH9Tz+VOzfrj0+uHE2TvnvjK978ZV/1wGxr68rHPja5epOrWoYrOwXqZJRkerg0SHuEymRZvxZbc40qAX8OiUhVliJQVza2tSEgZMfEDhQ5ZkHURgOiILBj64QZmMVZKyIEQr6XVnRyJIZ5QiVc7HvgMzXSes8eJ8i+OwR2oRtNL6KEGugmXhoZFCIgY8GdwF8gN6P3IzG9Fer9yMePoAl6SWwqJqEJDsYjb2M4IXp9oVRAfCt6vwsqjhsoRahJG9TKczmTUY7r2Wx/Vic6y3Q22J3sTPamtRRmaLKlPhkeDurspJ69eO03Pv/+d9z9yBedX9t+cX/y4sLL7zhx5wJdPJl+6V0LKPTah9aSVCnEVM0nm9Nqiq/5hmR/r1waG3HuT/77+975N19dFQflwd7mlc99+OPPVjuzl7ud9fMnPvNb9v/+hf+ozHJ5/dYv/eTPHJfhBz771PP7z6O1M7arT/7nlx09erN+z9/9W9+Rrx85cf6O0f0rF5/fX/jIi+sv68HaXbj31PZjz+tThVm5Y7Tcm+fJ1c8/Nj51ZnWpt3mpcrSo0yVt1PoZWju9eXL55OKR9ef/5wc05v/gh74iXRj+nR/6toPt6bMfe/S9v/petjUKjIbj46dW6v0bqbm1vLown/X6C8PeQs+AAq0So5ErQXGgWBxpqquSSFnrfLy9youyskmiTZIpjUgo1jE7W3NdS1W5MOsCSqEi5ZEWSixiTX2AS3SuJRrfCMEGVrEGAzruTpOpZ0bEUOTe3EpAQHQ3ON9+mHT2NknEb4Plbu4q+j4BpmG3XRtVaBIHgTZZvJ/O7Pyp74jI4iR8rPiglmN2CMyurgvwTZaFq2ouivVooNEe3Lw4PdhbOb68tnp2du1SUchexbNytvH6kxd//YU/es+fvumHHlrMRo88cP7GC9dUki33069588n1xWxtlCWK2Dki2bt+49QdR+b5bJDI7RsHslcmmdx99PH59rC/crS4/sEPv/8jg7UTRX7r7pPbN93r/8XP/tCgP9BIdyxN7epk/YT+S/c8iEeXewvZ7me+8OEXkvHpewaLR/7Lu3/7jV/5dZeufejhV7766F3Lty/nW+/77OmHC3Ps/sXpJ5/76J9kJ7aPP/LgaOMVs9tXZ9evTis8eWz94PJzeP6kShf7Swtv+IrXbF+7ceXzNycH19/4srPLG8tFhT/y3f/P9OAySqGUOn3kxMbx44P+EtvccE1oZ7OqEiodF1U9XB6qjAwYQCKthJhAAB2wADiBGgDLsppNCxE2iVIaCcmJtdaWVW0t11VocUtESqEiVAjsjR1L9IN9OBNRdQJIYZKlCTxhkxFvFV4k1sN/5NBPHnGoG53a2vfGgffAjc4RRtserpEGpPHCGEpoKgKaYikWIRYkYHEYCv1BmAHBshUBif0oLLNPM9TO1q5mds6x9bu5ifuLg+lBzlykKR0/c6w37t+a7O9d3V4c9If9VZ0VJ0+ef/FjVybP3vyTJx//ioded/rIwtG7aWllcW1lfDbNxr0s1STO1VVlEWwis9nc8fzpP3j/fa+7q9q9uXd9R4anbz9/+URWfep9nzx+x32Xnnp+af+FY//5PeuyOHv+aj7Zu/zvv718urj3p177dV/+hy/ktgZJTL+/sNAfHt//4K+cu+eVb37Dqz/x6Q+86v47Pvv+3966521n71jpvfKRS5/8teMnb/VOHj9dZC88vfXihz969tVnl08d7fV39h6/PjbJrevXZlc+ld3/FpMNtdFU1h964k+PH1v+rn/5t0DT+//dr08Pnu2TevDcPV/x3d+0uD6u83rr4taNS7cn08KJJXKlrWrnyv2DaZEn42y40DM9rUAprRFJGwBMhZxxTEam23uWWSnlexGURVWUZWUtC8SNyIaMQSBSiCLi/DmRLKFIzQeHfIsxv9UnpmXaWGYT6wwUGCrVYweFLkaboJE0LwNAk+oModXWpse3YFf+SmTlYK2xIUkAZvZnv4qIP+RYYq1AU6wE4lvVsviukwjod7WKkFIe9YoUEiIB6Yw0KQVI4iQ0Gs3rvKzn2gxUog/meb0/A1R2JvOd+bX9zUm987KTq6e/8sLT//3JnaqwAv20d+5uc2Rslka9njZaoYBY56q6Fmt7WfLkk0+sDnBlI9t/9mP9pbVkuHHrqUepfFHd9/a9AtbHd16/8Zkf+09fhWZZI//A1371u87Rkbeqt/1m/hu/+qg9vlQ+eatGXUB/f/Mabh9ovfK5x564eEu94bWnnnj+hdc+/MCtm7d29/jeC4vZnW+/+sF/ffy1o2xl5e43jLcuTuYXLy7cq7Llo0ePzZ79zJMra6vMIHYOOkV2SU+/859+s0o1oJDYT3/kD+5f6H/r938TrW1sb21vv/hiAkk/ze6853TlaDKvblzfLA/2yjoXUnXhci4meTFe6vUGSZJqpbUxKkkUGS0odV2DUk4qQqitm83yuqwZQScakKxzWhtAhaT8/jJm7yZxOCMZBGPTbvIHWkuETbPNXXwesPWQQnQeGtMau4YGudDwYdfzQt19D7RRyojADs6bOxzKukNIGcRtx9H8h2yUFwDt5R2aFkBgxyws5DOegoiWwVnrwNW2Kq1jV9a1Y1JICrhmqTClbNxTiSry/OjaeGNt6dKt673VaSm7+/O9W/XTo8Vx754EswkpRsEHN3q6tFpRYhQA1pYrdsbopz712SnjHXedvfjUs9lBtbBxtt7b5Fk+2L519J6lMt859YpXfejRp77+5QOhO53d233TWz+Qu3/2Cim2eFa4r/qPF7/kg1+4Phzu/p3cPXFV+ADm32iLCsG4mzc+/omlN72h//jkudfe/yAk+ukbtx++Z3Hwpd+18/H/sHKqcNWNhd7xZHC0vrYFwyJJivXTY7O0MS1kuHc1WxCVLYyPHRMkW5fOFe//v3/0hUm+kshP/8TP35ozMIyNuWf91CN3379y9rwZD/tMJ1bXlhYWNrdvz+vCuhyclHkxz3cHi1mvnw5HvR7oJFWklMm0SkglJIio0Df0SlJj+hkqLMvKnxSPUXRx6HQbXZ+W7ACEfT46ngTibWF0fKIqjS53VKJRYkbQUXS8Qo6nEZ3i+4NCIxibJRD75oR7t5Tb/sFmGwm2tj2cBe2/QYPEIKcZfFKeEeIvGIAFXG0ZfQ/AYAFYmLTKNDGqhAVQ1VVtFKFJchEnUJa1E5q7eufW1tbFzfWjamFQWZ5v8nWltukYFwsHaKQnMDbJxZmzAInWjqUUywL/63/8ycMPrh09srY7zYd6dPmTv3vhXV8D4+H8jz5178P3j07uoatcsbB95dL5d72pvnFd3/zN772tjKuWvv+ec3c9Jc7Oxf72V+3zUp9vFlL9beFrIkOQbUSsiurGpWc/fPQ/33Hzf5ZP/crXvOtbVjb0o0++sGxg6fwb8vqqWlnA21fcjR1z9Hi6fDw7sdA7Mbny3MXbmxVPdo4/YLO1O9EqAarzvSuf/8CHnq2XxiunFnBhaeno1GlRyyZbzxYnl67Ai1uj1VPZ2ZPDs8sLA7Wwtnh7/+Dmzc3CThSlVS27e+W84NLaYW1Go1QlWhkNDMpI0lNZlmijE220UYA4n88nB1MATHuZIsXOb45nEfZ7O0JQnP1UcxPRjAEkiAl7oDYs2uG/wzgK1vxwfLLFlQDEoxBbym0C7x50TeZdOtzprXVMVYW1IoF/scuSwfpHT5+ZKVJrDKQBAChN2vcCJ/QayLFzbFkcA5AC62pUbMGROOscJYpSpQCXV3ub80lVFVPWfVXzwE1UrrnmBZq6GwxFSuPcMqbaeb+MnYj7hV/8o7e/8fT6xqpWau/a/m/9/C//7X/yVyhLaIrH3vyKZP6ZRO9WarnOb60Mb9OJb7fP/Pzk155/Rpnf+NElHv5mzvcxl6D+G8FZqg3XrxLJRV4u/AkABwKAO6x/+9an37X2ze/O8H9//Pf++yNvf+e9dwx6ZmfvqUvzre0zr/46pZTCkufXnQz0YEUkH4/VrWl+5VpZTT929MK14an7hGi2u/nM5y6duP+OldvXTh3tVbXayI4MBmO7Oale3OvVrAprqxvzEmbbU316WS+b9eX+YHh8c3tne7IHoNjms3lZsyuripF1Sr1BxsCWK1LWZBkiMohzkufz+Syva5ekRgCryrJjQFKEpAhEHAP5feFNptFPqzC2pBTCQT4LFZAjISvVZtkbl6pxdVrUxn8ggA8zNeFRX8rR+D8RSy3hQyM3INhujBY9YroNjgGESERk0rAYQfzBZ0FsW2YRK1YcOyIVqg5D4T47f74CACMCIzFPqzzNUhFIMxoNVDJchAQnt6fpCUbNQuIQaQyoZnO7IzQqrV7JFDs7q4raye9/9ImXPXT81JmT5WwXK/r/fuZXXvsPvvLIXQ+RIywLe+kZPbiH55+3VX/z5qW3v3YB+Pb1j9765IT+zQ+9+sTXfu/f+NqfUJiDft782NrJ79CZgmf+0nPF50oojoNYYRKwAKlU78ge2pp99sfg7WZw6k3D/o3jRx9Ms+PHT949vfQfP/Av/+GX/9PvxewUpOt2++nLH/+grbl0ULLZt2w3J8OFW+nKEplRuXuTqXfxuWdUOb15w23tO6YrCMlSunxE9detcsV0XMyonBbbPb1/PDu/mhzvDwc9c/xIOunfur19MMN5XqPDycyCLk0P0EBlq+l8rrUyCbBlIiUsAKi0TrVCoqq2dWUVkkl03KwjiKAIWSieTu09JYZwpFs4/5fIn9kivuqui4oWfBBp96UZIv9XuztPiwBQqyubeBC0bZUggtgzYswpAUNUm02sPgRspekPFepCANExA6Lfb8QsLCwM7MEHKAJE2gkjKQAR549ARSAl4g9WUmUxY0IGLut6+8Ztru3JDTGJk7IsLheTsyBjcI6EUCdESJPqVi89acBWRTURdhXdvD09cWx9YQB5OUu5+i//6ufW/8m3/JX77zJkCNEaA+MFShdwOS0+/qlzR2R0/MT0xuMvutWHv+lt88d+Z/Pnf/Cjn30S1H94+Or6H/QIEb/bwubvQn2BmP8ul1dB3g0iAAXqH6o+f8e93/eb1x7/N1VxMH1yduLIjcHor4Kkw9Pf/Y4f/sT/+t4ff9OXnhq86Z2VZKP1tWuXLm3dnhmT9vtLw8U1WFisa5J8r5hbSvDIqs766zodbNh+XlE+xUFvvJau9nY43dlT+ZYmASomO5dmMEnzpWRjQS8Px4NUmRW9r3GfqjK3XOc1sXbz0lW13T+YD0cpKHRV3ctSAOVYC4K1lgVZrFJKKaJ4yiciKCIO3cGRIDrCHYj4l2LKp0OysWINWuUHjcVveuBL+yaUaOw1tJGjQ5GobuK0w8aHyz0CE6O0iyHkpBDDkfc+10S+Wxo7QN+gH4IMjVFbAXAh6sQh4Smuqkt/6AewI620ElSiExqMslrhZG9255E7FlJ4/9nPbr84dQcoACrRZFJyypbi2KC4ssr3D1yF1am1cX+QjZR25ayH8mM//YG3/OD/9ebVRKlUaw0iSTYw5+6upy+y3E3mC6dP6cHGscmNraWzp/pKfuHXn/uurz+5eubbv/N9f/lvJHyD6b4znN4N73kflhf19/7Hf3r9B4YCKgyT+/eLq19+7T1/5+/9+Nfcnl7dgNN/9q//9MLGB+/6B/+4mm+XB3t/6Ue++o9/4eODF3/nld/6Tj26d/HsnXUxufbck7q3WjucWkgcKUprpQYjuf/+Y9ODfOLUiTN36N7QqMy6ZLInuMOyNZLdgeK5lrqa7e8ebE5h3pdcF0OzNEx6yXDQs8DTua7KQhkixZWFybQuS04HMC8qW9ZZmgCTravolYMOhcLoa3+VJm//0Cs9IkFhx2GLT4BnxJcXhwwQy01CUDIynHSz74EoWy5tUlX+Go2RFKXlypBGh6ZTWPSAouBsyqG6tr45GUSa24g/WQbRn0rKImFzR3xkb+gZwIUAgIgIKvSJJGUQCUBpYIcKrC1E6Xou+wdFXvLmF65f/uLJqwZn106ubj+zL7cx7ZukSMlmWGXGLFhr5+WsKPvX9+an11eBKDPAts5U7//6H1e+/0e+fT3TPa21UoieFEgIYLBuq7nav7X+yreUlVk8OhxvFJsf/djXvP1OeNs7/zpu//J/vfmP/tVNrt6BpOefvPgzN7OXadr5Z3PS3y71z/rlmSheleeOL5Yf+Pn3fce//IoBw8LrvxsOXnzi7//IhX/8Vwg1LN7z+m8bXfvYY5/+7fc++PY3gR6aNDt69syNJ56dTkpIR8jVaGUDUkNYXn/2hS88sb+di0qfXl4/1l9dN4MjODox1Auk7ep4tFDJ2Jj+oqmmB9dnB/mtKqn6phrphWGhjNaUZWmamGSglGZUXJTT2hKAnkxmyFhWlTh2jpF8PZIKkyVNI2yB2IjJ97P1P/gzMwRiAbtE4wwQM5y+HZ4gkD9/LkIvhO474dDGT2+KUfxS8RCTaL47Zl26lNmGphq/qaHYht+xXUghGA8ht0nxib2bh8LADCiI1jkg5UcBEZDQOScoYtk6BmTmOkkQgEhpVkgqLfL64Oak2qrf++sfvedvnTxy5Mhzw+vVjXq8MRxWPa57tuotZGfA9vbLg+nMJb20nyX7he2Tzgv9uy/Ij3zry5cyk2lSSNSocL+uSEF5c3isb9bOw96W2785VcsHE7vy2tduX731u//9Pc+++C+knouAMIjdev+F73k//CEhihgAIkStepkabAwuHTsxfnFaf+69H3rHX355mk318mse+A9vffE3fnL9LQ8V5UFv8cKZt98zeO4LxbzOFpMkG5ts8egdop57/trWbDqviovXNfJstq+M2TiaDXMqRfcXeut3PXD+gfuPrYxzpmub+e0nbxbXLjMVY1P0R2q8K3vzeTkrDRXgZpaUS3uO0fTSQX+IGkQkSUdpbyaoy9qBc/N5ASLgRCkCIMfWdyYRJBYAlmbTGRH6cEusuPBzjy2IutvoYh1dh+bC+YPYaNDYVKFrlptyD0DU3veOzeagoUY5JAqat0v3JLDwFg8saBEZfo+hpIU57GEFYP/gLCK+UwMSabLO+b3MtmYBEbEA7Pv4BzQLAYNOTdZLeguDuZ2snlj7xMXb89szJP2206+uvs5cvvj8Qtobq8zWGmjcz5PZpFxIF0f9FIvsyuZktddbH2vpZd/26h4LGkKFqMhLLEYRRAfgQCYyf8qcvJ/3NlMl06nMyxsrp/u6uP2pX/zD8315IriGJLAE9k4fsXYCANZvhBBQv/S6hStLWwsXkjfed+elP75VXJ6k5iKQuOzOjS/9qud+6xeWlvXjz+eLK2NRo60iO3nXzJzYUGm/v7C8cnJ2MH/+8o3J7VlRl0Wq67vuWnnFFz+QLGyY7Aj1NsQsZb1xkqQMuLAweGqgb2Vy5Znn1wSGi73x6Jjbu33rYH8ym6ZgWVE+nTKppMzGi5nRqQAmSX+8vKo0sy0F69IhiXBdKccEwEACLAKkjZN4NGIoA/VekSCIIvJ+ELuwiy661hgODfH7fKKtbV0koEaEtjGoDudh50gZHcVryMCH4FATUPIkGhuNhnUR8OjXBzd9ySnurfMg9CD2Jx06K0ojABCi9d6SE4coAk4YlUIRIjJasbDSWikRcMoklp0IsxMrVJRc2FJlNCvyZFC6WTG9vPfj/+4/fd03fXEf+qvj4ymmx8ywn2bXb9lBut5L10fZeF7w5YvXhLOXv/6e1X5/UooSmZZcZ66nEYRrZ8EKzq/qEQEucz3lCkBntPsFEU6W1ocvbqWjWp2855Fjfwjro48vvOv6039QHWRc77INgY5GiSHwmX79PZ+//sBx86rl6enHL3/RazY+9HMf+pK/8SrzulPINzA7ceEb/25x5Q9eff/awfWnuJb5dmE4V4QqW2fZ1b2FlTPHb9mr1cHW3n65dzB97tnN9eWL9zx0YnDyfH/tHlq5P1OjRYOJ1v0era8N4M7VW5xPdvcszXo9GS8fr7b07u7B7nSqtCot10Lj5fF8dpBxj7QxigaDgaAwJ2xLpciVhZAwOEQE6zw7uVoA0QEoVKHqBxEBCNpjk3wjJ+hIQe/fd0LvbbYnSkAJ+q/xcJq4TyTJRihoaSkvjnF7XfsHO1tLQ8wAu8waA17CiN0NKnExCLMD30dFKaosOxCHKAROEJxDBOccg7BwnldI4KwTKsXXKIgokzhntZaeGhUzt7Y+6p8YF1uTg8fzLzxz+f7zZ06fWqtyqzFNoL+g58eXT46SYZGXTz/x4uSAX/em1/SMBpFE+OntUmV0tyLrLLMjtvKRf6LvXwb3TnabUtHt3/9w/3SvtzzEIw+jLRbvf1jmxzh//uibHjzxLN17cHHjB77/yWfg4D2/D3tXBTxPCAIowpU0zUUSoqMr/btW145vrK+fPXHqJ15/+1feR3WdPXyG1laBVvtnXgswzE68wZa3XXHLTmekM+IZobWTnavP3XCOKUGV2szw/tQ+evHg+RvPbWxsnTx10R7fWX/FW06dPrpmwBi1Mkzy5f7mUv/K1dtHFwdgqlS5wZE16aeza3KwfzAv66J0rHCwMPDEUTEwICjUSrMBo9AoZUuNwGBrEGTHTRhTBBw6Cq3rgDCeXY0IjoPRCMGkZhNkY16hs3Yxph4BoPl96+r7lE6LQUDoHOQFoS6q+7b2vJnggMUlEdDaPCc2FI7gk0n+qLHu3dgxAQEhCwCpphqAiFjYOiaFCIzCRhtQqBMmo0GhSXVRliYxzoLWTicqGR2569iRO/72+V/4b7+TJsm5I2fvXTw7NH07hoMSc6eIYO9gdrAzkRpltHLq1AoJlLWd5vXOlD+8C//wgeG8KgnR8NT+zjvTYyDZN4MksvWD5SdXHr1EX/S2h6SciB6iwnrveiIH7sVrlJ64+47iB+6658k/+6l//bs36rrMtWbnhK0fzh7hrKo++f+9PD0j/aVzdfmgciODt9Tw/MZ3fFfx5MeqW6Up/6c6/rUsw/r2J6h/XvWOo+6ZAYLkqDIwSf/IWnLt9pXHrpIy43G/n8Hy2oAA+0ly5tzq6Qcf1osXcCgp1onoGkgr6g+TlTMrNw8Onrv44lqpjh9J09Qkw/5waVQJT7f3LfC8cjt707woFJHp9RwAaqVNqoGM0cLamASEua5cWYmzwiz/f7b+O1636ygPx2dmlb33W0+/vete9eoiW3JvGExMsU1M75ACJEACgYQAoUO+EEKAhC+YhGICtrFpNjYYV0mWbVm9XOn2cnp5+y5rrZnfH3vv9xz5+zvS1Uf3vPWcd/aznnlm5hkBYS6nN5l5em5yWWSsKqL1FJ2UiXWdT5dZL6LsBlUpHJVJe6067cXN6mEVGJfHua7VqdoHf0/9clc4qEpHQJX5k9RSa3XP3fK8lK4rVW1d6hH/qoew3FqutfiyUsRMTAZIaw4MwtYQau0ZoHRlUhSCL6lqmvnJsC8S4kRvbWxFkb/n1C33v/11L3zx7FOfu9A7unXLkcPMjevrvp/J1lYaxebk8cNRFEGB2WA41mpH3CQLD66Eb75rcXsybhmKYDx5/3c2Wg7OHBOOZeXb3R9MBgvmJe94i4zWNWwqvIH9avHpfzBveou+9Y243I/D56++58Mffba35PjWRVojWFn2q0Xlv3vQ4l//5pn//JsvHDDJDK8OsofedLxz4yGZ++YH6IZfi+4+Sm5dsufBXaH4Hr30Or/9KIDFeJZ0jKolEAh1NHfs1B08QX31+up4OGIpgh8vr0+WN4oPP3Bl/18/e/tdN5964zvoAM0uLMw3Io3YjqPDi63oZUe/oEfbV3dUP1+c0QBoEqtjTcYYNHGnxaQGowxF9KRwIZDVcWLjxEAjMVoDkVIKS8MQEQlByjkPFhBmLNtESuFJRICgSurLQ77mnXUU1FkR1op6ldhwVQjajVEomSFPgRJqEBZEXUV3NYq/KxJUD6vIJ9fUoCYXuy0gMg3mMqGpGUf1TqfvTspLjgWZlVJKJHcBgLxzhAoIgwv52KE2uePCB6gWIjpG8cFpo4pszC5Le36wMnlka7T0rrl79h0+/eZ9c1a1rPa+WB/kK+vXli/3VGz2H5kbDnvX+k6R6TRbfUizoQ1g7j08V+RjRdJwg2t//J+PvOmwLJ0JEtT2e/xvbMq98+1XvWPwp38aveEkmnmkEP7uH9tv/GpodCEdmPQReezR2+5Qv/aOQ+qMonhj673b/+7PiAULhq/qqvvvnHnbT1452Y3f9Rp7y/2t7g2HzVyTdra2P7I8cd8THT4YHd9vj78KLn2mccqAuhHiWT+5BlkfFZBpgGox+JBvUtgyOLh4fmM48mk6UpJKyNMsG05oMPHL47Nzl/7i9Nu/86Wvmp1JJCIUxD47b/i2O254rnFt+9Jauj5oxeLzfJwWmeNkptuZ75CAGAMg3vvJYFTseJEQN6LOTLvTacSx0VorRCIFwpqQjObA3jMpz0GCD9MCZd3WgVMELKVuqEeUqgrSVLqEXcpQxV7prFgTxl18wxdxR13zhuqQxorV7ulBruG0HL0EAEKsjc6muCm1a0jNdysVTPbgNjILKkIBIklimztf+CAK2XllRVnlmQWo3W0FLlBJFBsmIKMKN7YWi6I52NnUFLwLxUQ9/oVno5fobqOtwRrVYAAT08FT+8beKY3pePTslRUTdRYP7Mvy0craaHFubmmmGfuen5he/9rV85+5813vDI1TiL3wzC/y765HX9ukl52WT//e7NE2hA3a/yq48rC6fo3ay9Ts8vhJnN+mf3aH7R5wvc+PH7v4Z785/Ntt/uW79ckfsvrgkkSzg7P9h46cSk7/oKg2QFkkbOCxxeT2C2Hzj0bP9Z/94JPbw2dufMXps+/99dtefzxeOIWOTeeAtg3GMUR5lm6l/SGTXlxcuOGG0YOfeqY3csbwoUV9663zHrTj9om7XtU9/vJ4ft9ikxJNPc8TlgzQETUb6tYz+5djufLk+eHmsEgH/Z10kuadA/NMKB6b7UazaUSYrBrsDPIsdz4M+sMiy601xmqtKI6sNWS1skpRadQWKAT2pEIIwuUyb66yw6qFskaysjIp0z68MquergSZ1jtxr2lCGbYCtSKPU4kI8Ed/9uemQQ7VsNseElBHYB3AUpaFqHaiLV+3fhBXLvsgAFKCPwugQmZgEO89lN53GqMkSnM/HE8y51VMOkIgMFGSjlOlNWkKUBTMBQcfJj4fgk9FMBuk+4/ONmdmRiMygTRSKFx/eyeQOOCtzTzfzvLUqyiOm0ln38KxMzdQIf2V7cXFxfm55tGF6EC7uXX93Ga29aZ77+vYZqLRP//z/V85v/9mafzwTSB3+o98mDqk7ryVXMf/7iftz3892DcApzxacakNrl9c+PON961eW07nDvgDbzfByPkP+CeuqYUF8+p3LTRufi2MXiieujTZEjUX2TiffdP92PpREQ3SQ5iMnvrDZz82XnjFG5/4zN/f8Yrbo3bH4rh1+CbQCSVzLGHjyhee+KdHTt560rWT9Y3tx754dnNjjJzOL0DcjftptLJm2sfuvf3Vr509cLDTnhmQ6gfXFgc+y9w2eOgNRxcvXl194fLG5eXe+nazHR06dZjIkJjFxZmFufYkz5evrKajkUAgRK3KtedBEAlJaYoik0QmscZqMrps1a2P8lBuWGBgrmREkdJoNoQSIas9gnuYaOUPy8IwnW5HKhlqiWFcGerUXjlY9ZnqXSFpKsDvafnE+nSuDvO6Hlrq8IS7PSTTrvzyWOcKjhHKbZwIKIikyr5XEmIrSWIEo2KncFnwjCrSARyQGg0mTMQUCi48FlGSswyN8nHSjHQjSVoH9x3nBcjGuSuYCGy7tbXV27p4bXC15wNRa0YC6LnZxcNL49527+o4jMYG+dThkz6451aWr11d/YrX3R1AsvS8zh/7w19d+d5vbCdvOkqNH4Lh7+FoQidb1DyE/RfMj98Ije9EbEp4gidPTp5eW33wkh5M2q9o3H7kMME4bA7Th8cn9ttb35VASN77CxsPDd83o+hYi5yWA60iIvPUb3/ix3/ySnL/v1RmP9mTnZf8/J3H/v78Zx6/5yvuf+SJ8y+5vWva+zi7Hu27B02Hkfaffp2mq7/6c5+46eRcNGMXZhobyzsXl9MnnssaLfJBr+5Q/vn1hx9Yfum3/fOXvdSenu/ORvHZiU8nvY6wCzzyhW0l1LBZ7lgk7iYB/GArW1xaaneTViuZ5AWQMknC7CNrrEGjyBdFnjnvg3POO+9ylxkVW2W1MkohlWNJWPHAshovIsxYW2tB1TKCsofa1S1Hu0e91AKVVDaOuHvUwm7BqAw1PSW2e3N72EsO9taY9qAy7v4dQYA57JasBLByAaeynotEIKIIAVThPANkaRGjbiQmSLK2OfABNVCkKLHS3DczzjLTNsEGF7YMjTQaywrZ+DCj7cLmRjHbbsx0Ws4Xg+Fk+dLyzrW1LE1bB5vJwaOYdDnndrM16qfblwfFxmZ7dmZhPi6K8bg/SjQxjVQYru2c26fHf/6RZ3/4127Dhbsouhn5YRldwBmNN72ZXRt8E+J3UHEVrv7Ixn/d3lgxB18ZH3vHbZzcBAAwvIbZFsyszvzHd0LjrcI5Dz7y3X/W/a7xZdEK23cJFSHPQB19e6Y+8EM/9879j+GZNyL3Uc3F828+eq+6dn14410vWV19IYoP8igl/bRdOk32hFBj/tS3/JffXPxfv/xPZ69mNgnzs3GseX1L2ML+/fHimn74mWzY2/zSx67YpcX9nXghju9ptS7A4vLG9WFapGM3TodAEIJrLrY7i62N1b4Uen4/iLiiSPvbW0U20oZsZG0UW6vFeWWVESLtuZzuEChcCJ6dCorAaDJaI1ULg3erR7AbLzi1BCnLc7WiXg+47UpMdf/mi+T76RNPuSkCaqgfhnvja5dg1tK71JG6WzytQrbiD9UW8xc1l5R7yMt3Uk6ugEIK6JldziLc7NhOp5Ez90ZZ8MG7EEiAIEgYbvY8jbzbAshQmDwdPzZL2EzHaK2FYA3Yc5evPffwk73rmy7P7GzLtuOdi2vFeFUpGjTafuy5MErHRw8vJlbl/c3+5SvXxpOF42FfEzYHhVWLP/iN7+6H9Xl7N8LDEJ732Wx+7GY1vkU2n3Mryq98Aj/wt+/7bPYtt8mtv7cUzPdysc7LD7jzebGVxS9/adj/Nj98gIY/P3jf8kOfHNz/o7dEN78GwhWUC2jeXPQ/79f+jGZe+a4/+M8Pf98v3/cbGve9EnAFoB21jib+80NqzC0czDlQc2GyfNUXI3tAyC4gNW3nbd/3k8ee+fzjTz52dZKNu4fad71EkjbOHj1sW6e/4trkl3/jie0rZz/xf/cNv6P5ttP6eGxONdvi5pZ3rq5cvhyyfOv6hhhYPDZLJsnSYaMVzSw1k4Ze21y/dvFSnhU2tq2ZbrPdjOMI49gXDklx8Ox9OeKBgsKhCKwZmDkEJiQi0lqVmmcZQ0h70g0BoOlnXsftNArrwJiqSDLV5WlPYO4xudnVQafwW5/zddpeP88uwtZ1+RqXd+egypljRELhqllE6iXeAKVKb63mvHCepYDJ2EVo252mIxqNJvkkC7nE7QQVAWQa0+6s0jomFYlrquiAVbMzpttpdHvr65/7wiPXz18qsrFtx/FcYtpxYGYf2nMzqtlJN/shYCjS2aMH9jX98NyTKyuDwai47WXtb37zK9vdEwe7hxQ2+4Mn5xbfiCoTnzC+w7e21pd1/6PP5atP7Lv/pbPnP5qt87/8+JJ0fhLkjHK/FX7949nloF63YF9y385Tn4z0g59878ZHrqbffNTc/12zH/2VR1fGT5xs69Gsjc584v63f1Vz7s68/3zRmnvle37omW/5r7f+90gd+Qqf7kCx3k7k+lOPXd5WC+3NY3fdBt25dPua42dVe0Y3mkALPujDZ06z+Ae+ePnxJ9cmD/QLoZfevPLqr944eOit3/Vjx//nf/vCaHX1c385N36nffcpnFWyELVmG3oV1dbKzsbllaVTi7bbWn5+A3V86OYjRw/PxiQXzm8Ph4PgvGCDxiYZDZUEbSwpjGODaL1zEjh4HwKz98AsHBgwCLKIRgk+IJbtFWUvM1QxUGNWHaZY5k11czqWg5FTXK2k0woe69O/1kcrjvgjP/vzUDXoA+yuP6xE+j1CPWNlPs/lN/eon1XTXFnVrJTbehkugzALKSrn4VGhFwHC8SQvCo9KmUTZdhQUDkejSeoZOOlYY8ZxIyMcuWISQKOe6e8YE+278eRNMepnn7546ZHHhluboMm0jYq0sgpAbGyCqImnUd+ly5uoTPfI4vEDTbpyVfVGBfO9X3fHu77iaxpRN9IxumdRH3PFhm2cUXId88cD3HH105/5+f/11C98d3PhVlaqxdsX7G2vRPtOkAH6P82/5/14f4xf+xpf3MajRwg2Lv3K48d+6Bba/9XBWN1+jfie9H43X8/clrr68atRU534/h/A5BCPntfdWyiZefYHvvv4u94cv+Ibi/45n25df+TTT5yni1uj2e1rX/Wdr1TNeTIJmkY27gGkKl5yTKPxcCfFC1cujy888Vf/sDIq8PQB++3/9g20+PpPb7b/4k+2kZbiG/bf8eaZtx9SDSiu9TeeOPvss5/7wnB7df9NR9Mh9y8PmrPtr/rqlx5o2Y3N1c995kvbq/3gJW42m+1Ws9HQpIiUIqUURjYiQiJCAA6lf0NgH6gmdQqgjE5FRJXde9UCJFW3O0l5l7qLvhKFpl2hteMxV9QVkajGu91UqCoDvDhA69vqns7ptwDrLU3lrrH6MkAAZp6KXFJud8QqeyqHiUNgIvTBAyCQKoLXsXEhTFLnA5vImJbWsXZcTByP02Iy3Jxbgk7Lb6xt72y5qNWx3bkDh25ZaC31t8dXnnhh8/LV4ApUoFrWxBiCs5ZCgMJ7l8t44tJh8HnaPnLg6P7G+MnneeRmIvyuf3v/LXe8vZXMRhqVeza4FUre4NMLtnUaN37vi3/ywCt+6Dfe8Iaf+ORH/kXRf589+CPCY2UPoTkAIhDOyfmfls5LgrlHKJErP37xx1f6kbrpnZ2NNdz36mPu/Mr73rPztrce8s15SAuMXHKqO3xo4+GPbb79Z18Sv/rHQhCK9pNS1z70H/T26vzXfctkZyvbuvaFjzx0lQ5dfPLiaGXj3/3w3fbU3UIzKlrYuPQEKo3gs3xyfWOSgVo82Ihw4zN//eQL12Bhqf3m7/yuND7519fjRz7j/MQ2jrdveUXzzhnf5vH5K2ef/tInOvvmB8PRypNrWiVnXnHDV7/0jMtHD33hsXNPXC5yZ2zSmunOzs8m1oYisBP2LMAKlTHaaGW0IiIRkRAQQEIAkLJLmQBQWKtSbyy938vzmQBQqgF1glrRFC4bMkkqdQinunh1BhPVVLLKt2Ray//hn/k5rHQA3AOiVavHbicoANb2SbDHHJRKZzMpHfqARYiICEHKVcdl9ycjYiiHBYmKEFBRAHDMWe7IaFQixLZlMw7bvZ73o/2LKJxlE99P9cyhI7ecuSem5Pmz18899Iwb9kmJKEg6sXNFcJlpNYmCz3MWmoyztOA0Y/bp8TNH1x9+LBIVG/WjP/X1N5y6u2Fs0zgZPeYnF+3S1+vocPbMjw8+2fv7h5a/8/d/6+KTT+NH/v7MT/9rUjnZN5UbGgEIxIk/x1f+kWfvl3Al/+X/sPl5P/dag/dYXny5ifD6//js0rfeHd/81mL9geiGH1TJSUQQQWHP2fUn/8fvdpZmT33HjzEoAEFxO5ffd+Gjnz11lyniu7dW177wT5+4MGhcOLuFaf6TP3xXdOO9pNs+KwaDQSsKGJv+5toH/ua54SS76UZ18nj0wCfWz67oG245dPtXf9cVv/DgVuv6JSo2XHOfPXazWorGOLxaTM4S5s+fXeld7LX2tb/hXW86FJvHnn308596ftwbiUhrbm52/75mEifGEkNw3uVOBIFFIarS3AVQKSoLSyU4labCJIwIareFbWrgRYDIgtP1RiJ1ryZC5dNc3YR7ZPNpsQcBKlitxX7AH/7Zn8dp/rTbCSK1HAVTIlr/W3HhkgHU/rO7o6GIVU8rgoCUMx1ChD6IAASQIEJKpYVDrXIfGBEVBHBxu1FALlREJh+ur+1sZfFsa+Hk6U77gOJo+fzalS8+i4Im1saIBwLO0SitpBBxuROXBpbxOHeoPGmlMSxvFBvbnVbjXd/5+vvve2WTRkvNbOdT752/5z5KDrD4RH3uK9/w4N/9t47c9m5ofGX+pd/Xz39u/l//BVIHsQnAIANxI8jP+kf+DE+/1X/sfeGBZ/DmYP/5Ejd/BvwWr/4aGksL3+76H1ALP4n2JJFG3a1kPC63l+HmJ369d+H509/1WxwyAAWch/zZax/6r8N1nHnJmZ3V5efOr15d488/Nj7ZwO/7qbeBnXfpZJRTGK7PH1nQ3aP99XN/9eefe/Z6etcNcOdd8YVn0icv61Ovf6s7cO8Xdua2oTvss1/LGl0/M+cT/8Jtx83q6hPPfP6ynV+859WnXnnw+ObO8of/8tNb13pFljVm2t2lhaVDBxvWKiApvC9ccIGZCRUBkAAhECIwK6URgJCgGoeXMkUnhGpRZzUoB4gKEJgRibgsftYJS603TUeQdgO0LofTdA34VLQCxCpAp3hZiU5SM8sy4vaGZl3kr1Fzt6RUWtUpVcr2QigcQvmKpKlwHpE8c+G9iWzmAhoNCl3wPng05FBA54sLZnNt+fLTG0VQp19/5903vWx5o/f4Pz0a+mkjNmQ1ogCHABBFGFTVTepyB8H3R5kLPM69Y/DDLF9ZN8y33HHDt3/PV8x1GrL5iDp3YfHmheaxr5WN3+PVS3/6MxuvORju/NMP+2IYjR/+ya/+nf/nCz8G9PWIBKSAR/65P6Z9d0o2wNY+/9RltbiKzceg+/USerLxi+4L2eRZ9aXPFDNLukjpA+fzb3x953qq3/xDt8c3/TyoOUQtQswCPPLnfnvy4Uc63/+DqA8DtEVy8av9z//BQx9a7pyaSfan169up+nChz+99pojjTd//1d6THIHRSrDK48fvvsuT3bcu/S/3/vo5ubkzL7irjtbWd48tzN78PXf/U/L3bPnmjIfmZYUV7aSZjbT2bLuqvU7o/7OkTsPvv6ml2LIP/jhv7v6pbVsNA7ezR7av//EkZmZTidpWKWzSeYLFxyHwMBCgChAKASIHMqROiJCZqwIKFd+yyyl7CQiiFSuHwpc6vbIexKnCurqOAMkkWqDwTTrKdeFT5Wn8qG0N6WXspO/jvlpVlaJrLUUVfGDXc5aAy5SLYBVQ0plRbSMcELURkWRUYqIyBptNEVGW62VMkFUkeckIR9N3FjimfnFm288cfiWNCsuPPEsT1zcTOKmJmRfeGFQwESUjybZxI2HWTrKBr2Jy51LC/I5iWS9sQ9ISXTXq2/wbvPSCw89+sVr4cTdeXITw+D8b3xx+f9u3zgrN/33G4Q7Cf3V177uN//Lv9VB3sqh4HBReh/t/cK30vGvYjUvqumXn4OZLWkwtL8Hwl/D4Ofcx8erHyz6DbnpW2fAh5u/afbnfvdwFLI73v3G//NLF3/mNW/b+cvvGj//k+nKr7id3y8Gz4alt+lXndn57T+e/O0fcvoYiAM60LrnO+//5lu++FDvwgPDA0sLi4fke7/1zkc27NmPPVYMKQRuLc4vnLz5hY8+LqO8OXvkXe+8wUby1DX44Ie3oRidmk/t8NxX3tmN9sng4a3JpTRZ1MgjAdza4OUrw0M333DfqbsVqievPr98dsc7752Pmq1Gp2NsrEmz9/kkDd6FwOX2Sq210lpbrZQGRKUNVm3d1adcFt6l0hvr9exSnpxU6UpQVd13WzumMYdUWkXALrLVgFoZyO/NfgB/+Gd/Aetom+bsZZpTB3Z11pexLcwAjPUXVMP8SETl1i0AkRAQpTLCKSkqiK930HrmEFhI2cQCgWPxSONsEmQSWT/qDUDFdmFx8fCJIs2vPHtOBxVyRyJFlnMAG8VETEqYvQB7H1yeI6l0NBQB5733E6fj7as9zvzS8YWv/7rbzHhl+YWrX/H2t8LEtGCrO37ob//72Ve9Kpq9O1q4+eaoe/zBt/3vz2b0nz7326RuJXg8fc/vFdfGs//pJ7xfgvFH3N//Hc108MCiWtJQPCTXR9u/VaQdbL1abZ/FfW9vmRu+llc+bxpHpXXXxff/7/Yrf9jvnP/Ur//5oUayeEvXdLLWYW7dcxfQwfzyanEt9l88d/h7j6kz3wLYCcW13mN/+au/9uSRGXjbtxyCmTNnH+n1lycaze1vvSNZXIpbLT+4/n9+9v1v/86XmsNHnnniY//4j+tXV4sG8r03tI/c+/Lolnen88d+6b298ecv63l18C5F6RUMOan0rpcceOXR4+e2Lv7Dhz5R9Nx4e8ePs/mjhw+cONBpN1pxAiFMBmPvQ9kMqUhZY5RSCkmY6y46QRH2jFXtEEAYpcROwNJgFICQkIi5ClfmMqpqUbyG0HIbotSu4bu6EtStILsdcyAAem/hSPbY1Oye7butH9V/qErUAXY3HE/pKoJUSX3NdauivCJkEecDACpFDKAUhbrIS+K1pkkvH/XAdOIbjp2eabUffuqR/pXtw6eO5TCebPeNsdoqHVuiQAoFNKAIQ56q4AtFjTwrFHEaIBuPtFHep6bFa1srW+cv3H3nrFjsr5+bDDY2trK1rrKvPT28ch4+9MW5E4/83gD/x39ZcOF0nP/GMz/48X0n52b/w48X2RxNfm70356ytzc9OhgX7nPXBh8YXF8NZgZ9gOwczN6SXH9/Plz5wOVL7g83z7L9ZOju3/hfP//Gl9z+snuOffqB8/bRYm42MQ9mJ/72Ezd/XYsONuDUocl47jP/+fP3fcdZ85bvQ324c8cbv+c1l37mQ2uv/PsXjv+brzl+44N42x1f+uuH/v5//v03/dy7kVT78L3f/tP5D33PH//Ev3/D/n1HXn338KMPhu0teeDp0Zneo/cffvXS3MFv/sb5P7g+yZ/74lqYPXhT1G4Xh0+c7EbRufXVhx98Cn00GfV9zsnM7MKRpcV9c+0kLtIiS0NWhGycSmCtlLURApXWdNUuYGGkEnEQAYlIOJTbA0lRaQYzHfWAKa5WW7GhgjgpV8zXbvF765NVMb38QzBta67W007XD5fXyvTUnor8CLuxVjX3V7jNtQ0f1vs5QQRqkwlhKasRItO3CYQYWd1ITLvdaLYawbN34gN475LEKlDFGECajfbcXLM9SbPh2o5CNe7tuLSIkiSKTJRYDp4D+8K7zE362WCjX0zybFSEwpfOVqRVsxsrnLT2d/I0fezxy/HhVrSv7f3Fx64+udrm87ONnUOq0JOHPt27+lgaZmcPRuKO3Rj6v/Nv3vS3nUVs/+DX+yJC/4Gdn3lke7XIXeYp+Hxz7e8nuaH9Z/Sxb4hu+cH5Q6+ZM3r2yBv2n76f3/an//wvPvL9f/rBd/7ZX//qH/zBd2+3spNf+1Xf+jv/9g3fMqNb6rEB/sll+MVf3V7986t++9GZ14bxiYN/8Xvb4z/8H+wHwo19b3/9nV39/kcy5a5FcdRY6L76W+556lr/7H/7I2sdUbR45t3/5vtO/v7//FzvfLpvX/dldyQzM3oi6vEr6fv+55+FPHuZla/8gcN67mhx7cLOhV6r2ZizoUn6iSeey3pZCDDeGjHT7OH9R07sn+kkSWQUQZ5lWZq5whV5kWVFlhaTSZ5N8jTNs7TI8zx4H5wrd14QknDpc0CVr9i0AeNFX1im84i7R/Lu9PsucFVMckpO6zCsK+yAALC7H/vLX2Uv95ze/iJ6UBLeElCp7gEtXRtEpGYUZU4WuMjyIs2C8wjALC73eRacF++ZAH3O6cAp1WjPzS8u7dvpp5fOLVsdGaOCC4SotdWl8gaoSEkIElgrrRWBQJRECtFqpa0hZbRio52Nws7Vjc314YEzhzYHq09eenKTMz/jLsJgbPz6tasPX2V7oxpm4XLgyfalh//9B5e9LP3U9zAfIv+J4R+976mrYO6xfMhSJ9/420GWQfdOs/DN3eTOQ7gWq0miXWrvmGl+23+g+HFM/ymsP7P6F9/TTP/h61+98K/+1Xt+4qf/+PJm6563yvd8t97ZGZ8fFb/4j/kXfqrPT37y3u+XUdT4fz4w7H/4jyfboxQP33bz/AT04IufLXrbUce2j778jSfwF/9pPf3SXyL6EIqXf9MvHT0a//XfXthclsTgbbe1Z+ZiVtG1lf7v/8b70Pt3zeAbfux2091XrG8MN/J8ML5y8QVTuGasty5eh6BaC/tO3HZycbbTjG1RZOPhMJ2kRV4EX5YOkVmC5zx3eVbkWVFkLs8L74WZQYClsliE8jSv5fSSm7KUijhW2boACBASUKWK7wmmOm/ZkwxN77PbkQdQB2h92zT2XlRrx+ldpto8wB53qKqNpQx8DsyhcpEsO0cBy9Q+trrValhriDSACoI6Skhb73zIQzooIJj5fQf2H9rfSBrPfOnc+oWVuaUFHalinGplgYMICZAxRikw1tg41ppa3Va7025Y00xiFkATkyJSoT0TTzZ23DDFeWui/OK1jaurO9gq+mHl+uaGtPj5jXRHgT9grzy0vO7C9U+tvPei/OTXxF69Qkbvn3zsYw9/CptHTPs1bdMauqd22jo/+tW69fZZffKIXrhF79fqrpvMW797+HdPf/Er/9O/fN2j93zVc1/5bU/84W+N//RHz2ZPPLRw1D/25PpP/+YzP/HvLz/7gWu/8Vt4Zat4ahB+dYd/7cdyePqL7/rJZLtw7/njs+NzjwGHpFsEDmibj3zsgoaLpGde/x9eOmb4w194LgyeYj/yjv/FL/zI5jh75rHhzkqIUI4fTzptDaQvPvnQn/3VOQnhGw/qV3zffc25xf7V3tknL69fW0YuBmub6HxrtnPTfbccObCoCNM06+30ezvDvPBIShllk9hGsY0jbTQpBUQsEFhCvQDRl0125aLaMkPnyh9+ikZ1IE2tlxGIqBrtriEPqyLPNMOvTvo9lcnd2Nvt5NyDilA5fU9BsAbPmjJIWQGQehK/XEFSpkMswYdQzq8ICDMH9s6DQJzESRwZrYPn4IW0ZYEi9+y4SB2JjhudVru9sDA7GuVbl1b9pICQdzptGyfgQ6ORaK2IKI6ML5wv2OecjfP+xrC/Meyt9QfbA6Wj4Iq4qZdmYrczgjwAycJdC+N88/oz43RUMLirO+Pe2G94//C6HynZGE0+9azPAJ5bxvvvSbovX/T59eGDL3zhUxLf2b7huxeo2MbVlC/46DjoOww78S9cTj/6T1lvtP3+z3zom371438WfmwVboroJ07rJFYfm2A2oV//8+Fbl3KfZ+O0eLIffvhT/BPfkf7t+2hjFHqe/97x9/9QzqMXvunt6orgz//epwX3jxFHEjzatT5e+twDWqt4/1e/+sbWIE4++fP/R/wyUaKTY+/+2jt3hmFzPVw7P4asOHGi022bTnPhkQ/8yUPnh03Cb7ipffNX3h0Kv3llu7853ry8PljeabaaN9132103HWkaGo8ma2tb25uD0SgrikJEjI3iJGm2W41mw8aRsVopLYACVMpkPlR7ZgAQkABIBMo0qDRe5Gqep4zOel9wHVl1zr3rfffiiKsSJqw5AMAuiNI0Kmspf9qctCsq4It4wzT/2mUSIhJCKAO63IELVeyWs46KiEAwy9xknLuCvRcO4h0HHxQqYGVMrJW12mhlt1d3xDF4HvcnUdyMGw1CCl5ACINkoxGIQgEOvtFqdmeaSwdn9x+Y2X90X3em0epECx2brgxlIrFV+++be/NL77m6OhxvyKTvsMiGGxPi4Idh/VpIs3BtFFaBGOlKLvd+zbFej9z2P3z0IYv3337gZZrT9fSL6ef/p798Pmz3/PCxyQu/vvb8/x488f7J3/zU5gfflz20Li89rD76F7M/+Km3vusfn//osxfND3zsz/ugou6nPpvtn8E085njnOVjI/hX3xv+4ytxlEsq8GiAP/n3k+SG7IYD+dWtwfqz7890nFgK42s3Lqo/fs+G+Kc56Fe/4+jCon5+TZ76k/cgEYA99bKXdLuNprXDIS9fGRfDcWe21Z5tNeLOh//gsxupmzH0htv2tY8eMY3Zzcuby8+vIuhDp/e99M4TDaN3dvrra73edtbr556VoCFtTBQljUbSiOM4TpI4slZppbWuK0Nlu4gAIBDVAVB2UVZYWwWGwN52DvhyRCyZwHQtx5cB4+5fd2MPgaoaUH1+T++De6Sl8iKgSuasOvCksjfbrYaWGF+GoyJSSkVR1Ggk7VazmSSEpJWOk4aNY6U0ewYWq7UEMcZGcTOOY2bY2Rkqokar4fOCHaBIu92M4ghYFBIqZaNEETWazTiyCkEZ5YsMCENQeeEld5D7YihWRyfunP/X3/s1B5LO1c+PwClJcUFhWPG04vG6zy4HY6RX4HIKLHjmzkbz5Ku+dGHSTxN/MJprX+w/u7ryseyvPshPeUnOgDmNTz/oVxXgIVy6xdy2T33Ny/Uv/+WhA790g731b/Tc79m424iSL/zHO/GnLlwYmWeC9RNPIJ7ZM3uRB9cke7myAiFAzvI3G3Lxw4NTZ6SYpMOtq4PeZhAxyej4UrHZ81sP/1+f9rd7+tR9Nx++4dB73n8pH15wWd+2D3cP7jNJY65tg8fVtXFw3jRUe6FD2dYH//YFETiYmFvvOWYjywUFJ7YZ33znyUSpjY21zbWd8bDIshBEs2ilIxMlUZKYKLLGGqOVUkoprQ2R0loDEggRKUAipYhUZRsLUB/clR3i9HCftmLAHgirYHJvF+desXO3EaRKy2vlqUTQKRmYlvHrSmYl9JdFq7qiNE3M65fG3QIWIBIpIq21tcZaQ0jeh/E4HU+Koggs6BznuXeFZx8kiDZR3GhFcRRHUW9ruHZ1I4l0ZzZRBCH3LnXWRFoprTUhiGcCIKHxYOLzMNga7qyPN68P1q4PN5d3+qs9cj6iljXt2fmZb/62bzzUunE83EmvMWlrlWpTk7agNYCwLnoCnQDFUJKmRUM3vu6ENvnnn+7rRueYrPzT7z+//Jh/8Bk+H+At30iN23DjAjRjuPMteu6wFq+P/cB86xu62HoZtb59dOUfHCpDpJAM0t3fnzj63u2d/MoQ8yBl0a/sK3vwo/Qtp1UeJDCsOrl2nsmPwLOiZTUeXu07tzHq3KbmtQyfGfnRyqcfHC7dfNvBm48MM7f1/JeGO9e0aUUHFteG0IrjfbORgN7YHiEYrbLurO2du/LYxW0QufXATHe2GSfNeGZ+6dThOGpeW1m/+Pz1dJgFzyGI0pGN4yiKIxsbY5XSQEqAyqFxpZQ1WilttCGlSBmlNdZ6e1XOJqqEeqR66mhvv1ytgMO0I3NPwExzqTr8sAK4Os+ptSMtILiby9cLk2CaX0n9MJBqC/PuPN0UXHejE8uUSCtC4OADex+8YxZGpQBBhIMXDuXoCgliZG2UJForH3jUn6RZRtjqzLTzcSouABOKWGO898E7hZhn3loDiHHDzM63QdiayLvCc+HGoySm9auDtLD3v/P+2fZRL5O1lZ6mCDFvzM5iwMEaqwmHMRsN+7vKjZVG057ng8ffPNz5jPHYf+x9X3owfXAN+g5e82Z7KvKbqyEawPw8te4mP1Hm1IHmQsYwo7qd4tJZP35c3fm/yLNXrBSIwPsi/FfP/8iHTr8Xi6uCTur6sEJ84hLe+6/321+/zgCFwGeX5VbLxuDO1cmRRWAOW2eLgze7Ow+RzESbZ69cXs4Ru9JxGFkv8c7achHb2flDo+LpJtF8y1CUZNu2t70RL5wKYRLp9jOPXd3XOd5AOH78YLqxqhpLi0eXrq1sbVzZKNHRi1gTkbZaKatVZI0ig0A+ALtyUzYiojJUWgmXUxm19CNQzkeUYz1VWoLVpEcdPjjtnZOyw2lPAb3q2tidBZFagqqPddyNLQCqXnhXLqizqvrfSjSoq/F1urWbXJX6LVE1X1KNzwX2np0LAGgj02w3Wu1GnERaK2OUVqS1VkoZbaIoiqMYSaepByBgKSZZM4nnF2eM0ShSpAULaG2UskqpOI5FJLIqG6fFpCgmRTbMspF3o0yL+IlkE4YketnLX+6CnFs7W2SFsRCAj5/ed/1K2t/i4RD2tVRMlA1p/+HuZp9f+fa2tXf+r1/9QgP81cdGH13mAePtr2/OHk/CUC9EekGrOIdkXwM5lvGo9arvKEaDrQ8+v/w319c+vtb78L+67/Dhxe7MTHPm8I+5IPxfI/nEc59dVAXu6YrwLP0s/6L7f19+1MSKrKae4Na5cPeNuL3su41wZ1suXZPe5SJZitSJG6+vUepo5NobQzU7NwuNxqg/XlvreaCGtRubuRS4f1/ryKFZRC6yPKhkNOlPdnqXrmznaXFoae74racPnTrGHi6/sNbfzjxT4QVYJ0nSaibtZqPVbMRRRIQhcJ65Ind5Vgjg9Ii3xmhjSam6t236oVc2DVjZhZXZcw1cVe1x2gJfn9HTbGlvb0edxkD97b16kUasJz1r1lrnT7t3nX53GoC1tdhUMyitICviwVyCMCqlSCkkZGGXOR/YM1SeaVD2xWprbAghz32Rew5BvM9GIWs14jguWl4CCyMELp3UqstPsMg8FzjKU3ZcpP2iyJttS1KAKAH1iq9+acfY6+Otp55+arGT2DlsgHKcr13PikI6EcaA/QnmTmcem/uT1738tvOf+4nPfoHvOuQGXqKmufdmc/Tm+ayPMW/ZmLsvNbBRuAtASTS8LsWn/wgsfv7xyf4Wf/pL2R+9Z2fbg/OMiMPf7h764++w8KF02F+IdGA/PY1YgEg/8Ntv+/PHHvu2u+5CZY/P4OUrsm+fHDtKeQpvudlsB3XhWXLGmNmXbo+esNqYqPPMC1um0dbJPMvayvJ61E5YxamjLMOmsYdO7tvhfGNrJFkDjRlsbZ99zrRfcmS+01Q3HN/oDy4+f95noKI4S4OxutGM4iiKrNVE2hgIIQTOMucKH1xQilBAkTakFAIqABZXOCCY9ixjtROuSkzK9F6qJL4c1KxvL39w3uWCu8f6bpIzXT1TZelVPUkAy1JnPY6BdbUSq1FnnELobthOL6BpsX/Ki/cSXwEkpRAEkUIIrvA+SLUZEgGRFClSShtbbkJxhVNamdiwMyLMXpJWNDuvJ4OR0kob5b1XiCzEwsaYqJVYowyBATRWjycj9rlL/drySJn0lpMH8mLyhac/ZwULGcUL1Gk0LrywTgkaIwe6+Ow5X7ButOjMrc34MEY7vR/50QspW5Jw+k3dM5ty71cefe7RjdmZuVd/77em5/4hXN00p0z+6LV0M0tbyf9979ZNx3TYz7/48ezpAedBIpKuhT5DFiTt/WGBiIjXxvk0yyyzBBZhUb/0X9/zgc/+5Hd8xa8fXEyOH4ULq8GQiWepZRUM4/VxM5rvTgYjFx1szw89y2QMNopEgogO3q8tbyillFajHFpjnj/WOH262x+u5tmYoJ2n6c7K5urazM2n5hbareEotTpuNFuuyLxHE0VaxyiKAI0yCjAgheB94fMs58CKCK0lcGS0sloRlsvWCFERIUgQrhPisp7EsgtTgkhVdAJgrR+VCLlLLsv+5r1j8bs10rqCVM0QVUsLp53NNY5Og30XWKeBWamk9XlfUQGq2kDLE61qHgGksiCqtLaRSRIbRdZGxlodRSaKIqU1B/ZFwd4TSWSVsRpEiizzhZfAKJCnRTrKhMl7rlz/Qsgnrr+VDrfS7dXBtfPL/Y1+b3OwtdkvivzErcc6SWttZ7N3ca1hTZ65pGmZcTxgpSDWuNnjEDDz0G7BrXe/a3Bh82N/+rwT5Zjf8s+aMzd+LUft/qhx/JZjp1/3KohujE+/Kx3byTNDmbNp6i8+3T98jD635s4RSpNEUCuKl6LisA26qgAHER/C7tlWn14ijMpe+OAfzi69/S1vWZBu6/Dd+08caRRDS9zo3rjY2b+01VOn7n7FypXRU+d3Xv7mt65tjq+vjJYOHcvG2XAQgKLB9rZi37CYB9jczgDkhlP79y11xOXZqD8ejZxzqyv98biIlG7Ftp0knXa35FbWRBxQmJAVApUyjgQpstzn3uWFz/NQOPYheC9cphBByk3xStWr2RARSZXD76WuSKQIiepMaM9kpXzZb0D2/k6gnovfg3+V/QNUMlN9sE/Jw25Zs6LFL8qEoH51xBLhd+tJUoVsVdsqsT34UBYZhCUwBC6HP1VZYHAu5JlzufdFIc6RACqttAm516SSOGp3W92ZVpJYq7HbblpjrVIKFTjMBsVwK99Zm+xspBsrQ3YoTrThW28/Oc7z8+fOLTU6+U5KuZqJGzKW2BB54QJGKbQiZY0+erAb3OTTn8g2h3Rqn2okdOrN787TvBs1Dp686cT9X7dw6E5Nokhab3mTLMWsVPcl0cyMJBAc42Nn+Y7Xxve9OW511M4G71zyRV4xqV1B+suEaURFilB96XMf/Ypv/5ftE6e38uN3vPnGuROLo35THbwnp0MUzySdw851hyN/4tRcxjpNRwf2Lw36k3EO21tb4PLJeBzHKm7anLG3OUiMvueOQ0omKOKzcZFNehs7a5tD71zbRo0kNjZKGq1Ot220AkEOGAJwEA4cnBS55wAEYLTW2kC1+BV84Yqs8M6JCBKF6tMEgGr5R1X3VIq0BiSp98SVChSX7Rv1Dw51/8a0Sa5Ezt2mkTq6yqSo4qB7A7dCVaxDsx6cmzKPPVdCjbEICFh1tUgZnKVbbVXALRtZESAI1cSkFNUIAAhB6XL0WYzVpMkmUTpKXVa4wkdJZAjQVcWqIvNEZDQ1k4YGrWbFoipSD1rSbJvDeOALM9tRCOurq/lmvxVFO0MDwsZFkbGYuf62cMDI6pmO9dt46YXJ4NJnScc+Me/4msN/+OfrV66Mbjqy9HXfcO/CoVuT5inver3harPRgdn76O6rK+/7XAShOWvVdj7fpGupufikny/4tob6ZM/vppd784L648EKdFRsbSfWm194bOEr/tmBMy9ry3ajPZ47eSc+9qSau6+vn5w50DBRd3v1yqH52UhJv/DGmM58O83C+sZIsr6fTARBN2IPCsT010ec50ePLC3O2dVe5ilxeZHnWX9nsNPSgNKIk2az1WhY74tBf8Ic8gAaAUJARGZhD9ZGptGoAkkqow8XvASmcjougARmDpoUKqp4ZSkrltM+ZaddxfVIaibwIjpY/S5q+XLPd/ZG51RYh3oNzV4YrvbcyDSo67JqxUXLBKf0Kpcam+usS6QST+ttZaiQAACJSKGuOIFmxMAiwMF7z1U+yEECByACEefCoDfKCx9HOnhfZAUziw9KoSGN6CPQsejRcDgaZSrmwvcmk3FQeNdLTjFAb7vfNNZnaUNi53LlyHo16rNiZY3uxoQeJml+bSKD6/62lxzywEduv3//xz9+6cEnXvOjP53csH88uBTSS87lYBMVHxCKm0e+5eT3Lm584lM6D7cvps3n02w1f+C6f3rEwQfcsyZwmprW9KeSPkhZGyVznUYrVhsXV+/TMnfyiD+3EbUOmtapmbsOqfYZc6BQ2UVUSWykYTwXvjccHT66RAbHE+4PXdrfRF9EkfUscSsy0BnsuJ3r60e687fdfmLzU2cZLYrj4Hu97JrqdTuJNWb//rksHW9t7EDA4Jk0ZJMgkWVmYFGKmu24rIaEEDiwdwWKsOPAQgQiEryXUHq0V75cIoJQnuzIHEQqMBSYfvx79KaaOVaHbbWQaAp0u0x9D2JCjaDTdIcFCOpZKJkmVTRNf6TyEJ06loCgVLk9IqBILTUAUNl7tCumVpcLgAgDswhg8BwERVhpHTyTwkYcGV3WMDBuRO121EwiBSLC2XiSZ348zNzIF6McfOFSySbOomGOvEvn983sP7BvkmeDze35ZpIVY6IoBJ/upCoyPkNUppFYEvQZg5dJ4EsX4b7X3Li2vdNqtOfbjZlGrO1+pDYpvXr1S/tPvn7Cbnu8Ods+GbBLzX/WfsXS8PHH/ebG3P6dV9ywszHC9QwLCYaDYxcwTDED90AGIBIarSNrbGdhtkV8bSstdlaWjpzhcDTf2tQzGC3e7VW3cfyO1r4TqyuXC+7uX2pONgfFeHLw8Hxg3hnlo0GPM9e0IVOiLdnIqihaW99avXR96cTxo0fnFxabWz1fLuXYWu+zK6xV+/e1gWQ1z4WVJo3kUVgY0kmGgEYrG5skSay1pelSCEER+qII0xMzMNYoVKIYM2sioDJnR0SSynaz6uEoQamM4jIm6tm7aS9d7Z34Iga69/ARnB7xFajukQGmoVwjdKVblfOfUr+V6k1LRW2lnOpUqg7vCouRCJHK5KksNigCFjBWG1JKl1PYggikSWnrne/vDPu94ZbRkdVJpBuNyGqKoqhhIz1HkIfIq3GvyL3f6Q/Xtnre+XY3Vspur65LBqpjTRQPdnq6qSODk3HOBVhRhgzmOMkmHauR8Ykntv/Fu07ceOZII5k5fmzx0UeXv2pylaOltPATbA/z7QCtL1x4erT+8Ovuvt1qE9GRzh1H3fqFtvYH3z5/Uwjvfv7cP3zo0SvPrHz+2vZO7hwLC2uRnMtubEJAYxIkVERJd46tiRumk5jxtcv66Cl77GhxYXu8flk3jwdwcUPPLR5aAzt5frjQnhmlzvV2Dt15bDy+Ph7mEhwXnjQzc9SYER1rE7USe/X6zrG1tZkjJw4fW8jdlgfvJ8OQF5FFUEpr7Z0rMmaPRmutoJzxKHKnSMVWaa1E0DmPAooQFXFARGQpxRhVDh6X67RqUKwIXR1PWOXvXB8dlY/HlA8iYLURuf7GXoVjr1m97IYjlrs6a2id6knTtTWy+41KupwyVIbd9hNmLt8IEaoK86vgxkoerablpaKnEoJ4FucZlRJRIMCBlVKAqDV2WgkB9HZGheP+aNILrJVCkDjSjdhEyA2yvZEXEQFe37reG47iBi4e3u9CcKNJMzbj8UARJu12f7CCgL4QYRVpSgsnOXjPc5GGoDb7rFU2u/817CenTs1/4YGrV7/w/x665xtTpzZCJ99cn+mqO44ccvOD7ZXLx0/c02jNEAntu8EXaREoL/yRe+99991fOUo3v3N4/enPP/qh936pvd773Na4EEWIRNoq6hw4PdhaMSpaOnTLidNOeuNEm/Wr/TMyBDuLC/OTwdivXfBm0O4ccoh6prPvjlvcoB/yDJhdkZu4tfb0Zc1B2DNEcWyRrIABhKSph8PJxbNX7jx05MTxA1tb6dZ2CM7pWBlrnHO9fjoejotJEUdWNQ37YjLOJqOMABUiBygKLyEtWyiUQhEucuedR0ClFZESLhcQQJWUVDFG1Rlb9tpJXUeXckWyMJdiZU0Vy71ZUDuI1i14U93o/5NQgnwZgsI0IqsnrZKm6f/uuVP1rFAd4NVYUhWNlYcoTd8cIpJSiFjOyRMAgZCw1pqUQiJhIUKltUKKjGo04sXFrpwAQBRm5xgBs9RlaVGMU86ygmnii4WF9mSwlRVj5qI9v6ibzesra6Fgo6kk0sFnGqEIgAwYhIE02H6eWTLMTpNOLLZnTxjdDmGwdv26tfzoA8uzZ55gWJoz+fpWRtoe2X+TnjmWtUYXnj87G8czM6qxcIw5MNOwX4xEdnaev3rh2b/7i0evLQ/SiU8zaMdNLKRgRkW//8AHv+u132Z1N+kc33fs8Gi89cq7b8jOX89dK90pQhirzo2oN9eWB0EVbVFR9/DQ5QdPHbpyRY/WryStOMvzIktFAoc00uKKIpmbE52AsioyqEBpWr6+cWp7a6Yzv7Q0t7F+RZuOTTQgb230RtvDZmTazQZoYA6joYDkigi1RqIQJJ3kmYg1qLQuPQ1C8CUvKQc1QaA8AUrbwmmCUbJPACxrM3UNp96LIFPMmyZESFTPYshUZq97Q/aQwBoq60rSnqidUo0qEqmOud37VCFb0YfyoKdqSTyEwDQNVqhWIZbcmMsZJgFSpAhJVz0HgMih6i0o8qJIw2iUYcVtCEFIa6PQF0FrZTstaEXsRSKBBNJeluVjAZ7d106dGw/ypjYUvAuIyAjAgTQDp56AkMFzgeSCcM6grdx467zoE6PJytMP/iWzv/3GeMJ48bGnZ46Mh71srjGbTfTGzprVCWCncfiGzNPWaHU0uECKJDLpyF177oUnHnjui89ubo7Rh0akfKsdtVFd83jr7/zSr7zsNecm46h5Y2wOvuLr3zJZftzCDDZuoCSfOXqA7dLq84/tu/MVGO936TNOHNMq5OhMlzTMzDcGC+3JuFfkRXCjdDxSwkjkBeO44ZTyjiWAtTqKTZG75fNXjtze3bfUvT7bYZ1QbCaDXjE2rWbSOTDfbFpUNBrnwYnRRjWJQwgCvrJsCMEhYU4KNCEqpZQqY7HK8JCIkH3V9aIUQenZUW6g28NPSw1+T5I0zUBepIwKCL3YB3m3JIS7psp6Si4BXhSI9R1EpDKm272xjnkGntYDyuypqhqUi8VrvlsZ/TCHUMqEyMyAuvo5odxDh0orragAyDP2LgizD56DOBeCQLMZI4hRWmvliwxJRMsgG+z0+zpScRR1F1rjUTruT5pzsQQFEtizQhEPIShUWjj1IbhQtGNYGTsWONqJbn3TSwaD6196+B/PP7xy8812dqH5T5/ZHruVV83o0zffR/oosxWJ8iDdzoFWMquVDuyLIs/TdGttebR57eJzyoWTJw7dvD8bt5uRnesuZ3bpG9/xnS8/co8mJ+Hfv3ebQkO3T7db7V4vOXTrqXju+KXB8/ceuUHi+d4oaQ0FrO2PfGRVTPaFcxeWjp+GmZlGpOK5VmvQ2tlYjqEgDswOlPIBvTLGNiXkLvcAKkpMlvP6am/h2Gh2buHI0fT69V42HGe5UzZqtZpBQggsQbJJpkhhFCEKs88zF5wv9QfPHoGNKDGKSgf66oDGemOnlFxOIRFimU6VJRmphPAqMZ/WffZgZ/VVKaMCMI2QunAq033E0yAEmeqg+KLgnA561EGKe+XUSqqSGkjrCC+rs7VXSmmqX3bQlCIZEVT+UgJBWGmtFYUgZXQKgLXKWt1oxsYoo4lQSCsXoHBeIRS5c0VAgQkHJE8Ag41sOJigxoUDs9ratfUdC6IIC+dJKWCX5QJAgVETWKO2B5PJxN24ZHBIxNQ+0Bnk/sLzn842NrY3tvqLjUbb7kyKb/66oydv+CqihWx4devK9eEQMeomt3ZTFVltAcQL5iGcX+lfWcWFW14xf/e+HYnj+bY2tphpvuVIc2jVTTG1Ef7NKvf/sIfJ9939A6d3zl2d9HFfa4GCo7kzqrGYF6CaB4b9MJoM2c2PfDFcGS92l9aur87PzHZimySgEu28+DwlHTmnC+fBRM6DTazRQXwmCMaQUjQcjns7g4OzC4sLneXlHZ97a7SJFaBPJ3k5fiMMURQxB+ZQ5B4kELJWGCovJVQKSemyk10pXduISeBQTlrUHkc8hcayMFEXdEr4qs7WKraIKu2TdwczK8CdQq9UR/KUFIKUWXwVWF+GxlKxA5zKTS+qXdVoXj11deu02jklmqSQlNQTJFB5TUHZKaKMqgJaxBjtQ/DOK01BhAtf5CIclELPIMJE6AqvtS4dWYxB9tDf7OdZkTTt/uP7XR4m27320lxeFKK0LzKrgjEaGRQigSoyX+QOJGSMUSsqAnRvPXb+hSvHO8PBlbXrG6m+yp1T7Xf+4I2HT32TQDG49uGnPn7lwKG543fd19n3suCcS0esYxJc39o5d3HFJq2bX3ZcNWa2fITBRon1WrcaFmKtkITlv+yEZ36loHj+hh88+SNvgH/74QGlfPP+pbXeprEzJmr6tK/tLGJzZ3ln5Vpx6MS8hGw88Iaayyvb8aH5TqS2jHCR5+PcKhWihhuPFRCLLgqvtRF2BskBtFq2P/aba9sLBw4ljXhuYY5ppK1BFUJRFIUxWhmrG0kUOHCAInfAohVhZKzVIszBIYpSGlGV0UlKlzaaDEFYCMuVbsKlNX3drsHlkpq6Fl9BmHx50OzG6/RoLsN7tzJUH8R7qh21dr4n4qYcdTf49oTlLgOo7wN11bMWIMpXrppYmavdjlDSWREoWadW5dsL3iujjSHvXeGdFuV80Fr7wvnCG2N8CFFsGFCAFBGiQoVK06SXpYOJd9zqdpqt9ur1TYvERea0jawJOXvPJBIb412UFr2CgyJmF65vSmexefjoTKMVPfTXX2oeDo9eSnsTetm9rTe88Y7Y3pgVV5/4/Mce//Da133D6aU7vlJg3o3X3TgFu5j7UW9zbTKSmUYyu2+ObHMjCwq5G0OhMQdEhkdHcn7kX9jglT/OssczRrN/kdIc0h3dxqUohC6afTNhbraVD/LR+kpAZaLZ9a0VtPmp2w/11raoYWXo+1uDdkN3IhV8ASE4CQJKGauN9tkEyZA1sTWjdGJJKFb9Cfd7k15v3Jyd6861xpM8y53PChZkLyjQUQ0VKeEQghMOWpNShpQBAPYuBAoMlUMdo9IaiSBA+fEhYjU7LKVOSFAv7SjRkwiqORCYxu6uLL9HBsc9sqeUNae9NKCO0+pLl5E5zbdeVOKXL8uQZE9hoMbP6cvuuSxq3QvLPixCQFLVVmYRQlBGESkGLOtS2ihtFOZsDCFhZFQcWw4muFC2KitFITAEJiLPQWliX4z7fc+BNLbmWwDBZRNF4AEVYF7kwbvIKlfkNomtL7K08M5r4aHn4KGN/rVvf/3H/uj9G2vjj2+7MaOZx6952x1WL63uPPTwo1uj8/5b/93LOvvfCRz53nPXP/JIfORIbi/bpO138tbMgWh+Ps+L8bhf5DpO1E4GmZJlZ3dEtlK1tc7jJ1y0FXCGqK3PTPg3fyk/Ood3HLxnPEkVRadPtqxBL3qS6uGlTVa2M78/zf36etFMZvPJBFSyuTbS+9rNOLbEXsQFDGV5WmvPQdJJw7YQIbZUgEYhG+Ekzbc2e7bdaTXiODHpeAIshCzBB194p0cjLyFkeeELRwqQkBiIylENRQorp8RyjWlZHEIhQhAUBmAuR38qo6/A1cFO5YEsHKSeia8kxSo+Kh2pIqWlRFAh7RQ5S2xkEJw+g+i9AbubRlVQWnGMvcQV9zQvS8U56hMfa9UTEcr97yXHUIqqwmiV25X7r8sz3xBZrURYayUIqAQQhYJ3gZEYBRGEy209pK3FUATHw+1ROkqRoDs/Exnqb/c1mYKqJg2XOyUUBGzSEnFFWogwsk8dC5IQLS41qdh+7rn+zqjokdhYfc2/nDNqbmf4ib/5i50lZb7+HWeai29i1jJ4/vpffNIeODB78+0+EOfO96/bWCkI+eYaUbdJje18MsnkaqpHppOBGaxAek5m0GSJZA5uvwU/91vDtd7Fd7924Y77O089vtMy2Utfe6bVjCC3K8u9kA8cxY198xi313uu24SF2c6gPwTy20qShllY7F4ajvKAiCrzWjMmkc4mk9Ria6YdUKG2ShmV+pDCYDBeyIu40ViYa2LwLgQ0pI01mtjlvqDgPVfdO2W7B1YFhdJtUsT7oBSJKAlBOGiqDAwJEVARVWUyqXxhaZrilD4zZWcJlAXDCskQamN4kbo7bwqu5RftOZL34F6dJEl1ANc3lJyyvgTqiH4RRu7ibBXBU85RoaxUyRaSIDMRkaJaxsLKMI1KaOU8dZ4DWSUgIMF7LHwwOkLC0vVHC4aAymjmIh2Nhv1R4bxJos58OwiMh6lSGoiAIDjH3kngho6sQVcEFK+ECy+pB1E02zSLHfvcJx8CUgFBEy7c1jiy0H7m+gMf+2Cv6+ib/sW+qP1a9sXo7Pv/7jeevPXG/be94z6IuzDa2Tn/QtzsNjvJZLitChabh0x6Wzsm6s7kMhz1jemYZUlGrYV5dX7DGw+3gFzsXYuLZ29ZenUzDimbqBh12pGNTNxuUOg/eXZNWXv7Qvfwyblnz42Go3Rh1jZILl9d96F56GirPduNow1fVDm3DwAgKJ4LF1xBUQx5oUhFMSkXxsN8e3u4oHUSm8hgmofgnCtGwqyNsXGcNBvaotYRIoAEASEEAGIRcR4BQJgZQgjsvQIJUta6iVQty5eqJ9bQVNcUp5m2cHX4lt9hkT2BQyVeVm3106CrYmU3HnF6xFdRuYdW7smZ6uCj8pXqJ9ob5pU2MKUJ8CKVFkGm54BSWIuyAECI1hoGKQrvvQNNSqHSqvA+OC8gpAIAOe+IEVBFcdxITC8NxSTLJpPCh858qzvX7K33QLAz09axRULvilA4rZSx1vucICiF5dSsIDYSNdu1Tzy5aghPn+4U5wNYUh3zzNn+tccmoQf/+kdbjfZLASm79tEv/NHle+698cy7vy5qHxLm8dUrrjdauulG1exmkyI4z6FwadFktbmzEaPpbI2D2T9Yi3FkGzaJAGItjZy1UZYPpS2linB5tf+GV0dQjNlhCBOy+trOegh8bPtk1KLmfOIHPBml6J0vxtsrw9nZg62ZTqsdOR+yPPN5cEkoDRTYu8BcTXUbFUdoUnYu7/eGzXbTGK1tFHw6GU8K50hBQysTKZuoKNIsULrQE0EIpbiCIsIhlHVKDl5EgggSyLS9jrlMtMszuioXMUzzmErGR6HpGqQqL6kL4xUATrMXqLEWp1ppJVghIIJGQuCyrCSwW72swnQqj06Vp5L9fhnxrSujUAZxaflcPwWKQGAunRnr2C4dnaHk3SKMRKSUIlRERlsBF8c6iW1wwl4bMiIYJ1YRFGmWjlP2jATNTkMbnY6zRpIAgDEUnPO5gyCNhlUKh/2s3dLGWgAUwTgiY2Crn6UZW4O33zfDC+a5JzZXHhmm19Ti0Xh+iTqtAwDd/Or7H/2drWwcL95/WlSCoRivXrj68CNnXnmmsXQyOFf0NhUHxbnJiiYnirzL0U9yKIzqx5PtsK8PzVxtF7LxAs03VdFcaHTgmad6t+H1M7fdpn0v37zeW9lIFmaDSBHyC8tbJ3vpof2tUQPT9XUpMoZiZ2tnYTteOrzYmO1mBQ+GEw6hSB23IlIqMBZFiCNNZBnAWoosh0Ky0SSdZMniXGe2E0DSNAIU24jiZpzEtlx7UHifCSokDiEwA2ClG5UHPQqIMAdV+oKIiDAHKCflSvziwFKNcwhUGVOFSyLAVaN9FTL1ab4H3VjqItFuZWjPGV/JsBr2ROSu0jkFx3osuWIQ0yjfe87vUuEK5St6OT0CuFoUVjYSKEWKqIznwMwsRFQu2AuOXeGDBCER5KLwRR4giCZtrDEKhTlLi3J6RFvTaiXpaKJIMYvnEFnjUs/Og0ij3Qri88wb8HESkTbaaKQQvAtBtCbStLkyOnNj+7lH1otJGOxQPKcaBjM5aAZPPfcHy92GPfay2fbiEfLZ4PJjG89cP3H7sZkbXw2m7cJadvV8Y2YuD7rbiBKGnU3XAYuB1fboRD+PRlYVcAaTK6hGfTXTMHfcGfWXR/6hP/r6t87F87eJKsaPf+Kf/motHHvJnS95yRNPnxs4fu786GUvaUYddXndFyFnYl+MttZWF/bPNNrNdJRZawXQO3YeCIAFnGNFXivFpDxCHJu8yEORDfrjKGnoSEWRYfaMogyF4MapJ2AGKj9PrhQWZi6pGCpDHFg4lLdIuaWDmYMowtKBseyUBIBSXZL6sC2p7FTXLEGNaJcA1qLQVMuUejVCvayrLu5MSUDdbgdVHWhvxO0qAyXm7olHEaGKCFf3kApIK8gtq/JlGNfjU1jpT0RKK2YWkOADiyChMbq8SjkIEqGIIuVyn6dOoYojUAoBwOWFK4JSSscWMKRpKiykFItorZkln2QSuNFuRI1kvLPjcp+BRInuzCSD0SQ4J4KtWCHAyMPKSnbDza0jp1rPPNbzAQdr3oDdHOjrT1y8vs233mbaCxoGZ/tr/eHlyfE3vlm350jFRLj18F/NtLt6ZiYaj0HFUqiG0TCxMylH2xyPEjUC8JASN7Rcc3L0sJpXk+3P/vc3m+WZI4dVDIHH1x6+9KHHtlqX9Nd99zv8/mPXzl1bv76Z39hNItaxZK5QsSBJfzBM05GN40aiokgrowpX+CJL4giFgpQzQ0QEFLCRmEnKRZB0lI5GoyY2BWQ8ydN04rwHFNRorYqS2ETGRpoDu8KXcjVQuVNYWMrlHgyCJXByCEbRNDRKLMTqEK/2dpf/kKi9gAVQQinWcLa7CXtaj4TdUNulpHtlJqyzHJlyyD0QOk2M9iBvTUyrpKx+AREOoW4SKdvqWOrWZ2QRDOXuucr6lKv6Q0k2QACCF0RQpFCDVoa9REZHNkqSSCnNhc8mBQBGjYgVj4fD4c640YhRK2u1Vtjf2uEgiqjZSkQgzwpCGI3zwvG+w0tbO2ma5kqUpYAaWlEkWveHxcmj7eefHkLBSEgzMx/+3HL7+eL0vB1tZZ3BiLfOTa76w/e/TncPEIoUvWLtebeazr7q1XlvW7Z24tkIMY6NcFAq12oc9EQpZ8RzUxUWwzwAhAE//rtHaKN9UJlDlv0462//zj9ubI3Tkd8ootar3njw890ou3z9+qXtTrMQl2oVkpaoWAf2k2HfNlo6SbQlpU2WTlzmGrEFEobgA6ICFZjQKK2ihirGIQTn8wKacRTbVisuzU1c8BTQB1YeUAdJp92cCERlq3JVIWIWFgRBxlBly1Dn3UxEIKUDvzAHZkHCMnrKWZGyNwhwF0dR6iIO15uzp7GG0zkOrDPu6nxHmLbbVbpmFeN7i/IvCsxalK+efreWVQNkSZdLzwmuaqFlpatmxwiIpXMaIAoHEOByhqeU3spkjqGYFHlRICgxiKi8Cy4risJpTfFcC/u8s7YJrG1kjdVRI0onmXdBAdpIKW0mw5ExKlga9QuXu87c/L5Ds6P+kAvOvCDS/IHGwpEGapxs9dpNGwIvnJ4b7cjDn169bV6byWTCMncsp/E4mZ2DeCa4sWS9orfh1je7L78XjcJshJOJXiBInUwCetQuUMHa5RQyYSQMXZzE/HxY+ZiKx/aksW/bL52Xu7W1P/rlj1/MEpZgOrftBDoWqze96vjzLdo8f6kPw2aHG12xMXa7ejKSwXAyl7Sc93ESk0IE9D6AMCkCosCsRQIjE6IirVFp8V4maREVRRxHNtI20gyxYg3EQMIgwTlGEAHSNrgihMIXAgJKUdmCXm5QAKyTXJQQpupMwLIWX9OAsjm0pJ5qumy4nuuYNnuWoSW17dz/nzDDqs2kKgAg6qmgWQOifPkD6+y+MomYgvX0UfXxLSK19fKUJFQ7mqo0jyrML1eNEgIRes8SWAIqTaRVuelevATvFChSWmvDLHla5JMi+BAnxkY0HI4DQ5YWScM2mhEhjscZATGEZrubZzm7ottteBv5AC7zg3569Pj+wfrOyvLOhK1i2n9q4cBBe/25tXQoCzPR/A3tYmHu+pOXiOHsmK5Mirvm7Q0ZQC/TlHI+8ajT8+d5zM0Tx7A5AwyDK8tYqCTLYezRMw5TElQIJH0EAQJSfUVnTfiSSTJ9a6LuP8gL94Wd1o//yJ8/njZE708Wlm56/cuz4SjCuQMzsb5x4bMvPL+zvgoeIpvoGDrdBqJLM06HExcAFMWRHQFwEBbRJETADJ6h5PXCEFkdecwKKAqXTnKtSRkVxQYIApPnInBAAO9D2YUkPgTHwQugNsYi4rT6TUoRliJhPaFaWx6Uu4mRsGwzFwAQhrKLfrp5u1bKa2ZQReVu9r2rmNZIV69InMpNGqqGz5qd7h7uUHPL+u+75dJq+qS6CKZ9AFADd21gRqSQSoe+cmMOAmDwXO5tksq0iEWEtMKqLUFAMJRcAUlrFVkdvC9yF1gAKYoipRkASGv2LniPYos0RQATGa3iECQdpUSglbJGa6OznLY3xt2Z1vHTR/uDwokyTbXv8L6Ny5cHPWgl0enbW0s3Hvnrj1ziAlzhVga+peBqm1bHqnBupjtx+SAf5defXp89utSIEiB04+31qzszc/vccIIDLzlhnivxZLToIYSBIIu5gu01NYt4axduWyiiWybn4h/6tb+9MokKUfHsrfd/6923HYl6V3ZMYARuWJltc9Z3HFyWBYTIRrFt6CL1E8ehKAQgjpUics6TBE0WhT0aBSp4AAVoSCllDBahEHZ5lkYxJc242YyIwAUgL97D1LgbykEGQmWViWKtDQh6F1DAaAVSKYvTNGd3BE2QgYErRMWaJ74ocweg3aO3knSw7nqbpjG75aEqBa+UKdjbsDwFzi8jm1NkrjP4Opev3+euQk9Qdn7A7loFVUukIOUcJ9VDSyyAwMzlUDIpUopKcC3LvIRY4rUmYh+ytCgKr5Uq1w55H7TWzU5zMhi6wk+GGYfQiKy1GhAFKM9dIzGjwUgRxY0kywoCGGylpOyh40fG3h2+cd/1K5tXzjpr7J0va772jXefu3I5vZ7Gkcq9L3KeGFpn++AVf6pV3LVoJ731jWf6F66N7r1lH0RRKAb965fWJ5iHUdJoUtDMnn3OkNnY6WSEtCWaON7mfcJHO37e5puNS4/1f+HjL2wV2usDtnPs7u+69533zYx2Jgt5E/NJ2i98Oup2YNIl24gnmU9H2dKhjtHgFIaiAOdI2Cg0RrPPXeabbc0UYSmPKGIWYgRFxgJ5XRRFkcO470EKYzQBQ2ACpanMzUv5CEmFUlzUVPq5isJyLyKxC+W8bmlHz7tdycDCHOoFbrR7stalGcJyhxYI1BZiNTfEvUNIJTgilFJnHc17+kX2jB3XXXVT2X8vTair8LVytFdrql+qvCDqhXJU16Og/AnrZYu1oFb+w4IKldGkiANzEEFQUDoCVOVbl7sicyBcupIF70MI1pgkjvLxuMgd+yyOrIgYTaSjvHBRZELuBnmurGrNtEB4PBzvbGeNbieZm7/11iOE+af/7mLhI9PUd7/q1Y3mocHqky2NnaV4bTn0J56Mmjg6u1JEh/XRNB09fvaRx4az3a5eOuzE7lx4Ye3CxoR5sDmYnZu1KpmM+pz3G7qI207LhFIGi9IhXrSFmP51+vgLo89u5pnZFydL0YEbzrzpwHe8YralVbMZqeNz6XA42uhNJj1twsKBNmo9WB+OJmk79UbHwiMI5IN4z1orqyB16D0As7GYu7LjiAODKFaGFVLSMEqDIlEUFAQQYO9AMDgPIEQIAAqIFLIQGoRyn5OIJlLaKCIUCCQCoJQSZgDhACKCqjL7wPp8nTLO3TAqYab+q+zKSljO1k3T9rqtpILV3TaT+nY9pZsiUEZ89fj63lX4vejAr79b6UbTp5iq/fXtzKWfOZUaGrMPDLsNg0BESmtFJEGC51IzKlsPWMQYBQIhMHsmRK2Vc5IXQRFZYyKrrbbj3LH3VikxlOeh24yVVpxlo+HQ+6ANdbpNaSeD7aFKOjqZ7Sy2O53565cuzM7vH4+LIzfPxq2bh5PrvS289YbuYFgUgygUoCPlPBRptp2ZFy5sXrjgRi551YkDHHf7G9c+98nHDxzeX2BxZaO3b3+nM2u38pTBxZLPdNAmlvsjpsAx5pm6tu4e3A5rri3Jvvb8sf13n77tTOMlx6IuQawonmu5yWi83u9dXy04tZabc4vjzOFmnmfj0aCYX4hKpVEBhRA0ShTZNM2dF2YkwLIQCRBYUHwBhlApgoDiXeFdziF4bWwQElAKFSJqo5CM0gS18CcC3le4SqQkSKm0K6UQgREqd+XKAbSKAqVpClWVfL9brKyCpVz4uSd2q5Apkxas+QBAqbhW/Um7pU548df0hj2BWGv9U2jeU3mdRntNG8r8DwGxTP6UKkftQES8C1wbOYmUPaGklBKWcpWU1uUvBL331cRgYF+UdJ4IsZ5/JWTQypROVyjgvfOOymu72UyywQgEvfMimI3GzoWk3dXNbndudmZ+dmO5t7PmFw4dW7Byzytu7U/8+SeeX5g7OGPN2Wc2DsypJLIqideXe867jdXB6iV2EMUxNY4uDHprX/rIAxvDIk5HE8m2iuz5lfUznZk18mwQXRhptMKqnbDPUy8rfb/OrTRuJN3O/PHTZ+44cvOx1sEZ3Yy1Vl4TEUBw2Whne2NttTkf2W4jmelCHuTyILDKJ2lIDVIpjGNJYIgQlc4cF14MABEFAaWNBMfCGFhriAx5jwDKFaEoOGrYyESkFTPXB7IAAAcOAiBYjuMIi3CoFiaUEzcKpZrrKKuXpbwEAEBYDhrXUFY3MdXJdgVe9b5ZnvLOPRPZ00n3MszqatEU/QB0nWztss1dub2+DKYQOS0OTSN4qi5Nw3vas1yn7iAi4kNgCZ5ht20UiEhrhQjBsXOelCqnRiUEYFBWA0OZGxGgsRoEnCt3zQgLaqWM1lYTB4GAzrFWzIGNVs120t9WpU9Lb3tAtpF052b3LXZmW2ke1q6PRHU7C/Onbz60MDt/9tzzvS178IbDy4M0brhGwx8/oTe309EKZiCDnSz3oCwuLnZyN/rUX/3NyrpoY3MgB3qUpte3egtuzC3sFaEQmIgcmG1vr/YnBUEIqtFpRd3TS0c6hxYXDrSPLtnZGd2eaQFwyNKQujy4YW+QhZAGT8F0Wy2TNHMuokbLF6v5hNk3VPCoY5SgBBnRGAOkKildyklwKuVHDiH4oCxrrZLYekETGRNFrW5HW0NEeV4E7xEllNt8PCNSOepQLv4t9SMsu5YAyshCAGO0CINUylIJRLvBQ9NPem90CJRdIwg1X5vm93WCX32jIoS7B391614EncIlvIhaVqE8fe3qsN8T6AKVzlk3A1TvG6sqPASu/ffLpq7y4agVIUBwgQPXu5aQPYcgRKgVFYUrckdK2choRT6E4BmkaqIth7i1Ur5cjiLEAtkkbzSNjUyrlYwHA5c7CaIbUdy13fmZVqu5eX6dpWGbzbmlA4vzh5x3/R03t3R04qCQufl9je6sycej0fbKXEPnrCYpOwarcH5Gf/ETj6UZJI2uIZXmXoID8f3JOCtSnTSM1Tma8SjfAuZG23OeWNWdmTlx4IBZXGzOtdvtuNWNms3IaOV9CK4YbG6leZ4zs0bViElrraIQCEm3mpFRlI3zPMuVCKBXqAMpwqAIDaELvnChPC4ZdxcBlXK7EDsfnJdJmsmwmORsIlsn0kwkKAwiQMpoEimbPQFFqCxdAiMq9r46PRUqQg5Q9txMJzOh5qBV+ltPe8LuuSpS7vOs7JjLrYN7ikiVNFAbLOxBuvJmvYdnVqFVR3EF1rthCHWeP+0BhVoGhWnhqoLv6eUCXK2xV1qpUrkABEKtFZEKnr0PiKi1UoqAxfvAIlppDsE7D4BKkdYKBHzhEAAIg2cOIoIEpBBBIQCQIm10nuXDHei0o0YzMsaEwgcv4Dk4zx6JItKJbUatmXZ3Zh7YbO4MxCfKMgu0Fk50mtpQcf7p5xkb+5dmU8XrUDjkhblG4cLl5WGr0bDWKZ9774nYaHIuZJPxfLeTWkwiyjxKYhrdTlz4RpTML8y0F2aT2TmdRDYyRpvgCoDAwnle7GwPh8OhV0Enat+hWUYaZT5CR54jhVah9xDSXEcWmYGQ0CA4pTVpEg8uOJYgSpUnltLKSRARIlCIWusgAMh5Xrj+RKkcEIhQYSgPZyKyxgYdSshQ0/MaQER84Dq2UASCgHCAOsYB63AsEy6pfOLrLHuqSGKNfbsSe10+2v3am9dX4VPfrPfonVIHoOxN1fcI79V9cRrkspsQ1XJ+ZbtblxjKawSVVkopQirfiFKKiJjZFZ6ZbWSNJgB0FZoCh5D74IoQRSaOrQDkufMuAFSrbYIPzKy1NkaDMBIaq5HA5X4yConFKDLNVpRneWDQwsBh0BuRaS4e3D+esIkMoukN0q31MWKMBjrz3c5coZH768vKthb2gYz1hd6EDM0aufnmA1cvbE3yoBUHkUYnIa0mo2CtCplP01wRzM12dkJqCE0SzS3NKRMr0knSjNrtKImV0Sjgi0KQi8yBoiJkY5eubW2ZGBbbizOL3azgnV4eionRpBEaiR1MxuyCaMdkUQhIBBUSKq0EIYjkzAoFCdkHIBJBAU8ASqlYx2gEtFVZTkjaKEAo/eyCZw4eRDz6EFgppYiEEADL0dv6LGQBnO4XxurbZYsdlxRTZHrk16PnlTUTEmHFL2vZfpch1vBbs9Y6QPeo+KXmVJuHVX/K6KU9rHQPfE4DV+qLo4JNrF++JiJcs4yKN08tGksbHERCDhxCEBallK6sbxhBFIqAuCIEz4DKWGOsyfPCFR4ArVE+QJ567zwEFmEihaS1piiOgi+HFcNwiK123Gg2hqMMHCMKC2+u9Ty1b77j6ALp3mAyHhY72aRIXWRtd67TbMXeZS6b6KjdmJlXnPS9d7gVJfrkqe7c0sy5J9cNkUJpJHpmrjsqQEQ3W4kol+ciDLOLswQ0sVGSRM1OO2q2OWetNSIyeyprGRwKlxdFCoY8B8aQu3TiwgItmrilYxxNdtL+sAAB5xpKpUTOcdzULExlh4VC0kppEkTHwCJKAoISQoWgFGc5ex9IsYcAVZ1ZIaGNDIIgGZAIQFxelJU/CVxhZm34VQrsiDC12QplvzkRgEwdDLAaFKlOyJIM4rScXuc0U02yTqulxrEqRZnG4i6sTmO0nOqsuPEu5Z1G4xQ798Ar1FdL3Wb/YpIwxejauAEqIbfMCkuqWUIglOeyVoTIQYL35Tv2ZeYOqDQoRSDici8s1dqTktsHJ94Ls9LaIlmrlCZfOCLkgtNJ3mxGxuo4jpA8Ks0+ZFnayIIydqbT9ELXr6y7ybjd1K1Oo9tuGqPzLEdQcaPd6BRSGKYhJTPtGTl9543by6ukTTOKIqO6c52o2+mvjhrKduY6ZpRnBTuHcatJGCFNfOZQII40a/a5L7KxMkKK2TtQEEIxSfPBeo9iJQabc418nI1H45l5b+NmI9KZYMgKn3mttSLMXWgG0RoQQrmSFcuhLo1B2PlgYgsoLKK0JgoKkYMHsITAQEQSRRaEjdEAQAREFHxAAQ5BEXn0HAClbNMhASDAso2n0uTL2Yeas4V6BJJDoKqODVBV7KttMLW2IxwYp/wYdyX6PeJmTSr35Fh1VgUidbNIacyAU9iU3dyoejrcS2d30ZXLpXKwJ5Rr2KyeFWhqzFRebcIQQigV4FLAL09tqWxV2OVeALRWNjYhBFe4onCl5ZNI2cHIJFLKdspoGyERcZmKleSpgCJzhBTHFgA90yTNg1CeFWnq5maU1sY5CEzMmESR1tozCtooVulYBDRQrFsLrQV3/MRsMru088QVxshYiFrx3KGDThBJC2KzEwPa/sAFJqUjkyQ2BpcO8nHOMx6QmIOHkE2GoBJUVGS5c/lwuN3b6UGjmcwmM0vd0Q66wk3GY6WMJdLMHCAUwZBE1mTeF96pKBIEBiFNorBs7Wbh0le9RBJmRiJmV6beoNBqYxCdZxYxhuoJW0QkhMrVBgVU2btOVJfVgRDrNYdcBwTWnUogtSOsiNDuUSvMDAiE5dxEuX5QSCGhqsuQIrsOXzVsY7XluxStSu5YVWr+vzpoHc4iMu3trAB1tw67V6iXauK/rD9BST2QptFZ4zgKi+cwhWdSWOoPwlIajhAih1BmQqVluFHkC+dcAGFCBQDMoVwfWS5TZhZjtDWaJTCXP7aUFdbChchSEscANM4DezDW+uD7vcn8fJcQkkY0KbJysV8ICIBxZDF4H3AyLBpJNLO0n3V84PiiK0b9kSibGFT7j+yz3XbRz1lgkuez83OCdntr2+VS2mIpFKMgHQ3zrBm3EtBcjLPgQSVEZCfpeLCznfvMgxOfJZBEcSTdpstgNMw0jH3mjdJOChQQJBVHMiycg4gLUVZIBWDSSkhIEwM77wSCgBaRajYC0btAzmPAkAdA8iLOe58TkQJAwKCqzTIowiiACIQURCBUqQYqpRSFEKCqa2Pd7VHNXDBVu7ilnoWXepfhVKyv0qld3XxPSr17OO/qQQh7BNLa40nXQpLUbjpV4O0+sNTG6rO/jnyoC53T91OHc33u17FbXU1cl/Fr4ybc7WQpy58iwXlhUUZro7RCZi47Z8uAF5HgA4fS4gIIy31T1kS6yAtE1ooKj0hKOOS5U2QQwWiDhShFpFEC72wPNmc6zUbUaSchL4g4ePGegZQhxRJ8AUUB7W5zYb7dmW0nsb16fTV1WtnkwNLMgVNHs1Ty1IsTIUzmZpV2Sk+GvdGkP9JJE6MoUOqDGw8GumEEpQDGPMhwpCyOs2wSvGMxSeQgcJGDbQJFRJ5Y8nHqUydeFCoSIGWsMUIq93nCmgKjLu0RtbaGVMYigYWFqSoDIpGi0jXJewYOoINAYCkKH7TSmkgppbUELE989jwVKKGq0COiQkAJQREGz+XHW/rzVmfl3sGL6pMGhHLfVkUFiKiyTKq01FqLhCpnqo7Z0rSxBukqQ5Jdtqn3YOuLGpyn405TJbSKTwEWqWGxvA64diitSkZlh/V0E5lMrckrklwlS9VTi3AIHELwHoSp3LhHWDoBiXClbJXZYghSe1AiolZKaYVUXuuVSkJKBQnlvI7WpW0llL0Awi4djDY3htEB1WnFLnehyAODyz1gAKMwMCkVJy2j9Eyn3WxEw50dnyPopDFrj958QFS0dWUVBchQe3ZfozU7WFth54OXPM2VjVAFjNCNXToZReNEJxEaGmyP1GTQmGlQHGFs3DgNgZMkAgUgGArPjrVGFGDHRVpUNW9kG1tlVAhcOG+ISHRlt0ZERosvvVKgtHcu69xKG0WoFQkqEsCSkulqW1sIQUTKDQjl8EZV1QNBRKZq7QBAOemxRx+qZfByaK5uq9vldjjVn8pm+9JHFssV3mXRvfKG34NmWIeATPGuTKimAtCXNYvU7LQ+tHfjsj7r6+fa5avly1Ol1iKAVCV4BCinXUT2Krd7/1v2yLD3gQMII4DSVAqiQbxUP1/Jt8W5onyAiCCIUgQgWqtSvSXEUK5eUoJoASAIRtoqzY1AQbQTIBCX58Od4aAVz881m81k5IMP6At2gTmGWKOJYhtHCrUiLZpDkKSRtDqtqGl1a2ZzeRNV1GxGOopa7ZnNla3xzriZNEgZ1NYVIUtzZhakvAhZ5q3SIsgCRR6UD7FC0pgVLraKNEXaICgIlA/HFrSKNJIGzF1RKvBktFhNuQuFZ629KKosFZQ2WksQECiK0KDgvAQKgKo8a0IQZQlFLAKDMhqBlCBJ4BDqCCglHl8ZvSFWRelqKXF5Lpd+BmVPE5UpRImySIpKd7tplNQVxyqbKQV7prKLHgGgmtDc+1Xi426hvEJoqK8JPQ3NPTfWbBLgxSPGdQdJzTEqbrKHqlZoWwUjsHA54YlSXUxlUl/mWxzKPd7VLm8sXcOrliguER0RgQUFAgcOpQQaEIC0UljVf6tfH0DNgUgk+BCEOVMKOJTd4yyKmIV9kefpxPkOx9aMyDgXgkEOyE4EwWoT2aYPRVEIImkVx832zNyssjIZ5iyq1ekag+1OJx3m21e3Gjbq7OtqE422h0pVfRDKaB94PByjQm2UjU2ajvs7Q4qUURTH1vsQWDELMVuFI8fZqNCihFmRysEFFlQIgtrYSV74wjtDygdtdPkr1Fp7X7I7YhYEYhEFTID1OphApGqmWB19wiKMLGXDLSICKeLgcdpsVs44CCMpRGTm4H1ZCSRFZQBwkDLRISIu9xfLbum9Ssylhg1AqF1lyvxFBOqV7mWaVouXAruRVMNgtcjrxbp+LWztwuj05i+7H0yftCINu5pUNZ5SRTtC6YgNpfcXAAeuZgik6j8gAiQCKdejCCAojSKVUlBSJO9DeZqrsmUHBOoGPxEoUby0GBApdzcpItIsLArKM0/EOzcZZ0XeNEaRYPAgjFZrEAmh5EVKvMqyYBUoZRqNZGFpLh0NJ+NJu9VQ2gqDEh1GfQzUbrZjY9OJG6z1OrMt00ziWGWTLE1zpRQKkI4YJi4vMHBR+KQVx3FjkqbOs8lZiVeoFRg3KRwRaQPAxhAVBEprQGu1QvKBQwBB1uyJQAlqIiIVggdRIkgIBLX9OiKSECIzIxIKASCRJiwlJQaG4AOBEJSug6VOScK+HuyogYo5sNQkiytRexfsuDpba2iT2hV+enxXQVke5DyVgyqpqoqWF8Fkjb0CAKinKuuUH+yBW8ASNV8E3Xu+uGqfoio6y9dHAGCp5KeKFpdDWGUAiXDwHHj6jOUlSKjK+WPPAcpfOSCIBB+UIQQI3rNnYFZUlUZDOeQF1RJcVXqVELEAKSBFgAQSABQIkzAiKBIS5uCzrOCgAAAEibTWyN4HLwQiDMFjPi4wVpp0q91wWWPcGxBTO04EwHtUgI0o8dorjxCcH05MYomMNSYUOae5DkwMwFJkuc+yEFgZBSzOsyKdGEOs8rFXXotHq8g7ziaF1hI4OAiCZcsQGWMQ0XsJLAQsgBIQCImUUhwCcvCiDPvAAYOiIEBKxENgIKVRESApJCSFipTS3vngHLBIYFTlCC0DM5Ql/bKeVJ7lDIigtaoOOmasJsaxPk6hTD3qJKvyra86MEsAQ6DSEl5qxbykFlxRygoGca8GL/XfREs1/1Fn+DJN0/Ys+K7XJE5Tneoor1TSKrp598KSClGn7c9TUgzAwZfPW8rCZd2s5DQiwJ4Rq4WJUm2O4lKlCoG9d1hb3SIRl3v5uEZ3REDkegZPGJwLEEIIIhyANLAn8MgFhiJPM58r70SRUkpZhXkIEMpqD+fjwkVGISQNYyObj9IQUJhAJInjnAMGilW8M9kep35uptmwsUmSyEboQkgLKRwCaFIuywG8BIgjIxrFB3ROCyKQ80Ki83FBrJBVoxFxYMGARoHzUs3reELQWhW+8C4gQVLJ54o0KM9Gi0LSijwoIsVC5cJCLyKeWQJyWcMUQtGEAKC1LreqoYgiVFoFV/6Kq9Tbl/0mAKUuQAhMyL60XSyHnLGS8XEXs+rEfBoedfzKFLVqhK1FgxoIa3pY+YHAnqACXVO9afYzRU+Yfuxl4NZSVP2G6uYArG+VqdRQXwy711UlR5UcqLzuUECCDyEEhEr1KPd3a0WCxCLALCEAABE5XwTvAUBrZbQCpGpTtK/eZokSmoUDa61DCEqrctkNIbMHKd3G2Svtgy+ycVautdeR0kYjggQkgeBCMSlcwS73kbEIZLQ1NrLKBhBgo8miYQMmLwrOvYkbzWaXCRhRClewC0XgIpA1wN5noCOtEEgr0lRkOWkC1L4gQ0qJsINxbwxMmDAoYkX1EAwRA3O1cxcQnQ/aKB8CKl1L5iCBS1IIXJ0YSmsEUFCCMAFhnWYCMyulCEEQuf6kFJbnNEzhpYoyqT/B8pCsCOiLomOPvlhTQqgSk111qI7c+gCvKvX1Q/c40O5B0WmGrus7VXen+lSfEtZpCamM01203L11l6nu6ly7oTxV9rFsWp0+ZekNBPVGJQ7M3oOAkJQ/RyhLEQQcfHC+jDljNQBUDyzPI67aZaVWi0uCXdr5Bq54kpSsN3gUYe+LLNMm0kpHRmkiYVZI7NhnnnNPISALMoiTUASlbLPdDg7Fk3jinAGZAho0WhkiFcS7IueAjgOH4DxaW6lgirQvJgpRUCRIyDwDc8GCoKIIRCQTYReUYnIYEwt67wQQSAkHQDVVQACAGZUiRCQGAlVyMiz3mLNoQ0BYFjUASMrUplwgg8IhlJO0UGbqJeZINWVcHpilM61SVDL7UPfVA5QNTTxlelIX4nFKB2t2WYbqLiHcI1OWgmMJiFir9rBn4hJk7yNBI+AUG/cUib7sZIe6B2AXTafcuBKJp4+UPaJn/QaZASpP8CqKS30JAFRZnS/BUspNNMAcqiKYIgTxRSi3S1mrSZF3XhiIiMuFYFJN5DGHsqUGEYinw69Ysw/xrgDUQhNQBst5EyWGgENAZkJmYZcW6IMltgqFJR0VwEG8dGdmwEsofDFypXuRAtI6AiQfgofK/8pY4xwYhKTVEIXCkmd5CAE1EiqQIJ6FQZWFBlHMXhGJItQkEhQRQyjzVkWKlQF0mhARQpBQDg2yaCTRFEKwSpf+f6CQEQFAKw1EiFoYqB65qeqCwiiEQFhaXJepvi8/BaxAoRJwkIhC6d1QByAi8t5NNPXZ+P+r69uWJDl2HAF6ZElzZmz//zt39qy6K4PEPIB0jyxp2kytrqzIuDlIglefqPpY0+6aHNOME1h8WvoNwa378Phsu/HX/MADKOFETVs2GtatPq1QH/KhUxaICSY1G8ZMjZys07jwdbILDm5C6toDeVfIWlfAv6wk8PW6vl5Xlu671lqMqNs45goigHKEeA3LKQbl6EBJRSkAqZTv31+vP5A3VKr7/VvLW6p836i8TNcy6w2S778Sode1/vUf//q/f/33+3f+a10K8nX91//5l6gMVCWuQETBu44DQUfFfY+v6wVVvitvemvghfX+lX/9+/eN+4rr+/2+cSuRle/3+wbIXCTJ9bper9f79+22oZSnwaFuoep+V/DNeIF3FRgL8cISe/pAoJOZkIhSIZcRTSnzvut1NQPzwC8vJ6yVt6FXO0ReEfaEuFGP1lLqsJGyRMSKQ0B1ToLBeztHU0K8+cCclXQc9PCKoz4HTxPmn9CCtl+0gf5E/CbHz7B8e1183ueoWPZGsZK6ol6lbA6hqirc7zelmD17KovCtZb/DddxjdnypNy5yQB6bhnXulXmA8wblXW/+Xrh/n7/Dn3HteIVtB90Xd7hqggxkLyIjMJSvSZPW/et++YXAf7/X3/x6rlZVZXKtViQMgNI1PVaK/T7u95/3RH6r//8448//gT4+7+/f/373wm+/vMlbdEXgHy/szJeUaVgXNd13aUqFIudfl6B28k5hlTBC8B953pdaJGn0tPjGTYQSqqbuiXPq6ksXldARXJFZM8kmhk17D0S+oVKz1FcVdvjfkR+2tZ7o0zf4YeL3bb3gLX/r0HZPt2FPV55/6LhtZkKdpjrGYEavd5wPcUkh4pCe2ORiV/pOGpDkFVNg/qnPpa9h2mhJGpFRIT3qFsREXy/78zsMsWO0gHgWpF3Dut2mAkEV6w7S1X3+03+utZVr8jv9VtZ69IreF0RuC5SS5n391sXX18vqjKTlVBc5LpWZgb0zlx//CGq9HtdXF8XgLUW1tfr6+IVVUIgEPH1ut/3/ft3af3xer3+48/19fX9/379vn9lQFHra+X9psgrKFxQou5f96+/3nnfDih36VfEtZaAReH1JdkauwrE8zipLmvyXoYFTygAY12qDACxCA/0dipU1bvbT2Ba29fpECbHA7dr3mW/xz/qDibj73RyavC0O+VaEzejkHquU2sxPP5IIB4tH/tf2ziPe3XU4dzQRFQfJ/0gEH5CF2CfQShDiTnSKUgosZmNJFUFVKA9pX5n4S0ZPAId4AIEZakq7IBrhgjQjLOnBg+RB0m4oF8MakmB0v2+f/8KVbxeoSuhBaw/FlAJVaX9mkrl+8b7TdXrz4uK+Fal9Iq1AqyqlyqHqtRdUpr/FfjiQmbm/c7vO664/vgzFt6/fv3169f3933zfa3rW9+/s/J+Y1UCVUTg6+uq39934c5q76XQ2wp79IxcxE6U4vLQihUrZOK5QpnojE+3gsXqGrLMCijCYGm/wZt09eSkh3E//vGuHPpQMgDkhBbYcwgfOOjGC5uy/YuHTW0QD6QeB2m3fBysbydtEDhHHFAe/rnn4WC7bf9IAjQN0QRqx0W3F/NxT55gIVd5bH4OG/Qdhc3bYaYVdJunaRbDKX0357Jy3M5YTDGWCivwegWRgcz7d1IK3HWHXtcfXwzoFVIi4Wb+O3W/b71zrbiuV2ZpUYyFq3RX3t/vG0hhMXreFrnWawGKRcSCMu/idX39+cd68f2d79+/M29cWFhFvd9J5PWKOyuLqbcjkdfr+vX7W0KqekuDUlx08fb1Ykqumb+uLwTAy7tOuVSnKlTi2oZKdANTlrJKNa2bnaysrfbI6i0GWl3uvDbHb9DHKg+Ce63HzjcE+4PjB838mKfvxP3fkQDvk4StYg8dtQrcEB0vDPuAhzrWXHFHsSxSU0R4olzwpmZDj1VyFBnsduox8D5HSR1LGsPTVNXvp5ZnOWZ7gi1doYjNXKzFYx4gIhwAF+q+v4V6hfAmXivuqu/A17UYiBXpzp2391/IFcH1ilWr6o1UuvshRF5XiNfrRQFXVMTiCq4FJBlVle+biNdXrAsU3/f7/a5UiniXImpFXK8/S1V3VX6X6k4AJer1uvJemZksEqV60ftSrJTAKOl6vda6sAIg11dKsS4xsm5SIfRuqCsohXXkgjrQUQ4WOeGu2QbY3md4kqGql2arvK2yhm4+vGaOUuPoK+CxgUwvce+EPJ98/nZr8L2JwlN5Dtnccafjf/EnLHHkqBVjo9rBTLP+5hyZ3nHHTf9OhwpCLAJwKZ0D6/AY3y046Ak/tld7TtB0u1ZLDOm3TohB64UOdkQ4v3Rd11oXp/eEyrp/38z19SWy3r897YiouC6Vfn9/d0n49YrXAqLeGa+FEhctMYgrgLuwQvZkVSilqUJMZYSf9df3Xe/vSpXind+Vt0pxfymqhxkx7u873TsQIeD6en1VeafTLFXmdV0+4VoXunvrVX7v6woGVpTwxxfv9+2XGD15sE1Z5wHu5Lw6dezv7EfoWknuvjk+NEXbqO187IxNH8Mx4AOnJ8GcebStnbHjnHiwC/99yu24saXzTWzq+bjEvlzf8/6f9qniZKYmGguVk/XDaOuDL4+MWiYmnNv4tGgTIEOlnjEGALTdt7B7NBnhBB2rcp/QXQwruuDRZWtB0cNJk8gUbwTrfl/XxbWkQmCtl5TrevEKscdFF0OhBLIyE0FV6boI8uUvmnozIlBZjFBlRNTtiWkAmHW7++X19TVD1yyVcAfL73eC5WKYWK91CTW1n6C7uFNgRCJSiGApqhRXEIagXl8vD1YSEJ0BNyTaMbLdrHSDgoDejGv7qj0fgs659y86nWP3p//ERMexIY75+QNjE9f5sNbYMMU5SjuTtPmuzjf5lI0HMd2QJsdPx7joHK99U1iL4hlxBrh4qUQ3KwWre5J6D7o28iQcXVYXa00EiQ39aCWdhdOW0HcW9r7svLa3hO6X8Rv0zg1wNVqydKkyMwhCJML1/IgILDp94Lu5gnjhvtdVqdfrksCALuq6rlihylhWSAkV3U2xFmPdd0LtDldVvjPW1Qpe+n671E2O6WrIYZEFXnGRFV3yphUzGDi4AMaSyh2zXkxVcRx4FdLiCgEVbt3c4+U9JhlYa/XGCFWEQ1F1nJf9dsdPEhQ98mbj7HjkH5H3ZwT0fNh/+3QbeLOOtAbd3svjj3ZoQJ+/GJl4XmEHJw409Ty0s/ZoQqrqIG/3CnZFaMcRn+hkRHuWjgkgSpDSZkhbpJqvun22a/a6xISLjN5xqq3AzDBhVHl4mgDd73cwcCfkHYEKLtcgrtcatcPeEoAs4K4i8b7rWouI9B3mTagqbATSta4ioN/3m6Ly9jSZSlvTiNcL5P2uTPWcYrEKa1133sJCZUTEF69m4eta4cjZBQpRsPq8yGCsO5NbvQGu9oiix896DYLEWu5mGM3XeaHyIOLtUDTB62zhw4fW9O62Ud00YC/KE538wVSfMctHoQjJJxr/3jSHBuWJpJ8r6UTgseeMPlqdxlWburs29J2u3aREGAYzfry88H2ARak7RmJo6QmF0AG/Nlz+Bdzf1KN1bJtmgC8pVUWsRme35mOtFe4GAazSyCrVnbWW2/1wTZUqVCAddlQU11JcYr0Yu7LHuxZ5bgx6umu56NWzeqS6PaaLcG2ai0FKuHtAEEp8v6ucUxArE9QCRF4muYtrudQd4bBOYd6zVEmVEgDiWh4OlunhNiIJezuj4PrjAIq7W2GHbnze/WPDaUJCHMEfE95GFY9czWAcB3dPOywDt3Gzv7ZBv4tFHrnLVjTnZFurfV5zn4pztkNDmzVMJ+k0/vlY7pRmh2qbpk7Q4Xn54RySCqqsIdHSR3GVCT3soDf/juipgQ7CTbtN48MvnMN2JVWmuLgyb0Zvq3yXmBkAZ6DFO28A3tAp33cqEQFVAGuFQDJEgSvvG3EpsyoplEL3m2KSIBK54oLncaVSTpCH7pI82jgEIWxAPJCegCu1Y9TZospEfkVwLQj988h0ZgIeumRrVtwwc8gUhFvvUgTWteBXPX6MJQ04PcaOKX9EMocAjOc8S2nHd7s+Y3X7WP003xq0GK8X8Hdcqy/zQVknxKT+5o6/bhhrSxJGdw5Wx88Hmtls4WzWeoam2VphExhFLM7ota1jncUYoxON0D6guw6CzO1sxWq+Pl+J3p8KM1/fMybyzvsiM+91XXZggw6cUxHqoVlTNx4scLlfByigKaJ3EcLK/FYis0pg3b0py7oEV2BWXC9XXVd29aUkiuXXEKH3DS4pVUTA9CXapZDIqboFIAoFRQctCKkqlfda0TEfaVJu0Svlt8LSlJCT09sz5trL2Wva9VCjpnZqsHfjbJfm9Kx/oG+71a2ufIVxZDdINBiarRB/ekCj+/gB+E/l3JnT0ejAjh1gcDkhsw8e+yQiZqLTs7HbAx6Ybg/RGbtweXKssMerUu8K2ZePzUmsNtPkQc3d7SWvWNYmHl7gIJJ1JEigqm7dS/IuAqqqoNHZe6MHwBBX4H0vQvI+1t4qMJtdkHfe8pwOhiqrFOtlRNWdWcXry0eWh6gFSshMP5TJ91ou6ybp3ktEBHvKcdcUL8JtSaqKiSRFQNXpdnWFg2PJBYYLchirIwd1nA3PU96OD3Fc4Yaqy1Q7Nc1Z+S0pdRisPRntMOVY2wdvPFptfPPzG+LCZ4zqaeoHzU1dB7ecYAv2dYkPOGNjdoIOD6AfujJTgDYcH/f3YAyqOvSnyfQ8HnvvKT6ZkI+2q0t7WmyCsnpbVDooG/ZyQypE81O5WqcvUSBWQFh5q5h278pBAFUQWdn9jXm/Xq8CI5jy5gSr7redcZJYF9fFKKXHpC8AAmeoiiAp3fBSDtzA5prygPUVzq5VVYBwvRx6RLK6D2mIFEouCDEV8uwWdk/GYHW26QS0rtUcv0MuoqcQs1mGtVY50ls18UFta3uC5g/T/aBitlZ6rHCv+5O0DqR6Ma/5uPUdx9P/UIVHuHr1o12k8f8MrwaUJgzBLkUY4TLqtiM4TaiaaNamTRAUshvUQ6EP01EbMgeQqrfTIw/haAdtZpJyqiLXtimZCiI6bSwB3q6SfSF351RlgZydUdsBzoK3doC0FvTl2VK433nf7wgPiGMWQAcuMc3nyxfKvO34CahSlkRFXELV3fVZNp89TP4KxygiIDh97oBGyVXZbutw1i1RTe8rOn5Fokw7luvlPFME1Ek2bhZm7PbEG4fnJjvfLM5LXxWYiXE9MLzp09FRXYryUExHPY1K/Qcj+zjw2sjuk4zPsqG28dl8zaEvjInZv+mrfQSbuIVE21sZitO52p0u2uAR9mgoNvh5amHokk+krYvfT8d0nhZi0kiNeJdEoUN3BBBr9TuaGIrQJIAAsSrvlqBVF8Dl7dUc6MqqWz0NquS+M0JAqoBuCQBXFQS7IeFMd+2B5kFB9/sN0BuJMzvfuFZHiFGg6+ensMM2YMzRWmtp6w13tdqmnBBLJ5O9/STJam4EeheWVE5B96hDOc+H8TebwQlkZ6V7fTmETYOWT5U2C3uy4EbnIB1HNwF/gzEAXY87wD54W2j87SttzfWoocehFAZ0W9vJcG4SbX3GqX8ZHtyMGF2BoCNdhl2sFmwHrzR3pY+q1cFlv6/tQxE27PFkDyRVUFQl4Ij31E0QnnVWKFSXlDJ1A0FwyirkUrVFZCXKgilGlAuKgZ7PvpaTzi5CEooUI+IKqO53eiMsAhHMzrSNapRHLBwbY9Sqe1hWXMvZUYt7rCUGqIAEFjFDXYo9lobd0F2tRDaOlR4v2oVLlrwBaOOpHwuttWH3dALSD8A8s5p4ODkfPtIDcj8Pfhz6Iw46LAAHb3x88UkS9EBvO3oPdTu1G40xPc719PSA4dUNDjZbLJ231ySc44lFg30XFBQ6C3pyw32LxownmZGIqhynC4CDP/1cDqajG3Qiq4Ig3OITxeI3uBbKrIzkOGi3PN8IKxjMQnU5QSAW0mdcyhss1iz5tAAAGi9JREFUdn4X3XgtrYh2LkqCO/ptF1OFWPI27ZuArVjePbJpB+GMKmMxotoEBkOXacYEHHaLePv+EmrTdgGoe7bbnlUbTdE1ScMo9/hY7pXdARz/3WVK7U4dDvk0xQ/YtT61OuMJsIMYL34feRyVDcYx+CcO8HSbWrcP+RhgPMP06OzOP3luffBBfY9VETN7s71WkbX5zaSE1G97zmhZt/p0HJxNAQFlcj1jGaqqWMvBMtmnkfUSnJAcVcwbFXLor9wZqnp7tZ0pqLx771RHFQN0wX9DrdcKVaDHe6Sr3zxQAd5gI9vdcXeThKCWJ0oVJK2r1ZVKZHi/Hqpb5Hfrmn8sJYkVUcQiPY1HlYOSDhS2yznjXUahDvUZhceZfIDG33Y8MP88FnU0wFbOu00e42gBHxnyH4jYCgsgriec/5mojrJtJfZQh3qe7hjQvunzqJyrzb1sKr0vPDc5cqgdk+tdk1XFtdqvfKrzLVZWJzPWslXq8Ci/Y/fOxsaMisGSlE1QA1Ei0lJ1uVICLu+3mr6c4647NeEvXa9rdshwfD06/w6KgbCmYgHIcpTAp0uIniNfQrA7e6mW+QCmuzBceJApCR2VbV+KDqqv8LAM91Z52HT0dm/gDAjyoLeNwxxjvg161STfmwY16YtYdbAyynT+9NqOeWabve1c4QHYwZ42MI6x/Tvyfph4PG/gQGju8ieOJT0OawbDB4/dT7RlZ2AswD7+VjETM0O1feHwcXuPJIxUK2xaS46GJmdzunIExLqzhkJZmLIca4SEqmL1dpLusbxWViKtG8GVkUhA9OZNnjhyu3fHKItY61q9NVRWleJaQCCod9lPB8N7PJLhEb1+MesEQzB1H2DItS82267nlzPDchmTh6eEIKRihRCEMlNwHG1Wo2QN7AWM5SqAqm3ZBWVVFqLpqqt26FDrp1vjUNa0tE8OSZLkLWTGzPYi4klGx0U2LIc3aAN4G9CfoVB1PajG93gAdRB4zD1w7llbdT1+L2DnqT7E4DAdDuOOc9I5xRYjAXDDp7PDj2fdMsKucCaAwLg4vtosksfagk5emVR58BWmhLQjkAID9zs7yWKO2+NNFUEhVLgr12KEXDbt7trRGhDGTQHTobB2Kbsj2cGDUnba2Q8oBezTw+PRVCloLTeFljtYxpt0QDTUmhYAwxOnvt+dKSUIeRoDJ0u2YUZbJ43VakoEOdGrsZCHp5m9RZ/AA183h6tWlhGcqfM+zvr1oAXPOPUDYzzyZPRoVrdt7rV18z6U5wz6AOYo44eTtE352Pp95kFPJy0/72NfRs1fB37buZrZon5aZ5ta0brJoXeebSsTQ3jnrlhb2AE6BjRdXurwU2V6xg4A5H2Lnk9q7aG8ixcXl+hYpvdX9xBtbzIUoKpAVnGRa72uKrzvzOq0p5Wgv+jzVgzLhlQ+LlSVPUmr6N0s3dJaKWnFDO7qoatMm+rVbz4r4WKXKg9r7fUuR8S09R06KNpv0vapo3beU2FeCEcRRE8oahNndwLcbo0lr+uaNLWkH2nFDbeHEdaI9dM4D9yGmrov/oHME5hiGzod5LcamwKQA7sdg/RHO7UlbC69ScfEVucuTg2K5bifdktBb57HrgNzeLm1ib2oNo6HGMCyMbc6UZFxOgta5Xn4cEgeTpBmdfy1EHIrX62yJkb6tibfXK2nQaEKiwAXM5VVmfax1YrHHRbh5GWRLbhND0MRyKyqWqvl32tGydsMY3TnRNDSfouklJqYDtGcuu+I1d5PFyb74ZvB9y7o2l0eo1YnM7yVgwvHnr5Hy3fX4+Ks2g+9s6G2YbeVXf/3oJ6tqo6/0mmXj4r6nawktgRsGrHF6jT1bXbZZLPpzo6Qb7sNyR3Sm6G2N9MHDJYeCt8ijnUilA077qcyH/Ob2Snhwa+jFQxY25Br7g02mpYzx+VdzFcpNzYDN8TFKCG9hom11kUVeyI/g1jRfjcCnfjNvFVVKxaWtSuk6g2CAWahjHUGewag5OG91Q13GlUKLJLXlfdNDzVWtwpZkwmozBaDmbDtAzCr3oFbdZ2ivTHsj0fxwHE4Os66x8CNsdXDsT0kdMwlHcMfIGljZQzvVqdjZrcu9OrPoE4+/tfn+1EP+iRUeEQf7eJsNbvRf6Rke3OtPrdePFb9qVDNoT7iPkN7DjpN2tiHNxk4aQlHPmMXdHG0ebOo+akdldH7M5XIAUqSHQJto1GV5CKgYEpu04xrgSgutkMGrin+L3FJYN45plB2mVCFruwjZzgUqmJFuD7GhpuNKI89IbT8nTUTaSJWOAQL1xS6Yr/jAfaoxM4glRg9asGJLisel2FVNikXCqNxnakY/gez7FEFYzb3evqYId+cH7f8bwQd+veBzsHhoHMWehu/YX0GKHflatfcH7q5gd8KOR5cYtytbQrO6du8bvBqRC4wfvm+ZWwWr6d31Sdhjw9qWhUR7KrfGrk0kdN+6sesFmBgbby2MTtvjbtSBQ41r64fJeHwFoDMiuvyqmZW0JPOCLhdRIwLQL7zznQYFM6pf7/h+U+rmye9QmstUtVlEyIQsTxm0RqPqODqOZsRKmFxrQUu3Sl3sJCqMUIke5MDSXbpgO6WGT7q3egKpWL25pHDFwXv9bFV0zBWgK5W2eXkjYuYsKi9Swy+xp6rcw+DRB2kshfg/LexgvPjQIw9WeTgaWvmR6BHB0wPfegrt977IUAHrVtQhsBu9OPTo9p636gaX3waIqeHEEeBT3HKeEc2LdXEoh2iHujMRmcnfdqod09thcs5bdo8o5meTCZdwSJCzO5DTdaK1VtdSQyKLnM6hKjylpQocV2ugquSq5+gCgaXlIA7N+wVwemidkxjygYZXAK4RMZ1SUSEy6EExCJXVOm+a16JG+2Gd3oxmxhMjysAKchCcWq81bqwteikQ1r7cLdy84gEZt35AbOjFTG69gOFJ/50mOOQjR0eannZw8PQ9HA48EF0i9MUVU3q7PjUx0w/cXfA+hCPoSXbqepLbZFt/Ll0/EQ9ujd+8we/e5QUo+Hn29oyanfL13LPNwN6cmjHoxZXrMxyDId0gormZK73Sde3AZSnsgdYLtWpLKypfkDzUKgbrCmV7szewIXtlPUcBBJSoYxaAOLivLKIoTQlzhxpuvndSXZHp3rqXUs65Z0NshwEq5quqNhLbP7S13BFp/zO+fThuZmbRX6s54PCaUvBzmShPdQHKn+g88dPOmZ/27atinBtfA493JjZvtiDTf7YogEnQrRNwlhTdNXosNKHi/a4lfa2C+SP/rzh9hogfShvNJtQ2vLM2f337InW88Yyi4eMnFM5WuLYXpAZXNHDCi08bporqbIuEOSi7iwqGVyxEKwqJiZucWdV5g3JWavMt8uco7EJQCxV+9oY69K2fiK2vddbcHEtZGtrRMi4id1sRdUoSL9KwdyTLjkp7YedLgSXJox5H6M6LsSA7GMOB0dVdZVTw5xhER0d1qAQd9p9L9jDyDfrAPZ/Y6BtbMdgA49M0siHGsH2Yj4rqc9ldJxuP+95xhOExjwwBuWjdznMelRhQ6cb3vmAp7QT7jbjE7gYHrINDed9e+qLFQwpVQSrItaAssMIALQzOAYzu7JkXAQKjPQ21OICEokbgCKDf66ozPQcST9mSemcu4GN9A6C0UbniDNsN9nhlYCbhjvM1MzpFtbMbgVaj7KL3KgHAkoKeX/eGpMteMLnvKxq37RHYW2ZaQXVZSQYb4GFD43QSNAp5eQYc0mdIXgsbg8p6C9SD7T+tKvnz9QZj068hn7gh1Yehqex+xv/R/1y0HmU7hCQo1ZbTc1B26nC4QHn/vshQn6d1b/ViFxD1h+dgSIQSNmOc6lNF7tLhiTXNYgv+f2rI4sdtgYmyIIuaKsOztx2nuUtV7KZYkVEsoS83Y0e8gj73lAVsOaGq0FbNtqSBO1dLBsouUb1dJ0I5Fq9tYFF0GxEFFSyVyeOsvFqOZhKTV2WI6LCTqTBMJwtskcIDWEXrm5tCk0yr/G1gdE/HZscG20Pj6dXUj388WE5+TziAdYNtw/EXg8i2JqXxxDPbXwC62jSx5EHkHPFhj25v9YlPF0Wp2GKHHHgfgjtKzTIjoT0u53fcjoWGnw9wqHd8MnS90vJrFhdYVSB1TVWzaRHZWffw/jFqmIwK0u9FQZKQeSd/V25FlilDDJjKvcEEutasKn1qM5FAbEYpi6ioNhvKgKobFyRwrSHmGz7drvBMm1T/HH1NrtNmrD1EDlpRm7TXGkZjVHYM6Z+h6LHguyCAVvAwSvGJRx9Pl8/KnCvz1HBH+qynZuHwtOHuvOKX+er4/3gcT4ehOJ/uc7j0630t590nkHaBUpzQg3rHN06AeEPAQDQA1swrLwHP8w998s696i9MiQ9YMx9ed5RJaI3SSdEdpPuhK4n+U/PcR1h7O2CZLVnhOd9W94kAZVZV1cBGMNjLo36TAhdI8eH3k0BYKwxAxSjYxexqjvnHJBn13lIZIksD6fAiPCeJsROFIUzqiCnXGNNRm7PIfCoiGg6NBwCe3CLb28UwmN9vMzGoVebJ4IE64ZevrGiLu7RAygYpXpC7pioEQ9AD+Q0aavjl23O94DOB453UOCh5tp2j/Y0PeeeRIHm9cMfDC4b6y5nQjdfTwXd2ATq8/HG6PdrPQKyHVDYePWjeSVCkFbTwpYTDyRT9lhHPZ5iy9R+i1APRHQWVHSlWsyteZARAdV9u8kiXBTl4mh2zt9P0+zTYjT9Jyqkmgs2zeiRcG2sa0s64FtoHNjQd67GqXOGlXJ0m9fe6d1gBS3GE454KNLhnvPPrTI17WW9LMKQ54GMhnl+2OjDDvxKjw6dgBW3BMC5eO1ypu2wDwS19S4/7ewDofzbRxPHIbn95y4+bj9n5ObBbicxcwLQkwhoJtD38iPqNlrZbO7xZif5x7YPmGJ8AFN14c8frm5rLO1UtQHeGauul/SyhGfiJnKCERIKS4Wghhn3A6zlDg0XHTvY1N7PMAlktxCGiEq0wd7R9m7DIJTA7CKz9RO2S9wObG9D5aeFGPuFqCc4HZ+mUegmKJLnsYkdqtuGX/PeNkgaboMT7B75h5I0Ij7L5vqOfdKDysefa8jwRvi+6oBnTvjhhf39z9jz0XT9cIc/7gcaU87zvblHDXnCQ0DUzOYjjDAWnUNlrAxj3raDiE674yB4HiyICkAB9D7J+zYIX64yxS4YGgJhEA+/KNRq1jp76CGzuqV1rwA59S4BUtW7uvj2uh/dk03g+X9IheCO0OpfVbe1A7YpweHKfd4WCUd/uRxlBXHf6LckuAgTTUb3ujxYYiuRTqid7rx+kG2RTAJ6sYcBahbX0Z+T4ME+YE61QbFBsKlFy0Zf+XpwiY0Aq4ujhNu1+uAP2FfCucS5OickPMaa3Hpv5AUPej039Vl+OlJ3YPnxmGf8mBFKN+r0U8otmValJQUNdDQ1DEGjDueso4Jbi7fG3RR8sivbM6B3fZDdf9qmuTFYoMP8bhMedKoHQ3kghPuaAIHpcntQokeBTjKMux8DvfCwt4SuPDxm0z10jmGAHiLCU0kjWTY3QBpy3OMZEYtCd9djGzFP1zGf3u7PTtacP8c4Nlfpu+TJjvRxj3/9k9IbV8VhpgewjFuOK4gdCD3ffABl1+0fqO7Hxt8egNtSfHznqNItqdabOgcOZWE8kTQSTezodduCxuvqd8yRZ2LCK6afQXb4XNMdgeFg63TS+NLS2FhMv5HQ+7xI3e27ehJZXySwo4oEYtjSaHKXKFWlXPAbAkvKbIaOYfAzWdy0hO0RzNt5eAfoagB0ggouriaxjcmYsaMTSaEg2aPsgOm2iOjOB0138jCFScnI8eM2Vxseh7xteD21TSsszhn+DjPAM+H6Gzzn0haFB2UYz/thxz8oQN/tgePB63mb/dyjT8fycj/Dlof+N7fZHS6JFjt2bEBj5wIBlWt/cy6t2AA2zoiJQGHS50cKTM7cS76IsJ10G1MdolKAiySaybYWwtwWBAPCU0yieUr0iCh0k9W8qE5mAlwCPS+2oc/HSk+P72ZM26g5vQkdKJiz+hxBEAUVqqiK88wim1zzvAY98PBka4DLs48m0a4iPajaRG4W/MgOx9s6B46kHth+iC/Ia6vERnFH1YZC8XGb2IRiJ8g+/jw+GXDOjbXQjs6dkrnjwT0e0+RM/XHrM1YA1Ttvxxb8ubdWEnvZpxeU5zXtkTCaIvhZB/sHYyw828g3h2YBdiYIBiYdg97BsaOEzdkcdPUXqY4fzkOZpO7R7BI8IwkOJNlX9whlo8HGdZ6w0TjBwJlMIHbBoOtW/Bq6lzUArgXpbCi1+Uy/cWFaO7tGqeMKvreNz9gw2WblM8RxNvTdvPABif2lUYA/7PIDXY268fzmnh40a0zk89w8/++HEx4gPYp0cP34/j6odfzkKc7NPK/4dI7m3OKMBWuV6jmKfPiJLUfnKfxBtyHX/lWpW8PGkLegRptjnq/7in1zw77R6tC6x57Y5PJJzzOetT9a29cegZXc4WknEuFt9/be6XvZ2zzI9+dAFGGXq6eNYEIjR8u0VRmeMV6mgr3J51ixecuz+hPKgtCTew/R8sE1qnxs19FcQ5IfuNv66YmkeR58QLSpzPZSDsHg5Tu2HyQ8I619aF+EG2GP045G7MvrhIA+0vN9u3v9tU/1Q44e9p3nKx83/XgMnwlFedZra4PZCXFSNEIgVfKAklKhYC8X0WGYFpKhiv6oeoLXhqerh4De6S1mkY3mFdFJvx7o0DMK3agioGKQYDCYDI8EjGYdE0mf2Dy5s7u9S1xEb5M0GPI/iELFGZraKnfqsjV+FtAzQWvgua+rzXkeruHYOE344nyw+5B8ovjpTvwtHgiIj6D1eWKHTgbHx35Pscg2+/qAYD88Bxl6KqyD0yfzfPz2ud59txuseh441rUvP+x3XEF2nLI1wiZHI0uufjshUBCSAzSrW7g079EDi2N56th+GRLcX8EpKxeAvXeq54PYB2crtAmjop0uc0wo29o6Up+tAzEbGfitVgM0/IjRu0eB9Ei1cQL6Mq0oMhixGMHer3MjaFOqdKXBjpoPuewX66tNiyYGTbQN4cMJ9IJ1DZo2uncYu35yvLEZ3Ihnf6THATaHbYL+Dp9+jNFP1GfLxzaR+hDm/pK2xfq8tR156PvgqGHDK6j92COXH+/n8UkdIQdOhR7GgIF7uQ4d2o8nCRGomlrMoEe99mkTjQjXg9vxHgNh9saBvllSkFLSZXetLcb1iT0AFl0SZd0McEUnlLTLj3rc0eQqOsN+lqiRaZOt2J5Avz2REALRBfMM7x/4w6D1sS3MtTnSBjA/F2+/V1ga50Mb1cneTDGNeYZmOg5H0fbK+qVyW9xWRsfCH6XZOgZtoHB+gfNvf/EauB7D8GQHD6RvBb0dGj1vYGTjySabGXH/9Xg123b6t/z54hqdHOMCqWnYOVX/ou8TBNTxbO8v3QbdEiTGkohQezElcfdWwsGbUTNOtESp9y5aHlNPqELwHgNsTdn202lzxIpHAHvCNJLRGp6RPErGSt11yx1rIejuGEaevbNaH5ey/QtxrZBbk49tAYTZNQYlxCNIgyN3nEv/dKw1anAv0pgqbrtslhKH+GqWWlsIRp1qvvIpSH1TbYKeANu+8VZ519ZHT9j+7aRo/sGOJx7i+QAeN473j4/WKstlQ+yIzoN87ANHI/e9udt4P1dn7/woHVvpFzSmiMTMQJwwvvOS/W0rKO/S0tNG0XbAZU1zA0Ibvx5EGuV+MnQUqV039EZjHkHi+mvJTMY5IVkiwnTTY0fJ3V/tuYplfyrgcmTlcIxF1x8zjjeN5lBtDBoXxplqIPd4ue5n98SMPkzdaHa0w+j0o9/bf5kjBBP92CrG4a/Ws2z9e7jT04H7SQvc7KDhe0Oa8Dj4enJKPlQRHxLw8WeQZZIzum4j8ljl8aQfRVI6EH54iHswFScAvXX0jhj0B9WtFKSdTtXh4cfvb2LqCuC2Rx/vRthzYE34sg6BbdnpYrnNNZUisWI58ARvMcdxk09cl7sOU08AuXv5tPuFxx0OLexhyF4tR83uVBBdttKelnYoEFWeU1YO3HdbyMYE91vxTwNVq8LF/erMLAca/6Sk+o1wU4SNgRblo2e3BT/nOku/1eA+5GH1txZrZdF3cQ2jPfTgEd85y4n9up+WWg90Eps19jo/+eEmKcf077s6tHorrX5oA3SCspK6g7rrf0tujOSUdT6vNEX/ppKdvZ3fBqCeIKtKodyB3/fFeWaSi/DUT83Ew1lYr7tHcYmYwbhnWUHO+JO+ZHsYBLmGSwu9o7hY1VPoybMoEVGSJ0y4ykSSqrhj4M0C3bXsaQCP0JOG642vND/GxAC43eBWh5/U87GcgOtjRsttqT5uxk8laXv4wzwfFB0O8DDKz96faz7QuZmfGJzX/Xnm/Vef+WHon16TFfeI1o8n2NrKjAyjtueyOk8unPirN4cldObVzotvxUzQu7GUum7HrTMc0jgvVQZDB9g1tWKtxqwN1tS8exQX1a34nhOTahWtMjx6i4GOPAyInIFUTvfQGJDlGjwA6AIXy1M3a7B3DYG7SnqzvZpGkZ7mbWffRU9G21rRxPdEaLZ2O6bscL5eDk03bTOP5nXzwfl5A+azoOTx1Y9LNUT0kLwRnYO6T9feonPZRj9wiCGaOrA7TtmG1j9IyjblrTwfb2Y0/MPUsnXnDrH2SQY6DceeJ9DbIQ4aa35r8dchEs1ROOOu+uIch4wxxfM9ud7h9m2r7U/bR4qhBw3gtcKqKxoN49sQIJ0BGKPnEiTPuicxBR8e2DQUtlmNxjXmODF9e90OrUzO5i+m1BNzbfW53Nx327PuTmu/wRaMkXb05WZRe8TZXpM93+JZTfdc5HHGtSEz6nHk7vmhcWf9PQxi/3Zg/lSK+/vz538AjFAgi1Dsy90AAAAASUVORK5CYII=\" style=\"image-rendering: pixelated;\">\n",
       "                        </div></div>"
      ],
      "text/plain": [
       "<IPython.core.display.HTML object>"
      ]
     },
     "metadata": {},
     "output_type": "display_data"
    },
    {
     "name": "stdout",
     "output_type": "stream",
     "text": [
      "final loss: -134.323\n",
      "cluster_1\n"
     ]
    },
    {
     "name": "stderr",
     "output_type": "stream",
     "text": [
      "100%|████████████████████████████████████████████████████████████████████████████████████████████████████████████████████████████████| 512/512 [00:06<00:00, 79.63it/s]\n"
     ]
    },
    {
     "data": {
      "text/html": [
       "<div style=\"display: flex; flex-direction: row;\"><div style=\"margin-right:10px; margin-top: 4px;\">\n",
       "                            0 <br/>\n",
       "                            <img src=\"data:image/PNG;base64,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\" style=\"image-rendering: pixelated;\">\n",
       "                        </div></div>"
      ],
      "text/plain": [
       "<IPython.core.display.HTML object>"
      ]
     },
     "metadata": {},
     "output_type": "display_data"
    },
    {
     "name": "stdout",
     "output_type": "stream",
     "text": [
      "final loss: -59.944\n"
     ]
    }
   ],
   "source": [
    "from lucent_circuit.optvis import render, param, transform, objectives\n",
    "from circuit_explorer.mask import setup_net_for_mask\n",
    "\n",
    "setup_net_for_mask(model) #resets mask to all 1s\n",
    "\n",
    "obj  = objectives.neuron(layer.replace('.','_'),unit)\n",
    "param_f = lambda: param.image(224)\n",
    "\n",
    "print('original')\n",
    "_ = render.render_vis(model,obj,param_f)\n",
    "\n",
    "for m in masks:\n",
    "    apply_mask(model,masks[m])\n",
    "    print(m)\n",
    "    _ = render.render_vis(model,obj,param_f)"
   ]
  },
  {
   "cell_type": "markdown",
   "metadata": {},
   "source": [
    "#### Compare IoU of extracted circuits"
   ]
  },
  {
   "cell_type": "code",
   "execution_count": 47,
   "metadata": {},
   "outputs": [
    {
     "data": {
      "application/vnd.plotly.v1+json": {
       "config": {
        "plotlyServerURL": "https://plot.ly"
       },
       "data": [
        {
         "fill": "tozeroy",
         "line": {
          "color": "#4C78A8"
         },
         "marker": {
          "size": 20
         },
         "type": "scatter",
         "x": [
          "1",
          "2",
          "3",
          "4",
          "5"
         ],
         "y": [
          0.9947368502616882,
          0.6111441850662231,
          0.2799559533596039,
          0.13951972126960754,
          0.6392405033111572
         ]
        }
       ],
       "layout": {
        "paper_bgcolor": "rgba(255,255,255,1)",
        "plot_bgcolor": "rgba(255,255,255,1)",
        "template": {
         "data": {
          "bar": [
           {
            "error_x": {
             "color": "#2a3f5f"
            },
            "error_y": {
             "color": "#2a3f5f"
            },
            "marker": {
             "line": {
              "color": "#E5ECF6",
              "width": 0.5
             },
             "pattern": {
              "fillmode": "overlay",
              "size": 10,
              "solidity": 0.2
             }
            },
            "type": "bar"
           }
          ],
          "barpolar": [
           {
            "marker": {
             "line": {
              "color": "#E5ECF6",
              "width": 0.5
             },
             "pattern": {
              "fillmode": "overlay",
              "size": 10,
              "solidity": 0.2
             }
            },
            "type": "barpolar"
           }
          ],
          "carpet": [
           {
            "aaxis": {
             "endlinecolor": "#2a3f5f",
             "gridcolor": "white",
             "linecolor": "white",
             "minorgridcolor": "white",
             "startlinecolor": "#2a3f5f"
            },
            "baxis": {
             "endlinecolor": "#2a3f5f",
             "gridcolor": "white",
             "linecolor": "white",
             "minorgridcolor": "white",
             "startlinecolor": "#2a3f5f"
            },
            "type": "carpet"
           }
          ],
          "choropleth": [
           {
            "colorbar": {
             "outlinewidth": 0,
             "ticks": ""
            },
            "type": "choropleth"
           }
          ],
          "contour": [
           {
            "colorbar": {
             "outlinewidth": 0,
             "ticks": ""
            },
            "colorscale": [
             [
              0,
              "#0d0887"
             ],
             [
              0.1111111111111111,
              "#46039f"
             ],
             [
              0.2222222222222222,
              "#7201a8"
             ],
             [
              0.3333333333333333,
              "#9c179e"
             ],
             [
              0.4444444444444444,
              "#bd3786"
             ],
             [
              0.5555555555555556,
              "#d8576b"
             ],
             [
              0.6666666666666666,
              "#ed7953"
             ],
             [
              0.7777777777777778,
              "#fb9f3a"
             ],
             [
              0.8888888888888888,
              "#fdca26"
             ],
             [
              1,
              "#f0f921"
             ]
            ],
            "type": "contour"
           }
          ],
          "contourcarpet": [
           {
            "colorbar": {
             "outlinewidth": 0,
             "ticks": ""
            },
            "type": "contourcarpet"
           }
          ],
          "heatmap": [
           {
            "colorbar": {
             "outlinewidth": 0,
             "ticks": ""
            },
            "colorscale": [
             [
              0,
              "#0d0887"
             ],
             [
              0.1111111111111111,
              "#46039f"
             ],
             [
              0.2222222222222222,
              "#7201a8"
             ],
             [
              0.3333333333333333,
              "#9c179e"
             ],
             [
              0.4444444444444444,
              "#bd3786"
             ],
             [
              0.5555555555555556,
              "#d8576b"
             ],
             [
              0.6666666666666666,
              "#ed7953"
             ],
             [
              0.7777777777777778,
              "#fb9f3a"
             ],
             [
              0.8888888888888888,
              "#fdca26"
             ],
             [
              1,
              "#f0f921"
             ]
            ],
            "type": "heatmap"
           }
          ],
          "heatmapgl": [
           {
            "colorbar": {
             "outlinewidth": 0,
             "ticks": ""
            },
            "colorscale": [
             [
              0,
              "#0d0887"
             ],
             [
              0.1111111111111111,
              "#46039f"
             ],
             [
              0.2222222222222222,
              "#7201a8"
             ],
             [
              0.3333333333333333,
              "#9c179e"
             ],
             [
              0.4444444444444444,
              "#bd3786"
             ],
             [
              0.5555555555555556,
              "#d8576b"
             ],
             [
              0.6666666666666666,
              "#ed7953"
             ],
             [
              0.7777777777777778,
              "#fb9f3a"
             ],
             [
              0.8888888888888888,
              "#fdca26"
             ],
             [
              1,
              "#f0f921"
             ]
            ],
            "type": "heatmapgl"
           }
          ],
          "histogram": [
           {
            "marker": {
             "pattern": {
              "fillmode": "overlay",
              "size": 10,
              "solidity": 0.2
             }
            },
            "type": "histogram"
           }
          ],
          "histogram2d": [
           {
            "colorbar": {
             "outlinewidth": 0,
             "ticks": ""
            },
            "colorscale": [
             [
              0,
              "#0d0887"
             ],
             [
              0.1111111111111111,
              "#46039f"
             ],
             [
              0.2222222222222222,
              "#7201a8"
             ],
             [
              0.3333333333333333,
              "#9c179e"
             ],
             [
              0.4444444444444444,
              "#bd3786"
             ],
             [
              0.5555555555555556,
              "#d8576b"
             ],
             [
              0.6666666666666666,
              "#ed7953"
             ],
             [
              0.7777777777777778,
              "#fb9f3a"
             ],
             [
              0.8888888888888888,
              "#fdca26"
             ],
             [
              1,
              "#f0f921"
             ]
            ],
            "type": "histogram2d"
           }
          ],
          "histogram2dcontour": [
           {
            "colorbar": {
             "outlinewidth": 0,
             "ticks": ""
            },
            "colorscale": [
             [
              0,
              "#0d0887"
             ],
             [
              0.1111111111111111,
              "#46039f"
             ],
             [
              0.2222222222222222,
              "#7201a8"
             ],
             [
              0.3333333333333333,
              "#9c179e"
             ],
             [
              0.4444444444444444,
              "#bd3786"
             ],
             [
              0.5555555555555556,
              "#d8576b"
             ],
             [
              0.6666666666666666,
              "#ed7953"
             ],
             [
              0.7777777777777778,
              "#fb9f3a"
             ],
             [
              0.8888888888888888,
              "#fdca26"
             ],
             [
              1,
              "#f0f921"
             ]
            ],
            "type": "histogram2dcontour"
           }
          ],
          "mesh3d": [
           {
            "colorbar": {
             "outlinewidth": 0,
             "ticks": ""
            },
            "type": "mesh3d"
           }
          ],
          "parcoords": [
           {
            "line": {
             "colorbar": {
              "outlinewidth": 0,
              "ticks": ""
             }
            },
            "type": "parcoords"
           }
          ],
          "pie": [
           {
            "automargin": true,
            "type": "pie"
           }
          ],
          "scatter": [
           {
            "fillpattern": {
             "fillmode": "overlay",
             "size": 10,
             "solidity": 0.2
            },
            "type": "scatter"
           }
          ],
          "scatter3d": [
           {
            "line": {
             "colorbar": {
              "outlinewidth": 0,
              "ticks": ""
             }
            },
            "marker": {
             "colorbar": {
              "outlinewidth": 0,
              "ticks": ""
             }
            },
            "type": "scatter3d"
           }
          ],
          "scattercarpet": [
           {
            "marker": {
             "colorbar": {
              "outlinewidth": 0,
              "ticks": ""
             }
            },
            "type": "scattercarpet"
           }
          ],
          "scattergeo": [
           {
            "marker": {
             "colorbar": {
              "outlinewidth": 0,
              "ticks": ""
             }
            },
            "type": "scattergeo"
           }
          ],
          "scattergl": [
           {
            "marker": {
             "colorbar": {
              "outlinewidth": 0,
              "ticks": ""
             }
            },
            "type": "scattergl"
           }
          ],
          "scattermapbox": [
           {
            "marker": {
             "colorbar": {
              "outlinewidth": 0,
              "ticks": ""
             }
            },
            "type": "scattermapbox"
           }
          ],
          "scatterpolar": [
           {
            "marker": {
             "colorbar": {
              "outlinewidth": 0,
              "ticks": ""
             }
            },
            "type": "scatterpolar"
           }
          ],
          "scatterpolargl": [
           {
            "marker": {
             "colorbar": {
              "outlinewidth": 0,
              "ticks": ""
             }
            },
            "type": "scatterpolargl"
           }
          ],
          "scatterternary": [
           {
            "marker": {
             "colorbar": {
              "outlinewidth": 0,
              "ticks": ""
             }
            },
            "type": "scatterternary"
           }
          ],
          "surface": [
           {
            "colorbar": {
             "outlinewidth": 0,
             "ticks": ""
            },
            "colorscale": [
             [
              0,
              "#0d0887"
             ],
             [
              0.1111111111111111,
              "#46039f"
             ],
             [
              0.2222222222222222,
              "#7201a8"
             ],
             [
              0.3333333333333333,
              "#9c179e"
             ],
             [
              0.4444444444444444,
              "#bd3786"
             ],
             [
              0.5555555555555556,
              "#d8576b"
             ],
             [
              0.6666666666666666,
              "#ed7953"
             ],
             [
              0.7777777777777778,
              "#fb9f3a"
             ],
             [
              0.8888888888888888,
              "#fdca26"
             ],
             [
              1,
              "#f0f921"
             ]
            ],
            "type": "surface"
           }
          ],
          "table": [
           {
            "cells": {
             "fill": {
              "color": "#EBF0F8"
             },
             "line": {
              "color": "white"
             }
            },
            "header": {
             "fill": {
              "color": "#C8D4E3"
             },
             "line": {
              "color": "white"
             }
            },
            "type": "table"
           }
          ]
         },
         "layout": {
          "annotationdefaults": {
           "arrowcolor": "#2a3f5f",
           "arrowhead": 0,
           "arrowwidth": 1
          },
          "autotypenumbers": "strict",
          "coloraxis": {
           "colorbar": {
            "outlinewidth": 0,
            "ticks": ""
           }
          },
          "colorscale": {
           "diverging": [
            [
             0,
             "#8e0152"
            ],
            [
             0.1,
             "#c51b7d"
            ],
            [
             0.2,
             "#de77ae"
            ],
            [
             0.3,
             "#f1b6da"
            ],
            [
             0.4,
             "#fde0ef"
            ],
            [
             0.5,
             "#f7f7f7"
            ],
            [
             0.6,
             "#e6f5d0"
            ],
            [
             0.7,
             "#b8e186"
            ],
            [
             0.8,
             "#7fbc41"
            ],
            [
             0.9,
             "#4d9221"
            ],
            [
             1,
             "#276419"
            ]
           ],
           "sequential": [
            [
             0,
             "#0d0887"
            ],
            [
             0.1111111111111111,
             "#46039f"
            ],
            [
             0.2222222222222222,
             "#7201a8"
            ],
            [
             0.3333333333333333,
             "#9c179e"
            ],
            [
             0.4444444444444444,
             "#bd3786"
            ],
            [
             0.5555555555555556,
             "#d8576b"
            ],
            [
             0.6666666666666666,
             "#ed7953"
            ],
            [
             0.7777777777777778,
             "#fb9f3a"
            ],
            [
             0.8888888888888888,
             "#fdca26"
            ],
            [
             1,
             "#f0f921"
            ]
           ],
           "sequentialminus": [
            [
             0,
             "#0d0887"
            ],
            [
             0.1111111111111111,
             "#46039f"
            ],
            [
             0.2222222222222222,
             "#7201a8"
            ],
            [
             0.3333333333333333,
             "#9c179e"
            ],
            [
             0.4444444444444444,
             "#bd3786"
            ],
            [
             0.5555555555555556,
             "#d8576b"
            ],
            [
             0.6666666666666666,
             "#ed7953"
            ],
            [
             0.7777777777777778,
             "#fb9f3a"
            ],
            [
             0.8888888888888888,
             "#fdca26"
            ],
            [
             1,
             "#f0f921"
            ]
           ]
          },
          "colorway": [
           "#636efa",
           "#EF553B",
           "#00cc96",
           "#ab63fa",
           "#FFA15A",
           "#19d3f3",
           "#FF6692",
           "#B6E880",
           "#FF97FF",
           "#FECB52"
          ],
          "font": {
           "color": "#2a3f5f"
          },
          "geo": {
           "bgcolor": "white",
           "lakecolor": "white",
           "landcolor": "#E5ECF6",
           "showlakes": true,
           "showland": true,
           "subunitcolor": "white"
          },
          "hoverlabel": {
           "align": "left"
          },
          "hovermode": "closest",
          "mapbox": {
           "style": "light"
          },
          "paper_bgcolor": "white",
          "plot_bgcolor": "#E5ECF6",
          "polar": {
           "angularaxis": {
            "gridcolor": "white",
            "linecolor": "white",
            "ticks": ""
           },
           "bgcolor": "#E5ECF6",
           "radialaxis": {
            "gridcolor": "white",
            "linecolor": "white",
            "ticks": ""
           }
          },
          "scene": {
           "xaxis": {
            "backgroundcolor": "#E5ECF6",
            "gridcolor": "white",
            "gridwidth": 2,
            "linecolor": "white",
            "showbackground": true,
            "ticks": "",
            "zerolinecolor": "white"
           },
           "yaxis": {
            "backgroundcolor": "#E5ECF6",
            "gridcolor": "white",
            "gridwidth": 2,
            "linecolor": "white",
            "showbackground": true,
            "ticks": "",
            "zerolinecolor": "white"
           },
           "zaxis": {
            "backgroundcolor": "#E5ECF6",
            "gridcolor": "white",
            "gridwidth": 2,
            "linecolor": "white",
            "showbackground": true,
            "ticks": "",
            "zerolinecolor": "white"
           }
          },
          "shapedefaults": {
           "line": {
            "color": "#2a3f5f"
           }
          },
          "ternary": {
           "aaxis": {
            "gridcolor": "white",
            "linecolor": "white",
            "ticks": ""
           },
           "baxis": {
            "gridcolor": "white",
            "linecolor": "white",
            "ticks": ""
           },
           "bgcolor": "#E5ECF6",
           "caxis": {
            "gridcolor": "white",
            "linecolor": "white",
            "ticks": ""
           }
          },
          "title": {
           "x": 0.05
          },
          "xaxis": {
           "automargin": true,
           "gridcolor": "white",
           "linecolor": "white",
           "ticks": "",
           "title": {
            "standoff": 15
           },
           "zerolinecolor": "white",
           "zerolinewidth": 2
          },
          "yaxis": {
           "automargin": true,
           "gridcolor": "white",
           "linecolor": "white",
           "ticks": "",
           "title": {
            "standoff": 15
           },
           "zerolinecolor": "white",
           "zerolinewidth": 2
          }
         }
        },
        "width": 500,
        "xaxis": {
         "title": {
          "text": "Layer"
         }
        },
        "yaxis": {
         "range": [
          0,
          1
         ],
         "title": {
          "text": "IoU"
         }
        }
       }
      },
      "text/html": [
       "<div>                            <div id=\"7142229c-4584-451f-8fc2-61e8de889919\" class=\"plotly-graph-div\" style=\"height:525px; width:500px;\"></div>            <script type=\"text/javascript\">                require([\"plotly\"], function(Plotly) {                    window.PLOTLYENV=window.PLOTLYENV || {};                                    if (document.getElementById(\"7142229c-4584-451f-8fc2-61e8de889919\")) {                    Plotly.newPlot(                        \"7142229c-4584-451f-8fc2-61e8de889919\",                        [{\"fill\":\"tozeroy\",\"line\":{\"color\":\"#4C78A8\"},\"marker\":{\"size\":20},\"x\":[\"1\",\"2\",\"3\",\"4\",\"5\"],\"y\":[0.9947368502616882,0.6111441850662231,0.2799559533596039,0.13951972126960754,0.6392405033111572],\"type\":\"scatter\"}],                        {\"template\":{\"data\":{\"histogram2dcontour\":[{\"type\":\"histogram2dcontour\",\"colorbar\":{\"outlinewidth\":0,\"ticks\":\"\"},\"colorscale\":[[0.0,\"#0d0887\"],[0.1111111111111111,\"#46039f\"],[0.2222222222222222,\"#7201a8\"],[0.3333333333333333,\"#9c179e\"],[0.4444444444444444,\"#bd3786\"],[0.5555555555555556,\"#d8576b\"],[0.6666666666666666,\"#ed7953\"],[0.7777777777777778,\"#fb9f3a\"],[0.8888888888888888,\"#fdca26\"],[1.0,\"#f0f921\"]]}],\"choropleth\":[{\"type\":\"choropleth\",\"colorbar\":{\"outlinewidth\":0,\"ticks\":\"\"}}],\"histogram2d\":[{\"type\":\"histogram2d\",\"colorbar\":{\"outlinewidth\":0,\"ticks\":\"\"},\"colorscale\":[[0.0,\"#0d0887\"],[0.1111111111111111,\"#46039f\"],[0.2222222222222222,\"#7201a8\"],[0.3333333333333333,\"#9c179e\"],[0.4444444444444444,\"#bd3786\"],[0.5555555555555556,\"#d8576b\"],[0.6666666666666666,\"#ed7953\"],[0.7777777777777778,\"#fb9f3a\"],[0.8888888888888888,\"#fdca26\"],[1.0,\"#f0f921\"]]}],\"heatmap\":[{\"type\":\"heatmap\",\"colorbar\":{\"outlinewidth\":0,\"ticks\":\"\"},\"colorscale\":[[0.0,\"#0d0887\"],[0.1111111111111111,\"#46039f\"],[0.2222222222222222,\"#7201a8\"],[0.3333333333333333,\"#9c179e\"],[0.4444444444444444,\"#bd3786\"],[0.5555555555555556,\"#d8576b\"],[0.6666666666666666,\"#ed7953\"],[0.7777777777777778,\"#fb9f3a\"],[0.8888888888888888,\"#fdca26\"],[1.0,\"#f0f921\"]]}],\"heatmapgl\":[{\"type\":\"heatmapgl\",\"colorbar\":{\"outlinewidth\":0,\"ticks\":\"\"},\"colorscale\":[[0.0,\"#0d0887\"],[0.1111111111111111,\"#46039f\"],[0.2222222222222222,\"#7201a8\"],[0.3333333333333333,\"#9c179e\"],[0.4444444444444444,\"#bd3786\"],[0.5555555555555556,\"#d8576b\"],[0.6666666666666666,\"#ed7953\"],[0.7777777777777778,\"#fb9f3a\"],[0.8888888888888888,\"#fdca26\"],[1.0,\"#f0f921\"]]}],\"contourcarpet\":[{\"type\":\"contourcarpet\",\"colorbar\":{\"outlinewidth\":0,\"ticks\":\"\"}}],\"contour\":[{\"type\":\"contour\",\"colorbar\":{\"outlinewidth\":0,\"ticks\":\"\"},\"colorscale\":[[0.0,\"#0d0887\"],[0.1111111111111111,\"#46039f\"],[0.2222222222222222,\"#7201a8\"],[0.3333333333333333,\"#9c179e\"],[0.4444444444444444,\"#bd3786\"],[0.5555555555555556,\"#d8576b\"],[0.6666666666666666,\"#ed7953\"],[0.7777777777777778,\"#fb9f3a\"],[0.8888888888888888,\"#fdca26\"],[1.0,\"#f0f921\"]]}],\"surface\":[{\"type\":\"surface\",\"colorbar\":{\"outlinewidth\":0,\"ticks\":\"\"},\"colorscale\":[[0.0,\"#0d0887\"],[0.1111111111111111,\"#46039f\"],[0.2222222222222222,\"#7201a8\"],[0.3333333333333333,\"#9c179e\"],[0.4444444444444444,\"#bd3786\"],[0.5555555555555556,\"#d8576b\"],[0.6666666666666666,\"#ed7953\"],[0.7777777777777778,\"#fb9f3a\"],[0.8888888888888888,\"#fdca26\"],[1.0,\"#f0f921\"]]}],\"mesh3d\":[{\"type\":\"mesh3d\",\"colorbar\":{\"outlinewidth\":0,\"ticks\":\"\"}}],\"scatter\":[{\"fillpattern\":{\"fillmode\":\"overlay\",\"size\":10,\"solidity\":0.2},\"type\":\"scatter\"}],\"parcoords\":[{\"type\":\"parcoords\",\"line\":{\"colorbar\":{\"outlinewidth\":0,\"ticks\":\"\"}}}],\"scatterpolargl\":[{\"type\":\"scatterpolargl\",\"marker\":{\"colorbar\":{\"outlinewidth\":0,\"ticks\":\"\"}}}],\"bar\":[{\"error_x\":{\"color\":\"#2a3f5f\"},\"error_y\":{\"color\":\"#2a3f5f\"},\"marker\":{\"line\":{\"color\":\"#E5ECF6\",\"width\":0.5},\"pattern\":{\"fillmode\":\"overlay\",\"size\":10,\"solidity\":0.2}},\"type\":\"bar\"}],\"scattergeo\":[{\"type\":\"scattergeo\",\"marker\":{\"colorbar\":{\"outlinewidth\":0,\"ticks\":\"\"}}}],\"scatterpolar\":[{\"type\":\"scatterpolar\",\"marker\":{\"colorbar\":{\"outlinewidth\":0,\"ticks\":\"\"}}}],\"histogram\":[{\"marker\":{\"pattern\":{\"fillmode\":\"overlay\",\"size\":10,\"solidity\":0.2}},\"type\":\"histogram\"}],\"scattergl\":[{\"type\":\"scattergl\",\"marker\":{\"colorbar\":{\"outlinewidth\":0,\"ticks\":\"\"}}}],\"scatter3d\":[{\"type\":\"scatter3d\",\"line\":{\"colorbar\":{\"outlinewidth\":0,\"ticks\":\"\"}},\"marker\":{\"colorbar\":{\"outlinewidth\":0,\"ticks\":\"\"}}}],\"scattermapbox\":[{\"type\":\"scattermapbox\",\"marker\":{\"colorbar\":{\"outlinewidth\":0,\"ticks\":\"\"}}}],\"scatterternary\":[{\"type\":\"scatterternary\",\"marker\":{\"colorbar\":{\"outlinewidth\":0,\"ticks\":\"\"}}}],\"scattercarpet\":[{\"type\":\"scattercarpet\",\"marker\":{\"colorbar\":{\"outlinewidth\":0,\"ticks\":\"\"}}}],\"carpet\":[{\"aaxis\":{\"endlinecolor\":\"#2a3f5f\",\"gridcolor\":\"white\",\"linecolor\":\"white\",\"minorgridcolor\":\"white\",\"startlinecolor\":\"#2a3f5f\"},\"baxis\":{\"endlinecolor\":\"#2a3f5f\",\"gridcolor\":\"white\",\"linecolor\":\"white\",\"minorgridcolor\":\"white\",\"startlinecolor\":\"#2a3f5f\"},\"type\":\"carpet\"}],\"table\":[{\"cells\":{\"fill\":{\"color\":\"#EBF0F8\"},\"line\":{\"color\":\"white\"}},\"header\":{\"fill\":{\"color\":\"#C8D4E3\"},\"line\":{\"color\":\"white\"}},\"type\":\"table\"}],\"barpolar\":[{\"marker\":{\"line\":{\"color\":\"#E5ECF6\",\"width\":0.5},\"pattern\":{\"fillmode\":\"overlay\",\"size\":10,\"solidity\":0.2}},\"type\":\"barpolar\"}],\"pie\":[{\"automargin\":true,\"type\":\"pie\"}]},\"layout\":{\"autotypenumbers\":\"strict\",\"colorway\":[\"#636efa\",\"#EF553B\",\"#00cc96\",\"#ab63fa\",\"#FFA15A\",\"#19d3f3\",\"#FF6692\",\"#B6E880\",\"#FF97FF\",\"#FECB52\"],\"font\":{\"color\":\"#2a3f5f\"},\"hovermode\":\"closest\",\"hoverlabel\":{\"align\":\"left\"},\"paper_bgcolor\":\"white\",\"plot_bgcolor\":\"#E5ECF6\",\"polar\":{\"bgcolor\":\"#E5ECF6\",\"angularaxis\":{\"gridcolor\":\"white\",\"linecolor\":\"white\",\"ticks\":\"\"},\"radialaxis\":{\"gridcolor\":\"white\",\"linecolor\":\"white\",\"ticks\":\"\"}},\"ternary\":{\"bgcolor\":\"#E5ECF6\",\"aaxis\":{\"gridcolor\":\"white\",\"linecolor\":\"white\",\"ticks\":\"\"},\"baxis\":{\"gridcolor\":\"white\",\"linecolor\":\"white\",\"ticks\":\"\"},\"caxis\":{\"gridcolor\":\"white\",\"linecolor\":\"white\",\"ticks\":\"\"}},\"coloraxis\":{\"colorbar\":{\"outlinewidth\":0,\"ticks\":\"\"}},\"colorscale\":{\"sequential\":[[0.0,\"#0d0887\"],[0.1111111111111111,\"#46039f\"],[0.2222222222222222,\"#7201a8\"],[0.3333333333333333,\"#9c179e\"],[0.4444444444444444,\"#bd3786\"],[0.5555555555555556,\"#d8576b\"],[0.6666666666666666,\"#ed7953\"],[0.7777777777777778,\"#fb9f3a\"],[0.8888888888888888,\"#fdca26\"],[1.0,\"#f0f921\"]],\"sequentialminus\":[[0.0,\"#0d0887\"],[0.1111111111111111,\"#46039f\"],[0.2222222222222222,\"#7201a8\"],[0.3333333333333333,\"#9c179e\"],[0.4444444444444444,\"#bd3786\"],[0.5555555555555556,\"#d8576b\"],[0.6666666666666666,\"#ed7953\"],[0.7777777777777778,\"#fb9f3a\"],[0.8888888888888888,\"#fdca26\"],[1.0,\"#f0f921\"]],\"diverging\":[[0,\"#8e0152\"],[0.1,\"#c51b7d\"],[0.2,\"#de77ae\"],[0.3,\"#f1b6da\"],[0.4,\"#fde0ef\"],[0.5,\"#f7f7f7\"],[0.6,\"#e6f5d0\"],[0.7,\"#b8e186\"],[0.8,\"#7fbc41\"],[0.9,\"#4d9221\"],[1,\"#276419\"]]},\"xaxis\":{\"gridcolor\":\"white\",\"linecolor\":\"white\",\"ticks\":\"\",\"title\":{\"standoff\":15},\"zerolinecolor\":\"white\",\"automargin\":true,\"zerolinewidth\":2},\"yaxis\":{\"gridcolor\":\"white\",\"linecolor\":\"white\",\"ticks\":\"\",\"title\":{\"standoff\":15},\"zerolinecolor\":\"white\",\"automargin\":true,\"zerolinewidth\":2},\"scene\":{\"xaxis\":{\"backgroundcolor\":\"#E5ECF6\",\"gridcolor\":\"white\",\"linecolor\":\"white\",\"showbackground\":true,\"ticks\":\"\",\"zerolinecolor\":\"white\",\"gridwidth\":2},\"yaxis\":{\"backgroundcolor\":\"#E5ECF6\",\"gridcolor\":\"white\",\"linecolor\":\"white\",\"showbackground\":true,\"ticks\":\"\",\"zerolinecolor\":\"white\",\"gridwidth\":2},\"zaxis\":{\"backgroundcolor\":\"#E5ECF6\",\"gridcolor\":\"white\",\"linecolor\":\"white\",\"showbackground\":true,\"ticks\":\"\",\"zerolinecolor\":\"white\",\"gridwidth\":2}},\"shapedefaults\":{\"line\":{\"color\":\"#2a3f5f\"}},\"annotationdefaults\":{\"arrowcolor\":\"#2a3f5f\",\"arrowhead\":0,\"arrowwidth\":1},\"geo\":{\"bgcolor\":\"white\",\"landcolor\":\"#E5ECF6\",\"subunitcolor\":\"white\",\"showland\":true,\"showlakes\":true,\"lakecolor\":\"white\"},\"title\":{\"x\":0.05},\"mapbox\":{\"style\":\"light\"}}},\"width\":500,\"plot_bgcolor\":\"rgba(255,255,255,1)\",\"paper_bgcolor\":\"rgba(255,255,255,1)\",\"yaxis\":{\"title\":{\"text\":\"IoU\"},\"range\":[0,1]},\"xaxis\":{\"title\":{\"text\":\"Layer\"}}},                        {\"responsive\": true}                    ).then(function(){\n",
       "                            \n",
       "var gd = document.getElementById('7142229c-4584-451f-8fc2-61e8de889919');\n",
       "var x = new MutationObserver(function (mutations, observer) {{\n",
       "        var display = window.getComputedStyle(gd).display;\n",
       "        if (!display || display === 'none') {{\n",
       "            console.log([gd, 'removed!']);\n",
       "            Plotly.purge(gd);\n",
       "            observer.disconnect();\n",
       "        }}\n",
       "}});\n",
       "\n",
       "// Listen for the removal of the full notebook cells\n",
       "var notebookContainer = gd.closest('#notebook-container');\n",
       "if (notebookContainer) {{\n",
       "    x.observe(notebookContainer, {childList: true});\n",
       "}}\n",
       "\n",
       "// Listen for the clearing of the current output cell\n",
       "var outputEl = gd.closest('.output');\n",
       "if (outputEl) {{\n",
       "    x.observe(outputEl, {childList: true});\n",
       "}}\n",
       "\n",
       "                        })                };                });            </script>        </div>"
      ]
     },
     "metadata": {},
     "output_type": "display_data"
    }
   ],
   "source": [
    "from circuit_explorer.utils import plot_iou_from_masks\n",
    "iou_fig = plot_iou_from_masks(masks[clusters[0]],masks[clusters[1]])\n",
    "iou_fig.show()"
   ]
  },
  {
   "cell_type": "code",
   "execution_count": null,
   "metadata": {},
   "outputs": [],
   "source": []
  }
 ],
 "metadata": {
  "kernelspec": {
   "display_name": "iccv_2023",
   "language": "python",
   "name": "iccv_2023"
  },
  "language_info": {
   "codemirror_mode": {
    "name": "ipython",
    "version": 3
   },
   "file_extension": ".py",
   "mimetype": "text/x-python",
   "name": "python",
   "nbconvert_exporter": "python",
   "pygments_lexer": "ipython3",
   "version": "3.7.13"
  }
 },
 "nbformat": 4,
 "nbformat_minor": 5
}
